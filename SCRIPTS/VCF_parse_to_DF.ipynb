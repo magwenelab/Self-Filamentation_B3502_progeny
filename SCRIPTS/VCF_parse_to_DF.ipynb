{
 "cells": [
  {
   "cell_type": "code",
   "execution_count": 1,
   "metadata": {},
   "outputs": [],
   "source": [
    "## Bring in needed mods\n",
    "import numpy as np, pandas as pd, glob, sys\n",
    "\n",
    "## Load in our vcf functions\n",
    "sys.path.insert(0, '/home/croth/QTL-functions/SCRIPTS/')\n",
    "import vcffunctions as vcff"
   ]
  },
  {
   "cell_type": "code",
   "execution_count": 2,
   "metadata": {},
   "outputs": [
    {
     "data": {
      "text/plain": [
       "14"
      ]
     },
     "execution_count": 2,
     "metadata": {},
     "output_type": "execute_result"
    }
   ],
   "source": [
    "## Set vcf paths (with wild card) and print number\n",
    "vcfpath = '/home/croth/SELFFILAM/VCF/AE0173*.vcf.gz' \n",
    "vcfs = sorted(glob.glob(vcfpath))\n",
    "len(vcfs)"
   ]
  },
  {
   "cell_type": "code",
   "execution_count": 3,
   "metadata": {},
   "outputs": [
    {
     "name": "stdout",
     "output_type": "stream",
     "text": [
      "AE017341.1.B3502.progeny_1\n",
      "AE017342.1.B3502.progeny_2\n",
      "AE017343.1.B3502.progeny_3\n",
      "AE017344.1.B3502.progeny_4\n",
      "AE017345.1.B3502.progeny_5\n",
      "AE017346.1.B3502.progeny_6\n",
      "AE017347.1.B3502.progeny_7\n",
      "AE017348.1.B3502.progeny_8\n",
      "AE017349.1.B3502.progeny_9\n",
      "AE017350.1.B3502.progeny_10\n",
      "AE017351.1.B3502.progeny_11\n",
      "AE017352.1.B3502.progeny_12\n",
      "AE017353.1.B3502.progeny_13\n",
      "AE017356.1.B3502.progeny_14\n"
     ]
    }
   ],
   "source": [
    "## interate thru each vcf and parse needed info\n",
    "vcfsplit = '.vcf'\n",
    "\n",
    "for i,vcffile in enumerate(vcfs):\n",
    "    ## Set save ing name\n",
    "    savechrom =  vcffile.split(vcfsplit)[0\n",
    "                    ].split('/')[-1]+'_%s'%(i+1)\n",
    "    \n",
    "    ## Show the saveing labels for the files\n",
    "    print(savechrom)\n",
    "    \n",
    "    ## Make variant records into dataframes\n",
    "    info,gts,dps,ars = vcff.vcftodf(vcffile)\n",
    "    \n",
    "    ## Save dataframes\n",
    "    dps.to_csv('../GENOTYPE/DP/%s_depths.csv.gz'%savechrom)\n",
    "    ars.to_csv('../GENOTYPE/AF/%s_allele_ratios.csv.gz'%savechrom)\n",
    "    gts.to_csv('../GENOTYPE/GT/%s_genotypes.csv.gz'%savechrom)\n",
    "    info.to_csv('../GENOTYPE/INFO/%s_info_cols.csv.gz'%savechrom)"
   ]
  }
 ],
 "metadata": {
  "kernelspec": {
   "display_name": "Python 3",
   "language": "python",
   "name": "python3"
  },
  "language_info": {
   "codemirror_mode": {
    "name": "ipython",
    "version": 3
   },
   "file_extension": ".py",
   "mimetype": "text/x-python",
   "name": "python",
   "nbconvert_exporter": "python",
   "pygments_lexer": "ipython3",
   "version": "3.7.3"
  }
 },
 "nbformat": 4,
 "nbformat_minor": 4
}
