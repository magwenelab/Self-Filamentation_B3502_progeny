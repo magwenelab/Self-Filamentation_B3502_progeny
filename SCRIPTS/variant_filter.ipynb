{
 "cells": [
  {
   "cell_type": "code",
   "execution_count": 1,
   "metadata": {},
   "outputs": [],
   "source": [
    "## Bring in needed mods\n",
    "import pandas as pd, numpy as np, glob, sys, os, seaborn as sns\n",
    "from matplotlib import pyplot as plt\n",
    "%matplotlib inline\n",
    "\n",
    "sys.path.insert(0, '/home/croth/QTL-functions/SCRIPTS/')\n",
    "import qtlfunctions as qtlfun"
   ]
  },
  {
   "cell_type": "code",
   "execution_count": 2,
   "metadata": {},
   "outputs": [],
   "source": [
    "## Define ftn for use in brining in data\n",
    "def makedf(paths,sep='_',fn = 1):\n",
    "    df = []\n",
    "    for d in paths:\n",
    "        \n",
    "        temp = pd.read_csv(d,index_col=0)\n",
    "        temp['Chrom'] = int(d.split(sep)[fn])\n",
    "        temp['Oldix'] = temp.index\n",
    "        df.append(temp)\n",
    "        \n",
    "    return pd.concat(df).reset_index(drop=True)"
   ]
  },
  {
   "cell_type": "code",
   "execution_count": 3,
   "metadata": {},
   "outputs": [],
   "source": [
    "## Load in centormere locs\n",
    "centpaths = '/home/croth/Downloads/B3502/DATA/FungiDB-48_CneoformansJEC21_centromeres.csv'\n",
    "centlocs = pd.read_csv(centpaths,index_col=0)\n",
    "\n",
    "## Load in gff path\n",
    "gffpath = '/home/croth/Downloads/B3502/REF/FungiDB-48_CneoformansJEC21.gff.gz'\n",
    "gff = qtlfun.loadgff(gffpath)"
   ]
  },
  {
   "cell_type": "code",
   "execution_count": 4,
   "metadata": {},
   "outputs": [
    {
     "data": {
      "text/html": [
       "<div>\n",
       "<style scoped>\n",
       "    .dataframe tbody tr th:only-of-type {\n",
       "        vertical-align: middle;\n",
       "    }\n",
       "\n",
       "    .dataframe tbody tr th {\n",
       "        vertical-align: top;\n",
       "    }\n",
       "\n",
       "    .dataframe thead th {\n",
       "        text-align: right;\n",
       "    }\n",
       "</style>\n",
       "<table border=\"1\" class=\"dataframe\">\n",
       "  <thead>\n",
       "    <tr style=\"text-align: right;\">\n",
       "      <th></th>\n",
       "      <th>Strain</th>\n",
       "      <th>Phenotype</th>\n",
       "      <th>Parent</th>\n",
       "      <th>Basidium</th>\n",
       "    </tr>\n",
       "  </thead>\n",
       "  <tbody>\n",
       "    <tr>\n",
       "      <th>0</th>\n",
       "      <td>A01</td>\n",
       "      <td>N</td>\n",
       "      <td>A1</td>\n",
       "      <td>1.0</td>\n",
       "    </tr>\n",
       "    <tr>\n",
       "      <th>1</th>\n",
       "      <td>A02</td>\n",
       "      <td>Y</td>\n",
       "      <td>A1</td>\n",
       "      <td>1.0</td>\n",
       "    </tr>\n",
       "    <tr>\n",
       "      <th>2</th>\n",
       "      <td>A03</td>\n",
       "      <td>N</td>\n",
       "      <td>A1</td>\n",
       "      <td>1.0</td>\n",
       "    </tr>\n",
       "    <tr>\n",
       "      <th>3</th>\n",
       "      <td>A04</td>\n",
       "      <td>L</td>\n",
       "      <td>A1</td>\n",
       "      <td>1.0</td>\n",
       "    </tr>\n",
       "    <tr>\n",
       "      <th>4</th>\n",
       "      <td>A05</td>\n",
       "      <td>N (with rare spots of T)</td>\n",
       "      <td>A1</td>\n",
       "      <td>2.0</td>\n",
       "    </tr>\n",
       "  </tbody>\n",
       "</table>\n",
       "</div>"
      ],
      "text/plain": [
       "  Strain                 Phenotype Parent  Basidium\n",
       "0    A01                         N     A1       1.0\n",
       "1    A02                         Y     A1       1.0\n",
       "2    A03                         N     A1       1.0\n",
       "3    A04                         L     A1       1.0\n",
       "4    A05  N (with rare spots of T)     A1       2.0"
      ]
     },
     "execution_count": 4,
     "metadata": {},
     "output_type": "execute_result"
    }
   ],
   "source": [
    "phenopath = '../PHENOTYPE/Cellsize_shape_phenotype.csv'\n",
    "pheno = pd.read_csv(phenopath)\n",
    "pheno.head()"
   ]
  },
  {
   "cell_type": "code",
   "execution_count": 7,
   "metadata": {},
   "outputs": [
    {
     "data": {
      "text/plain": [
       "(113819, 87)"
      ]
     },
     "execution_count": 7,
     "metadata": {},
     "output_type": "execute_result"
    }
   ],
   "source": [
    "## Bring in genotypes of rows x columns of vcf files\n",
    "datapath = '../GENOTYPE/GT/*genotype*.csv.gz'\n",
    "genopaths = sorted(glob.glob(datapath))\n",
    "assert len(genopaths) == 14\n",
    "\n",
    "geno = makedf(genopaths)\n",
    "geno.shape"
   ]
  },
  {
   "cell_type": "code",
   "execution_count": 9,
   "metadata": {},
   "outputs": [
    {
     "data": {
      "text/plain": [
       "85"
      ]
     },
     "execution_count": 9,
     "metadata": {},
     "output_type": "execute_result"
    }
   ],
   "source": [
    "samples = sorted([s for s in geno.columns[:-2]])\n",
    "len(samples)"
   ]
  },
  {
   "cell_type": "code",
   "execution_count": 11,
   "metadata": {},
   "outputs": [
    {
     "data": {
      "text/plain": [
       "80"
      ]
     },
     "execution_count": 11,
     "metadata": {},
     "output_type": "execute_result"
    }
   ],
   "source": [
    "progeny = [s for s in samples if len(s) <=4]\n",
    "len(progeny)"
   ]
  },
  {
   "cell_type": "code",
   "execution_count": 18,
   "metadata": {},
   "outputs": [
    {
     "data": {
      "text/plain": [
       "(113819, 12)"
      ]
     },
     "execution_count": 18,
     "metadata": {},
     "output_type": "execute_result"
    }
   ],
   "source": [
    "## Bring in information rows x columns of vcf files\n",
    "data = '../GENOTYPE/INFO/*.csv.gz'\n",
    "infopaths = sorted(glob.glob(data))\n",
    "assert len(infopaths) == 14\n",
    "info = makedf(infopaths)\n",
    "info.shape"
   ]
  },
  {
   "cell_type": "code",
   "execution_count": 28,
   "metadata": {},
   "outputs": [
    {
     "data": {
      "text/plain": [
       "(113819, 87)"
      ]
     },
     "execution_count": 28,
     "metadata": {},
     "output_type": "execute_result"
    }
   ],
   "source": [
    "## Bring in read depth rows x columns of vcf files\n",
    "data = '../GENOTYPE/DP/*depths.csv.gz'\n",
    "depthpaths = sorted(glob.glob(data))\n",
    "assert len(depthpaths) == 14\n",
    "depth = makedf(depthpaths)\n",
    "depth.shape"
   ]
  },
  {
   "cell_type": "code",
   "execution_count": 62,
   "metadata": {},
   "outputs": [],
   "source": [
    "info['Meandepth'] = depth[progeny].T.mean()"
   ]
  },
  {
   "cell_type": "code",
   "execution_count": 81,
   "metadata": {},
   "outputs": [
    {
     "data": {
      "text/plain": [
       "(2624, 81)"
      ]
     },
     "execution_count": 81,
     "metadata": {},
     "output_type": "execute_result"
    }
   ],
   "source": [
    "old = pd.read_csv('../GENOTYPE/B3502_progeny_genotypes.csv.gz',index_col=0)\n",
    "old.shape"
   ]
  },
  {
   "cell_type": "code",
   "execution_count": 83,
   "metadata": {},
   "outputs": [
    {
     "data": {
      "text/plain": [
       "0.0"
      ]
     },
     "execution_count": 83,
     "metadata": {},
     "output_type": "execute_result"
    }
   ],
   "source": [
    "old.Qual.min()"
   ]
  },
  {
   "cell_type": "code",
   "execution_count": 84,
   "metadata": {},
   "outputs": [
    {
     "data": {
      "text/html": [
       "<div>\n",
       "<style scoped>\n",
       "    .dataframe tbody tr th:only-of-type {\n",
       "        vertical-align: middle;\n",
       "    }\n",
       "\n",
       "    .dataframe tbody tr th {\n",
       "        vertical-align: top;\n",
       "    }\n",
       "\n",
       "    .dataframe thead th {\n",
       "        text-align: right;\n",
       "    }\n",
       "</style>\n",
       "<table border=\"1\" class=\"dataframe\">\n",
       "  <thead>\n",
       "    <tr style=\"text-align: right;\">\n",
       "      <th></th>\n",
       "      <th>Seqid</th>\n",
       "      <th>Pos</th>\n",
       "      <th>Qual</th>\n",
       "      <th>Callrate</th>\n",
       "      <th>Nallele</th>\n",
       "      <th>Alleles</th>\n",
       "      <th>Maxlen</th>\n",
       "      <th>Depth</th>\n",
       "      <th>Type</th>\n",
       "      <th>Chrom</th>\n",
       "      <th>...</th>\n",
       "      <th>A09</th>\n",
       "      <th>A15</th>\n",
       "      <th>B08</th>\n",
       "      <th>A14</th>\n",
       "      <th>B12</th>\n",
       "      <th>A13</th>\n",
       "      <th>A11</th>\n",
       "      <th>A1_af</th>\n",
       "      <th>B1_af</th>\n",
       "      <th>B7_af</th>\n",
       "    </tr>\n",
       "  </thead>\n",
       "  <tbody>\n",
       "    <tr>\n",
       "      <th>1062</th>\n",
       "      <td>AE017341.1</td>\n",
       "      <td>55108</td>\n",
       "      <td>90277.00</td>\n",
       "      <td>1.0</td>\n",
       "      <td>4</td>\n",
       "      <td>CGTTGGTTTTT.GGTTTTTTTTT.GGTTGTTTTT.GGTTGTTTTTT...</td>\n",
       "      <td>11</td>\n",
       "      <td>3590</td>\n",
       "      <td>complex</td>\n",
       "      <td>1</td>\n",
       "      <td>...</td>\n",
       "      <td>3.0</td>\n",
       "      <td>3.0</td>\n",
       "      <td>3.0</td>\n",
       "      <td>1.0</td>\n",
       "      <td>2.0</td>\n",
       "      <td>2.0</td>\n",
       "      <td>1.0</td>\n",
       "      <td>0.52</td>\n",
       "      <td>0.4375</td>\n",
       "      <td>0.3750</td>\n",
       "    </tr>\n",
       "    <tr>\n",
       "      <th>8887</th>\n",
       "      <td>AE017341.1</td>\n",
       "      <td>461149</td>\n",
       "      <td>4093.03</td>\n",
       "      <td>1.0</td>\n",
       "      <td>1</td>\n",
       "      <td>G.C</td>\n",
       "      <td>1</td>\n",
       "      <td>8658</td>\n",
       "      <td>snp</td>\n",
       "      <td>1</td>\n",
       "      <td>...</td>\n",
       "      <td>1.0</td>\n",
       "      <td>0.0</td>\n",
       "      <td>0.0</td>\n",
       "      <td>1.0</td>\n",
       "      <td>0.0</td>\n",
       "      <td>0.0</td>\n",
       "      <td>0.0</td>\n",
       "      <td>0.72</td>\n",
       "      <td>0.9375</td>\n",
       "      <td>0.8750</td>\n",
       "    </tr>\n",
       "    <tr>\n",
       "      <th>10062</th>\n",
       "      <td>AE017341.1</td>\n",
       "      <td>530127</td>\n",
       "      <td>103609.00</td>\n",
       "      <td>1.0</td>\n",
       "      <td>1</td>\n",
       "      <td>C.G</td>\n",
       "      <td>1</td>\n",
       "      <td>7559</td>\n",
       "      <td>snp</td>\n",
       "      <td>1</td>\n",
       "      <td>...</td>\n",
       "      <td>1.0</td>\n",
       "      <td>0.0</td>\n",
       "      <td>1.0</td>\n",
       "      <td>0.0</td>\n",
       "      <td>1.0</td>\n",
       "      <td>0.0</td>\n",
       "      <td>1.0</td>\n",
       "      <td>0.56</td>\n",
       "      <td>0.5000</td>\n",
       "      <td>0.3750</td>\n",
       "    </tr>\n",
       "    <tr>\n",
       "      <th>11653</th>\n",
       "      <td>AE017341.1</td>\n",
       "      <td>636710</td>\n",
       "      <td>88263.90</td>\n",
       "      <td>1.0</td>\n",
       "      <td>5</td>\n",
       "      <td>TGGGGGGGGGGGGGGGGGGGTTGTGCTGATG.GGGGGGGGGGGGGG...</td>\n",
       "      <td>31</td>\n",
       "      <td>1127</td>\n",
       "      <td>snp</td>\n",
       "      <td>1</td>\n",
       "      <td>...</td>\n",
       "      <td>1.0</td>\n",
       "      <td>4.0</td>\n",
       "      <td>3.0</td>\n",
       "      <td>4.0</td>\n",
       "      <td>3.0</td>\n",
       "      <td>3.0</td>\n",
       "      <td>1.0</td>\n",
       "      <td>0.04</td>\n",
       "      <td>0.0625</td>\n",
       "      <td>0.0000</td>\n",
       "    </tr>\n",
       "    <tr>\n",
       "      <th>17357</th>\n",
       "      <td>AE017341.1</td>\n",
       "      <td>884617</td>\n",
       "      <td>62425.00</td>\n",
       "      <td>1.0</td>\n",
       "      <td>1</td>\n",
       "      <td>AGG.AGA</td>\n",
       "      <td>3</td>\n",
       "      <td>4224</td>\n",
       "      <td>snp</td>\n",
       "      <td>1</td>\n",
       "      <td>...</td>\n",
       "      <td>1.0</td>\n",
       "      <td>1.0</td>\n",
       "      <td>0.0</td>\n",
       "      <td>0.0</td>\n",
       "      <td>0.0</td>\n",
       "      <td>0.0</td>\n",
       "      <td>0.0</td>\n",
       "      <td>0.56</td>\n",
       "      <td>0.5625</td>\n",
       "      <td>0.5000</td>\n",
       "    </tr>\n",
       "    <tr>\n",
       "      <th>...</th>\n",
       "      <td>...</td>\n",
       "      <td>...</td>\n",
       "      <td>...</td>\n",
       "      <td>...</td>\n",
       "      <td>...</td>\n",
       "      <td>...</td>\n",
       "      <td>...</td>\n",
       "      <td>...</td>\n",
       "      <td>...</td>\n",
       "      <td>...</td>\n",
       "      <td>...</td>\n",
       "      <td>...</td>\n",
       "      <td>...</td>\n",
       "      <td>...</td>\n",
       "      <td>...</td>\n",
       "      <td>...</td>\n",
       "      <td>...</td>\n",
       "      <td>...</td>\n",
       "      <td>...</td>\n",
       "      <td>...</td>\n",
       "      <td>...</td>\n",
       "    </tr>\n",
       "    <tr>\n",
       "      <th>439177</th>\n",
       "      <td>AE017356.1</td>\n",
       "      <td>424420</td>\n",
       "      <td>24109.70</td>\n",
       "      <td>1.0</td>\n",
       "      <td>2</td>\n",
       "      <td>CTTTTTTTTTCCTTCTTTCCCTCCG.GTTTTTTTTTCCTTCTTTCC...</td>\n",
       "      <td>25</td>\n",
       "      <td>2526</td>\n",
       "      <td>snp</td>\n",
       "      <td>14</td>\n",
       "      <td>...</td>\n",
       "      <td>1.0</td>\n",
       "      <td>1.0</td>\n",
       "      <td>0.0</td>\n",
       "      <td>0.0</td>\n",
       "      <td>2.0</td>\n",
       "      <td>0.0</td>\n",
       "      <td>1.0</td>\n",
       "      <td>0.64</td>\n",
       "      <td>0.7500</td>\n",
       "      <td>0.6250</td>\n",
       "    </tr>\n",
       "    <tr>\n",
       "      <th>440708</th>\n",
       "      <td>AE017356.1</td>\n",
       "      <td>517297</td>\n",
       "      <td>6863.70</td>\n",
       "      <td>1.0</td>\n",
       "      <td>1</td>\n",
       "      <td>CGGGGGGGGAGTGGCGGGGGGGGGAGCGGGCA.GGGGGGGGGAGTG...</td>\n",
       "      <td>32</td>\n",
       "      <td>2860</td>\n",
       "      <td>snp</td>\n",
       "      <td>14</td>\n",
       "      <td>...</td>\n",
       "      <td>1.0</td>\n",
       "      <td>0.0</td>\n",
       "      <td>0.0</td>\n",
       "      <td>1.0</td>\n",
       "      <td>1.0</td>\n",
       "      <td>0.0</td>\n",
       "      <td>0.0</td>\n",
       "      <td>0.32</td>\n",
       "      <td>0.6250</td>\n",
       "      <td>0.4375</td>\n",
       "    </tr>\n",
       "    <tr>\n",
       "      <th>442408</th>\n",
       "      <td>AE017356.1</td>\n",
       "      <td>610460</td>\n",
       "      <td>262214.00</td>\n",
       "      <td>1.0</td>\n",
       "      <td>2</td>\n",
       "      <td>N.C.T</td>\n",
       "      <td>1</td>\n",
       "      <td>16773</td>\n",
       "      <td>snp</td>\n",
       "      <td>14</td>\n",
       "      <td>...</td>\n",
       "      <td>1.0</td>\n",
       "      <td>1.0</td>\n",
       "      <td>1.0</td>\n",
       "      <td>2.0</td>\n",
       "      <td>2.0</td>\n",
       "      <td>1.0</td>\n",
       "      <td>1.0</td>\n",
       "      <td>0.72</td>\n",
       "      <td>0.7500</td>\n",
       "      <td>0.6875</td>\n",
       "    </tr>\n",
       "    <tr>\n",
       "      <th>443576</th>\n",
       "      <td>AE017356.1</td>\n",
       "      <td>635842</td>\n",
       "      <td>111031.00</td>\n",
       "      <td>1.0</td>\n",
       "      <td>1</td>\n",
       "      <td>G.A</td>\n",
       "      <td>1</td>\n",
       "      <td>8586</td>\n",
       "      <td>snp</td>\n",
       "      <td>14</td>\n",
       "      <td>...</td>\n",
       "      <td>0.0</td>\n",
       "      <td>0.0</td>\n",
       "      <td>1.0</td>\n",
       "      <td>0.0</td>\n",
       "      <td>0.0</td>\n",
       "      <td>0.0</td>\n",
       "      <td>1.0</td>\n",
       "      <td>0.40</td>\n",
       "      <td>0.5625</td>\n",
       "      <td>0.3750</td>\n",
       "    </tr>\n",
       "    <tr>\n",
       "      <th>444729</th>\n",
       "      <td>AE017356.1</td>\n",
       "      <td>688186</td>\n",
       "      <td>16603.40</td>\n",
       "      <td>1.0</td>\n",
       "      <td>2</td>\n",
       "      <td>AGGGGGGGGGGCGGGGGGGGGGGGAGGGGGAGGTAGAAGGAGAGAG...</td>\n",
       "      <td>48</td>\n",
       "      <td>657</td>\n",
       "      <td>del</td>\n",
       "      <td>14</td>\n",
       "      <td>...</td>\n",
       "      <td>1.0</td>\n",
       "      <td>1.0</td>\n",
       "      <td>1.0</td>\n",
       "      <td>1.0</td>\n",
       "      <td>1.0</td>\n",
       "      <td>1.0</td>\n",
       "      <td>1.0</td>\n",
       "      <td>0.00</td>\n",
       "      <td>0.1250</td>\n",
       "      <td>0.0000</td>\n",
       "    </tr>\n",
       "  </tbody>\n",
       "</table>\n",
       "<p>2624 rows × 81 columns</p>\n",
       "</div>"
      ],
      "text/plain": [
       "             Seqid     Pos       Qual  Callrate  Nallele  \\\n",
       "1062    AE017341.1   55108   90277.00       1.0        4   \n",
       "8887    AE017341.1  461149    4093.03       1.0        1   \n",
       "10062   AE017341.1  530127  103609.00       1.0        1   \n",
       "11653   AE017341.1  636710   88263.90       1.0        5   \n",
       "17357   AE017341.1  884617   62425.00       1.0        1   \n",
       "...            ...     ...        ...       ...      ...   \n",
       "439177  AE017356.1  424420   24109.70       1.0        2   \n",
       "440708  AE017356.1  517297    6863.70       1.0        1   \n",
       "442408  AE017356.1  610460  262214.00       1.0        2   \n",
       "443576  AE017356.1  635842  111031.00       1.0        1   \n",
       "444729  AE017356.1  688186   16603.40       1.0        2   \n",
       "\n",
       "                                                  Alleles  Maxlen  Depth  \\\n",
       "1062    CGTTGGTTTTT.GGTTTTTTTTT.GGTTGTTTTT.GGTTGTTTTTT...      11   3590   \n",
       "8887                                                  G.C       1   8658   \n",
       "10062                                                 C.G       1   7559   \n",
       "11653   TGGGGGGGGGGGGGGGGGGGTTGTGCTGATG.GGGGGGGGGGGGGG...      31   1127   \n",
       "17357                                             AGG.AGA       3   4224   \n",
       "...                                                   ...     ...    ...   \n",
       "439177  CTTTTTTTTTCCTTCTTTCCCTCCG.GTTTTTTTTTCCTTCTTTCC...      25   2526   \n",
       "440708  CGGGGGGGGAGTGGCGGGGGGGGGAGCGGGCA.GGGGGGGGGAGTG...      32   2860   \n",
       "442408                                              N.C.T       1  16773   \n",
       "443576                                                G.A       1   8586   \n",
       "444729  AGGGGGGGGGGCGGGGGGGGGGGGAGGGGGAGGTAGAAGGAGAGAG...      48    657   \n",
       "\n",
       "           Type  Chrom  ...  A09  A15  B08  A14  B12  A13  A11  A1_af   B1_af  \\\n",
       "1062    complex      1  ...  3.0  3.0  3.0  1.0  2.0  2.0  1.0   0.52  0.4375   \n",
       "8887        snp      1  ...  1.0  0.0  0.0  1.0  0.0  0.0  0.0   0.72  0.9375   \n",
       "10062       snp      1  ...  1.0  0.0  1.0  0.0  1.0  0.0  1.0   0.56  0.5000   \n",
       "11653       snp      1  ...  1.0  4.0  3.0  4.0  3.0  3.0  1.0   0.04  0.0625   \n",
       "17357       snp      1  ...  1.0  1.0  0.0  0.0  0.0  0.0  0.0   0.56  0.5625   \n",
       "...         ...    ...  ...  ...  ...  ...  ...  ...  ...  ...    ...     ...   \n",
       "439177      snp     14  ...  1.0  1.0  0.0  0.0  2.0  0.0  1.0   0.64  0.7500   \n",
       "440708      snp     14  ...  1.0  0.0  0.0  1.0  1.0  0.0  0.0   0.32  0.6250   \n",
       "442408      snp     14  ...  1.0  1.0  1.0  2.0  2.0  1.0  1.0   0.72  0.7500   \n",
       "443576      snp     14  ...  0.0  0.0  1.0  0.0  0.0  0.0  1.0   0.40  0.5625   \n",
       "444729      del     14  ...  1.0  1.0  1.0  1.0  1.0  1.0  1.0   0.00  0.1250   \n",
       "\n",
       "         B7_af  \n",
       "1062    0.3750  \n",
       "8887    0.8750  \n",
       "10062   0.3750  \n",
       "11653   0.0000  \n",
       "17357   0.5000  \n",
       "...        ...  \n",
       "439177  0.6250  \n",
       "440708  0.4375  \n",
       "442408  0.6875  \n",
       "443576  0.3750  \n",
       "444729  0.0000  \n",
       "\n",
       "[2624 rows x 81 columns]"
      ]
     },
     "execution_count": 84,
     "metadata": {},
     "output_type": "execute_result"
    }
   ],
   "source": [
    "old"
   ]
  },
  {
   "cell_type": "code",
   "execution_count": 86,
   "metadata": {},
   "outputs": [
    {
     "data": {
      "text/html": [
       "<div>\n",
       "<style scoped>\n",
       "    .dataframe tbody tr th:only-of-type {\n",
       "        vertical-align: middle;\n",
       "    }\n",
       "\n",
       "    .dataframe tbody tr th {\n",
       "        vertical-align: top;\n",
       "    }\n",
       "\n",
       "    .dataframe thead th {\n",
       "        text-align: right;\n",
       "    }\n",
       "</style>\n",
       "<table border=\"1\" class=\"dataframe\">\n",
       "  <thead>\n",
       "    <tr style=\"text-align: right;\">\n",
       "      <th></th>\n",
       "      <th>Seqid</th>\n",
       "      <th>Pos</th>\n",
       "      <th>Qual</th>\n",
       "      <th>Nalleles</th>\n",
       "      <th>Alleles</th>\n",
       "      <th>Maxlen</th>\n",
       "      <th>Minlen</th>\n",
       "      <th>Type</th>\n",
       "      <th>Callrate</th>\n",
       "      <th>MAF</th>\n",
       "      <th>Chrom</th>\n",
       "      <th>Oldix</th>\n",
       "      <th>Meandepth</th>\n",
       "    </tr>\n",
       "  </thead>\n",
       "  <tbody>\n",
       "    <tr>\n",
       "      <th>111350</th>\n",
       "      <td>AE017356.1</td>\n",
       "      <td>388777</td>\n",
       "      <td>138312.0</td>\n",
       "      <td>1</td>\n",
       "      <td>TCAG.TCAT</td>\n",
       "      <td>4</td>\n",
       "      <td>4</td>\n",
       "      <td>MNP</td>\n",
       "      <td>1.0</td>\n",
       "      <td>0.435294</td>\n",
       "      <td>14</td>\n",
       "      <td>8778</td>\n",
       "      <td>92.0125</td>\n",
       "    </tr>\n",
       "  </tbody>\n",
       "</table>\n",
       "</div>"
      ],
      "text/plain": [
       "             Seqid     Pos      Qual  Nalleles    Alleles  Maxlen  Minlen  \\\n",
       "111350  AE017356.1  388777  138312.0         1  TCAG.TCAT       4       4   \n",
       "\n",
       "       Type  Callrate       MAF  Chrom  Oldix  Meandepth  \n",
       "111350  MNP       1.0  0.435294     14   8778    92.0125  "
      ]
     },
     "execution_count": 86,
     "metadata": {},
     "output_type": "execute_result"
    }
   ],
   "source": [
    "info[(info.Seqid == 'AE017356.1') & (info.Pos==388777)]"
   ]
  },
  {
   "cell_type": "code",
   "execution_count": 87,
   "metadata": {},
   "outputs": [],
   "source": [
    "filtix = info[(geno[progeny].T.var()!=0) & (info.Callrate==1) & (info.Qual>=100) & (info.Meandepth>=8)].index.tolist()"
   ]
  },
  {
   "cell_type": "code",
   "execution_count": 88,
   "metadata": {},
   "outputs": [],
   "source": [
    "filtgeno = pd.concat([info.loc[filtix],geno.loc[filtix,samples]],axis=1)"
   ]
  },
  {
   "cell_type": "code",
   "execution_count": 89,
   "metadata": {},
   "outputs": [],
   "source": [
    "filtgeno.to_csv('../GENOTYPE/B3502_additional_progeny_genotypes.csv.gz')"
   ]
  },
  {
   "cell_type": "code",
   "execution_count": null,
   "metadata": {},
   "outputs": [],
   "source": []
  },
  {
   "cell_type": "code",
   "execution_count": null,
   "metadata": {},
   "outputs": [],
   "source": []
  },
  {
   "cell_type": "code",
   "execution_count": 35,
   "metadata": {},
   "outputs": [],
   "source": []
  },
  {
   "cell_type": "code",
   "execution_count": 38,
   "metadata": {},
   "outputs": [],
   "source": [
    "import seaborn as sns"
   ]
  },
  {
   "cell_type": "code",
   "execution_count": 42,
   "metadata": {},
   "outputs": [
    {
     "data": {
      "image/png": "[encoded data removed]",
      "text/plain": [
       "<Figure size 418.125x360 with 1 Axes>"
      ]
     },
     "metadata": {
      "needs_background": "light"
     },
     "output_type": "display_data"
    }
   ],
   "source": [
    "sns.lmplot(x='Meandepth',y='Qual',hue='Type',data=info,ci=False,fit_reg=False);"
   ]
  },
  {
   "cell_type": "code",
   "execution_count": 56,
   "metadata": {},
   "outputs": [
    {
     "data": {
      "text/plain": [
       "(108951, 13)"
      ]
     },
     "execution_count": 56,
     "metadata": {},
     "output_type": "execute_result"
    }
   ],
   "source": [
    "info[(info.Qual>=100)].shape"
   ]
  },
  {
   "cell_type": "code",
   "execution_count": 59,
   "metadata": {},
   "outputs": [
    {
     "data": {
      "image/png": "[encoded data removed]",
      "text/plain": [
       "<Figure size 432x432 with 3 Axes>"
      ]
     },
     "metadata": {
      "needs_background": "light"
     },
     "output_type": "display_data"
    }
   ],
   "source": [
    "temp = info[(geno[progeny].T.var()!=0) & (info.Callrate==1)]\n",
    "sns.jointplot(data=temp,x='Meandepth',y='Qual',hue='Type');"
   ]
  },
  {
   "cell_type": "code",
   "execution_count": 47,
   "metadata": {},
   "outputs": [
    {
     "data": {
      "image/png": "[encoded data removed]",
      "text/plain": [
       "<Figure size 432x288 with 1 Axes>"
      ]
     },
     "metadata": {
      "needs_background": "light"
     },
     "output_type": "display_data"
    }
   ],
   "source": [
    "plt.hist(info.Qual,log=True);"
   ]
  },
  {
   "cell_type": "code",
   "execution_count": 50,
   "metadata": {},
   "outputs": [
    {
     "data": {
      "text/html": [
       "<div>\n",
       "<style scoped>\n",
       "    .dataframe tbody tr th:only-of-type {\n",
       "        vertical-align: middle;\n",
       "    }\n",
       "\n",
       "    .dataframe tbody tr th {\n",
       "        vertical-align: top;\n",
       "    }\n",
       "\n",
       "    .dataframe thead th {\n",
       "        text-align: right;\n",
       "    }\n",
       "</style>\n",
       "<table border=\"1\" class=\"dataframe\">\n",
       "  <thead>\n",
       "    <tr style=\"text-align: right;\">\n",
       "      <th></th>\n",
       "      <th>Seqid</th>\n",
       "      <th>Pos</th>\n",
       "      <th>Qual</th>\n",
       "      <th>Nalleles</th>\n",
       "      <th>Alleles</th>\n",
       "      <th>Maxlen</th>\n",
       "      <th>Minlen</th>\n",
       "      <th>Type</th>\n",
       "      <th>Callrate</th>\n",
       "      <th>MAF</th>\n",
       "      <th>Chrom</th>\n",
       "      <th>Oldix</th>\n",
       "      <th>Meandepth</th>\n",
       "    </tr>\n",
       "  </thead>\n",
       "  <tbody>\n",
       "    <tr>\n",
       "      <th>2</th>\n",
       "      <td>AE017341.1</td>\n",
       "      <td>331</td>\n",
       "      <td>325.020</td>\n",
       "      <td>1</td>\n",
       "      <td>ACAATCCG.ACAAGCCA</td>\n",
       "      <td>8</td>\n",
       "      <td>8</td>\n",
       "      <td>MNP</td>\n",
       "      <td>1.000000</td>\n",
       "      <td>0.988235</td>\n",
       "      <td>1</td>\n",
       "      <td>26</td>\n",
       "      <td>105.482353</td>\n",
       "    </tr>\n",
       "    <tr>\n",
       "      <th>3</th>\n",
       "      <td>AE017341.1</td>\n",
       "      <td>393</td>\n",
       "      <td>3025.320</td>\n",
       "      <td>1</td>\n",
       "      <td>A.G</td>\n",
       "      <td>1</td>\n",
       "      <td>1</td>\n",
       "      <td>SNP</td>\n",
       "      <td>0.988235</td>\n",
       "      <td>0.976471</td>\n",
       "      <td>1</td>\n",
       "      <td>31</td>\n",
       "      <td>109.341176</td>\n",
       "    </tr>\n",
       "    <tr>\n",
       "      <th>4</th>\n",
       "      <td>AE017341.1</td>\n",
       "      <td>435</td>\n",
       "      <td>2498.550</td>\n",
       "      <td>1</td>\n",
       "      <td>G.C</td>\n",
       "      <td>1</td>\n",
       "      <td>1</td>\n",
       "      <td>SNP</td>\n",
       "      <td>0.988235</td>\n",
       "      <td>0.976471</td>\n",
       "      <td>1</td>\n",
       "      <td>34</td>\n",
       "      <td>109.482353</td>\n",
       "    </tr>\n",
       "    <tr>\n",
       "      <th>5</th>\n",
       "      <td>AE017341.1</td>\n",
       "      <td>542</td>\n",
       "      <td>1143.540</td>\n",
       "      <td>1</td>\n",
       "      <td>T.C</td>\n",
       "      <td>1</td>\n",
       "      <td>1</td>\n",
       "      <td>SNP</td>\n",
       "      <td>0.988235</td>\n",
       "      <td>0.976471</td>\n",
       "      <td>1</td>\n",
       "      <td>35</td>\n",
       "      <td>105.823529</td>\n",
       "    </tr>\n",
       "    <tr>\n",
       "      <th>6</th>\n",
       "      <td>AE017341.1</td>\n",
       "      <td>551</td>\n",
       "      <td>502.850</td>\n",
       "      <td>1</td>\n",
       "      <td>ATCCT.GTCCC</td>\n",
       "      <td>5</td>\n",
       "      <td>5</td>\n",
       "      <td>MNP</td>\n",
       "      <td>1.000000</td>\n",
       "      <td>0.988235</td>\n",
       "      <td>1</td>\n",
       "      <td>36</td>\n",
       "      <td>100.247059</td>\n",
       "    </tr>\n",
       "    <tr>\n",
       "      <th>...</th>\n",
       "      <td>...</td>\n",
       "      <td>...</td>\n",
       "      <td>...</td>\n",
       "      <td>...</td>\n",
       "      <td>...</td>\n",
       "      <td>...</td>\n",
       "      <td>...</td>\n",
       "      <td>...</td>\n",
       "      <td>...</td>\n",
       "      <td>...</td>\n",
       "      <td>...</td>\n",
       "      <td>...</td>\n",
       "      <td>...</td>\n",
       "    </tr>\n",
       "    <tr>\n",
       "      <th>113814</th>\n",
       "      <td>AE017356.1</td>\n",
       "      <td>762244</td>\n",
       "      <td>904.502</td>\n",
       "      <td>1</td>\n",
       "      <td>T.A</td>\n",
       "      <td>1</td>\n",
       "      <td>1</td>\n",
       "      <td>SNP</td>\n",
       "      <td>1.000000</td>\n",
       "      <td>0.988235</td>\n",
       "      <td>14</td>\n",
       "      <td>21484</td>\n",
       "      <td>141.164706</td>\n",
       "    </tr>\n",
       "    <tr>\n",
       "      <th>113815</th>\n",
       "      <td>AE017356.1</td>\n",
       "      <td>762280</td>\n",
       "      <td>1383.130</td>\n",
       "      <td>1</td>\n",
       "      <td>A.G</td>\n",
       "      <td>1</td>\n",
       "      <td>1</td>\n",
       "      <td>SNP</td>\n",
       "      <td>1.000000</td>\n",
       "      <td>0.988235</td>\n",
       "      <td>14</td>\n",
       "      <td>21487</td>\n",
       "      <td>150.835294</td>\n",
       "    </tr>\n",
       "    <tr>\n",
       "      <th>113816</th>\n",
       "      <td>AE017356.1</td>\n",
       "      <td>762307</td>\n",
       "      <td>1409.640</td>\n",
       "      <td>1</td>\n",
       "      <td>G.A</td>\n",
       "      <td>1</td>\n",
       "      <td>1</td>\n",
       "      <td>SNP</td>\n",
       "      <td>1.000000</td>\n",
       "      <td>0.988235</td>\n",
       "      <td>14</td>\n",
       "      <td>21489</td>\n",
       "      <td>148.847059</td>\n",
       "    </tr>\n",
       "    <tr>\n",
       "      <th>113817</th>\n",
       "      <td>AE017356.1</td>\n",
       "      <td>762562</td>\n",
       "      <td>72.331</td>\n",
       "      <td>1</td>\n",
       "      <td>C.T</td>\n",
       "      <td>1</td>\n",
       "      <td>1</td>\n",
       "      <td>SNP</td>\n",
       "      <td>1.000000</td>\n",
       "      <td>0.988235</td>\n",
       "      <td>14</td>\n",
       "      <td>21504</td>\n",
       "      <td>38.776471</td>\n",
       "    </tr>\n",
       "    <tr>\n",
       "      <th>113818</th>\n",
       "      <td>AE017356.1</td>\n",
       "      <td>762667</td>\n",
       "      <td>5180.520</td>\n",
       "      <td>1</td>\n",
       "      <td>GTG.GTTG</td>\n",
       "      <td>4</td>\n",
       "      <td>3</td>\n",
       "      <td>ins</td>\n",
       "      <td>0.917647</td>\n",
       "      <td>0.011765</td>\n",
       "      <td>14</td>\n",
       "      <td>21514</td>\n",
       "      <td>3.635294</td>\n",
       "    </tr>\n",
       "  </tbody>\n",
       "</table>\n",
       "<p>109380 rows × 13 columns</p>\n",
       "</div>"
      ],
      "text/plain": [
       "             Seqid     Pos      Qual  Nalleles            Alleles  Maxlen  \\\n",
       "2       AE017341.1     331   325.020         1  ACAATCCG.ACAAGCCA       8   \n",
       "3       AE017341.1     393  3025.320         1                A.G       1   \n",
       "4       AE017341.1     435  2498.550         1                G.C       1   \n",
       "5       AE017341.1     542  1143.540         1                T.C       1   \n",
       "6       AE017341.1     551   502.850         1        ATCCT.GTCCC       5   \n",
       "...            ...     ...       ...       ...                ...     ...   \n",
       "113814  AE017356.1  762244   904.502         1                T.A       1   \n",
       "113815  AE017356.1  762280  1383.130         1                A.G       1   \n",
       "113816  AE017356.1  762307  1409.640         1                G.A       1   \n",
       "113817  AE017356.1  762562    72.331         1                C.T       1   \n",
       "113818  AE017356.1  762667  5180.520         1           GTG.GTTG       4   \n",
       "\n",
       "        Minlen Type  Callrate       MAF  Chrom  Oldix   Meandepth  \n",
       "2            8  MNP  1.000000  0.988235      1     26  105.482353  \n",
       "3            1  SNP  0.988235  0.976471      1     31  109.341176  \n",
       "4            1  SNP  0.988235  0.976471      1     34  109.482353  \n",
       "5            1  SNP  0.988235  0.976471      1     35  105.823529  \n",
       "6            5  MNP  1.000000  0.988235      1     36  100.247059  \n",
       "...        ...  ...       ...       ...    ...    ...         ...  \n",
       "113814       1  SNP  1.000000  0.988235     14  21484  141.164706  \n",
       "113815       1  SNP  1.000000  0.988235     14  21487  150.835294  \n",
       "113816       1  SNP  1.000000  0.988235     14  21489  148.847059  \n",
       "113817       1  SNP  1.000000  0.988235     14  21504   38.776471  \n",
       "113818       3  ins  0.917647  0.011765     14  21514    3.635294  \n",
       "\n",
       "[109380 rows x 13 columns]"
      ]
     },
     "execution_count": 50,
     "metadata": {},
     "output_type": "execute_result"
    }
   ],
   "source": [
    "info[(info.Qual>10)]"
   ]
  },
  {
   "cell_type": "code",
   "execution_count": 22,
   "metadata": {},
   "outputs": [],
   "source": [
    "geno['AF'] = geno[samples].T.mean()"
   ]
  },
  {
   "cell_type": "code",
   "execution_count": 17,
   "metadata": {},
   "outputs": [
    {
     "data": {
      "text/plain": [
       "A01       0.0\n",
       "A02       0.0\n",
       "A03       0.0\n",
       "A04       0.0\n",
       "A05       0.0\n",
       "         ... \n",
       "I641      0.0\n",
       "I643      0.0\n",
       "I645      0.0\n",
       "NIH12     1.0\n",
       "NIH433    0.0\n",
       "Name: 0, Length: 85, dtype: float64"
      ]
     },
     "execution_count": 17,
     "metadata": {},
     "output_type": "execute_result"
    }
   ],
   "source": [
    "geno[samples].T[0]"
   ]
  },
  {
   "cell_type": "code",
   "execution_count": 12,
   "metadata": {},
   "outputs": [
    {
     "data": {
      "text/plain": [
       "['B3502_A1', 'B3502_B1', 'B3502_B7']"
      ]
     },
     "execution_count": 12,
     "metadata": {},
     "output_type": "execute_result"
    }
   ],
   "source": [
    "## Make a list of the stocks\n",
    "stocks = ['B3502_%s'%s for s in pheno.Parent.dropna().unique()]\n",
    "stocks"
   ]
  },
  {
   "cell_type": "code",
   "execution_count": 14,
   "metadata": {},
   "outputs": [
    {
     "data": {
      "text/plain": [
       "86"
      ]
     },
     "execution_count": 14,
     "metadata": {},
     "output_type": "execute_result"
    }
   ],
   "source": [
    "## Find index where B1 genotype != the others\n",
    "b1nota1_ix = (geno[stocks[1]] != geno[stocks[0]])\n",
    "b1notb7_ix = (geno[stocks[1]] != geno[stocks[-1]])\n",
    "\n",
    "## Drop na\n",
    "stock_dif_ix = geno[b1nota1_ix & \n",
    "                    b1notb7_ix][stocks].dropna().index\n",
    "len(stock_dif_ix)"
   ]
  },
  {
   "cell_type": "code",
   "execution_count": 15,
   "metadata": {},
   "outputs": [
    {
     "data": {
      "text/plain": [
       "(113819, 87)"
      ]
     },
     "execution_count": 15,
     "metadata": {},
     "output_type": "execute_result"
    }
   ],
   "source": []
  },
  {
   "cell_type": "code",
   "execution_count": 16,
   "metadata": {},
   "outputs": [],
   "source": [
    "## Calculate mean, min and max depths of stock dif vars\n",
    "mean_stock_depth = depth.loc[stock_dif_ix,stocks].T.mean()\n",
    "min_stock_depth = depth.loc[stock_dif_ix,stocks].T.min()\n",
    "max_stock_depth = depth.loc[stock_dif_ix,stocks].T.max()"
   ]
  },
  {
   "cell_type": "code",
   "execution_count": 17,
   "metadata": {},
   "outputs": [
    {
     "data": {
      "text/plain": [
       "(113819, 87)"
      ]
     },
     "execution_count": 17,
     "metadata": {},
     "output_type": "execute_result"
    }
   ],
   "source": [
    "## Bring in allelic read depth ratios of\n",
    "## rows x columns of vcf files\n",
    "data = '../GENOTYPE/AF/*ratios.csv.gz'\n",
    "alleledepth = sorted(glob.glob(data))\n",
    "assert len(alleledepth) == 14\n",
    "ratio = makedf(alleledepth)\n",
    "ratio.shape"
   ]
  },
  {
   "cell_type": "code",
   "execution_count": 18,
   "metadata": {},
   "outputs": [],
   "source": [
    "## Calculate mean, min and max of ratios of stock dif vars\n",
    "mean_stock_ratio = ratio.loc[stock_dif_ix,stocks].T.mean()\n",
    "min_stock_ratio = ratio.loc[stock_dif_ix,stocks].T.min()\n",
    "max_stock_ratio = ratio.loc[stock_dif_ix,stocks].T.max()"
   ]
  },
  {
   "cell_type": "code",
   "execution_count": 19,
   "metadata": {},
   "outputs": [
    {
     "data": {
      "text/plain": [
       "(113819, 12)"
      ]
     },
     "execution_count": 19,
     "metadata": {},
     "output_type": "execute_result"
    }
   ],
   "source": []
  },
  {
   "cell_type": "code",
   "execution_count": 26,
   "metadata": {},
   "outputs": [
    {
     "data": {
      "text/html": [
       "<div>\n",
       "<style scoped>\n",
       "    .dataframe tbody tr th:only-of-type {\n",
       "        vertical-align: middle;\n",
       "    }\n",
       "\n",
       "    .dataframe tbody tr th {\n",
       "        vertical-align: top;\n",
       "    }\n",
       "\n",
       "    .dataframe thead th {\n",
       "        text-align: right;\n",
       "    }\n",
       "</style>\n",
       "<table border=\"1\" class=\"dataframe\">\n",
       "  <thead>\n",
       "    <tr style=\"text-align: right;\">\n",
       "      <th></th>\n",
       "      <th>Seqid</th>\n",
       "      <th>Pos</th>\n",
       "      <th>Nalleles</th>\n",
       "      <th>Alleles</th>\n",
       "      <th>MAF</th>\n",
       "      <th>Chrom</th>\n",
       "      <th>B3502_A1</th>\n",
       "      <th>B3502_B1</th>\n",
       "      <th>B3502_B7</th>\n",
       "      <th>min_depth</th>\n",
       "      <th>mean_depth</th>\n",
       "      <th>min_ratio</th>\n",
       "      <th>mean_ratio</th>\n",
       "    </tr>\n",
       "  </thead>\n",
       "  <tbody>\n",
       "    <tr>\n",
       "      <th>27</th>\n",
       "      <td>AE017341.1</td>\n",
       "      <td>3186</td>\n",
       "      <td>1</td>\n",
       "      <td>A.G</td>\n",
       "      <td>0.976471</td>\n",
       "      <td>1</td>\n",
       "      <td>0.0</td>\n",
       "      <td>1.0</td>\n",
       "      <td>0.0</td>\n",
       "      <td>126.0</td>\n",
       "      <td>144.00</td>\n",
       "      <td>0.54</td>\n",
       "      <td>0.61</td>\n",
       "    </tr>\n",
       "    <tr>\n",
       "      <th>2897</th>\n",
       "      <td>AE017341.1</td>\n",
       "      <td>461149</td>\n",
       "      <td>1</td>\n",
       "      <td>G.C</td>\n",
       "      <td>0.870588</td>\n",
       "      <td>1</td>\n",
       "      <td>0.0</td>\n",
       "      <td>1.0</td>\n",
       "      <td>0.0</td>\n",
       "      <td>70.0</td>\n",
       "      <td>74.67</td>\n",
       "      <td>0.58</td>\n",
       "      <td>0.63</td>\n",
       "    </tr>\n",
       "    <tr>\n",
       "      <th>8709</th>\n",
       "      <td>AE017341.1</td>\n",
       "      <td>1430787</td>\n",
       "      <td>1</td>\n",
       "      <td>G.T</td>\n",
       "      <td>0.858824</td>\n",
       "      <td>1</td>\n",
       "      <td>0.0</td>\n",
       "      <td>1.0</td>\n",
       "      <td>0.0</td>\n",
       "      <td>20.0</td>\n",
       "      <td>32.33</td>\n",
       "      <td>1.00</td>\n",
       "      <td>1.00</td>\n",
       "    </tr>\n",
       "    <tr>\n",
       "      <th>12626</th>\n",
       "      <td>AE017341.1</td>\n",
       "      <td>2149461</td>\n",
       "      <td>1</td>\n",
       "      <td>C.T</td>\n",
       "      <td>0.976471</td>\n",
       "      <td>1</td>\n",
       "      <td>0.0</td>\n",
       "      <td>1.0</td>\n",
       "      <td>0.0</td>\n",
       "      <td>88.0</td>\n",
       "      <td>108.33</td>\n",
       "      <td>0.54</td>\n",
       "      <td>0.59</td>\n",
       "    </tr>\n",
       "    <tr>\n",
       "      <th>12627</th>\n",
       "      <td>AE017341.1</td>\n",
       "      <td>2149470</td>\n",
       "      <td>1</td>\n",
       "      <td>A.G</td>\n",
       "      <td>0.976471</td>\n",
       "      <td>1</td>\n",
       "      <td>0.0</td>\n",
       "      <td>1.0</td>\n",
       "      <td>0.0</td>\n",
       "      <td>95.0</td>\n",
       "      <td>119.00</td>\n",
       "      <td>0.53</td>\n",
       "      <td>0.56</td>\n",
       "    </tr>\n",
       "  </tbody>\n",
       "</table>\n",
       "</div>"
      ],
      "text/plain": [
       "            Seqid      Pos  Nalleles Alleles       MAF  Chrom  B3502_A1  \\\n",
       "27     AE017341.1     3186         1     A.G  0.976471      1       0.0   \n",
       "2897   AE017341.1   461149         1     G.C  0.870588      1       0.0   \n",
       "8709   AE017341.1  1430787         1     G.T  0.858824      1       0.0   \n",
       "12626  AE017341.1  2149461         1     C.T  0.976471      1       0.0   \n",
       "12627  AE017341.1  2149470         1     A.G  0.976471      1       0.0   \n",
       "\n",
       "       B3502_B1  B3502_B7  min_depth  mean_depth  min_ratio  mean_ratio  \n",
       "27          1.0       0.0      126.0      144.00       0.54        0.61  \n",
       "2897        1.0       0.0       70.0       74.67       0.58        0.63  \n",
       "8709        1.0       0.0       20.0       32.33       1.00        1.00  \n",
       "12626       1.0       0.0       88.0      108.33       0.54        0.59  \n",
       "12627       1.0       0.0       95.0      119.00       0.53        0.56  "
      ]
     },
     "execution_count": 26,
     "metadata": {},
     "output_type": "execute_result"
    }
   ],
   "source": [
    "## Make a dataframe of potential stock variants\n",
    "## Take info\n",
    "tempdf = info.loc[stock_dif_ix].copy()\n",
    "\n",
    "## stock genotypes \n",
    "dif_genos = geno.loc[stock_dif_ix,stocks].copy()\n",
    "\n",
    "## concatonate\n",
    "df = pd.concat([tempdf,dif_genos],axis=1)\n",
    "\n",
    "## Add depth and ratio info\n",
    "labels = ['min','max','mean']\n",
    "\n",
    "for i,j in enumerate([min_stock_depth,\n",
    "                      max_stock_depth,\n",
    "                      mean_stock_depth]):\n",
    "    \n",
    "    df['%s_depth'%labels[i]] = np.round(j,2)\n",
    "    \n",
    "for i,j in enumerate([min_stock_ratio,\n",
    "                      max_stock_ratio,\n",
    "                      mean_stock_ratio]):\n",
    "    \n",
    "    df['%s_ratio'%labels[i]] = np.round(j,2)\n",
    "    \n",
    "## Drop un-needed columns    \n",
    "to_drop = ['Maxlen','Minlen',\n",
    "           'Callrate','Qual','Type','Oldix',\n",
    "           'max_ratio','max_depth']\n",
    "\n",
    "df.drop(to_drop,axis=1,inplace=True)\n",
    "\n",
    "## View head\n",
    "df.head()"
   ]
  },
  {
   "cell_type": "code",
   "execution_count": 27,
   "metadata": {},
   "outputs": [],
   "source": [
    "## Check our work\n",
    "assert np.sum(stock_dif_ix-df.index.values) == 0"
   ]
  },
  {
   "cell_type": "code",
   "execution_count": 28,
   "metadata": {},
   "outputs": [],
   "source": [
    "## Examine as a ftn of paramaters\n",
    "## The number of vairants in B3501_B1 we detect\n",
    "drf = 0.1 ## Slide of allelic read reatio\n",
    "ratio_fs = np.arange(0,1+drf,drf)\n",
    "covx_fs = np.arange(0,12+1,1)\n",
    "\n",
    "## Gather results per conditions\n",
    "rf_pass = []\n",
    "for ratio_f in ratio_fs:\n",
    "    \n",
    "    covx_pass = []\n",
    "    for covx_f in covx_fs:\n",
    "        \n",
    "        ## Make sure the B3502_B1 stock passes \n",
    "        b1_depth_pass = depth[(depth[stocks[1]] >= covx_f) & \n",
    "                      (depth.index.isin(stock_dif_ix))].index\n",
    "\n",
    "        b1_ratio_pass = ratio[(ratio[stocks[1]] >=ratio_f) & \n",
    "                      (ratio.index.isin(stock_dif_ix))].index\n",
    "        \n",
    "        rp = df[(df.mean_depth>=covx_f) & \n",
    "           (df.mean_ratio>=ratio_f) & \n",
    "           (df.index.isin(b1_depth_pass)) & \n",
    "           (df.index.isin(b1_ratio_pass))].shape[0]\n",
    "        \n",
    "        covx_pass.append(rp)\n",
    "    rf_pass.append(covx_pass)\n",
    "    \n",
    "## Make into a dataframe\n",
    "test = pd.DataFrame(rf_pass)\n",
    "test.index = np.round(ratio_fs,2)"
   ]
  },
  {
   "cell_type": "code",
   "execution_count": 29,
   "metadata": {},
   "outputs": [
    {
     "data": {
      "image/png": "[encoded data removed]",
      "text/plain": [
       "<Figure size 1080x720 with 2 Axes>"
      ]
     },
     "metadata": {
      "needs_background": "light"
     },
     "output_type": "display_data"
    }
   ],
   "source": [
    "## Plot results\n",
    "fig,ax = plt.subplots(1,1,figsize=(15,10))\n",
    "sns.heatmap(test,cmap='cividis',annot=True, \n",
    "            cbar_kws={'label': 'Number of Variants'});\n",
    "plt.yticks(fontsize=14,rotation=0);\n",
    "plt.xticks(fontsize=14);\n",
    "plt.ylabel('Allelic Read Ratio',fontsize=14)\n",
    "plt.xlabel('Read Depth',fontsize=14);"
   ]
  },
  {
   "cell_type": "code",
   "execution_count": 30,
   "metadata": {},
   "outputs": [],
   "source": [
    "## Filter potential snps\n",
    "ratio_f = 0.5\n",
    "covx_f = 10\n",
    "\n",
    "## Make sure the B3502_B1 stock passes \n",
    "b1_depth_pass = depth[(depth[stocks[1]] >= covx_f) & \n",
    "                      (depth.index.isin(stock_dif_ix))].index\n",
    "\n",
    "b1_ratio_pass = ratio[(ratio[stocks[1]] >=ratio_f) & \n",
    "                      (ratio.index.isin(stock_dif_ix))].index\n",
    "\n",
    "## take variants\n",
    "vardf = df[(df.mean_depth>=covx_f) & \n",
    "           (df.mean_ratio>=ratio_f) & \n",
    "           (df.index.isin(b1_depth_pass)) & \n",
    "           (df.index.isin(b1_ratio_pass))].copy()"
   ]
  },
  {
   "cell_type": "code",
   "execution_count": 31,
   "metadata": {},
   "outputs": [
    {
     "data": {
      "text/plain": [
       "(61, 14)"
      ]
     },
     "execution_count": 31,
     "metadata": {},
     "output_type": "execute_result"
    }
   ],
   "source": [
    "## Find genes that overlap with our candidate variants\n",
    "gene_res = []\n",
    "\n",
    "for s in vardf.Seqid.unique():\n",
    "    vt = vardf[(vardf.Seqid==s)]\n",
    "    gfft = gff[(gff.Type=='gene') & (gff.Seqid==s)]\n",
    "    \n",
    "    for i,p in vt.iterrows():\n",
    "        pt = p.Pos\n",
    "        \n",
    "        for j,k in gfft.iterrows():    \n",
    "            gps = np.arange(k.Start,k.End+1)\n",
    "            \n",
    "            if pt in gps:\n",
    "                gene_res.append((i,k.Gene))\n",
    "            else:\n",
    "                pass\n",
    "            \n",
    "hitdf = pd.DataFrame(gene_res,columns=['gix','Gene'])\n",
    "hitdf.index = hitdf.gix\n",
    "vardf['Gene'] = hitdf['Gene']\n",
    "vardf.shape"
   ]
  },
  {
   "cell_type": "code",
   "execution_count": 32,
   "metadata": {},
   "outputs": [],
   "source": [
    "## Save out data\n",
    "vardf[['Seqid','Chrom','Pos','Gene','Alleles']+stocks\n",
    "     ].to_csv('../GENOTYPE/B3502_parent_variants.csv.gz')"
   ]
  },
  {
   "cell_type": "code",
   "execution_count": 34,
   "metadata": {},
   "outputs": [
    {
     "data": {
      "text/html": [
       "<div>\n",
       "<style scoped>\n",
       "    .dataframe tbody tr th:only-of-type {\n",
       "        vertical-align: middle;\n",
       "    }\n",
       "\n",
       "    .dataframe tbody tr th {\n",
       "        vertical-align: top;\n",
       "    }\n",
       "\n",
       "    .dataframe thead th {\n",
       "        text-align: right;\n",
       "    }\n",
       "</style>\n",
       "<table border=\"1\" class=\"dataframe\">\n",
       "  <thead>\n",
       "    <tr style=\"text-align: right;\">\n",
       "      <th></th>\n",
       "      <th>Chrom</th>\n",
       "      <th>Pos</th>\n",
       "      <th>Gene</th>\n",
       "      <th>Alleles</th>\n",
       "    </tr>\n",
       "  </thead>\n",
       "  <tbody>\n",
       "    <tr>\n",
       "      <th>102422</th>\n",
       "      <td>12</td>\n",
       "      <td>506493</td>\n",
       "      <td>NaN</td>\n",
       "      <td>CGA.CACTGCA.CCT</td>\n",
       "    </tr>\n",
       "    <tr>\n",
       "      <th>102423</th>\n",
       "      <td>12</td>\n",
       "      <td>506501</td>\n",
       "      <td>NaN</td>\n",
       "      <td>C.A.T</td>\n",
       "    </tr>\n",
       "    <tr>\n",
       "      <th>106120</th>\n",
       "      <td>13</td>\n",
       "      <td>165834</td>\n",
       "      <td>CNM00560</td>\n",
       "      <td>TTCC.TTCT</td>\n",
       "    </tr>\n",
       "    <tr>\n",
       "      <th>106573</th>\n",
       "      <td>13</td>\n",
       "      <td>256281</td>\n",
       "      <td>CNM00880</td>\n",
       "      <td>ACGAAAGAC.GCGAAAAGAC</td>\n",
       "    </tr>\n",
       "    <tr>\n",
       "      <th>106574</th>\n",
       "      <td>13</td>\n",
       "      <td>256305</td>\n",
       "      <td>CNM00880</td>\n",
       "      <td>G.A</td>\n",
       "    </tr>\n",
       "  </tbody>\n",
       "</table>\n",
       "</div>"
      ],
      "text/plain": [
       "        Chrom     Pos      Gene               Alleles\n",
       "102422     12  506493       NaN       CGA.CACTGCA.CCT\n",
       "102423     12  506501       NaN                 C.A.T\n",
       "106120     13  165834  CNM00560             TTCC.TTCT\n",
       "106573     13  256281  CNM00880  ACGAAAGAC.GCGAAAAGAC\n",
       "106574     13  256305  CNM00880                   G.A"
      ]
     },
     "execution_count": 34,
     "metadata": {},
     "output_type": "execute_result"
    }
   ],
   "source": [
    "## View dataframe results \n",
    "vardf[['Chrom','Pos','Gene','Alleles']].tail()"
   ]
  },
  {
   "cell_type": "code",
   "execution_count": 37,
   "metadata": {},
   "outputs": [
    {
     "data": {
      "text/plain": [
       "4"
      ]
     },
     "execution_count": 37,
     "metadata": {},
     "output_type": "execute_result"
    }
   ],
   "source": [
    "## Gather B3502_progeny who are self filamentous\n",
    "b1_filamentation = pheno[(pheno.Parent=='B1') & \n",
    "                         (pheno.Phenotype=='Y')\n",
    "                        ].Strain.tolist()\n",
    "\n",
    "## How many are there of these?\n",
    "len(b1_filamentation)"
   ]
  },
  {
   "cell_type": "code",
   "execution_count": 38,
   "metadata": {},
   "outputs": [
    {
     "data": {
      "text/html": [
       "<div>\n",
       "<style scoped>\n",
       "    .dataframe tbody tr th:only-of-type {\n",
       "        vertical-align: middle;\n",
       "    }\n",
       "\n",
       "    .dataframe tbody tr th {\n",
       "        vertical-align: top;\n",
       "    }\n",
       "\n",
       "    .dataframe thead th {\n",
       "        text-align: right;\n",
       "    }\n",
       "</style>\n",
       "<table border=\"1\" class=\"dataframe\">\n",
       "  <thead>\n",
       "    <tr style=\"text-align: right;\">\n",
       "      <th></th>\n",
       "      <th>Chrom</th>\n",
       "      <th>Pos</th>\n",
       "      <th>Gene</th>\n",
       "      <th>Alleles</th>\n",
       "    </tr>\n",
       "  </thead>\n",
       "  <tbody>\n",
       "    <tr>\n",
       "      <th>27</th>\n",
       "      <td>1</td>\n",
       "      <td>3186</td>\n",
       "      <td>NaN</td>\n",
       "      <td>A.G</td>\n",
       "    </tr>\n",
       "    <tr>\n",
       "      <th>2897</th>\n",
       "      <td>1</td>\n",
       "      <td>461149</td>\n",
       "      <td>NaN</td>\n",
       "      <td>G.C</td>\n",
       "    </tr>\n",
       "    <tr>\n",
       "      <th>12626</th>\n",
       "      <td>1</td>\n",
       "      <td>2149461</td>\n",
       "      <td>NaN</td>\n",
       "      <td>C.T</td>\n",
       "    </tr>\n",
       "    <tr>\n",
       "      <th>12627</th>\n",
       "      <td>1</td>\n",
       "      <td>2149470</td>\n",
       "      <td>NaN</td>\n",
       "      <td>A.G</td>\n",
       "    </tr>\n",
       "    <tr>\n",
       "      <th>16190</th>\n",
       "      <td>2</td>\n",
       "      <td>428582</td>\n",
       "      <td>NaN</td>\n",
       "      <td>A.T</td>\n",
       "    </tr>\n",
       "    <tr>\n",
       "      <th>16191</th>\n",
       "      <td>2</td>\n",
       "      <td>428592</td>\n",
       "      <td>NaN</td>\n",
       "      <td>CAG.CATAG</td>\n",
       "    </tr>\n",
       "    <tr>\n",
       "      <th>16192</th>\n",
       "      <td>2</td>\n",
       "      <td>428598</td>\n",
       "      <td>NaN</td>\n",
       "      <td>T.C</td>\n",
       "    </tr>\n",
       "    <tr>\n",
       "      <th>16193</th>\n",
       "      <td>2</td>\n",
       "      <td>428603</td>\n",
       "      <td>NaN</td>\n",
       "      <td>G.A</td>\n",
       "    </tr>\n",
       "    <tr>\n",
       "      <th>16208</th>\n",
       "      <td>2</td>\n",
       "      <td>429078</td>\n",
       "      <td>NaN</td>\n",
       "      <td>GCATTT.ACGTTA</td>\n",
       "    </tr>\n",
       "    <tr>\n",
       "      <th>30702</th>\n",
       "      <td>3</td>\n",
       "      <td>1352772</td>\n",
       "      <td>NaN</td>\n",
       "      <td>A.G</td>\n",
       "    </tr>\n",
       "    <tr>\n",
       "      <th>37561</th>\n",
       "      <td>4</td>\n",
       "      <td>261340</td>\n",
       "      <td>CND00840</td>\n",
       "      <td>G.A</td>\n",
       "    </tr>\n",
       "    <tr>\n",
       "      <th>37562</th>\n",
       "      <td>4</td>\n",
       "      <td>261350</td>\n",
       "      <td>CND00840</td>\n",
       "      <td>A.G</td>\n",
       "    </tr>\n",
       "    <tr>\n",
       "      <th>46872</th>\n",
       "      <td>4</td>\n",
       "      <td>1630777</td>\n",
       "      <td>NaN</td>\n",
       "      <td>T.C</td>\n",
       "    </tr>\n",
       "    <tr>\n",
       "      <th>53107</th>\n",
       "      <td>5</td>\n",
       "      <td>829007</td>\n",
       "      <td>NaN</td>\n",
       "      <td>G.A.T</td>\n",
       "    </tr>\n",
       "    <tr>\n",
       "      <th>56961</th>\n",
       "      <td>5</td>\n",
       "      <td>1505348</td>\n",
       "      <td>CNE05380</td>\n",
       "      <td>G.A</td>\n",
       "    </tr>\n",
       "    <tr>\n",
       "      <th>65777</th>\n",
       "      <td>6</td>\n",
       "      <td>1437085</td>\n",
       "      <td>CNF04940</td>\n",
       "      <td>ATTTTTTCG.ATTTTTCG</td>\n",
       "    </tr>\n",
       "    <tr>\n",
       "      <th>65780</th>\n",
       "      <td>6</td>\n",
       "      <td>1437350</td>\n",
       "      <td>CNF04940</td>\n",
       "      <td>C.T</td>\n",
       "    </tr>\n",
       "    <tr>\n",
       "      <th>65782</th>\n",
       "      <td>6</td>\n",
       "      <td>1437389</td>\n",
       "      <td>CNF04940</td>\n",
       "      <td>C.A</td>\n",
       "    </tr>\n",
       "    <tr>\n",
       "      <th>65799</th>\n",
       "      <td>6</td>\n",
       "      <td>1438250</td>\n",
       "      <td>CNF04940</td>\n",
       "      <td>C.T</td>\n",
       "    </tr>\n",
       "    <tr>\n",
       "      <th>65800</th>\n",
       "      <td>6</td>\n",
       "      <td>1438370</td>\n",
       "      <td>CNF04940</td>\n",
       "      <td>CGCT.CGCC</td>\n",
       "    </tr>\n",
       "    <tr>\n",
       "      <th>65907</th>\n",
       "      <td>7</td>\n",
       "      <td>15255</td>\n",
       "      <td>NaN</td>\n",
       "      <td>A.G</td>\n",
       "    </tr>\n",
       "    <tr>\n",
       "      <th>70899</th>\n",
       "      <td>7</td>\n",
       "      <td>902053</td>\n",
       "      <td>NaN</td>\n",
       "      <td>ATTCA.GTTTG.GTTCG</td>\n",
       "    </tr>\n",
       "    <tr>\n",
       "      <th>77847</th>\n",
       "      <td>8</td>\n",
       "      <td>735136</td>\n",
       "      <td>CNH01480</td>\n",
       "      <td>G.A</td>\n",
       "    </tr>\n",
       "    <tr>\n",
       "      <th>80499</th>\n",
       "      <td>9</td>\n",
       "      <td>3220</td>\n",
       "      <td>NaN</td>\n",
       "      <td>T.C</td>\n",
       "    </tr>\n",
       "    <tr>\n",
       "      <th>80500</th>\n",
       "      <td>9</td>\n",
       "      <td>3237</td>\n",
       "      <td>NaN</td>\n",
       "      <td>C.T</td>\n",
       "    </tr>\n",
       "    <tr>\n",
       "      <th>80501</th>\n",
       "      <td>9</td>\n",
       "      <td>3253</td>\n",
       "      <td>NaN</td>\n",
       "      <td>T.C</td>\n",
       "    </tr>\n",
       "    <tr>\n",
       "      <th>80504</th>\n",
       "      <td>9</td>\n",
       "      <td>3298</td>\n",
       "      <td>NaN</td>\n",
       "      <td>G.A</td>\n",
       "    </tr>\n",
       "    <tr>\n",
       "      <th>80505</th>\n",
       "      <td>9</td>\n",
       "      <td>3303</td>\n",
       "      <td>NaN</td>\n",
       "      <td>A.G</td>\n",
       "    </tr>\n",
       "    <tr>\n",
       "      <th>91472</th>\n",
       "      <td>10</td>\n",
       "      <td>812981</td>\n",
       "      <td>NaN</td>\n",
       "      <td>TG.GA.GG</td>\n",
       "    </tr>\n",
       "    <tr>\n",
       "      <th>94652</th>\n",
       "      <td>11</td>\n",
       "      <td>176756</td>\n",
       "      <td>NaN</td>\n",
       "      <td>T.C</td>\n",
       "    </tr>\n",
       "    <tr>\n",
       "      <th>94654</th>\n",
       "      <td>11</td>\n",
       "      <td>176804</td>\n",
       "      <td>NaN</td>\n",
       "      <td>CA.TG</td>\n",
       "    </tr>\n",
       "    <tr>\n",
       "      <th>100309</th>\n",
       "      <td>12</td>\n",
       "      <td>113367</td>\n",
       "      <td>CNL04090</td>\n",
       "      <td>G.A.T</td>\n",
       "    </tr>\n",
       "    <tr>\n",
       "      <th>106573</th>\n",
       "      <td>13</td>\n",
       "      <td>256281</td>\n",
       "      <td>CNM00880</td>\n",
       "      <td>ACGAAAGAC.GCGAAAAGAC</td>\n",
       "    </tr>\n",
       "    <tr>\n",
       "      <th>106574</th>\n",
       "      <td>13</td>\n",
       "      <td>256305</td>\n",
       "      <td>CNM00880</td>\n",
       "      <td>G.A</td>\n",
       "    </tr>\n",
       "  </tbody>\n",
       "</table>\n",
       "</div>"
      ],
      "text/plain": [
       "        Chrom      Pos      Gene               Alleles\n",
       "27          1     3186       NaN                   A.G\n",
       "2897        1   461149       NaN                   G.C\n",
       "12626       1  2149461       NaN                   C.T\n",
       "12627       1  2149470       NaN                   A.G\n",
       "16190       2   428582       NaN                   A.T\n",
       "16191       2   428592       NaN             CAG.CATAG\n",
       "16192       2   428598       NaN                   T.C\n",
       "16193       2   428603       NaN                   G.A\n",
       "16208       2   429078       NaN         GCATTT.ACGTTA\n",
       "30702       3  1352772       NaN                   A.G\n",
       "37561       4   261340  CND00840                   G.A\n",
       "37562       4   261350  CND00840                   A.G\n",
       "46872       4  1630777       NaN                   T.C\n",
       "53107       5   829007       NaN                 G.A.T\n",
       "56961       5  1505348  CNE05380                   G.A\n",
       "65777       6  1437085  CNF04940    ATTTTTTCG.ATTTTTCG\n",
       "65780       6  1437350  CNF04940                   C.T\n",
       "65782       6  1437389  CNF04940                   C.A\n",
       "65799       6  1438250  CNF04940                   C.T\n",
       "65800       6  1438370  CNF04940             CGCT.CGCC\n",
       "65907       7    15255       NaN                   A.G\n",
       "70899       7   902053       NaN     ATTCA.GTTTG.GTTCG\n",
       "77847       8   735136  CNH01480                   G.A\n",
       "80499       9     3220       NaN                   T.C\n",
       "80500       9     3237       NaN                   C.T\n",
       "80501       9     3253       NaN                   T.C\n",
       "80504       9     3298       NaN                   G.A\n",
       "80505       9     3303       NaN                   A.G\n",
       "91472      10   812981       NaN              TG.GA.GG\n",
       "94652      11   176756       NaN                   T.C\n",
       "94654      11   176804       NaN                 CA.TG\n",
       "100309     12   113367  CNL04090                 G.A.T\n",
       "106573     13   256281  CNM00880  ACGAAAGAC.GCGAAAAGAC\n",
       "106574     13   256305  CNM00880                   G.A"
      ]
     },
     "execution_count": 38,
     "metadata": {},
     "output_type": "execute_result"
    }
   ],
   "source": [
    "## Sum the progeny genotypes\n",
    "## We are looking for sites not equal to B3502 (ie 1)\n",
    "## So sites with a sum of zero here in the four\n",
    "## self-filamentous progeny are candidate repressor sites\n",
    "vardf['B1_SF_progeny_sum'] = geno.loc[vardf.index,b1_filamentation].T.sum()\n",
    "vardf[(vardf.B1_SF_progeny_sum==0)][['Chrom','Pos','Gene','Alleles']]"
   ]
  },
  {
   "cell_type": "code",
   "execution_count": 40,
   "metadata": {},
   "outputs": [
    {
     "data": {
      "text/plain": [
       "8"
      ]
     },
     "execution_count": 40,
     "metadata": {},
     "output_type": "execute_result"
    }
   ],
   "source": [
    "## Gather B3502_progeny who are non-yeast growth\n",
    "b1_non_yeast= pheno[(pheno.Parent=='B1') & \n",
    "                         (pheno.Phenotype!='N')\n",
    "                        ].Strain.tolist()\n",
    "\n",
    "## How many are there of these?\n",
    "len(b1_non_yeast)"
   ]
  },
  {
   "cell_type": "code",
   "execution_count": 41,
   "metadata": {},
   "outputs": [
    {
     "data": {
      "text/html": [
       "<div>\n",
       "<style scoped>\n",
       "    .dataframe tbody tr th:only-of-type {\n",
       "        vertical-align: middle;\n",
       "    }\n",
       "\n",
       "    .dataframe tbody tr th {\n",
       "        vertical-align: top;\n",
       "    }\n",
       "\n",
       "    .dataframe thead th {\n",
       "        text-align: right;\n",
       "    }\n",
       "</style>\n",
       "<table border=\"1\" class=\"dataframe\">\n",
       "  <thead>\n",
       "    <tr style=\"text-align: right;\">\n",
       "      <th></th>\n",
       "      <th>Chrom</th>\n",
       "      <th>Pos</th>\n",
       "      <th>Gene</th>\n",
       "      <th>Alleles</th>\n",
       "    </tr>\n",
       "  </thead>\n",
       "  <tbody>\n",
       "    <tr>\n",
       "      <th>27</th>\n",
       "      <td>1</td>\n",
       "      <td>3186</td>\n",
       "      <td>NaN</td>\n",
       "      <td>A.G</td>\n",
       "    </tr>\n",
       "    <tr>\n",
       "      <th>12626</th>\n",
       "      <td>1</td>\n",
       "      <td>2149461</td>\n",
       "      <td>NaN</td>\n",
       "      <td>C.T</td>\n",
       "    </tr>\n",
       "    <tr>\n",
       "      <th>12627</th>\n",
       "      <td>1</td>\n",
       "      <td>2149470</td>\n",
       "      <td>NaN</td>\n",
       "      <td>A.G</td>\n",
       "    </tr>\n",
       "    <tr>\n",
       "      <th>16190</th>\n",
       "      <td>2</td>\n",
       "      <td>428582</td>\n",
       "      <td>NaN</td>\n",
       "      <td>A.T</td>\n",
       "    </tr>\n",
       "    <tr>\n",
       "      <th>16208</th>\n",
       "      <td>2</td>\n",
       "      <td>429078</td>\n",
       "      <td>NaN</td>\n",
       "      <td>GCATTT.ACGTTA</td>\n",
       "    </tr>\n",
       "    <tr>\n",
       "      <th>30702</th>\n",
       "      <td>3</td>\n",
       "      <td>1352772</td>\n",
       "      <td>NaN</td>\n",
       "      <td>A.G</td>\n",
       "    </tr>\n",
       "    <tr>\n",
       "      <th>37561</th>\n",
       "      <td>4</td>\n",
       "      <td>261340</td>\n",
       "      <td>CND00840</td>\n",
       "      <td>G.A</td>\n",
       "    </tr>\n",
       "    <tr>\n",
       "      <th>37562</th>\n",
       "      <td>4</td>\n",
       "      <td>261350</td>\n",
       "      <td>CND00840</td>\n",
       "      <td>A.G</td>\n",
       "    </tr>\n",
       "    <tr>\n",
       "      <th>46872</th>\n",
       "      <td>4</td>\n",
       "      <td>1630777</td>\n",
       "      <td>NaN</td>\n",
       "      <td>T.C</td>\n",
       "    </tr>\n",
       "    <tr>\n",
       "      <th>53107</th>\n",
       "      <td>5</td>\n",
       "      <td>829007</td>\n",
       "      <td>NaN</td>\n",
       "      <td>G.A.T</td>\n",
       "    </tr>\n",
       "    <tr>\n",
       "      <th>56961</th>\n",
       "      <td>5</td>\n",
       "      <td>1505348</td>\n",
       "      <td>CNE05380</td>\n",
       "      <td>G.A</td>\n",
       "    </tr>\n",
       "    <tr>\n",
       "      <th>70899</th>\n",
       "      <td>7</td>\n",
       "      <td>902053</td>\n",
       "      <td>NaN</td>\n",
       "      <td>ATTCA.GTTTG.GTTCG</td>\n",
       "    </tr>\n",
       "    <tr>\n",
       "      <th>77847</th>\n",
       "      <td>8</td>\n",
       "      <td>735136</td>\n",
       "      <td>CNH01480</td>\n",
       "      <td>G.A</td>\n",
       "    </tr>\n",
       "    <tr>\n",
       "      <th>80499</th>\n",
       "      <td>9</td>\n",
       "      <td>3220</td>\n",
       "      <td>NaN</td>\n",
       "      <td>T.C</td>\n",
       "    </tr>\n",
       "    <tr>\n",
       "      <th>80500</th>\n",
       "      <td>9</td>\n",
       "      <td>3237</td>\n",
       "      <td>NaN</td>\n",
       "      <td>C.T</td>\n",
       "    </tr>\n",
       "    <tr>\n",
       "      <th>80501</th>\n",
       "      <td>9</td>\n",
       "      <td>3253</td>\n",
       "      <td>NaN</td>\n",
       "      <td>T.C</td>\n",
       "    </tr>\n",
       "    <tr>\n",
       "      <th>80504</th>\n",
       "      <td>9</td>\n",
       "      <td>3298</td>\n",
       "      <td>NaN</td>\n",
       "      <td>G.A</td>\n",
       "    </tr>\n",
       "    <tr>\n",
       "      <th>80505</th>\n",
       "      <td>9</td>\n",
       "      <td>3303</td>\n",
       "      <td>NaN</td>\n",
       "      <td>A.G</td>\n",
       "    </tr>\n",
       "    <tr>\n",
       "      <th>91472</th>\n",
       "      <td>10</td>\n",
       "      <td>812981</td>\n",
       "      <td>NaN</td>\n",
       "      <td>TG.GA.GG</td>\n",
       "    </tr>\n",
       "    <tr>\n",
       "      <th>94652</th>\n",
       "      <td>11</td>\n",
       "      <td>176756</td>\n",
       "      <td>NaN</td>\n",
       "      <td>T.C</td>\n",
       "    </tr>\n",
       "    <tr>\n",
       "      <th>94654</th>\n",
       "      <td>11</td>\n",
       "      <td>176804</td>\n",
       "      <td>NaN</td>\n",
       "      <td>CA.TG</td>\n",
       "    </tr>\n",
       "    <tr>\n",
       "      <th>100309</th>\n",
       "      <td>12</td>\n",
       "      <td>113367</td>\n",
       "      <td>CNL04090</td>\n",
       "      <td>G.A.T</td>\n",
       "    </tr>\n",
       "    <tr>\n",
       "      <th>106573</th>\n",
       "      <td>13</td>\n",
       "      <td>256281</td>\n",
       "      <td>CNM00880</td>\n",
       "      <td>ACGAAAGAC.GCGAAAAGAC</td>\n",
       "    </tr>\n",
       "    <tr>\n",
       "      <th>106574</th>\n",
       "      <td>13</td>\n",
       "      <td>256305</td>\n",
       "      <td>CNM00880</td>\n",
       "      <td>G.A</td>\n",
       "    </tr>\n",
       "  </tbody>\n",
       "</table>\n",
       "</div>"
      ],
      "text/plain": [
       "        Chrom      Pos      Gene               Alleles\n",
       "27          1     3186       NaN                   A.G\n",
       "12626       1  2149461       NaN                   C.T\n",
       "12627       1  2149470       NaN                   A.G\n",
       "16190       2   428582       NaN                   A.T\n",
       "16208       2   429078       NaN         GCATTT.ACGTTA\n",
       "30702       3  1352772       NaN                   A.G\n",
       "37561       4   261340  CND00840                   G.A\n",
       "37562       4   261350  CND00840                   A.G\n",
       "46872       4  1630777       NaN                   T.C\n",
       "53107       5   829007       NaN                 G.A.T\n",
       "56961       5  1505348  CNE05380                   G.A\n",
       "70899       7   902053       NaN     ATTCA.GTTTG.GTTCG\n",
       "77847       8   735136  CNH01480                   G.A\n",
       "80499       9     3220       NaN                   T.C\n",
       "80500       9     3237       NaN                   C.T\n",
       "80501       9     3253       NaN                   T.C\n",
       "80504       9     3298       NaN                   G.A\n",
       "80505       9     3303       NaN                   A.G\n",
       "91472      10   812981       NaN              TG.GA.GG\n",
       "94652      11   176756       NaN                   T.C\n",
       "94654      11   176804       NaN                 CA.TG\n",
       "100309     12   113367  CNL04090                 G.A.T\n",
       "106573     13   256281  CNM00880  ACGAAAGAC.GCGAAAAGAC\n",
       "106574     13   256305  CNM00880                   G.A"
      ]
     },
     "execution_count": 41,
     "metadata": {},
     "output_type": "execute_result"
    }
   ],
   "source": [
    "## Sum the progeny genotypes\n",
    "## We are looking for sites not equal to B3502_B1 (ie 1)\n",
    "## So sites with a sum of zero here in the four\n",
    "## non-yeast progeny are candidate repressor sites\n",
    "vardf['B1_NY_progeny_sum'] = geno.loc[vardf.index,b1_non_yeast].T.sum()\n",
    "vardf[(vardf.B1_NY_progeny_sum==0)][['Chrom','Pos','Gene','Alleles']]"
   ]
  },
  {
   "cell_type": "code",
   "execution_count": 44,
   "metadata": {},
   "outputs": [
    {
     "data": {
      "text/plain": [
       "15"
      ]
     },
     "execution_count": 44,
     "metadata": {},
     "output_type": "execute_result"
    }
   ],
   "source": [
    "## Gather all progeny that show filamentous growth\n",
    "## regardlest of parent\n",
    "filam_prog = pheno[(pheno.Phenotype=='Y')\n",
    "                    ].Strain.tolist()\n",
    "\n",
    "## How many are there of these?\n",
    "len(filam_prog)"
   ]
  },
  {
   "cell_type": "code",
   "execution_count": 45,
   "metadata": {},
   "outputs": [
    {
     "data": {
      "text/html": [
       "<div>\n",
       "<style scoped>\n",
       "    .dataframe tbody tr th:only-of-type {\n",
       "        vertical-align: middle;\n",
       "    }\n",
       "\n",
       "    .dataframe tbody tr th {\n",
       "        vertical-align: top;\n",
       "    }\n",
       "\n",
       "    .dataframe thead th {\n",
       "        text-align: right;\n",
       "    }\n",
       "</style>\n",
       "<table border=\"1\" class=\"dataframe\">\n",
       "  <thead>\n",
       "    <tr style=\"text-align: right;\">\n",
       "      <th></th>\n",
       "      <th>Chrom</th>\n",
       "      <th>Pos</th>\n",
       "      <th>Gene</th>\n",
       "      <th>Alleles</th>\n",
       "    </tr>\n",
       "  </thead>\n",
       "  <tbody>\n",
       "    <tr>\n",
       "      <th>27</th>\n",
       "      <td>1</td>\n",
       "      <td>3186</td>\n",
       "      <td>NaN</td>\n",
       "      <td>A.G</td>\n",
       "    </tr>\n",
       "    <tr>\n",
       "      <th>2897</th>\n",
       "      <td>1</td>\n",
       "      <td>461149</td>\n",
       "      <td>NaN</td>\n",
       "      <td>G.C</td>\n",
       "    </tr>\n",
       "    <tr>\n",
       "      <th>12626</th>\n",
       "      <td>1</td>\n",
       "      <td>2149461</td>\n",
       "      <td>NaN</td>\n",
       "      <td>C.T</td>\n",
       "    </tr>\n",
       "    <tr>\n",
       "      <th>12627</th>\n",
       "      <td>1</td>\n",
       "      <td>2149470</td>\n",
       "      <td>NaN</td>\n",
       "      <td>A.G</td>\n",
       "    </tr>\n",
       "    <tr>\n",
       "      <th>16208</th>\n",
       "      <td>2</td>\n",
       "      <td>429078</td>\n",
       "      <td>NaN</td>\n",
       "      <td>GCATTT.ACGTTA</td>\n",
       "    </tr>\n",
       "    <tr>\n",
       "      <th>30702</th>\n",
       "      <td>3</td>\n",
       "      <td>1352772</td>\n",
       "      <td>NaN</td>\n",
       "      <td>A.G</td>\n",
       "    </tr>\n",
       "    <tr>\n",
       "      <th>56961</th>\n",
       "      <td>5</td>\n",
       "      <td>1505348</td>\n",
       "      <td>CNE05380</td>\n",
       "      <td>G.A</td>\n",
       "    </tr>\n",
       "    <tr>\n",
       "      <th>65777</th>\n",
       "      <td>6</td>\n",
       "      <td>1437085</td>\n",
       "      <td>CNF04940</td>\n",
       "      <td>ATTTTTTCG.ATTTTTCG</td>\n",
       "    </tr>\n",
       "    <tr>\n",
       "      <th>65780</th>\n",
       "      <td>6</td>\n",
       "      <td>1437350</td>\n",
       "      <td>CNF04940</td>\n",
       "      <td>C.T</td>\n",
       "    </tr>\n",
       "    <tr>\n",
       "      <th>65782</th>\n",
       "      <td>6</td>\n",
       "      <td>1437389</td>\n",
       "      <td>CNF04940</td>\n",
       "      <td>C.A</td>\n",
       "    </tr>\n",
       "    <tr>\n",
       "      <th>65799</th>\n",
       "      <td>6</td>\n",
       "      <td>1438250</td>\n",
       "      <td>CNF04940</td>\n",
       "      <td>C.T</td>\n",
       "    </tr>\n",
       "    <tr>\n",
       "      <th>65800</th>\n",
       "      <td>6</td>\n",
       "      <td>1438370</td>\n",
       "      <td>CNF04940</td>\n",
       "      <td>CGCT.CGCC</td>\n",
       "    </tr>\n",
       "    <tr>\n",
       "      <th>70899</th>\n",
       "      <td>7</td>\n",
       "      <td>902053</td>\n",
       "      <td>NaN</td>\n",
       "      <td>ATTCA.GTTTG.GTTCG</td>\n",
       "    </tr>\n",
       "    <tr>\n",
       "      <th>91472</th>\n",
       "      <td>10</td>\n",
       "      <td>812981</td>\n",
       "      <td>NaN</td>\n",
       "      <td>TG.GA.GG</td>\n",
       "    </tr>\n",
       "    <tr>\n",
       "      <th>94652</th>\n",
       "      <td>11</td>\n",
       "      <td>176756</td>\n",
       "      <td>NaN</td>\n",
       "      <td>T.C</td>\n",
       "    </tr>\n",
       "    <tr>\n",
       "      <th>94654</th>\n",
       "      <td>11</td>\n",
       "      <td>176804</td>\n",
       "      <td>NaN</td>\n",
       "      <td>CA.TG</td>\n",
       "    </tr>\n",
       "    <tr>\n",
       "      <th>100309</th>\n",
       "      <td>12</td>\n",
       "      <td>113367</td>\n",
       "      <td>CNL04090</td>\n",
       "      <td>G.A.T</td>\n",
       "    </tr>\n",
       "    <tr>\n",
       "      <th>106573</th>\n",
       "      <td>13</td>\n",
       "      <td>256281</td>\n",
       "      <td>CNM00880</td>\n",
       "      <td>ACGAAAGAC.GCGAAAAGAC</td>\n",
       "    </tr>\n",
       "    <tr>\n",
       "      <th>106574</th>\n",
       "      <td>13</td>\n",
       "      <td>256305</td>\n",
       "      <td>CNM00880</td>\n",
       "      <td>G.A</td>\n",
       "    </tr>\n",
       "  </tbody>\n",
       "</table>\n",
       "</div>"
      ],
      "text/plain": [
       "        Chrom      Pos      Gene               Alleles\n",
       "27          1     3186       NaN                   A.G\n",
       "2897        1   461149       NaN                   G.C\n",
       "12626       1  2149461       NaN                   C.T\n",
       "12627       1  2149470       NaN                   A.G\n",
       "16208       2   429078       NaN         GCATTT.ACGTTA\n",
       "30702       3  1352772       NaN                   A.G\n",
       "56961       5  1505348  CNE05380                   G.A\n",
       "65777       6  1437085  CNF04940    ATTTTTTCG.ATTTTTCG\n",
       "65780       6  1437350  CNF04940                   C.T\n",
       "65782       6  1437389  CNF04940                   C.A\n",
       "65799       6  1438250  CNF04940                   C.T\n",
       "65800       6  1438370  CNF04940             CGCT.CGCC\n",
       "70899       7   902053       NaN     ATTCA.GTTTG.GTTCG\n",
       "91472      10   812981       NaN              TG.GA.GG\n",
       "94652      11   176756       NaN                   T.C\n",
       "94654      11   176804       NaN                 CA.TG\n",
       "100309     12   113367  CNL04090                 G.A.T\n",
       "106573     13   256281  CNM00880  ACGAAAGAC.GCGAAAAGAC\n",
       "106574     13   256305  CNM00880                   G.A"
      ]
     },
     "execution_count": 45,
     "metadata": {},
     "output_type": "execute_result"
    }
   ],
   "source": [
    "## Sum the progeny genotypes\n",
    "## We are looking for sites not equal to B3502_B1 (ie 1)\n",
    "## So sites with a sum of zero here in all of the\n",
    "## filamentous progeny are candidate repressor sites\n",
    "vardf['Progeny_sum'] = geno.loc[vardf.index,filam_prog].T.sum()\n",
    "vardf[(vardf.Progeny_sum==0)][['Chrom','Pos','Gene','Alleles']]"
   ]
  },
  {
   "cell_type": "code",
   "execution_count": 46,
   "metadata": {},
   "outputs": [],
   "source": [
    "## Analysis of clones\n",
    "## Here we are searching for valid variants that seperate the clones"
   ]
  },
  {
   "cell_type": "code",
   "execution_count": 48,
   "metadata": {},
   "outputs": [
    {
     "data": {
      "text/html": [
       "<div>\n",
       "<style scoped>\n",
       "    .dataframe tbody tr th:only-of-type {\n",
       "        vertical-align: middle;\n",
       "    }\n",
       "\n",
       "    .dataframe tbody tr th {\n",
       "        vertical-align: top;\n",
       "    }\n",
       "\n",
       "    .dataframe thead th {\n",
       "        text-align: right;\n",
       "    }\n",
       "</style>\n",
       "<table border=\"1\" class=\"dataframe\">\n",
       "  <thead>\n",
       "    <tr style=\"text-align: right;\">\n",
       "      <th></th>\n",
       "      <th>Strain</th>\n",
       "      <th>Phenotype</th>\n",
       "      <th>Parent</th>\n",
       "      <th>Basidium</th>\n",
       "    </tr>\n",
       "  </thead>\n",
       "  <tbody>\n",
       "    <tr>\n",
       "      <th>23</th>\n",
       "      <td>A24</td>\n",
       "      <td>Y</td>\n",
       "      <td>B1</td>\n",
       "      <td>4.0</td>\n",
       "    </tr>\n",
       "    <tr>\n",
       "      <th>26</th>\n",
       "      <td>A27</td>\n",
       "      <td>T</td>\n",
       "      <td>B1</td>\n",
       "      <td>4.0</td>\n",
       "    </tr>\n",
       "  </tbody>\n",
       "</table>\n",
       "</div>"
      ],
      "text/plain": [
       "   Strain Phenotype Parent  Basidium\n",
       "23    A24         Y     B1       4.0\n",
       "26    A27         T     B1       4.0"
      ]
     },
     "execution_count": 48,
     "metadata": {},
     "output_type": "execute_result"
    }
   ],
   "source": [
    "## Take a look at the first set of clones\n",
    "c1 = 'A27'\n",
    "c2 = 'A24'\n",
    "\n",
    "clones1 = [c1,c2]\n",
    "\n",
    "## Find candidate genomic sites that are \n",
    "## different between the clones\n",
    "clone1_dif_ix = geno[(geno[c1] != geno[c2])][clones1].dropna().index\n",
    "\n",
    "## Filter on covX\n",
    "clone_covx_f = 8\n",
    "clone1_depth_ix = depth[(depth[clones1].T.min() > clone_covx_f) & \n",
    "                        (depth.index.isin(clone1_dif_ix))].index\n",
    "\n",
    "## Filter ratios\n",
    "clone_ratio_f = .6\n",
    "clone1_ratio_ix = ratio[(ratio[clones1].T.min() >= clone_ratio_f) & \n",
    "                        (ratio.index.isin(clone1_depth_ix))][clones1].index\n",
    "\n",
    "pheno[(pheno.Strain.isin(clones1))]"
   ]
  },
  {
   "cell_type": "code",
   "execution_count": 49,
   "metadata": {},
   "outputs": [
    {
     "data": {
      "text/html": [
       "<div>\n",
       "<style scoped>\n",
       "    .dataframe tbody tr th:only-of-type {\n",
       "        vertical-align: middle;\n",
       "    }\n",
       "\n",
       "    .dataframe tbody tr th {\n",
       "        vertical-align: top;\n",
       "    }\n",
       "\n",
       "    .dataframe thead th {\n",
       "        text-align: right;\n",
       "    }\n",
       "</style>\n",
       "<table border=\"1\" class=\"dataframe\">\n",
       "  <thead>\n",
       "    <tr style=\"text-align: right;\">\n",
       "      <th></th>\n",
       "      <th>A27</th>\n",
       "      <th>A24</th>\n",
       "      <th>B3502_B1</th>\n",
       "    </tr>\n",
       "  </thead>\n",
       "  <tbody>\n",
       "    <tr>\n",
       "      <th>52992</th>\n",
       "      <td>1.0</td>\n",
       "      <td>0.0</td>\n",
       "      <td>0.0</td>\n",
       "    </tr>\n",
       "    <tr>\n",
       "      <th>93324</th>\n",
       "      <td>0.0</td>\n",
       "      <td>1.0</td>\n",
       "      <td>1.0</td>\n",
       "    </tr>\n",
       "  </tbody>\n",
       "</table>\n",
       "</div>"
      ],
      "text/plain": [
       "       A27  A24  B3502_B1\n",
       "52992  1.0  0.0       0.0\n",
       "93324  0.0  1.0       1.0"
      ]
     },
     "execution_count": 49,
     "metadata": {},
     "output_type": "execute_result"
    }
   ],
   "source": [
    "## What are the genotypes at these sites in \n",
    "## these clones and their parent strain?\n",
    "geno.loc[clone1_ratio_ix,clones1+['B3502_B1']]"
   ]
  },
  {
   "cell_type": "code",
   "execution_count": 50,
   "metadata": {},
   "outputs": [
    {
     "data": {
      "text/html": [
       "<div>\n",
       "<style scoped>\n",
       "    .dataframe tbody tr th:only-of-type {\n",
       "        vertical-align: middle;\n",
       "    }\n",
       "\n",
       "    .dataframe tbody tr th {\n",
       "        vertical-align: top;\n",
       "    }\n",
       "\n",
       "    .dataframe thead th {\n",
       "        text-align: right;\n",
       "    }\n",
       "</style>\n",
       "<table border=\"1\" class=\"dataframe\">\n",
       "  <thead>\n",
       "    <tr style=\"text-align: right;\">\n",
       "      <th></th>\n",
       "      <th>Seqid</th>\n",
       "      <th>Pos</th>\n",
       "      <th>Qual</th>\n",
       "      <th>Nalleles</th>\n",
       "      <th>Alleles</th>\n",
       "      <th>Maxlen</th>\n",
       "      <th>Minlen</th>\n",
       "      <th>Type</th>\n",
       "      <th>Callrate</th>\n",
       "      <th>MAF</th>\n",
       "      <th>Chrom</th>\n",
       "      <th>Oldix</th>\n",
       "    </tr>\n",
       "  </thead>\n",
       "  <tbody>\n",
       "    <tr>\n",
       "      <th>52992</th>\n",
       "      <td>AE017345.1</td>\n",
       "      <td>800527</td>\n",
       "      <td>27.4969</td>\n",
       "      <td>1</td>\n",
       "      <td>A.G</td>\n",
       "      <td>1</td>\n",
       "      <td>1</td>\n",
       "      <td>SNP</td>\n",
       "      <td>1.000000</td>\n",
       "      <td>0.847059</td>\n",
       "      <td>5</td>\n",
       "      <td>24909</td>\n",
       "    </tr>\n",
       "    <tr>\n",
       "      <th>93324</th>\n",
       "      <td>AE017350.1</td>\n",
       "      <td>1082725</td>\n",
       "      <td>232.0190</td>\n",
       "      <td>1</td>\n",
       "      <td>GATT.AATT</td>\n",
       "      <td>4</td>\n",
       "      <td>4</td>\n",
       "      <td>MNP</td>\n",
       "      <td>0.988235</td>\n",
       "      <td>0.517647</td>\n",
       "      <td>10</td>\n",
       "      <td>33491</td>\n",
       "    </tr>\n",
       "  </tbody>\n",
       "</table>\n",
       "</div>"
      ],
      "text/plain": [
       "            Seqid      Pos      Qual  Nalleles    Alleles  Maxlen  Minlen  \\\n",
       "52992  AE017345.1   800527   27.4969         1        A.G       1       1   \n",
       "93324  AE017350.1  1082725  232.0190         1  GATT.AATT       4       4   \n",
       "\n",
       "      Type  Callrate       MAF  Chrom  Oldix  \n",
       "52992  SNP  1.000000  0.847059      5  24909  \n",
       "93324  MNP  0.988235  0.517647     10  33491  "
      ]
     },
     "execution_count": 50,
     "metadata": {},
     "output_type": "execute_result"
    }
   ],
   "source": [
    "## Check out the info on these\n",
    "info.loc[clone1_ratio_ix]"
   ]
  },
  {
   "cell_type": "code",
   "execution_count": 51,
   "metadata": {},
   "outputs": [
    {
     "data": {
      "text/html": [
       "<div>\n",
       "<style scoped>\n",
       "    .dataframe tbody tr th:only-of-type {\n",
       "        vertical-align: middle;\n",
       "    }\n",
       "\n",
       "    .dataframe tbody tr th {\n",
       "        vertical-align: top;\n",
       "    }\n",
       "\n",
       "    .dataframe thead th {\n",
       "        text-align: right;\n",
       "    }\n",
       "</style>\n",
       "<table border=\"1\" class=\"dataframe\">\n",
       "  <thead>\n",
       "    <tr style=\"text-align: right;\">\n",
       "      <th></th>\n",
       "      <th>Strain</th>\n",
       "      <th>Phenotype</th>\n",
       "      <th>Parent</th>\n",
       "      <th>Basidium</th>\n",
       "    </tr>\n",
       "  </thead>\n",
       "  <tbody>\n",
       "    <tr>\n",
       "      <th>42</th>\n",
       "      <td>A43</td>\n",
       "      <td>T</td>\n",
       "      <td>B7</td>\n",
       "      <td>4.0</td>\n",
       "    </tr>\n",
       "    <tr>\n",
       "      <th>43</th>\n",
       "      <td>A44</td>\n",
       "      <td>Y</td>\n",
       "      <td>B7</td>\n",
       "      <td>4.0</td>\n",
       "    </tr>\n",
       "  </tbody>\n",
       "</table>\n",
       "</div>"
      ],
      "text/plain": [
       "   Strain Phenotype Parent  Basidium\n",
       "42    A43         T     B7       4.0\n",
       "43    A44         Y     B7       4.0"
      ]
     },
     "execution_count": 51,
     "metadata": {},
     "output_type": "execute_result"
    }
   ],
   "source": [
    "## Take a look at the first set of clones\n",
    "c3 = 'A44'\n",
    "c4 = 'A43'\n",
    "\n",
    "clones2 = [c3,c4]\n",
    "\n",
    "## Find candidate genomic sites that are \n",
    "## different between the clones\n",
    "clone2_dif_ix = geno[(geno[c3] != geno[c4])][clones2].dropna().index\n",
    "\n",
    "## Filter on covX\n",
    "clone_covx_f = 8\n",
    "clone2_depth_ix = depth[(depth[clones2].T.min() > clone_covx_f) & \n",
    "                        (depth.index.isin(clone2_dif_ix))].index\n",
    "\n",
    "## Filter ratios\n",
    "clone_ratio_f = .6\n",
    "clone2_ratio_ix = ratio[(ratio[clones2].T.min() >= clone_ratio_f) & \n",
    "                        (ratio.index.isin(clone2_depth_ix))].index\n",
    "\n",
    "pheno[(pheno.Strain.isin(clones2))]"
   ]
  },
  {
   "cell_type": "code",
   "execution_count": 52,
   "metadata": {},
   "outputs": [
    {
     "data": {
      "text/html": [
       "<div>\n",
       "<style scoped>\n",
       "    .dataframe tbody tr th:only-of-type {\n",
       "        vertical-align: middle;\n",
       "    }\n",
       "\n",
       "    .dataframe tbody tr th {\n",
       "        vertical-align: top;\n",
       "    }\n",
       "\n",
       "    .dataframe thead th {\n",
       "        text-align: right;\n",
       "    }\n",
       "</style>\n",
       "<table border=\"1\" class=\"dataframe\">\n",
       "  <thead>\n",
       "    <tr style=\"text-align: right;\">\n",
       "      <th></th>\n",
       "      <th>A44</th>\n",
       "      <th>A43</th>\n",
       "      <th>B3502_B7</th>\n",
       "    </tr>\n",
       "  </thead>\n",
       "  <tbody>\n",
       "    <tr>\n",
       "      <th>13714</th>\n",
       "      <td>0.0</td>\n",
       "      <td>1.0</td>\n",
       "      <td>NaN</td>\n",
       "    </tr>\n",
       "    <tr>\n",
       "      <th>18891</th>\n",
       "      <td>1.0</td>\n",
       "      <td>0.0</td>\n",
       "      <td>1.0</td>\n",
       "    </tr>\n",
       "    <tr>\n",
       "      <th>52990</th>\n",
       "      <td>1.0</td>\n",
       "      <td>0.0</td>\n",
       "      <td>0.0</td>\n",
       "    </tr>\n",
       "    <tr>\n",
       "      <th>77937</th>\n",
       "      <td>0.0</td>\n",
       "      <td>1.0</td>\n",
       "      <td>0.0</td>\n",
       "    </tr>\n",
       "  </tbody>\n",
       "</table>\n",
       "</div>"
      ],
      "text/plain": [
       "       A44  A43  B3502_B7\n",
       "13714  0.0  1.0       NaN\n",
       "18891  1.0  0.0       1.0\n",
       "52990  1.0  0.0       0.0\n",
       "77937  0.0  1.0       0.0"
      ]
     },
     "execution_count": 52,
     "metadata": {},
     "output_type": "execute_result"
    }
   ],
   "source": [
    "## What are the genotypes at these sites in \n",
    "## these clones and their parent strain?\n",
    "geno.loc[clone2_ratio_ix,clones2+['B3502_B7']]"
   ]
  },
  {
   "cell_type": "code",
   "execution_count": 53,
   "metadata": {},
   "outputs": [
    {
     "data": {
      "text/html": [
       "<div>\n",
       "<style scoped>\n",
       "    .dataframe tbody tr th:only-of-type {\n",
       "        vertical-align: middle;\n",
       "    }\n",
       "\n",
       "    .dataframe tbody tr th {\n",
       "        vertical-align: top;\n",
       "    }\n",
       "\n",
       "    .dataframe thead th {\n",
       "        text-align: right;\n",
       "    }\n",
       "</style>\n",
       "<table border=\"1\" class=\"dataframe\">\n",
       "  <thead>\n",
       "    <tr style=\"text-align: right;\">\n",
       "      <th></th>\n",
       "      <th>A44</th>\n",
       "      <th>A43</th>\n",
       "    </tr>\n",
       "  </thead>\n",
       "  <tbody>\n",
       "    <tr>\n",
       "      <th>52992</th>\n",
       "      <td>0.0</td>\n",
       "      <td>0.0</td>\n",
       "    </tr>\n",
       "    <tr>\n",
       "      <th>93324</th>\n",
       "      <td>0.0</td>\n",
       "      <td>0.0</td>\n",
       "    </tr>\n",
       "  </tbody>\n",
       "</table>\n",
       "</div>"
      ],
      "text/plain": [
       "       A44  A43\n",
       "52992  0.0  0.0\n",
       "93324  0.0  0.0"
      ]
     },
     "execution_count": 53,
     "metadata": {},
     "output_type": "execute_result"
    }
   ],
   "source": [
    "geno.loc[clone1_ratio_ix,clones2]"
   ]
  },
  {
   "cell_type": "code",
   "execution_count": 54,
   "metadata": {},
   "outputs": [
    {
     "data": {
      "text/plain": [
       "['A27', 'A24', 'A44', 'A43']"
      ]
     },
     "execution_count": 54,
     "metadata": {},
     "output_type": "execute_result"
    }
   ],
   "source": [
    "clones = clones1+clones2\n",
    "clones"
   ]
  },
  {
   "cell_type": "code",
   "execution_count": 55,
   "metadata": {},
   "outputs": [],
   "source": [
    "## Find genotypes with similar patters of \n",
    "## inheritance across clones\n",
    "clones_dif_ix = geno[(geno[c1]!=geno[c2]) & \n",
    "                     (geno[c3]!=geno[c4]) & \n",
    "                     (geno[c1]==geno[c3]) & \n",
    "                     (geno[c2]==geno[c4])\n",
    "                    ][clones].dropna().index"
   ]
  },
  {
   "cell_type": "code",
   "execution_count": 56,
   "metadata": {},
   "outputs": [
    {
     "data": {
      "text/html": [
       "<div>\n",
       "<style scoped>\n",
       "    .dataframe tbody tr th:only-of-type {\n",
       "        vertical-align: middle;\n",
       "    }\n",
       "\n",
       "    .dataframe tbody tr th {\n",
       "        vertical-align: top;\n",
       "    }\n",
       "\n",
       "    .dataframe thead th {\n",
       "        text-align: right;\n",
       "    }\n",
       "</style>\n",
       "<table border=\"1\" class=\"dataframe\">\n",
       "  <thead>\n",
       "    <tr style=\"text-align: right;\">\n",
       "      <th></th>\n",
       "      <th>A27</th>\n",
       "      <th>A24</th>\n",
       "      <th>A44</th>\n",
       "      <th>A43</th>\n",
       "      <th>B3502_B1</th>\n",
       "      <th>B3502_B7</th>\n",
       "    </tr>\n",
       "  </thead>\n",
       "  <tbody>\n",
       "    <tr>\n",
       "      <th>7941</th>\n",
       "      <td>0.51</td>\n",
       "      <td>0.50</td>\n",
       "      <td>0.53</td>\n",
       "      <td>0.56</td>\n",
       "      <td>0.52</td>\n",
       "      <td>0.53</td>\n",
       "    </tr>\n",
       "    <tr>\n",
       "      <th>7959</th>\n",
       "      <td>0.55</td>\n",
       "      <td>0.50</td>\n",
       "      <td>0.51</td>\n",
       "      <td>0.52</td>\n",
       "      <td>0.54</td>\n",
       "      <td>0.58</td>\n",
       "    </tr>\n",
       "    <tr>\n",
       "      <th>53015</th>\n",
       "      <td>0.51</td>\n",
       "      <td>0.53</td>\n",
       "      <td>0.55</td>\n",
       "      <td>0.57</td>\n",
       "      <td>0.55</td>\n",
       "      <td>0.53</td>\n",
       "    </tr>\n",
       "    <tr>\n",
       "      <th>65817</th>\n",
       "      <td>0.50</td>\n",
       "      <td>0.83</td>\n",
       "      <td>0.50</td>\n",
       "      <td>1.00</td>\n",
       "      <td>1.00</td>\n",
       "      <td>0.60</td>\n",
       "    </tr>\n",
       "    <tr>\n",
       "      <th>87093</th>\n",
       "      <td>0.55</td>\n",
       "      <td>0.62</td>\n",
       "      <td>0.55</td>\n",
       "      <td>0.50</td>\n",
       "      <td>0.55</td>\n",
       "      <td>0.53</td>\n",
       "    </tr>\n",
       "  </tbody>\n",
       "</table>\n",
       "</div>"
      ],
      "text/plain": [
       "        A27   A24   A44   A43  B3502_B1  B3502_B7\n",
       "7941   0.51  0.50  0.53  0.56      0.52      0.53\n",
       "7959   0.55  0.50  0.51  0.52      0.54      0.58\n",
       "53015  0.51  0.53  0.55  0.57      0.55      0.53\n",
       "65817  0.50  0.83  0.50  1.00      1.00      0.60\n",
       "87093  0.55  0.62  0.55  0.50      0.55      0.53"
      ]
     },
     "execution_count": 56,
     "metadata": {},
     "output_type": "execute_result"
    }
   ],
   "source": [
    "ratio.loc[clones_dif_ix,clones+['B3502_B1','B3502_B7']]"
   ]
  },
  {
   "cell_type": "code",
   "execution_count": 57,
   "metadata": {},
   "outputs": [
    {
     "data": {
      "text/html": [
       "<div>\n",
       "<style scoped>\n",
       "    .dataframe tbody tr th:only-of-type {\n",
       "        vertical-align: middle;\n",
       "    }\n",
       "\n",
       "    .dataframe tbody tr th {\n",
       "        vertical-align: top;\n",
       "    }\n",
       "\n",
       "    .dataframe thead th {\n",
       "        text-align: right;\n",
       "    }\n",
       "</style>\n",
       "<table border=\"1\" class=\"dataframe\">\n",
       "  <thead>\n",
       "    <tr style=\"text-align: right;\">\n",
       "      <th></th>\n",
       "      <th>A27</th>\n",
       "      <th>A24</th>\n",
       "      <th>A44</th>\n",
       "      <th>A43</th>\n",
       "      <th>B3502_B1</th>\n",
       "      <th>B3502_B7</th>\n",
       "    </tr>\n",
       "  </thead>\n",
       "  <tbody>\n",
       "    <tr>\n",
       "      <th>7941</th>\n",
       "      <td>197.0</td>\n",
       "      <td>204.0</td>\n",
       "      <td>186.0</td>\n",
       "      <td>190.0</td>\n",
       "      <td>577.0</td>\n",
       "      <td>531.0</td>\n",
       "    </tr>\n",
       "    <tr>\n",
       "      <th>7959</th>\n",
       "      <td>150.0</td>\n",
       "      <td>253.0</td>\n",
       "      <td>197.0</td>\n",
       "      <td>233.0</td>\n",
       "      <td>546.0</td>\n",
       "      <td>407.0</td>\n",
       "    </tr>\n",
       "    <tr>\n",
       "      <th>53015</th>\n",
       "      <td>199.0</td>\n",
       "      <td>214.0</td>\n",
       "      <td>142.0</td>\n",
       "      <td>134.0</td>\n",
       "      <td>356.0</td>\n",
       "      <td>273.0</td>\n",
       "    </tr>\n",
       "    <tr>\n",
       "      <th>65817</th>\n",
       "      <td>6.0</td>\n",
       "      <td>6.0</td>\n",
       "      <td>2.0</td>\n",
       "      <td>6.0</td>\n",
       "      <td>3.0</td>\n",
       "      <td>5.0</td>\n",
       "    </tr>\n",
       "    <tr>\n",
       "      <th>87093</th>\n",
       "      <td>31.0</td>\n",
       "      <td>21.0</td>\n",
       "      <td>11.0</td>\n",
       "      <td>10.0</td>\n",
       "      <td>44.0</td>\n",
       "      <td>19.0</td>\n",
       "    </tr>\n",
       "  </tbody>\n",
       "</table>\n",
       "</div>"
      ],
      "text/plain": [
       "         A27    A24    A44    A43  B3502_B1  B3502_B7\n",
       "7941   197.0  204.0  186.0  190.0     577.0     531.0\n",
       "7959   150.0  253.0  197.0  233.0     546.0     407.0\n",
       "53015  199.0  214.0  142.0  134.0     356.0     273.0\n",
       "65817    6.0    6.0    2.0    6.0       3.0       5.0\n",
       "87093   31.0   21.0   11.0   10.0      44.0      19.0"
      ]
     },
     "execution_count": 57,
     "metadata": {},
     "output_type": "execute_result"
    }
   ],
   "source": [
    "depth.loc[clones_dif_ix,clones+['B3502_B1','B3502_B7']]"
   ]
  },
  {
   "cell_type": "code",
   "execution_count": 59,
   "metadata": {},
   "outputs": [
    {
     "data": {
      "text/html": [
       "<div>\n",
       "<style scoped>\n",
       "    .dataframe tbody tr th:only-of-type {\n",
       "        vertical-align: middle;\n",
       "    }\n",
       "\n",
       "    .dataframe tbody tr th {\n",
       "        vertical-align: top;\n",
       "    }\n",
       "\n",
       "    .dataframe thead th {\n",
       "        text-align: right;\n",
       "    }\n",
       "</style>\n",
       "<table border=\"1\" class=\"dataframe\">\n",
       "  <thead>\n",
       "    <tr style=\"text-align: right;\">\n",
       "      <th></th>\n",
       "      <th>A27</th>\n",
       "      <th>A24</th>\n",
       "      <th>A44</th>\n",
       "      <th>A43</th>\n",
       "      <th>B3502_B1</th>\n",
       "      <th>B3502_B7</th>\n",
       "    </tr>\n",
       "  </thead>\n",
       "  <tbody>\n",
       "    <tr>\n",
       "      <th>7941</th>\n",
       "      <td>2.0</td>\n",
       "      <td>1.0</td>\n",
       "      <td>2.0</td>\n",
       "      <td>1.0</td>\n",
       "      <td>2.0</td>\n",
       "      <td>1.0</td>\n",
       "    </tr>\n",
       "    <tr>\n",
       "      <th>7959</th>\n",
       "      <td>1.0</td>\n",
       "      <td>2.0</td>\n",
       "      <td>1.0</td>\n",
       "      <td>2.0</td>\n",
       "      <td>1.0</td>\n",
       "      <td>1.0</td>\n",
       "    </tr>\n",
       "    <tr>\n",
       "      <th>53015</th>\n",
       "      <td>1.0</td>\n",
       "      <td>0.0</td>\n",
       "      <td>1.0</td>\n",
       "      <td>0.0</td>\n",
       "      <td>1.0</td>\n",
       "      <td>1.0</td>\n",
       "    </tr>\n",
       "    <tr>\n",
       "      <th>65817</th>\n",
       "      <td>0.0</td>\n",
       "      <td>1.0</td>\n",
       "      <td>0.0</td>\n",
       "      <td>1.0</td>\n",
       "      <td>1.0</td>\n",
       "      <td>1.0</td>\n",
       "    </tr>\n",
       "    <tr>\n",
       "      <th>87093</th>\n",
       "      <td>0.0</td>\n",
       "      <td>2.0</td>\n",
       "      <td>0.0</td>\n",
       "      <td>2.0</td>\n",
       "      <td>0.0</td>\n",
       "      <td>0.0</td>\n",
       "    </tr>\n",
       "  </tbody>\n",
       "</table>\n",
       "</div>"
      ],
      "text/plain": [
       "       A27  A24  A44  A43  B3502_B1  B3502_B7\n",
       "7941   2.0  1.0  2.0  1.0       2.0       1.0\n",
       "7959   1.0  2.0  1.0  2.0       1.0       1.0\n",
       "53015  1.0  0.0  1.0  0.0       1.0       1.0\n",
       "65817  0.0  1.0  0.0  1.0       1.0       1.0\n",
       "87093  0.0  2.0  0.0  2.0       0.0       0.0"
      ]
     },
     "execution_count": 59,
     "metadata": {},
     "output_type": "execute_result"
    }
   ],
   "source": [
    "geno.loc[clones_dif_ix,clones+['B3502_B1','B3502_B7']]"
   ]
  },
  {
   "cell_type": "code",
   "execution_count": null,
   "metadata": {},
   "outputs": [],
   "source": [
    "\n",
    "\n",
    "\n",
    "\n",
    "\n",
    "## Load in chromosome map\n",
    "mappath = '/home/croth/Downloads/B3502/DATA/chrommap.csv.gz'\n",
    "chrommap = pd.read_csv(mappath)\n",
    "chrommap['Seqid'] = chrommap.Contig\n",
    "chrommap.drop('Contig',axis=1,inplace=True)\n",
    "\n",
    "\n",
    "\n",
    "## Merge dataframes\n",
    "chrommap['Chromosome'] = chrommap.index+1\n",
    "chrommap = chrommap.merge(centlocs)\n",
    "\n",
    "\n",
    "gff = gff.merge(chrommap)\n",
    "\n",
    "#stock_variants = pd.read_csv('/home/croth/Downloads/B3502/DATA/B3502_stocks_variants.csv',\n",
    "#                            index_col=0)\n",
    "#stock_variants.head()\n",
    "\n",
    "## Load in gene changes analysis \n",
    "## This was done on stocks of B3502, CF830, and JEC21\n",
    "gene_changes = pd.read_csv('../GENES/gene_changes.csv.gz')\n",
    "\n"
   ]
  },
  {
   "cell_type": "code",
   "execution_count": null,
   "metadata": {},
   "outputs": [],
   "source": [
    "pheno[(pheno.Parent=='B1')].shape"
   ]
  },
  {
   "cell_type": "code",
   "execution_count": null,
   "metadata": {},
   "outputs": [],
   "source": [
    "pheno[(pheno.Parent=='B1')]"
   ]
  },
  {
   "cell_type": "code",
   "execution_count": null,
   "metadata": {},
   "outputs": [],
   "source": []
  },
  {
   "cell_type": "code",
   "execution_count": null,
   "metadata": {},
   "outputs": [],
   "source": []
  },
  {
   "cell_type": "code",
   "execution_count": null,
   "metadata": {},
   "outputs": [],
   "source": []
  },
  {
   "cell_type": "code",
   "execution_count": null,
   "metadata": {},
   "outputs": [],
   "source": [
    "## Gather samples view last 5\n",
    "samples = sorted(geno.columns.tolist()[:-2])\n",
    "len(samples), samples[-5:]"
   ]
  },
  {
   "cell_type": "code",
   "execution_count": null,
   "metadata": {},
   "outputs": [],
   "source": [
    "## Set parents used in sequenced cross A1, B1, B7\n",
    "parents = ['B3502_%s'%a for a in ['A1','B1','B7']] + ['CF830','JEC21'] \n",
    "parents"
   ]
  },
  {
   "cell_type": "code",
   "execution_count": null,
   "metadata": {},
   "outputs": [],
   "source": [
    "## concatonate info with geno\n",
    "seggeno = geno.loc[:,~geno.columns.isin(['Chrom','Oldix'])]\n",
    "genodf = pd.concat([info,seggeno],axis=1)\n",
    "genodf.shape"
   ]
  },
  {
   "cell_type": "code",
   "execution_count": null,
   "metadata": {},
   "outputs": [],
   "source": [
    "## Find sites that are invariant across population.\n",
    "## IE gvs that are all JEC21 (reference genotype)\n",
    "parent_invar_0_ix = geno[(geno[parents].T.sum() == 0) | \n",
    "                         (geno[parents].T.var() == 0)].index.tolist()\n",
    "len(parent_invar_0_ix)"
   ]
  },
  {
   "cell_type": "code",
   "execution_count": null,
   "metadata": {},
   "outputs": [],
   "source": [
    "## Gather the variant sites\n",
    "vargeno_temp = genodf[~(genodf.index.isin(parent_invar_0_ix))]\n",
    "vargeno_temp.shape"
   ]
  },
  {
   "cell_type": "code",
   "execution_count": null,
   "metadata": {},
   "outputs": [],
   "source": [
    "vartest_ix = vargeno_temp[(vargeno_temp[parents].T.var()>0)\n",
    "                          ][parents].dropna().index"
   ]
  },
  {
   "cell_type": "code",
   "execution_count": null,
   "metadata": {},
   "outputs": [],
   "source": [
    "non_sf_parent = 'B3502_B1'\n",
    "other_parents = [p for p in parents ]"
   ]
  },
  {
   "cell_type": "markdown",
   "metadata": {},
   "source": [
    "## Gather indcies where at least one of the \n",
    "## B3502 stock parents is different from CF830\n",
    "var_ix = []\n",
    "for p in parents:\n",
    "    \n",
    "    pgeno = vargeno_temp[[p,parents[-1]]].diff(axis=1).dropna(axis=0,how='all')\n",
    "    dif_ix = pgeno[(pgeno[parents[-1]] != 0)].index\n",
    "    var_ix.append(dif_ix)\n",
    "    \n",
    "var_ix = np.unique(np.concatenate(var_ix))\n",
    "\n",
    "## Gather this variant genotype info check shape\n",
    "vargeno = vargeno_temp.loc[var_ix].dropna().copy()\n",
    "vargeno.shape"
   ]
  },
  {
   "cell_type": "code",
   "execution_count": null,
   "metadata": {},
   "outputs": [],
   "source": [
    "vargeno = vargeno_temp.loc[vartest_ix,:].copy()\n",
    "vargeno.shape"
   ]
  },
  {
   "cell_type": "code",
   "execution_count": null,
   "metadata": {},
   "outputs": [],
   "source": [
    "missing = [i for i in vargeno_temp.index if i not in vargeno.index]\n",
    "len(missing)"
   ]
  },
  {
   "cell_type": "code",
   "execution_count": null,
   "metadata": {},
   "outputs": [],
   "source": [
    "## Make parent and stock variant dataframes\n",
    "infocols = ['Seqid','Chrom','Oldix','Pos','Qual','Nallele','Alleles','Type']\n",
    "\n",
    "parents_gvs = vargeno[parents+['JEC21']+infocols].T.drop_duplicates().T.copy()\n",
    "\n",
    "parents_gvs['Avedepth'] = depth.loc[vargeno.index,parents+['JEC21']].T.mean()\n",
    "parents_gvs['Mindepth'] = depth.loc[vargeno.index,parents+['JEC21']].T.min()\n",
    "parents_gvs['Maxdepth'] = depth.loc[vargeno.index,parents+['JEC21']].T.max()\n",
    "\n",
    "parents_gvs['Averatio'] = ratio.loc[vargeno.index,parents+['JEC21']].T.mean()\n",
    "parents_gvs['Minratio'] = ratio.loc[vargeno.index,parents+['JEC21']].T.min()\n",
    "parents_gvs['Maxratio'] = ratio.loc[vargeno.index,parents+['JEC21']].T.max()\n",
    "\n",
    "parents_gvs.to_csv('../GENOTYPE/B3502_parent_variants.csv.gz',index=True)"
   ]
  },
  {
   "cell_type": "code",
   "execution_count": null,
   "metadata": {},
   "outputs": [],
   "source": [
    "casual = 1438418"
   ]
  },
  {
   "cell_type": "code",
   "execution_count": null,
   "metadata": {},
   "outputs": [],
   "source": [
    "candidate_ix = parents_gvs[(parents_gvs.Chrom==6) & \n",
    "                (parents_gvs.Pos.isin(\n",
    "                np.arange(1437068, 1438867,1)))].index"
   ]
  },
  {
   "cell_type": "code",
   "execution_count": null,
   "metadata": {},
   "outputs": [],
   "source": [
    "b1_p = pheno[(pheno[pheno.columns[3]]=='Y')].Progeny.tolist()\n",
    "\n",
    "b1_checks = b1_p+ ['B3502_B7','B3502_A1','B3502_B1']\n",
    "len(b1_checks),len(b1_p)"
   ]
  },
  {
   "cell_type": "code",
   "execution_count": null,
   "metadata": {},
   "outputs": [],
   "source": [
    "genodf.loc[candidate_ix,b1_checks+['CF830','Pos']]"
   ]
  },
  {
   "cell_type": "code",
   "execution_count": null,
   "metadata": {},
   "outputs": [],
   "source": []
  },
  {
   "cell_type": "code",
   "execution_count": null,
   "metadata": {},
   "outputs": [],
   "source": []
  },
  {
   "cell_type": "code",
   "execution_count": null,
   "metadata": {},
   "outputs": [],
   "source": [
    "repressor_candidate = 'CNF04940'\n",
    "rc_gff = gff[(gff.Gene==repressor_candidate)].copy()\n",
    "rc_gff.head()"
   ]
  },
  {
   "cell_type": "code",
   "execution_count": null,
   "metadata": {},
   "outputs": [],
   "source": [
    "fig,ax = plt.subplots(1,1,figsize=(8,3))\n",
    "\n",
    "plt.hlines(0,rc_gff.Start.min(),rc_gff.End.max(),color='grey',alpha=.7,linewidth=5);\n",
    "plt.hlines(0,rc_gff[(rc_gff.Type=='CDS')].Start.min(),\n",
    "           rc_gff[(rc_gff.Type=='CDS')].End.max(),color='grey',\n",
    "           linewidth=10,alpha=0.87);\n",
    "\n",
    "temp_pos = parents_gvs[(parents_gvs.Chrom==6) & \n",
    "                       (parents_gvs.Pos>1435000) & \n",
    "                       (parents_gvs.Pos<1500000)].Pos.values\n",
    "\n",
    "plt.plot(temp_pos,np.zeros(len(temp_pos)),'k.');\n"
   ]
  },
  {
   "cell_type": "code",
   "execution_count": null,
   "metadata": {},
   "outputs": [],
   "source": [
    " parents_gvs[(parents_gvs.Chrom==6) & \n",
    "                       (parents_gvs.Pos>1400000) & \n",
    "                       (parents_gvs.Pos<1500000)]"
   ]
  },
  {
   "cell_type": "code",
   "execution_count": null,
   "metadata": {},
   "outputs": [],
   "source": [
    "parents_gvs[(parents_gvs.Chrom==6) & \n",
    "                    (parents_gvs.Pos>143000) & \n",
    "                       (parents_gvs.Pos<144000)]"
   ]
  },
  {
   "cell_type": "code",
   "execution_count": null,
   "metadata": {},
   "outputs": [],
   "source": [
    "## Group by parent\n",
    "byparent = [p.Progeny.values for a,p in pheno.groupby('Parent')]\n",
    "[print(a) for a,p in pheno.groupby('Parent')];"
   ]
  },
  {
   "cell_type": "code",
   "execution_count": null,
   "metadata": {},
   "outputs": [],
   "source": [
    "## Calculate the CF830 allele frequencies \n",
    "## PER cross between CF830 and the B3502 stocks\n",
    "cf_830 = [np.sum((vargeno[bp\n",
    "            ].T.values  - vargeno['CF830'].values\n",
    "                   ) == 0,axis=0)/len(bp) for bp in byparent]\n",
    "\n",
    "## Add as columns to variant df\n",
    "for i,p in enumerate(['A1','B1','B7']):\n",
    "    vargeno['%s_af'%p] = cf_830[i]\n",
    "    \n",
    "vargeno.tail()"
   ]
  },
  {
   "cell_type": "code",
   "execution_count": null,
   "metadata": {},
   "outputs": [],
   "source": [
    "## Find variants that are invariant in the progeny\n",
    "invar_geno = vargeno[(vargeno[pheno.Progeny.tolist()].T.var() == 0)]\n",
    "invar_geno.shape"
   ]
  },
  {
   "cell_type": "code",
   "execution_count": null,
   "metadata": {},
   "outputs": [],
   "source": [
    "## Assert that we have colledct genotypes == JEC21\n",
    "## We should have found these above\n",
    "assert len([i for i in vargeno[(vargeno[(pheno.Progeny)].T.sum()==0)].index \n",
    " if i not in invar_geno.index]) == 0"
   ]
  },
  {
   "cell_type": "code",
   "execution_count": null,
   "metadata": {},
   "outputs": [],
   "source": [
    "## Check where the invariance is in the other genotype B3502\n",
    "vargeno[(np.sum(vargeno[pheno.Progeny] == 1,axis=1) == len(pheno.Progeny))]"
   ]
  },
  {
   "cell_type": "code",
   "execution_count": null,
   "metadata": {},
   "outputs": [],
   "source": [
    "## Remove invarnt sites\n",
    "loci = vargeno[~(vargeno.index.isin(invar_geno.index))]\n",
    "loci = loci.T.drop_duplicates().T\n",
    "\n",
    "## SAve\n",
    "loci.to_csv('../GENOTYPE/B3502_progeny_genotypes.csv.gz')\n",
    "loci.shape"
   ]
  },
  {
   "cell_type": "code",
   "execution_count": null,
   "metadata": {},
   "outputs": [],
   "source": [
    "## Gather progeny from the B3502_B1 stock\n",
    "## That are filamentous (Y for yes)\n",
    "#b1_p = pheno[(pheno.Parent=='B1') & (pheno[pheno.columns[3]]=='Y')].Progeny.tolist()\n",
    "b1_p = pheno[(pheno.Parent=='B1') & \n",
    "             (pheno[pheno.columns[3]]!='N')].Progeny.tolist()\n",
    "\n",
    "b1_checks = b1_p+ ['B3502_B7','B3502_A1','B3502_B1']\n",
    "len(b1_checks),len(b1_p)"
   ]
  },
  {
   "cell_type": "code",
   "execution_count": null,
   "metadata": {},
   "outputs": [],
   "source": [
    "b1_checks"
   ]
  },
  {
   "cell_type": "code",
   "execution_count": null,
   "metadata": {},
   "outputs": [],
   "source": [
    "## Find potential repressor sites in geno (full data non filtered)\n",
    "k = np.min(np.abs(geno[b1_checks[:-1]].T.values - geno[b1_checks[-1]].values).T,axis=1)\n",
    "#k = np.min(np.abs(geno[b1_checks_ny[:-1]].T.values - geno[b1_checks_ny[-1]].values).T,axis=1)\n",
    "repres_ix = geno.index.values[(k!=0)]\n",
    "\n",
    "## Check work\n",
    "assert len(repres_ix) == np.unique(repres_ix).shape[0]\n",
    "\n",
    "## Print number\n",
    "len(repres_ix)"
   ]
  },
  {
   "cell_type": "code",
   "execution_count": null,
   "metadata": {},
   "outputs": [],
   "source": [
    "## Gather represors into a dataframe\n",
    "repres_temp = geno.loc[repres_ix,b1_checks].dropna()\n",
    "repres = pd.concat([repres_temp,info.loc[repres_temp.index]],axis=1)\n",
    "\n",
    "repres['Ratio_ave'] = ratio.loc[repres.index,b1_checks].mean(axis=1)\n",
    "repres['Depth_ave'] = depth.loc[repres.index,b1_checks].mean(axis=1)\n",
    "\n",
    "repres = repres.T.drop_duplicates().T\n",
    "repres.head()"
   ]
  },
  {
   "cell_type": "code",
   "execution_count": null,
   "metadata": {},
   "outputs": [],
   "source": [
    "## Gather genes on chromosomes in our represor set\n",
    "gfftemp = gff[(gff.Type=='gene') & \n",
    "              (gff.Chromosome.isin(repres.Chrom))]\n",
    "\n",
    "\n",
    "## If the repressor is in a gene\n",
    "gene_check = []\n",
    "for i,j in repres.iterrows():\n",
    "    gp = gfftemp[(gfftemp.Chromosome==j.Chrom) & \n",
    "            (gfftemp.Start<=j.Pos) & (gfftemp.End>=j.Pos)]\n",
    "    \n",
    "    if gp.shape[0]>0:\n",
    "    #    print(gp[['Gene','Start','End']])\n",
    "    #    print(i,j.Pos,j.Chrom)\n",
    "    #    print('\\n')\n",
    "        \n",
    "        gene_check.append(gp.Gene.min())\n",
    "    \n",
    "gene_check = np.unique(gene_check)\n",
    "len(gene_check)"
   ]
  },
  {
   "cell_type": "code",
   "execution_count": null,
   "metadata": {},
   "outputs": [],
   "source": [
    "gene_check"
   ]
  },
  {
   "cell_type": "code",
   "execution_count": null,
   "metadata": {},
   "outputs": [],
   "source": [
    "## Gather the parent data\n",
    "parents_and_JEC21 = parents + ['JEC21']\n",
    "pgeno = geno[parents_and_JEC21].copy().dropna()\n",
    "pgeno['Ave_depth'] = depth[parents_and_JEC21].T.mean()\n",
    "pgeno['Ave_ratio'] = ratio[parents_and_JEC21].T.mean()\n",
    "pgeno['IsJEC21'] = pgeno[parents_and_JEC21].T.sum()\n",
    "pgeno['Genovar'] = pgeno[parents_and_JEC21].T.var()"
   ]
  },
  {
   "cell_type": "code",
   "execution_count": null,
   "metadata": {},
   "outputs": [],
   "source": [
    "## Filter the parent data\n",
    "pfilt = pgeno[(pgeno.Genovar!= 0) & \n",
    "              (pgeno.Ave_depth> 9) & \n",
    "              (pgeno.Ave_ratio > .8)]"
   ]
  },
  {
   "cell_type": "code",
   "execution_count": null,
   "metadata": {},
   "outputs": [],
   "source": [
    "pfin = pd.concat([info.loc[pfilt.index],pfilt],axis=1)\n",
    "pfin.shape"
   ]
  },
  {
   "cell_type": "code",
   "execution_count": null,
   "metadata": {},
   "outputs": [],
   "source": [
    "pfin[(pfin.Chrom==1) & (pfin.Pos==1430787)]"
   ]
  },
  {
   "cell_type": "code",
   "execution_count": null,
   "metadata": {},
   "outputs": [],
   "source": [
    "geno.loc[27604,b1_checks]"
   ]
  },
  {
   "cell_type": "code",
   "execution_count": null,
   "metadata": {},
   "outputs": [],
   "source": [
    "pfin[(pfin.Chrom==3) & (pfin.Pos==153548)][parents_and_JEC21]"
   ]
  },
  {
   "cell_type": "code",
   "execution_count": null,
   "metadata": {},
   "outputs": [],
   "source": [
    "pfin[(pfin.Chrom==6) & (pfin.Pos>=1437085)]"
   ]
  },
  {
   "cell_type": "code",
   "execution_count": null,
   "metadata": {},
   "outputs": [],
   "source": [
    "parents_gvs[(parents_gvs.Chrom==6) & (parents_gvs.Pos>=1437085)]"
   ]
  },
  {
   "cell_type": "code",
   "execution_count": null,
   "metadata": {},
   "outputs": [],
   "source": [
    "pfin[(pfin.Chrom==10) & (pfin.Pos==323716)]"
   ]
  },
  {
   "cell_type": "code",
   "execution_count": null,
   "metadata": {},
   "outputs": [],
   "source": [
    "notin = [i for i in repres.index if i not in pfin.index]\n",
    "notin[:5],len(notin)"
   ]
  },
  {
   "cell_type": "code",
   "execution_count": null,
   "metadata": {},
   "outputs": [],
   "source": [
    "len(repres)"
   ]
  },
  {
   "cell_type": "code",
   "execution_count": null,
   "metadata": {},
   "outputs": [],
   "source": [
    "## Find reprsor index in parent differnet index\n",
    "repres_in_parents = [i for i in repres.index if i in pfin.index]\n",
    "len(repres_in_parents)"
   ]
  },
  {
   "cell_type": "code",
   "execution_count": null,
   "metadata": {},
   "outputs": [],
   "source": [
    "pfin.loc[repres_in_parents][['Pos','Chrom']]"
   ]
  },
  {
   "cell_type": "code",
   "execution_count": null,
   "metadata": {},
   "outputs": [],
   "source": [
    "geno.loc[244989][['A44','A43','A27','A24']]"
   ]
  },
  {
   "cell_type": "code",
   "execution_count": null,
   "metadata": {},
   "outputs": [],
   "source": [
    "tempix = geno[(info.Pos>=1437068) & \n",
    "              (info.Pos<=1438867) & \n",
    "              (geno.Chrom==6)][b1_checks].index"
   ]
  },
  {
   "cell_type": "code",
   "execution_count": null,
   "metadata": {},
   "outputs": [],
   "source": [
    "candidate = geno.loc[tempix].copy()\n",
    "candidate['Pos'] = info.loc[tempix,'Pos']\n",
    "candidate['Var'] = candidate[b1_checks].T.var()\n",
    "candidate[(candidate.Var!=0)]\n",
    "toplot_can = candidate[(candidate.Var!=0)][b1_checks+['Pos']].copy().dropna()\n",
    "toplot_can.index = toplot_can.Pos\n",
    "toplot_can.drop(['Pos'],axis=1,inplace=True)\n",
    "toplot_can"
   ]
  },
  {
   "cell_type": "code",
   "execution_count": null,
   "metadata": {},
   "outputs": [],
   "source": [
    "clones1 = geno[(geno['A27'] != geno['A24'])][['A27','A24']].copy().dropna()\n",
    "clones1['Mdepth'] =depth.loc[clones1.index,['A27','A24']].T.min()\n",
    "clones1['Mratio'] =ratio.loc[clones1.index,['A27','A24']].T.min()\n",
    "clones1['Pos'] = info.loc[clones1.index,'Pos']\n",
    "clones1['Chrom'] = info.loc[clones1.index,'Chrom']"
   ]
  },
  {
   "cell_type": "code",
   "execution_count": null,
   "metadata": {},
   "outputs": [],
   "source": [
    "geno.loc[clones1[(clones1.Mratio>0.6)].index,['A44','A43']]"
   ]
  },
  {
   "cell_type": "code",
   "execution_count": null,
   "metadata": {},
   "outputs": [],
   "source": [
    "info"
   ]
  },
  {
   "cell_type": "code",
   "execution_count": null,
   "metadata": {},
   "outputs": [],
   "source": [
    "clones2 = geno[(geno['A44'] != geno['A43'])][['A44','A43']].copy().dropna()\n",
    "clones2['Mdepth'] =depth.loc[clones2.index,['A44','A43']].T.max()\n",
    "clones2['Mratio'] =ratio.loc[clones2.index,['A44','A43']].T.max()\n",
    "clones2['Pos'] = info.loc[clones2.index,'Pos']\n",
    "clones2['Chrom'] = info.loc[clones2.index,'Chrom']\n",
    "clones2['Alleles'] = info.loc[clones2.index,'Alleles']\n",
    "clones2['Type'] = info.loc[clones2.index,'Type']\n",
    "\n",
    "clones2[(clones2.Mratio>0.8)].head()"
   ]
  },
  {
   "cell_type": "code",
   "execution_count": null,
   "metadata": {},
   "outputs": [],
   "source": [
    "commonix = [i for i in clones1.index.tolist() if i in clones2.index.tolist()]"
   ]
  },
  {
   "cell_type": "code",
   "execution_count": null,
   "metadata": {},
   "outputs": [],
   "source": [
    "temp = pd.concat([clones1.loc[commonix,['A27','A24']],clones2.loc[commonix]],axis=1)"
   ]
  },
  {
   "cell_type": "code",
   "execution_count": null,
   "metadata": {},
   "outputs": [],
   "source": [
    "temp.shape"
   ]
  },
  {
   "cell_type": "code",
   "execution_count": null,
   "metadata": {},
   "outputs": [],
   "source": [
    "sf_progeny = pheno[(pheno[(pheno.columns[3])] =='Y')].Progeny.tolist() + ['B3502_A1','B3502_B7','B3502_B1','CF830']"
   ]
  },
  {
   "cell_type": "code",
   "execution_count": null,
   "metadata": {},
   "outputs": [],
   "source": [
    "other_repressor = []\n",
    "for i,g in vargeno.iterrows():\n",
    "    \n",
    "    if (g['B3502_B1'] not in g[sf_progeny[:-2]].tolist()) and (g['B3502_B1']!=g['CF830']):\n",
    "        other_repressor.append(i)\n",
    "        \n",
    "len(other_repressor)"
   ]
  },
  {
   "cell_type": "code",
   "execution_count": null,
   "metadata": {},
   "outputs": [],
   "source": [
    "loci.loc[other_repressor][sf_progeny+['Chrom','Pos','Alleles','Type']]"
   ]
  },
  {
   "cell_type": "code",
   "execution_count": null,
   "metadata": {},
   "outputs": [],
   "source": [
    "loci.loc[other_repressor][sf_progeny+['Chrom','Pos','Alleles','Type']]"
   ]
  },
  {
   "cell_type": "code",
   "execution_count": null,
   "metadata": {},
   "outputs": [],
   "source": []
  },
  {
   "cell_type": "code",
   "execution_count": null,
   "metadata": {},
   "outputs": [],
   "source": []
  },
  {
   "cell_type": "code",
   "execution_count": null,
   "metadata": {},
   "outputs": [],
   "source": [
    "info[(info.Chrom==6) & (info.Pos==1437914)]"
   ]
  },
  {
   "cell_type": "code",
   "execution_count": null,
   "metadata": {},
   "outputs": [],
   "source": [
    "import seaborn as sns"
   ]
  },
  {
   "cell_type": "code",
   "execution_count": null,
   "metadata": {},
   "outputs": [],
   "source": [
    "fig,ax = plt.subplots(1,1,figsize=(10,3))\n",
    "sns.heatmap(toplot_can.T,cbar=False, linewidths=.5);\n",
    "plt.xlabel('\\nGenetiv Vairant Position',fontsize=12)\n",
    "plt.ylabel('B3502 Stocks and F$_1$ Progeny\\n',fontsize=12);\n",
    "plt.savefig('../FIGURES/CNF04940_variants.png',dpi=200,bbox_inches='tight')"
   ]
  },
  {
   "cell_type": "code",
   "execution_count": null,
   "metadata": {},
   "outputs": [],
   "source": [
    "gff[(gff.Gene=='CNF04940')]"
   ]
  },
  {
   "cell_type": "code",
   "execution_count": null,
   "metadata": {},
   "outputs": [],
   "source": [
    "repres_in_parents"
   ]
  },
  {
   "cell_type": "code",
   "execution_count": null,
   "metadata": {},
   "outputs": [],
   "source": [
    "info.loc[repres_in_parents]"
   ]
  },
  {
   "cell_type": "code",
   "execution_count": null,
   "metadata": {},
   "outputs": [],
   "source": [
    "for i,j in repres.loc[repres_in_parents].iterrows():\n",
    "    gp = gfftemp[(gfftemp.Chromosome==j.Chrom) & \n",
    "           "
   ]
  },
  {
   "cell_type": "code",
   "execution_count": null,
   "metadata": {},
   "outputs": [],
   "source": [
    "repres.loc[repres_in_parents]"
   ]
  },
  {
   "cell_type": "code",
   "execution_count": null,
   "metadata": {},
   "outputs": [],
   "source": [
    "#[i for i in pfin.index if i not in repres]"
   ]
  },
  {
   "cell_type": "code",
   "execution_count": null,
   "metadata": {},
   "outputs": [],
   "source": [
    "p = 1430787\n",
    "c = 1\n",
    "ix = info[(info.Pos==p) & (info.Chrom==c)].index\n",
    "\n",
    "\n",
    "geno.loc[ix,b1_checks]"
   ]
  },
  {
   "cell_type": "code",
   "execution_count": null,
   "metadata": {},
   "outputs": [],
   "source": [
    "p = 153548\n",
    "c = 3\n",
    "ix = info[(info.Pos==p) & (info.Chrom==c)].index\n",
    "\n",
    "\n",
    "geno.loc[ix,b1_checks]"
   ]
  },
  {
   "cell_type": "code",
   "execution_count": null,
   "metadata": {},
   "outputs": [],
   "source": [
    "p = [1437085,1437389,1438373]\n",
    "c = 6\n",
    "ix = info[(info.Pos.isin(p)) & (info.Chrom==c)].index\n",
    "\n",
    "\n",
    "geno.loc[ix,b1_checks]"
   ]
  },
  {
   "cell_type": "code",
   "execution_count": null,
   "metadata": {},
   "outputs": [],
   "source": [
    "p = [323716]\n",
    "c = 10\n",
    "ix = info[(info.Pos.isin(p)) & (info.Chrom==c)].index\n",
    "\n",
    "\n",
    "geno.loc[ix,b1_checks]"
   ]
  },
  {
   "cell_type": "code",
   "execution_count": null,
   "metadata": {},
   "outputs": [],
   "source": []
  },
  {
   "cell_type": "code",
   "execution_count": null,
   "metadata": {},
   "outputs": [],
   "source": []
  },
  {
   "cell_type": "code",
   "execution_count": null,
   "metadata": {},
   "outputs": [],
   "source": [
    "cnf04940varix= pfin[(pfin.Chrom==6) & (pfin.Pos>=1437068)].index"
   ]
  },
  {
   "cell_type": "code",
   "execution_count": null,
   "metadata": {},
   "outputs": [],
   "source": [
    "cnm00880 = pfin[(pfin.Chrom==13) & (pfin.Pos>= 256057) & (pfin.Pos<=258338)].index"
   ]
  },
  {
   "cell_type": "code",
   "execution_count": null,
   "metadata": {},
   "outputs": [],
   "source": [
    "info.loc[cnm00880]"
   ]
  },
  {
   "cell_type": "code",
   "execution_count": null,
   "metadata": {},
   "outputs": [],
   "source": [
    "cnm00880ix_temp = info[(info.Chrom==13) & (info.Pos>= 256057) & (info.Pos<=258338)].index.tolist()"
   ]
  },
  {
   "cell_type": "code",
   "execution_count": null,
   "metadata": {},
   "outputs": [],
   "source": [
    "cnm00880ix = repres[(repres.index.isin(cnm00880ix_temp))].index"
   ]
  },
  {
   "cell_type": "code",
   "execution_count": null,
   "metadata": {},
   "outputs": [],
   "source": [
    "y_progeny = pheno[(pheno[pheno.columns[3]]=='Y')].Progeny.values\n",
    "check1 = sorted(np.unique(list(b1_checks) + list(y_progeny)))\n",
    "\n",
    "c_progeny = pheno[(pheno[pheno.columns[3]].isin(['Y','L','T']))].Progeny.values\n",
    "check2 = sorted(c_progeny)\n",
    "\n",
    "T_progeny = pheno[(pheno[pheno.columns[3]].isin(['Y','T']))].Progeny.values\n",
    "check3 = sorted(T_progeny)"
   ]
  },
  {
   "cell_type": "code",
   "execution_count": null,
   "metadata": {},
   "outputs": [],
   "source": [
    "g = 'CNB00860'\n",
    "gse = gff[(gff.Gene==g) & (gff.Type=='gene')][['Start','End']].values[0]\n",
    "gpos = np.arange(*gse)\n",
    "gchrom = gff[(gff.Gene==g)]['Chromosome'].min()\n",
    "\n",
    "gix = repres[(repres.Chrom==gchrom) & (repres.Pos.isin(gpos))].index\n",
    "geno.loc[gix,check3]"
   ]
  },
  {
   "cell_type": "code",
   "execution_count": null,
   "metadata": {},
   "outputs": [],
   "source": [
    "geno.loc[gix,b1_checks]"
   ]
  },
  {
   "cell_type": "code",
   "execution_count": null,
   "metadata": {},
   "outputs": [],
   "source": [
    "g = 'CNE05380'\n",
    "gse = gff[(gff.Gene==g) & (gff.Type=='gene')][['Start','End']].values[0]\n",
    "gpos = np.arange(*gse)\n",
    "gchrom = gff[(gff.Gene==g)]['Chromosome'].min()\n",
    "\n",
    "gix = repres[(repres.Chrom==gchrom) & (repres.Pos.isin(gpos))].index\n",
    "geno.loc[gix,check3]"
   ]
  },
  {
   "cell_type": "code",
   "execution_count": null,
   "metadata": {},
   "outputs": [],
   "source": [
    "geno.loc[gix,check1]"
   ]
  },
  {
   "cell_type": "code",
   "execution_count": null,
   "metadata": {},
   "outputs": [],
   "source": [
    "geno.loc[gix,check2]"
   ]
  },
  {
   "cell_type": "code",
   "execution_count": null,
   "metadata": {},
   "outputs": [],
   "source": [
    "np.unique(geno.loc[gix,check2].values[0])"
   ]
  },
  {
   "cell_type": "code",
   "execution_count": null,
   "metadata": {},
   "outputs": [],
   "source": [
    "geno.loc[gix,b1_checks]"
   ]
  },
  {
   "cell_type": "code",
   "execution_count": null,
   "metadata": {},
   "outputs": [],
   "source": [
    "gix in pfin.index.tolist()"
   ]
  },
  {
   "cell_type": "code",
   "execution_count": null,
   "metadata": {},
   "outputs": [],
   "source": [
    "pgeno.loc[gix]"
   ]
  },
  {
   "cell_type": "code",
   "execution_count": null,
   "metadata": {},
   "outputs": [],
   "source": [
    "g = 'CNF04940'\n",
    "gse = gff[(gff.Gene==g) & (gff.Type=='gene')][['Start','End']].values[0]\n",
    "gpos = np.arange(*gse)\n",
    "gchrom = gff[(gff.Gene==g)]['Chromosome'].min()\n",
    "\n",
    "gix = repres[(repres.Chrom==gchrom) & (repres.Pos.isin(gpos))].index\n",
    "geno.loc[gix,check3]"
   ]
  },
  {
   "cell_type": "code",
   "execution_count": null,
   "metadata": {},
   "outputs": [],
   "source": [
    "geno.loc[gix,check1]"
   ]
  },
  {
   "cell_type": "code",
   "execution_count": null,
   "metadata": {},
   "outputs": [],
   "source": [
    "g = 'CNL04090'\n",
    "gse = gff[(gff.Gene==g) & (gff.Type=='gene')][['Start','End']].values[0]\n",
    "gpos = np.arange(*gse)\n",
    "gchrom = gff[(gff.Gene==g)]['Chromosome'].min()\n",
    "\n",
    "gix = repres[(repres.Chrom==gchrom) & (repres.Pos.isin(gpos))].index\n",
    "geno.loc[gix,check3].values"
   ]
  },
  {
   "cell_type": "code",
   "execution_count": null,
   "metadata": {},
   "outputs": [],
   "source": [
    "g = 'CNM00880'\n",
    "gse = gff[(gff.Gene==g) & (gff.Type=='gene')][['Start','End']].values[0]\n",
    "gpos = np.arange(*gse)\n",
    "gchrom = gff[(gff.Gene==g)]['Chromosome'].min()\n",
    "\n",
    "gix = repres[(repres.Chrom==gchrom) & (repres.Pos.isin(gpos))].index\n",
    "geno.loc[gix,check3].values"
   ]
  },
  {
   "cell_type": "code",
   "execution_count": null,
   "metadata": {},
   "outputs": [],
   "source": [
    "g = 'CNJ01150'\n",
    "gse = gff[(gff.Gene==g) & (gff.Type=='gene')][['Start','End']].values[0]\n",
    "gpos = np.arange(*gse)\n",
    "gchrom = gff[(gff.Gene==g)]['Chromosome'].min()\n",
    "\n",
    "gix = repres[(repres.Chrom==gchrom) & (repres.Pos.isin(gpos))].index\n",
    "geno.loc[gix,check3].values"
   ]
  },
  {
   "cell_type": "code",
   "execution_count": null,
   "metadata": {},
   "outputs": [],
   "source": [
    "geno.loc[info[(info.Pos.isin(gpos)) & (info.Chrom==gchrom)].index,b1_checks]"
   ]
  },
  {
   "cell_type": "code",
   "execution_count": null,
   "metadata": {},
   "outputs": [],
   "source": [
    "geno.loc[info[(info.Pos==1430787)].index,b1_checks]"
   ]
  },
  {
   "cell_type": "code",
   "execution_count": null,
   "metadata": {},
   "outputs": [],
   "source": [
    "geno.loc[info[(info.Pos==153548) & (info.Chrom==3)].index,b1_checks+['B3502_A7']]"
   ]
  },
  {
   "cell_type": "code",
   "execution_count": null,
   "metadata": {},
   "outputs": [],
   "source": [
    "\n",
    "geno.loc[cnm00880ix,check1]"
   ]
  },
  {
   "cell_type": "code",
   "execution_count": null,
   "metadata": {},
   "outputs": [],
   "source": [
    "n_progeny = pheno[(pheno[pheno.columns[3]]=='N')].Progeny.values\n",
    "\n",
    "check2 = np.unique(list(b1_checks) + list(n_progeny) + ['JEC21'])\n",
    "geno.loc[cnm00880ix,check2]"
   ]
  },
  {
   "cell_type": "code",
   "execution_count": null,
   "metadata": {},
   "outputs": [],
   "source": [
    "y_progeny = pheno[(pheno[pheno.columns[3]]=='Y')].Progeny.values\n",
    "check1 = np.unique(list(b1_checks) + list(y_progeny))\n",
    "geno.loc[cnf04940varix,check1]"
   ]
  },
  {
   "cell_type": "code",
   "execution_count": null,
   "metadata": {},
   "outputs": [],
   "source": [
    "n_progeny = pheno[(pheno[pheno.columns[3]]=='N')].Progeny.values\n",
    "\n",
    "check2 = np.unique(list(b1_checks) + list(n_progeny) + ['JEC21'])\n",
    "geno.loc[cnf04940varix,check2]"
   ]
  },
  {
   "cell_type": "code",
   "execution_count": null,
   "metadata": {},
   "outputs": [],
   "source": [
    "b1_checks"
   ]
  },
  {
   "cell_type": "code",
   "execution_count": null,
   "metadata": {},
   "outputs": [],
   "source": [
    "geno.loc[cnf04940varix,]"
   ]
  },
  {
   "cell_type": "code",
   "execution_count": null,
   "metadata": {},
   "outputs": [],
   "source": [
    "#pfin.drop(237053,axis=0,inplace=True)"
   ]
  },
  {
   "cell_type": "code",
   "execution_count": null,
   "metadata": {},
   "outputs": [],
   "source": []
  },
  {
   "cell_type": "code",
   "execution_count": null,
   "metadata": {},
   "outputs": [],
   "source": []
  },
  {
   "cell_type": "code",
   "execution_count": null,
   "metadata": {},
   "outputs": [],
   "source": []
  },
  {
   "cell_type": "code",
   "execution_count": null,
   "metadata": {},
   "outputs": [],
   "source": [
    "pfin.to_csv('../GENOTYPE/B3502_refilt_stock_variants.csv.gz')"
   ]
  },
  {
   "cell_type": "code",
   "execution_count": null,
   "metadata": {},
   "outputs": [],
   "source": [
    "assert 1 ==0"
   ]
  },
  {
   "cell_type": "code",
   "execution_count": null,
   "metadata": {},
   "outputs": [],
   "source": []
  },
  {
   "cell_type": "code",
   "execution_count": null,
   "metadata": {},
   "outputs": [],
   "source": [
    "info['AF'] = (geno[samples] !=0).mean(axis=1)"
   ]
  },
  {
   "cell_type": "code",
   "execution_count": null,
   "metadata": {},
   "outputs": [],
   "source": [
    "info[(info.AF>0) & (info.AF<1)].shape[0]"
   ]
  },
  {
   "cell_type": "code",
   "execution_count": null,
   "metadata": {},
   "outputs": [],
   "source": [
    "qtlfun.manhattan(info.sort_values('Chrom'),\n",
    "                 pval='AF',ylabel='Allele Freq.');"
   ]
  },
  {
   "cell_type": "code",
   "execution_count": null,
   "metadata": {},
   "outputs": [],
   "source": [
    "plt.plot(info.AF,np.log10((info.Qual/info.Depth)+1),'.');"
   ]
  },
  {
   "cell_type": "code",
   "execution_count": null,
   "metadata": {},
   "outputs": [],
   "source": [
    "depthpaths = sorted(glob.glob('../GENOTYPE/DP/*depths.csv.gz'))\n",
    "len(depthpaths)\n",
    "\n",
    "depth = makedf(depthpaths)"
   ]
  },
  {
   "cell_type": "code",
   "execution_count": null,
   "metadata": {},
   "outputs": [],
   "source": [
    "info['Mdepth'] = depth[samples].min(axis=1)\n",
    "info['Meandepth'] = depth[samples].mean(axis=1)\n",
    "info['Ndepth'] = np.mean(depth[samples]>=10,axis=1)"
   ]
  },
  {
   "cell_type": "code",
   "execution_count": null,
   "metadata": {},
   "outputs": [],
   "source": [
    "alleledepth = sorted(glob.glob('../GENOTYPE/AF/*ratios.csv.gz'))\n",
    "len(alleledepth)\n",
    "\n",
    "ratio = makedf(alleledepth)"
   ]
  },
  {
   "cell_type": "code",
   "execution_count": null,
   "metadata": {},
   "outputs": [],
   "source": [
    "info['Ratio'] = ratio[samples].min(axis=1)\n",
    "info['Nratio'] = np.mean(ratio[samples]>.8,axis=1)"
   ]
  },
  {
   "cell_type": "code",
   "execution_count": null,
   "metadata": {},
   "outputs": [],
   "source": [
    "pheno = pd.read_excel('../PHENOTYPE/202011_WGS_B3502Progeny_for_QTL.xlsx')\n",
    "pheno.head()"
   ]
  },
  {
   "cell_type": "code",
   "execution_count": null,
   "metadata": {},
   "outputs": [],
   "source": [
    "pheno"
   ]
  },
  {
   "cell_type": "code",
   "execution_count": null,
   "metadata": {},
   "outputs": [],
   "source": []
  },
  {
   "cell_type": "code",
   "execution_count": null,
   "metadata": {},
   "outputs": [],
   "source": [
    "info[(info.Pos==153548) & (info.Chrom==3)]"
   ]
  },
  {
   "cell_type": "code",
   "execution_count": null,
   "metadata": {},
   "outputs": [],
   "source": [
    "geno.loc[73829][['Stock1','Stock3','Stock4','JEC21','CF830']]"
   ]
  },
  {
   "cell_type": "code",
   "execution_count": null,
   "metadata": {},
   "outputs": [],
   "source": []
  },
  {
   "cell_type": "code",
   "execution_count": null,
   "metadata": {},
   "outputs": [],
   "source": [
    "geno.loc[73829][samples].sum()"
   ]
  },
  {
   "cell_type": "code",
   "execution_count": null,
   "metadata": {},
   "outputs": [],
   "source": [
    "info[(info.Pos==1894056)]"
   ]
  },
  {
   "cell_type": "code",
   "execution_count": null,
   "metadata": {},
   "outputs": [],
   "source": [
    "geno.loc[110255][['Stock1','Stock3','Stock4','CF830','JEC21']]"
   ]
  },
  {
   "cell_type": "code",
   "execution_count": null,
   "metadata": {},
   "outputs": [],
   "source": [
    "## Bring in phenotype data from Dr. Sheng Sun\n",
    "phenopath = '../PHENOTYPE/202011_WGS_B3502Progeny_for_QTL.xlsx'\n",
    "pheno = pd.read_excel(phenopath)\n",
    "pheno['Strain'] = [''.join(a.split('_'))[:3] \n",
    "                   for a in pheno[pheno.columns[0]]]\n",
    "pheno['Parent1'] = [ a.split('x')[0].split('B3502')[-1][:-1] \n",
    "                    for a in pheno['Cross_Progeny']]\n",
    "pheno.index = pheno.Strain\n",
    "\n",
    "pheno['RIC8'] = -1\n",
    "pheno['RIC8'] = geno.loc[382952,pheno.index]\n",
    "pheno['RHO'] = -1\n",
    "pheno['RHO'] = geno.loc[110255,pheno.index]\n",
    "#pheno.tail()"
   ]
  },
  {
   "cell_type": "code",
   "execution_count": null,
   "metadata": {},
   "outputs": [],
   "source": [
    "pheno[(pheno.Parent1=='B1') & \n",
    "      (pheno.RIC8==1) & (pheno.RHO==0)]"
   ]
  },
  {
   "cell_type": "code",
   "execution_count": null,
   "metadata": {},
   "outputs": [],
   "source": [
    "b1segs = pheno[(pheno.Parent1=='B1') & \n",
    "               (pheno.RIC8==1) \n",
    "              ].Strain.tolist()"
   ]
  },
  {
   "cell_type": "code",
   "execution_count": null,
   "metadata": {},
   "outputs": [],
   "source": [
    "kix = geno[(geno[b1segs+['Stock1','Stock4','JEC21','CF830']].T.sum()==0) & \n",
    "     (geno['Stock3']==1) \n",
    "    ].dropna().index.values"
   ]
  },
  {
   "cell_type": "code",
   "execution_count": null,
   "metadata": {},
   "outputs": [],
   "source": [
    "genodf = pd.concat([info,geno],axis=1)"
   ]
  },
  {
   "cell_type": "code",
   "execution_count": null,
   "metadata": {},
   "outputs": [],
   "source": [
    "genodf[(genodf.Pos==1437085)][['Stock1','Stock4','Stock3']+b1segs]"
   ]
  },
  {
   "cell_type": "code",
   "execution_count": null,
   "metadata": {},
   "outputs": [],
   "source": [
    "represors = info.loc[kix].sort_values('Chrom')\n",
    "represors"
   ]
  },
  {
   "cell_type": "code",
   "execution_count": null,
   "metadata": {},
   "outputs": [],
   "source": [
    "gff = qtlfun.loadgff('/home/croth/Downloads/B3502/REF/FungiDB-48_CneoformansJEC21.gff.gz')"
   ]
  },
  {
   "cell_type": "code",
   "execution_count": null,
   "metadata": {},
   "outputs": [],
   "source": [
    "gene_check = []\n",
    "for i, (j,c) in enumerate(represors.iterrows()):\n",
    "    k = gff[(gff.Type=='gene') & (gff.Seqid==c.Seqid) & \n",
    "        (gff.Start<=c.Pos) & (gff.End>=c.Pos)].Gene\n",
    "    #print(k)\n",
    "    if len(k) > 0:\n",
    "        gene_check.append(k.min())\n",
    "gene_check = np.unique(gene_check)\n",
    "gene_check"
   ]
  },
  {
   "cell_type": "code",
   "execution_count": null,
   "metadata": {},
   "outputs": [],
   "source": [
    "genech = pd.read_csv('/home/croth/Downloads/B3502/DATA/gene_changes.csv.gz')"
   ]
  },
  {
   "cell_type": "code",
   "execution_count": null,
   "metadata": {},
   "outputs": [],
   "source": [
    "genech[(genech.Gene=='CNF04940')]"
   ]
  },
  {
   "cell_type": "code",
   "execution_count": null,
   "metadata": {},
   "outputs": [],
   "source": [
    "genech[(genech.Gene=='CNM00880')]"
   ]
  },
  {
   "cell_type": "code",
   "execution_count": null,
   "metadata": {},
   "outputs": [],
   "source": [
    "gff[(gff.Gene.isin(gene_check)) & (gff.Type=='gene')]"
   ]
  },
  {
   "cell_type": "code",
   "execution_count": null,
   "metadata": {},
   "outputs": [],
   "source": [
    "genech[(genech.Gene.isin(gene_check))]"
   ]
  },
  {
   "cell_type": "code",
   "execution_count": null,
   "metadata": {},
   "outputs": [],
   "source": [
    "info.loc[(info.Pos== 388777) & (info.Chrom==14)]"
   ]
  },
  {
   "cell_type": "code",
   "execution_count": null,
   "metadata": {},
   "outputs": [],
   "source": [
    "info[(info.Chrom==14) & (info.Pos>=388700)]"
   ]
  },
  {
   "cell_type": "code",
   "execution_count": null,
   "metadata": {},
   "outputs": [],
   "source": [
    "b1segs = pheno[(pheno.Parent1=='B1')].Strain.tolist()"
   ]
  },
  {
   "cell_type": "code",
   "execution_count": null,
   "metadata": {},
   "outputs": [],
   "source": [
    "b1segs"
   ]
  },
  {
   "cell_type": "code",
   "execution_count": null,
   "metadata": {},
   "outputs": [],
   "source": [
    "pheno[(pheno.Parent1=='B1')]"
   ]
  },
  {
   "cell_type": "code",
   "execution_count": null,
   "metadata": {},
   "outputs": [],
   "source": []
  },
  {
   "cell_type": "code",
   "execution_count": null,
   "metadata": {},
   "outputs": [],
   "source": [
    "geno[(geno.Stock3>=1) & \n",
    "     (geno[['Stock1','Stock4']].T.sum()==0) & \n",
    "     (info.Chrom==6)].dropna()[['Stock1','Stock4','Stock3']]"
   ]
  },
  {
   "cell_type": "code",
   "execution_count": null,
   "metadata": {},
   "outputs": [],
   "source": [
    "geno[(geno.Stock3>=1) & \n",
    "     (geno[['Stock1','Stock4']].T.sum()==0) & \n",
    "     (info.Chrom==6)].dropna()[['Stock1','Stock4','Stock3']]"
   ]
  },
  {
   "cell_type": "code",
   "execution_count": null,
   "metadata": {},
   "outputs": [],
   "source": [
    "geno[(geno.Stock3>=1) & \n",
    "     (geno[['Stock1','Stock4']].T.sum()==0) & \n",
    "     (info.Chrom==1)].dropna()[['Stock1','Stock4','Stock3']]"
   ]
  },
  {
   "cell_type": "code",
   "execution_count": null,
   "metadata": {},
   "outputs": [],
   "source": [
    "geno[(geno.Stock3>=1) & \n",
    "     (geno[['Stock1','Stock4']].T.sum()==0) & \n",
    "     (info.Chrom==3)].dropna()[['Stock1','Stock4','Stock3']]"
   ]
  },
  {
   "cell_type": "code",
   "execution_count": null,
   "metadata": {},
   "outputs": [],
   "source": [
    "geno[(geno.Stock3>=1) & \n",
    "     (geno[['Stock1','Stock4']].T.sum()==0) & \n",
    "     (info.Chrom==10)].dropna()[['Stock1','Stock4','Stock3']]"
   ]
  },
  {
   "cell_type": "code",
   "execution_count": null,
   "metadata": {},
   "outputs": [],
   "source": [
    "info[(info.Pos==1430787)]"
   ]
  },
  {
   "cell_type": "code",
   "execution_count": null,
   "metadata": {},
   "outputs": [],
   "source": [
    "geno.loc[30:30][samples][['Stock1','Stock3','Stock4','JEC21','CF830']]"
   ]
  },
  {
   "cell_type": "code",
   "execution_count": null,
   "metadata": {},
   "outputs": [],
   "source": [
    "geno.loc[30][samples].sum()"
   ]
  },
  {
   "cell_type": "code",
   "execution_count": null,
   "metadata": {},
   "outputs": [],
   "source": []
  },
  {
   "cell_type": "code",
   "execution_count": null,
   "metadata": {},
   "outputs": [],
   "source": [
    "ratio.loc[30:30]['Stock3']"
   ]
  },
  {
   "cell_type": "code",
   "execution_count": null,
   "metadata": {},
   "outputs": [],
   "source": [
    "info[(info.Chrom==14) & (info.Pos>=386823) & \n",
    "     (info.Pos<=389688) & \n",
    "     (info.AF>0) & (info.AF<1) ]"
   ]
  },
  {
   "cell_type": "code",
   "execution_count": null,
   "metadata": {},
   "outputs": [],
   "source": [
    "stock_variants[(stock_variants.Pos>=386823) & \n",
    "               (stock_variants.Pos<=389688) &\n",
    "               (stock_variants.Chromosome==14)]"
   ]
  },
  {
   "cell_type": "code",
   "execution_count": null,
   "metadata": {},
   "outputs": [],
   "source": [
    "chg = geno[(info.Chrom==14)]\n",
    "chd = depth[(info.Chrom==14)]\n",
    "chi = info[(info.Chrom==14)]\n",
    "cha = ratio[(ratio.Chrom==14)]"
   ]
  },
  {
   "cell_type": "code",
   "execution_count": null,
   "metadata": {},
   "outputs": [],
   "source": [
    "cents = centlocs[(centlocs.Chromosome==14)][['Left','Right']].values[0]"
   ]
  },
  {
   "cell_type": "code",
   "execution_count": null,
   "metadata": {},
   "outputs": [],
   "source": [
    "info"
   ]
  },
  {
   "cell_type": "code",
   "execution_count": null,
   "metadata": {},
   "outputs": [],
   "source": [
    "plt.plot(chi.Pos,np.log2(chi.Meandepth),'.');\n",
    "plt.hlines(2,*cents,color='r');\n",
    "plt.plot(chi[(chi.Callrate==1)].Pos,np.log2(chi[(chi.Callrate==1)].Meandepth),'.')"
   ]
  },
  {
   "cell_type": "code",
   "execution_count": null,
   "metadata": {},
   "outputs": [],
   "source": [
    "plt.plot(chi.Nratio,chi.Ratio,'.');"
   ]
  },
  {
   "cell_type": "code",
   "execution_count": null,
   "metadata": {},
   "outputs": [],
   "source": [
    "atleast = 3\n",
    "umaf = (len(samples)-atleast)/len(samples)\n",
    "lmaf = atleast/len(samples)\n",
    "\n",
    "filt = info[(info.AF>lmaf) & \n",
    "     (info.AF<umaf) & \n",
    "    (info.)\n",
    "     #(info.Ndepth>0.8) & \n",
    "     #(info.Nratio>0.8) & \n",
    "     (info.Callrate==1)].copy()\n",
    "filt['Chromosome'] = filt.Chrom\n",
    "filt.shape"
   ]
  },
  {
   "cell_type": "code",
   "execution_count": null,
   "metadata": {},
   "outputs": [],
   "source": [
    "loci = geno.loc[filt.index,samples].drop_duplicates()"
   ]
  },
  {
   "cell_type": "code",
   "execution_count": null,
   "metadata": {},
   "outputs": [],
   "source": [
    "chrommap"
   ]
  },
  {
   "cell_type": "code",
   "execution_count": null,
   "metadata": {},
   "outputs": [],
   "source": [
    "MAT = [1529240,1661861]"
   ]
  },
  {
   "cell_type": "code",
   "execution_count": null,
   "metadata": {},
   "outputs": [],
   "source": [
    "fig,ax = plt.subplots(7,2,figsize=(20,15),sharex=True,sharey=True)\n",
    "\n",
    "for i,(j,c) in enumerate(chrommap.iterrows()):\n",
    "    \n",
    "    plt.sca(ax.ravel()[i])\n",
    "    plt.hlines(0.5,0,c.Length,color='k',linestyle='--')\n",
    "    \n",
    "    plt.hlines(0.5,c.Left,c.Right,color='r',linewidth=5)\n",
    "    \n",
    "    temp = filt[(filt.Seqid==c.Seqid)]\n",
    "    \n",
    "    \n",
    "    plt.plot(temp.Pos,temp.AF,'ko')\n",
    "    plt.title(i+1,y=.8)\n",
    "    \n",
    "plt.sca(ax.ravel()[3])\n",
    "plt.hlines(0.5,*MAT,color='g',linewidth=5)\n",
    "\n",
    "plt.ylim(0,1)\n",
    "plt.subplots_adjust(wspace=0.1);"
   ]
  },
  {
   "cell_type": "code",
   "execution_count": null,
   "metadata": {},
   "outputs": [],
   "source": [
    "filt[(filt.Chromosome==4)].shape"
   ]
  },
  {
   "cell_type": "code",
   "execution_count": null,
   "metadata": {},
   "outputs": [],
   "source": [
    "geno.loc[filt[(filt.Chromosome==4)].index,\n",
    "         samples\n",
    "        ].drop_duplicates().shape"
   ]
  },
  {
   "cell_type": "code",
   "execution_count": null,
   "metadata": {},
   "outputs": [],
   "source": [
    "filt[(filt.Chromosome==11)]"
   ]
  },
  {
   "cell_type": "code",
   "execution_count": null,
   "metadata": {},
   "outputs": [],
   "source": []
  },
  {
   "cell_type": "code",
   "execution_count": null,
   "metadata": {},
   "outputs": [],
   "source": [
    "info[(info.Chrom==11) & \n",
    "     (info.Callrate==1) & \n",
    "     (info.AF>0) & \n",
    "     (info.AF<1) & (info.Type=='snp')]"
   ]
  },
  {
   "cell_type": "code",
   "execution_count": null,
   "metadata": {},
   "outputs": [],
   "source": [
    "info[(info.Chrom==12) & (info.Pos>773178) & (info.Pos<774000) & (info.AF>0)]"
   ]
  },
  {
   "cell_type": "code",
   "execution_count": null,
   "metadata": {},
   "outputs": [],
   "source": [
    "ratio[(info.Chrom==12) & (info.Pos>773178) & (info.Pos<774000) & (info.AF>0)]"
   ]
  },
  {
   "cell_type": "code",
   "execution_count": null,
   "metadata": {},
   "outputs": [],
   "source": [
    "info[(info.Chrom==11) & (info.Pos==823427)]"
   ]
  },
  {
   "cell_type": "code",
   "execution_count": null,
   "metadata": {},
   "outputs": [],
   "source": [
    "loci = pd.concat([filt,geno.loc[filt.index,samples]],axis=1)"
   ]
  },
  {
   "cell_type": "code",
   "execution_count": null,
   "metadata": {},
   "outputs": [],
   "source": [
    "loci.to_csv('../GENOTYPE/B3502_progeny_variants.csv.gz',index=True)"
   ]
  },
  {
   "cell_type": "code",
   "execution_count": null,
   "metadata": {},
   "outputs": [],
   "source": []
  },
  {
   "cell_type": "code",
   "execution_count": null,
   "metadata": {},
   "outputs": [],
   "source": [
    "stock_variants[(stock_variants.Chromosome==7) & \n",
    "               (stock_variants.Pos==890559)][\n",
    "                ['CF830','B3502_A1','B3502_B1','B3502_B7']]"
   ]
  },
  {
   "cell_type": "code",
   "execution_count": null,
   "metadata": {},
   "outputs": [],
   "source": [
    "filt[(filt.AF<.25) & (filt.Chromosome==7)]"
   ]
  },
  {
   "cell_type": "code",
   "execution_count": null,
   "metadata": {},
   "outputs": [],
   "source": [
    "stock_variants.shape"
   ]
  },
  {
   "cell_type": "code",
   "execution_count": null,
   "metadata": {},
   "outputs": [],
   "source": [
    "assert 1 == 0\n",
    "mydpi = 150\n",
    "for s in samples[:5]:\n",
    "    \n",
    "    temp = info.copy()\n",
    "    temp['Ratio'] = ratio[s]\n",
    "    temp['Geno'] = geno[s]\n",
    "    temp['SDepth'] = np.log2(depth[s]+1)\n",
    "    temp = temp.merge(chrommap[['Seqid','Cumlen']])\n",
    "    #print(temp.shape)\n",
    "    #temp = temp.loc[info[(info.AF>0) & \n",
    "    #                     (info.AF<1) & \n",
    "    #                      (info.depth>8)].index,:]\n",
    "   \n",
    "    fig,ax = plt.subplots(2,1,figsize=(12,5),sharex=True);\n",
    "    fig.set_facecolor('w')\n",
    "    plt.sca(ax[0])\n",
    "    \n",
    "    g0 = temp[(temp.Geno==0)]\n",
    "    g1 = temp[(temp.Geno!=0)]\n",
    "    \n",
    "    plt.plot(g0.Pos+g0.Cumlen,g0.SDepth,'.',\n",
    "             color='tab:blue',ms=2,alpha=0.5)\n",
    "    plt.plot(g1.Pos+g1.Cumlen,g1.SDepth,'.',\n",
    "             color='tab:orange',ms=2,alpha=0.5)\n",
    "    \n",
    "    plt.xticks(chrommap.Midpts,\n",
    "               np.arange(chrommap.shape[0])+1,\n",
    "               fontsize=12)\n",
    "    yp,yl = plt.yticks()\n",
    "    \n",
    "    plt.vlines(chrommap.Cumlen.values[1:],\n",
    "               yp[1],yp[-2],color='k',\n",
    "               linestyle='--',linewidth=1,\n",
    "              alpha =0.52)\n",
    "    \n",
    "    sp = pheno[(pheno.Strain==s)][pheno.columns[2]].min()\n",
    "    \n",
    "    plt.title('Strain: %s | Phenotype: %s'%(s,sp),fontsize=12)\n",
    "    plt.ylabel('-log$_2$ Read Depth',fontsize=12)\n",
    "    \n",
    "    for i,c in chrommap.iterrows():\n",
    "        plt.hlines(0,c.Left+c.Cumlen,\n",
    "                  c.Right+c.Cumlen,\n",
    "               color='k')\n",
    "    \n",
    "    plt.sca(ax[1])\n",
    "    \n",
    "    plt.plot(g0.Pos+g0.Cumlen,g0.Ratio,'.',\n",
    "             color='tab:blue',ms=1,alpha=0.2)\n",
    "    plt.plot(g1.Pos+g1.Cumlen,g1.Ratio,'.',\n",
    "             color='tab:orange',ms=1,alpha=0.2)\n",
    "    \n",
    "    plt.xticks(chrommap.Midpts,\n",
    "               np.arange(chrommap.shape[0])+1,\n",
    "               fontsize=12)\n",
    "    \n",
    "    plt.vlines(chrommap.Cumlen.values[1:],\n",
    "               0,1,color='k',\n",
    "               linestyle='--',linewidth=1,\n",
    "              alpha =0.52)\n",
    "    \n",
    "    plt.ylabel('Allelic Ratio',fontsize=12)\n",
    "    plt.xlabel('Chromosome',fontsize=12)\n",
    "    \n",
    "    plt.savefig('../FIGURES/DEPTHPLOTS/%s.png'%(s),\n",
    "             dpi=mydpi,bbox_inches='tight')\n",
    "    plt.close()"
   ]
  },
  {
   "cell_type": "code",
   "execution_count": null,
   "metadata": {},
   "outputs": [],
   "source": []
  }
 ],
 "metadata": {
  "kernelspec": {
   "display_name": "Python 3",
   "language": "python",
   "name": "python3"
  },
  "language_info": {
   "codemirror_mode": {
    "name": "ipython",
    "version": 3
   },
   "file_extension": ".py",
   "mimetype": "text/x-python",
   "name": "python",
   "nbconvert_exporter": "python",
   "pygments_lexer": "ipython3",
   "version": "3.7.3"
  }
 },
 "nbformat": 4,
 "nbformat_minor": 4
}
