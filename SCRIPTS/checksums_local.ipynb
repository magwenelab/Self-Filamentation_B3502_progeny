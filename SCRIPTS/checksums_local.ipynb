{
 "cells": [
  {
   "cell_type": "code",
   "execution_count": 1,
   "metadata": {},
   "outputs": [],
   "source": [
    "import pandas as pd, numpy as np"
   ]
  },
  {
   "cell_type": "code",
   "execution_count": 8,
   "metadata": {},
   "outputs": [],
   "source": [
    "## command used to make check sum\n",
    "## md5sum *.fastq.gz > mychecksum.checksum"
   ]
  },
  {
   "cell_type": "code",
   "execution_count": 2,
   "metadata": {},
   "outputs": [
    {
     "name": "stderr",
     "output_type": "stream",
     "text": [
      "/home/croth/anaconda3/lib/python3.7/site-packages/ipykernel_launcher.py:2: ParserWarning: Falling back to the 'python' engine because the 'c' engine does not support regex separators (separators > 1 char and different from '\\s+' are interpreted as regex); you can avoid this warning by specifying engine='python'.\n",
      "  \n"
     ]
    },
    {
     "data": {
      "text/html": [
       "<div>\n",
       "<style scoped>\n",
       "    .dataframe tbody tr th:only-of-type {\n",
       "        vertical-align: middle;\n",
       "    }\n",
       "\n",
       "    .dataframe tbody tr th {\n",
       "        vertical-align: top;\n",
       "    }\n",
       "\n",
       "    .dataframe thead th {\n",
       "        text-align: right;\n",
       "    }\n",
       "</style>\n",
       "<table border=\"1\" class=\"dataframe\">\n",
       "  <thead>\n",
       "    <tr style=\"text-align: right;\">\n",
       "      <th></th>\n",
       "      <th>Checksum</th>\n",
       "      <th>Filepath</th>\n",
       "      <th>File</th>\n",
       "    </tr>\n",
       "  </thead>\n",
       "  <tbody>\n",
       "    <tr>\n",
       "      <th>0</th>\n",
       "      <td>21f0e2cb074b218f6f5c1ec1810fe6a8</td>\n",
       "      <td>Sun_6673_210202B6/SS_20201123_A34_S50_L001_R2_...</td>\n",
       "      <td>SS_20201123_A34_S50_L001_R2_001.fastq.gz</td>\n",
       "    </tr>\n",
       "    <tr>\n",
       "      <th>1</th>\n",
       "      <td>5b7bb09edca67e158dae83f9147f300c</td>\n",
       "      <td>Sun_6673_210202B6/SS_20201123_B09_S69_L001_R2_...</td>\n",
       "      <td>SS_20201123_B09_S69_L001_R2_001.fastq.gz</td>\n",
       "    </tr>\n",
       "    <tr>\n",
       "      <th>2</th>\n",
       "      <td>d3d2a8db32a4151b1ea880064ed0ee1d</td>\n",
       "      <td>Sun_6673_210202B6/SS_20201123_A36_S52_L001_R2_...</td>\n",
       "      <td>SS_20201123_A36_S52_L001_R2_001.fastq.gz</td>\n",
       "    </tr>\n",
       "    <tr>\n",
       "      <th>3</th>\n",
       "      <td>f6c98a47477bab400387ef1a7c604ee8</td>\n",
       "      <td>Sun_6673_210202B6/SEC_20201123_01_S1_L001_R2_0...</td>\n",
       "      <td>SEC_20201123_01_S1_L001_R2_001.fastq.gz</td>\n",
       "    </tr>\n",
       "    <tr>\n",
       "      <th>4</th>\n",
       "      <td>9e777f5c9260f5f8af8329da2cc438ab</td>\n",
       "      <td>Sun_6673_210202B6/SS_20201123_A12_S28_L001_R1_...</td>\n",
       "      <td>SS_20201123_A12_S28_L001_R1_001.fastq.gz</td>\n",
       "    </tr>\n",
       "  </tbody>\n",
       "</table>\n",
       "</div>"
      ],
      "text/plain": [
       "                           Checksum  \\\n",
       "0  21f0e2cb074b218f6f5c1ec1810fe6a8   \n",
       "1  5b7bb09edca67e158dae83f9147f300c   \n",
       "2  d3d2a8db32a4151b1ea880064ed0ee1d   \n",
       "3  f6c98a47477bab400387ef1a7c604ee8   \n",
       "4  9e777f5c9260f5f8af8329da2cc438ab   \n",
       "\n",
       "                                            Filepath  \\\n",
       "0  Sun_6673_210202B6/SS_20201123_A34_S50_L001_R2_...   \n",
       "1  Sun_6673_210202B6/SS_20201123_B09_S69_L001_R2_...   \n",
       "2  Sun_6673_210202B6/SS_20201123_A36_S52_L001_R2_...   \n",
       "3  Sun_6673_210202B6/SEC_20201123_01_S1_L001_R2_0...   \n",
       "4  Sun_6673_210202B6/SS_20201123_A12_S28_L001_R1_...   \n",
       "\n",
       "                                       File  \n",
       "0  SS_20201123_A34_S50_L001_R2_001.fastq.gz  \n",
       "1  SS_20201123_B09_S69_L001_R2_001.fastq.gz  \n",
       "2  SS_20201123_A36_S52_L001_R2_001.fastq.gz  \n",
       "3   SEC_20201123_01_S1_L001_R2_001.fastq.gz  \n",
       "4  SS_20201123_A12_S28_L001_R1_001.fastq.gz  "
      ]
     },
     "execution_count": 2,
     "metadata": {},
     "output_type": "execute_result"
    }
   ],
   "source": [
    "theres = pd.read_csv('/home/croth/SELFFILM/FASTQ/Sun_6673_210202B6.checksum',\n",
    "                    sep='  ',header=None)\n",
    "theres.columns = ['Checksum','Filepath']\n",
    "\n",
    "theres['File'] = [f.split('/')[-1] for f in theres.Filepath]\n",
    "\n",
    "theres.head()"
   ]
  },
  {
   "cell_type": "code",
   "execution_count": 3,
   "metadata": {},
   "outputs": [
    {
     "name": "stderr",
     "output_type": "stream",
     "text": [
      "/home/croth/anaconda3/lib/python3.7/site-packages/ipykernel_launcher.py:2: ParserWarning: Falling back to the 'python' engine because the 'c' engine does not support regex separators (separators > 1 char and different from '\\s+' are interpreted as regex); you can avoid this warning by specifying engine='python'.\n",
      "  \n"
     ]
    },
    {
     "data": {
      "text/html": [
       "<div>\n",
       "<style scoped>\n",
       "    .dataframe tbody tr th:only-of-type {\n",
       "        vertical-align: middle;\n",
       "    }\n",
       "\n",
       "    .dataframe tbody tr th {\n",
       "        vertical-align: top;\n",
       "    }\n",
       "\n",
       "    .dataframe thead th {\n",
       "        text-align: right;\n",
       "    }\n",
       "</style>\n",
       "<table border=\"1\" class=\"dataframe\">\n",
       "  <thead>\n",
       "    <tr style=\"text-align: right;\">\n",
       "      <th></th>\n",
       "      <th>Checksum</th>\n",
       "      <th>File</th>\n",
       "    </tr>\n",
       "  </thead>\n",
       "  <tbody>\n",
       "    <tr>\n",
       "      <th>0</th>\n",
       "      <td>d15124d9a0d6212663f410a4994a1de4</td>\n",
       "      <td>SEC_20201123_01_S1_L001_R1_001.fastq.gz</td>\n",
       "    </tr>\n",
       "    <tr>\n",
       "      <th>1</th>\n",
       "      <td>f6c98a47477bab400387ef1a7c604ee8</td>\n",
       "      <td>SEC_20201123_01_S1_L001_R2_001.fastq.gz</td>\n",
       "    </tr>\n",
       "    <tr>\n",
       "      <th>2</th>\n",
       "      <td>5e793af5c5f936a25b444ebace8f6b7d</td>\n",
       "      <td>SEC_20201123_02_S2_L001_R1_001.fastq.gz</td>\n",
       "    </tr>\n",
       "    <tr>\n",
       "      <th>3</th>\n",
       "      <td>403599c88e0c7f09f82042c9d51aca80</td>\n",
       "      <td>SEC_20201123_02_S2_L001_R2_001.fastq.gz</td>\n",
       "    </tr>\n",
       "    <tr>\n",
       "      <th>4</th>\n",
       "      <td>6f2c553c5040783ea41ae6c2b79e9807</td>\n",
       "      <td>SEC_20201123_03_S3_L001_R1_001.fastq.gz</td>\n",
       "    </tr>\n",
       "  </tbody>\n",
       "</table>\n",
       "</div>"
      ],
      "text/plain": [
       "                           Checksum                                     File\n",
       "0  d15124d9a0d6212663f410a4994a1de4  SEC_20201123_01_S1_L001_R1_001.fastq.gz\n",
       "1  f6c98a47477bab400387ef1a7c604ee8  SEC_20201123_01_S1_L001_R2_001.fastq.gz\n",
       "2  5e793af5c5f936a25b444ebace8f6b7d  SEC_20201123_02_S2_L001_R1_001.fastq.gz\n",
       "3  403599c88e0c7f09f82042c9d51aca80  SEC_20201123_02_S2_L001_R2_001.fastq.gz\n",
       "4  6f2c553c5040783ea41ae6c2b79e9807  SEC_20201123_03_S3_L001_R1_001.fastq.gz"
      ]
     },
     "execution_count": 3,
     "metadata": {},
     "output_type": "execute_result"
    }
   ],
   "source": [
    "mine = pd.read_csv('/home/croth/SELFFILM/FASTQ/mychecksum.checksum',\n",
    "                  sep='  ',header=None)\n",
    "mine.columns = ['Checksum','File']\n",
    "mine.head()"
   ]
  },
  {
   "cell_type": "code",
   "execution_count": 4,
   "metadata": {},
   "outputs": [
    {
     "data": {
      "text/plain": [
       "((144, 2), (144, 3))"
      ]
     },
     "execution_count": 4,
     "metadata": {},
     "output_type": "execute_result"
    }
   ],
   "source": [
    "mine.shape,theres.shape"
   ]
  },
  {
   "cell_type": "code",
   "execution_count": 5,
   "metadata": {},
   "outputs": [],
   "source": [
    "for i,f in theres.iterrows():\n",
    "    if f.File not in mine.File.tolist():\n",
    "        print(f.File)"
   ]
  },
  {
   "cell_type": "code",
   "execution_count": 6,
   "metadata": {},
   "outputs": [],
   "source": [
    "failedsum = []\n",
    "for i,f in mine.iterrows():\n",
    "    fname = f.File\n",
    "    fsum = f.Checksum\n",
    "    \n",
    "    tsum = theres[(theres.File==fname)].Checksum.min()\n",
    "    \n",
    "    if tsum!=fsum:\n",
    "        failedsum.append((fname,fsum,tsum))"
   ]
  },
  {
   "cell_type": "code",
   "execution_count": 7,
   "metadata": {},
   "outputs": [
    {
     "data": {
      "text/plain": [
       "[]"
      ]
     },
     "execution_count": 7,
     "metadata": {},
     "output_type": "execute_result"
    }
   ],
   "source": [
    "failedsum"
   ]
  }
 ],
 "metadata": {
  "kernelspec": {
   "display_name": "Python 3",
   "language": "python",
   "name": "python3"
  },
  "language_info": {
   "codemirror_mode": {
    "name": "ipython",
    "version": 3
   },
   "file_extension": ".py",
   "mimetype": "text/x-python",
   "name": "python",
   "nbconvert_exporter": "python",
   "pygments_lexer": "ipython3",
   "version": "3.7.3"
  }
 },
 "nbformat": 4,
 "nbformat_minor": 4
}
