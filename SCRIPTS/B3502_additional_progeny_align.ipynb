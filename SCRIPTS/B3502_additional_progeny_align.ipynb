{
 "cells": [
  {
   "cell_type": "code",
   "execution_count": 1,
   "metadata": {},
   "outputs": [
    {
     "data": {
      "text/html": [
       "<div>\n",
       "<style scoped>\n",
       "    .dataframe tbody tr th:only-of-type {\n",
       "        vertical-align: middle;\n",
       "    }\n",
       "\n",
       "    .dataframe tbody tr th {\n",
       "        vertical-align: top;\n",
       "    }\n",
       "\n",
       "    .dataframe thead th {\n",
       "        text-align: right;\n",
       "    }\n",
       "</style>\n",
       "<table border=\"1\" class=\"dataframe\">\n",
       "  <thead>\n",
       "    <tr style=\"text-align: right;\">\n",
       "      <th></th>\n",
       "      <th>Sample ID</th>\n",
       "      <th>Strain</th>\n",
       "      <th>Species</th>\n",
       "      <th>ID</th>\n",
       "      <th>Notes</th>\n",
       "      <th>Phenotyping Code for QTL</th>\n",
       "      <th>NewID</th>\n",
       "    </tr>\n",
       "  </thead>\n",
       "  <tbody>\n",
       "    <tr>\n",
       "      <th>0</th>\n",
       "      <td>SS01</td>\n",
       "      <td>NIH12</td>\n",
       "      <td>Cryptococcus neoformans</td>\n",
       "      <td>SS-I532</td>\n",
       "      <td>WT</td>\n",
       "      <td>N</td>\n",
       "      <td>6975-S1_S</td>\n",
       "    </tr>\n",
       "    <tr>\n",
       "      <th>1</th>\n",
       "      <td>SS02</td>\n",
       "      <td>NIH433</td>\n",
       "      <td>Cryptococcus neoformans</td>\n",
       "      <td>SS-I533</td>\n",
       "      <td>WT</td>\n",
       "      <td>N</td>\n",
       "      <td>6975-S2_S</td>\n",
       "    </tr>\n",
       "    <tr>\n",
       "      <th>2</th>\n",
       "      <td>SS12</td>\n",
       "      <td>I641</td>\n",
       "      <td>Cryptococcus deneoformans</td>\n",
       "      <td>SS-I641</td>\n",
       "      <td>Remaining random spore progeny from B3502 crosses</td>\n",
       "      <td>N</td>\n",
       "      <td>6975-S12_S</td>\n",
       "    </tr>\n",
       "    <tr>\n",
       "      <th>3</th>\n",
       "      <td>SS13</td>\n",
       "      <td>I643</td>\n",
       "      <td>Cryptococcus deneoformans</td>\n",
       "      <td>SS-I643</td>\n",
       "      <td>Remaining random spore progeny from B3502 crosses</td>\n",
       "      <td>N</td>\n",
       "      <td>6975-S13_S</td>\n",
       "    </tr>\n",
       "    <tr>\n",
       "      <th>4</th>\n",
       "      <td>SS14</td>\n",
       "      <td>I645</td>\n",
       "      <td>Cryptococcus deneoformans</td>\n",
       "      <td>SS-I645</td>\n",
       "      <td>Remaining random spore progeny from B3502 crosses</td>\n",
       "      <td>N</td>\n",
       "      <td>6975-S14_S</td>\n",
       "    </tr>\n",
       "  </tbody>\n",
       "</table>\n",
       "</div>"
      ],
      "text/plain": [
       "  Sample ID  Strain                    Species       ID  \\\n",
       "0      SS01   NIH12    Cryptococcus neoformans  SS-I532   \n",
       "1      SS02  NIH433    Cryptococcus neoformans  SS-I533   \n",
       "2      SS12    I641  Cryptococcus deneoformans  SS-I641   \n",
       "3      SS13    I643  Cryptococcus deneoformans  SS-I643   \n",
       "4      SS14    I645  Cryptococcus deneoformans  SS-I645   \n",
       "\n",
       "                                               Notes Phenotyping Code for QTL  \\\n",
       "0                                                 WT                        N   \n",
       "1                                                 WT                        N   \n",
       "2  Remaining random spore progeny from B3502 crosses                        N   \n",
       "3  Remaining random spore progeny from B3502 crosses                        N   \n",
       "4  Remaining random spore progeny from B3502 crosses                        N   \n",
       "\n",
       "        NewID  \n",
       "0   6975-S1_S  \n",
       "1   6975-S2_S  \n",
       "2  6975-S12_S  \n",
       "3  6975-S13_S  \n",
       "4  6975-S14_S  "
      ]
     },
     "execution_count": 1,
     "metadata": {},
     "output_type": "execute_result"
    }
   ],
   "source": [
    "## Bring in needed mods\n",
    "import numpy as np, pandas as pd\n",
    "\n",
    "## List to checksum\n",
    "checkpath = '/home/croth/Self-Filamentation_B3502_progeny/202105_Samples_for_Illumina_ForCullen.xlsx'\n",
    "\n",
    "## Load in sample / phenotype info\n",
    "checksums = pd.read_excel(checkpath)\n",
    "\n",
    "## Append a new id\n",
    "checksums['NewID'] = [ '6975-S%s_S'%str(int(s[2:])) for s in checksums['Sample ID']]\n",
    "\n",
    "## view head\n",
    "checksums.head()"
   ]
  },
  {
   "cell_type": "code",
   "execution_count": 2,
   "metadata": {},
   "outputs": [
    {
     "data": {
      "text/html": [
       "<div>\n",
       "<style scoped>\n",
       "    .dataframe tbody tr th:only-of-type {\n",
       "        vertical-align: middle;\n",
       "    }\n",
       "\n",
       "    .dataframe tbody tr th {\n",
       "        vertical-align: top;\n",
       "    }\n",
       "\n",
       "    .dataframe thead th {\n",
       "        text-align: right;\n",
       "    }\n",
       "</style>\n",
       "<table border=\"1\" class=\"dataframe\">\n",
       "  <thead>\n",
       "    <tr style=\"text-align: right;\">\n",
       "      <th></th>\n",
       "      <th>Sample ID</th>\n",
       "      <th>Strain</th>\n",
       "      <th>Species</th>\n",
       "      <th>ID</th>\n",
       "      <th>Notes</th>\n",
       "      <th>Phenotyping Code for QTL</th>\n",
       "      <th>NewID</th>\n",
       "    </tr>\n",
       "  </thead>\n",
       "  <tbody>\n",
       "    <tr>\n",
       "      <th>20</th>\n",
       "      <td>SS30</td>\n",
       "      <td>B_29</td>\n",
       "      <td>Cryptococcus deneoformans</td>\n",
       "      <td>NaN</td>\n",
       "      <td>Progeny from B3502 crosses (from the original ...</td>\n",
       "      <td>L</td>\n",
       "      <td>6975-S30_S</td>\n",
       "    </tr>\n",
       "    <tr>\n",
       "      <th>21</th>\n",
       "      <td>SS31</td>\n",
       "      <td>B_30</td>\n",
       "      <td>Cryptococcus deneoformans</td>\n",
       "      <td>NaN</td>\n",
       "      <td>Progeny from B3502 crosses (from the original ...</td>\n",
       "      <td>N</td>\n",
       "      <td>6975-S31_S</td>\n",
       "    </tr>\n",
       "    <tr>\n",
       "      <th>22</th>\n",
       "      <td>SS32</td>\n",
       "      <td>B_31</td>\n",
       "      <td>Cryptococcus deneoformans</td>\n",
       "      <td>NaN</td>\n",
       "      <td>Progeny from B3502 crosses (from the original ...</td>\n",
       "      <td>L</td>\n",
       "      <td>6975-S32_S</td>\n",
       "    </tr>\n",
       "    <tr>\n",
       "      <th>23</th>\n",
       "      <td>SS33</td>\n",
       "      <td>B_32</td>\n",
       "      <td>Cryptococcus deneoformans</td>\n",
       "      <td>NaN</td>\n",
       "      <td>Progeny from B3502 crosses (from the original ...</td>\n",
       "      <td>N (with rare spots of T)</td>\n",
       "      <td>6975-S33_S</td>\n",
       "    </tr>\n",
       "    <tr>\n",
       "      <th>24</th>\n",
       "      <td>SS34</td>\n",
       "      <td>B_33</td>\n",
       "      <td>Cryptococcus deneoformans</td>\n",
       "      <td>NaN</td>\n",
       "      <td>Progeny from B3502 crosses (from the original ...</td>\n",
       "      <td>L</td>\n",
       "      <td>6975-S34_S</td>\n",
       "    </tr>\n",
       "  </tbody>\n",
       "</table>\n",
       "</div>"
      ],
      "text/plain": [
       "   Sample ID Strain                    Species   ID  \\\n",
       "20      SS30   B_29  Cryptococcus deneoformans  NaN   \n",
       "21      SS31   B_30  Cryptococcus deneoformans  NaN   \n",
       "22      SS32   B_31  Cryptococcus deneoformans  NaN   \n",
       "23      SS33   B_32  Cryptococcus deneoformans  NaN   \n",
       "24      SS34   B_33  Cryptococcus deneoformans  NaN   \n",
       "\n",
       "                                                Notes  \\\n",
       "20  Progeny from B3502 crosses (from the original ...   \n",
       "21  Progeny from B3502 crosses (from the original ...   \n",
       "22  Progeny from B3502 crosses (from the original ...   \n",
       "23  Progeny from B3502 crosses (from the original ...   \n",
       "24  Progeny from B3502 crosses (from the original ...   \n",
       "\n",
       "    Phenotyping Code for QTL       NewID  \n",
       "20                         L  6975-S30_S  \n",
       "21                         N  6975-S31_S  \n",
       "22                         L  6975-S32_S  \n",
       "23  N (with rare spots of T)  6975-S33_S  \n",
       "24                         L  6975-S34_S  "
      ]
     },
     "execution_count": 2,
     "metadata": {},
     "output_type": "execute_result"
    }
   ],
   "source": [
    "## View tail\n",
    "checksums.tail()"
   ]
  },
  {
   "cell_type": "code",
   "execution_count": 3,
   "metadata": {},
   "outputs": [],
   "source": [
    "## Check work\n",
    "errormess = \"Samples and strains are not unique\"\n",
    "assert checksums[['Sample ID','Strain']].drop_duplicates().shape[0] == checksums[['Sample ID','Strain']].shape[0], errormess"
   ]
  },
  {
   "cell_type": "code",
   "execution_count": 4,
   "metadata": {},
   "outputs": [],
   "source": [
    "## Set path to reference on big duck\n",
    "refpath = '/analysis/CROTH/Self-Filamentation_B3502_progeny/REF/FungiDB-48_CneoformansJEC21_Genome.fasta'\n",
    "\n",
    "## set data path\n",
    "datapath = '/analysis/CROTH/SELFFILAM/'\n",
    "\n",
    "## set fastq path\n",
    "fastqpath = datapath + 'FASTQ/'\n",
    "\n",
    "## set sam path \n",
    "sampath = datapath+'SAM/ADDITIONAL_PROGENY_B3502/'\n",
    "\n",
    "## set bam path\n",
    "#bampath = datapath+'BAM/'\n",
    "\n",
    "## set bamaddrg path\n",
    "addrgpath = '/home/croth/bin/./bamaddrg -b'\n",
    "\n",
    "## set command\n",
    "command = 'bwa mem -a -M %s %s %s | samtools view -F 4 -b | samtools sort -o %s'"
   ]
  },
  {
   "cell_type": "code",
   "execution_count": 5,
   "metadata": {},
   "outputs": [],
   "source": [
    "## gather samples and strain\n",
    "samples = checksums.NewID.tolist()\n",
    "strains = checksums.Strain.tolist()"
   ]
  },
  {
   "cell_type": "code",
   "execution_count": 12,
   "metadata": {},
   "outputs": [],
   "source": [
    "## construct bam commands and take them ordred by size\n",
    "bwa = np.array([command%(refpath,\n",
    "                         fastqpath+f+'*_R1_*.fastq.gz',\n",
    "                         fastqpath+f+'*_R2*.fastq.gz',\n",
    "                         sampath + f+'-sm.bam\\n') + '\\n%s %s -s %s -r %s > %s\\n\\nrm %s\\n\\n'%(\n",
    "                         addrgpath,sampath+f+'-sm.bam',strains[i],'%s_%s'%(strains[i],f),\n",
    "                        sampath+f+'-smr.bam',sampath+f+'-sm.bam'\n",
    "                ) + 'samtools index %s-smr.bam\\n\\n\\n\\n'%(sampath+f)\n",
    "                for i,f in enumerate(samples)])"
   ]
  },
  {
   "cell_type": "code",
   "execution_count": 20,
   "metadata": {},
   "outputs": [],
   "source": [
    "samix = [b.split('\\n')[-5] for b in bwa]\n",
    "assert len(samix) == len(bwa)"
   ]
  },
  {
   "cell_type": "code",
   "execution_count": 24,
   "metadata": {},
   "outputs": [
    {
     "name": "stdout",
     "output_type": "stream",
     "text": [
      "samtools index /analysis/CROTH/SELFFILAM/SAM/ADDITIONAL_PROGENY_B3502/6975-S1_S-smr.bam\n",
      "samtools index /analysis/CROTH/SELFFILAM/SAM/ADDITIONAL_PROGENY_B3502/6975-S2_S-smr.bam\n",
      "samtools index /analysis/CROTH/SELFFILAM/SAM/ADDITIONAL_PROGENY_B3502/6975-S12_S-smr.bam\n",
      "samtools index /analysis/CROTH/SELFFILAM/SAM/ADDITIONAL_PROGENY_B3502/6975-S13_S-smr.bam\n",
      "samtools index /analysis/CROTH/SELFFILAM/SAM/ADDITIONAL_PROGENY_B3502/6975-S14_S-smr.bam\n",
      "samtools index /analysis/CROTH/SELFFILAM/SAM/ADDITIONAL_PROGENY_B3502/6975-S15_S-smr.bam\n",
      "samtools index /analysis/CROTH/SELFFILAM/SAM/ADDITIONAL_PROGENY_B3502/6975-S16_S-smr.bam\n",
      "samtools index /analysis/CROTH/SELFFILAM/SAM/ADDITIONAL_PROGENY_B3502/6975-S17_S-smr.bam\n",
      "samtools index /analysis/CROTH/SELFFILAM/SAM/ADDITIONAL_PROGENY_B3502/6975-S18_S-smr.bam\n",
      "samtools index /analysis/CROTH/SELFFILAM/SAM/ADDITIONAL_PROGENY_B3502/6975-S19_S-smr.bam\n",
      "samtools index /analysis/CROTH/SELFFILAM/SAM/ADDITIONAL_PROGENY_B3502/6975-S20_S-smr.bam\n",
      "samtools index /analysis/CROTH/SELFFILAM/SAM/ADDITIONAL_PROGENY_B3502/6975-S21_S-smr.bam\n",
      "samtools index /analysis/CROTH/SELFFILAM/SAM/ADDITIONAL_PROGENY_B3502/6975-S22_S-smr.bam\n",
      "samtools index /analysis/CROTH/SELFFILAM/SAM/ADDITIONAL_PROGENY_B3502/6975-S23_S-smr.bam\n",
      "samtools index /analysis/CROTH/SELFFILAM/SAM/ADDITIONAL_PROGENY_B3502/6975-S24_S-smr.bam\n",
      "samtools index /analysis/CROTH/SELFFILAM/SAM/ADDITIONAL_PROGENY_B3502/6975-S25_S-smr.bam\n",
      "samtools index /analysis/CROTH/SELFFILAM/SAM/ADDITIONAL_PROGENY_B3502/6975-S26_S-smr.bam\n",
      "samtools index /analysis/CROTH/SELFFILAM/SAM/ADDITIONAL_PROGENY_B3502/6975-S27_S-smr.bam\n",
      "samtools index /analysis/CROTH/SELFFILAM/SAM/ADDITIONAL_PROGENY_B3502/6975-S28_S-smr.bam\n",
      "samtools index /analysis/CROTH/SELFFILAM/SAM/ADDITIONAL_PROGENY_B3502/6975-S29_S-smr.bam\n",
      "samtools index /analysis/CROTH/SELFFILAM/SAM/ADDITIONAL_PROGENY_B3502/6975-S30_S-smr.bam\n",
      "samtools index /analysis/CROTH/SELFFILAM/SAM/ADDITIONAL_PROGENY_B3502/6975-S31_S-smr.bam\n",
      "samtools index /analysis/CROTH/SELFFILAM/SAM/ADDITIONAL_PROGENY_B3502/6975-S32_S-smr.bam\n",
      "samtools index /analysis/CROTH/SELFFILAM/SAM/ADDITIONAL_PROGENY_B3502/6975-S33_S-smr.bam\n",
      "samtools index /analysis/CROTH/SELFFILAM/SAM/ADDITIONAL_PROGENY_B3502/6975-S34_S-smr.bam\n"
     ]
    }
   ],
   "source": [
    "print('\\n'.join(samix))"
   ]
  },
  {
   "cell_type": "code",
   "execution_count": 13,
   "metadata": {},
   "outputs": [
    {
     "name": "stdout",
     "output_type": "stream",
     "text": [
      "bwa mem -a -M /analysis/CROTH/Self-Filamentation_B3502_progeny/REF/FungiDB-48_CneoformansJEC21_Genome.fasta /analysis/CROTH/SELFFILAM/FASTQ/6975-S1_S*_R1_*.fastq.gz /analysis/CROTH/SELFFILAM/FASTQ/6975-S1_S*_R2*.fastq.gz | samtools view -F 4 -b | samtools sort -o /analysis/CROTH/SELFFILAM/SAM/ADDITIONAL_PROGENY_B3502/6975-S1_S-sm.bam\n",
      "\n",
      "/home/croth/bin/./bamaddrg -b /analysis/CROTH/SELFFILAM/SAM/ADDITIONAL_PROGENY_B3502/6975-S1_S-sm.bam -s NIH12 -r NIH12_6975-S1_S > /analysis/CROTH/SELFFILAM/SAM/ADDITIONAL_PROGENY_B3502/6975-S1_S-smr.bam\n",
      "\n",
      "rm /analysis/CROTH/SELFFILAM/SAM/ADDITIONAL_PROGENY_B3502/6975-S1_S-sm.bam\n",
      "\n",
      "samtools index /analysis/CROTH/SELFFILAM/SAM/ADDITIONAL_PROGENY_B3502/6975-S1_S-smr.bam\n",
      "\n",
      "\n",
      "\n",
      "\n"
     ]
    }
   ],
   "source": [
    "## view first command\n",
    "print(bwa[0])"
   ]
  },
  {
   "cell_type": "code",
   "execution_count": 25,
   "metadata": {},
   "outputs": [
    {
     "data": {
      "text/plain": [
       "array(['bwa mem -a -M /analysis/CROTH/Self-Filamentation_B3502_progeny/REF/FungiDB-48_CneoformansJEC21_Genome.fasta /analysis/CROTH/SELFFILAM/FASTQ/6975-S1_S*_R1_*.fastq.gz /analysis/CROTH/SELFFILAM/FASTQ/6975-S1_S*_R2*.fastq.gz | samtools view -F 4 -b | samtools sort -o /analysis/CROTH/SELFFILAM/SAM/ADDITIONAL_PROGENY_B3502/6975-S1_S-sm.bam\\n\\n/home/croth/bin/./bamaddrg -b /analysis/CROTH/SELFFILAM/SAM/ADDITIONAL_PROGENY_B3502/6975-S1_S-sm.bam -s NIH12 -r NIH12_6975-S1_S > /analysis/CROTH/SELFFILAM/SAM/ADDITIONAL_PROGENY_B3502/6975-S1_S-smr.bam\\n\\nrm /analysis/CROTH/SELFFILAM/SAM/ADDITIONAL_PROGENY_B3502/6975-S1_S-sm.bam\\n\\nsamtools index /analysis/CROTH/SELFFILAM/SAM/ADDITIONAL_PROGENY_B3502/6975-S1_S-smr.bam\\n\\n\\n\\n',\n",
       "       'bwa mem -a -M /analysis/CROTH/Self-Filamentation_B3502_progeny/REF/FungiDB-48_CneoformansJEC21_Genome.fasta /analysis/CROTH/SELFFILAM/FASTQ/6975-S2_S*_R1_*.fastq.gz /analysis/CROTH/SELFFILAM/FASTQ/6975-S2_S*_R2*.fastq.gz | samtools view -F 4 -b | samtools sort -o /analysis/CROTH/SELFFILAM/SAM/ADDITIONAL_PROGENY_B3502/6975-S2_S-sm.bam\\n\\n/home/croth/bin/./bamaddrg -b /analysis/CROTH/SELFFILAM/SAM/ADDITIONAL_PROGENY_B3502/6975-S2_S-sm.bam -s NIH433 -r NIH433_6975-S2_S > /analysis/CROTH/SELFFILAM/SAM/ADDITIONAL_PROGENY_B3502/6975-S2_S-smr.bam\\n\\nrm /analysis/CROTH/SELFFILAM/SAM/ADDITIONAL_PROGENY_B3502/6975-S2_S-sm.bam\\n\\nsamtools index /analysis/CROTH/SELFFILAM/SAM/ADDITIONAL_PROGENY_B3502/6975-S2_S-smr.bam\\n\\n\\n\\n',\n",
       "       'bwa mem -a -M /analysis/CROTH/Self-Filamentation_B3502_progeny/REF/FungiDB-48_CneoformansJEC21_Genome.fasta /analysis/CROTH/SELFFILAM/FASTQ/6975-S12_S*_R1_*.fastq.gz /analysis/CROTH/SELFFILAM/FASTQ/6975-S12_S*_R2*.fastq.gz | samtools view -F 4 -b | samtools sort -o /analysis/CROTH/SELFFILAM/SAM/ADDITIONAL_PROGENY_B3502/6975-S12_S-sm.bam\\n\\n/home/croth/bin/./bamaddrg -b /analysis/CROTH/SELFFILAM/SAM/ADDITIONAL_PROGENY_B3502/6975-S12_S-sm.bam -s I641 -r I641_6975-S12_S > /analysis/CROTH/SELFFILAM/SAM/ADDITIONAL_PROGENY_B3502/6975-S12_S-smr.bam\\n\\nrm /analysis/CROTH/SELFFILAM/SAM/ADDITIONAL_PROGENY_B3502/6975-S12_S-sm.bam\\n\\nsamtools index /analysis/CROTH/SELFFILAM/SAM/ADDITIONAL_PROGENY_B3502/6975-S12_S-smr.bam\\n\\n\\n\\n',\n",
       "       'bwa mem -a -M /analysis/CROTH/Self-Filamentation_B3502_progeny/REF/FungiDB-48_CneoformansJEC21_Genome.fasta /analysis/CROTH/SELFFILAM/FASTQ/6975-S13_S*_R1_*.fastq.gz /analysis/CROTH/SELFFILAM/FASTQ/6975-S13_S*_R2*.fastq.gz | samtools view -F 4 -b | samtools sort -o /analysis/CROTH/SELFFILAM/SAM/ADDITIONAL_PROGENY_B3502/6975-S13_S-sm.bam\\n\\n/home/croth/bin/./bamaddrg -b /analysis/CROTH/SELFFILAM/SAM/ADDITIONAL_PROGENY_B3502/6975-S13_S-sm.bam -s I643 -r I643_6975-S13_S > /analysis/CROTH/SELFFILAM/SAM/ADDITIONAL_PROGENY_B3502/6975-S13_S-smr.bam\\n\\nrm /analysis/CROTH/SELFFILAM/SAM/ADDITIONAL_PROGENY_B3502/6975-S13_S-sm.bam\\n\\nsamtools index /analysis/CROTH/SELFFILAM/SAM/ADDITIONAL_PROGENY_B3502/6975-S13_S-smr.bam\\n\\n\\n\\n',\n",
       "       'bwa mem -a -M /analysis/CROTH/Self-Filamentation_B3502_progeny/REF/FungiDB-48_CneoformansJEC21_Genome.fasta /analysis/CROTH/SELFFILAM/FASTQ/6975-S14_S*_R1_*.fastq.gz /analysis/CROTH/SELFFILAM/FASTQ/6975-S14_S*_R2*.fastq.gz | samtools view -F 4 -b | samtools sort -o /analysis/CROTH/SELFFILAM/SAM/ADDITIONAL_PROGENY_B3502/6975-S14_S-sm.bam\\n\\n/home/croth/bin/./bamaddrg -b /analysis/CROTH/SELFFILAM/SAM/ADDITIONAL_PROGENY_B3502/6975-S14_S-sm.bam -s I645 -r I645_6975-S14_S > /analysis/CROTH/SELFFILAM/SAM/ADDITIONAL_PROGENY_B3502/6975-S14_S-smr.bam\\n\\nrm /analysis/CROTH/SELFFILAM/SAM/ADDITIONAL_PROGENY_B3502/6975-S14_S-sm.bam\\n\\nsamtools index /analysis/CROTH/SELFFILAM/SAM/ADDITIONAL_PROGENY_B3502/6975-S14_S-smr.bam\\n\\n\\n\\n',\n",
       "       'bwa mem -a -M /analysis/CROTH/Self-Filamentation_B3502_progeny/REF/FungiDB-48_CneoformansJEC21_Genome.fasta /analysis/CROTH/SELFFILAM/FASTQ/6975-S15_S*_R1_*.fastq.gz /analysis/CROTH/SELFFILAM/FASTQ/6975-S15_S*_R2*.fastq.gz | samtools view -F 4 -b | samtools sort -o /analysis/CROTH/SELFFILAM/SAM/ADDITIONAL_PROGENY_B3502/6975-S15_S-sm.bam\\n\\n/home/croth/bin/./bamaddrg -b /analysis/CROTH/SELFFILAM/SAM/ADDITIONAL_PROGENY_B3502/6975-S15_S-sm.bam -s B_13 -r B_13_6975-S15_S > /analysis/CROTH/SELFFILAM/SAM/ADDITIONAL_PROGENY_B3502/6975-S15_S-smr.bam\\n\\nrm /analysis/CROTH/SELFFILAM/SAM/ADDITIONAL_PROGENY_B3502/6975-S15_S-sm.bam\\n\\nsamtools index /analysis/CROTH/SELFFILAM/SAM/ADDITIONAL_PROGENY_B3502/6975-S15_S-smr.bam\\n\\n\\n\\n',\n",
       "       'bwa mem -a -M /analysis/CROTH/Self-Filamentation_B3502_progeny/REF/FungiDB-48_CneoformansJEC21_Genome.fasta /analysis/CROTH/SELFFILAM/FASTQ/6975-S16_S*_R1_*.fastq.gz /analysis/CROTH/SELFFILAM/FASTQ/6975-S16_S*_R2*.fastq.gz | samtools view -F 4 -b | samtools sort -o /analysis/CROTH/SELFFILAM/SAM/ADDITIONAL_PROGENY_B3502/6975-S16_S-sm.bam\\n\\n/home/croth/bin/./bamaddrg -b /analysis/CROTH/SELFFILAM/SAM/ADDITIONAL_PROGENY_B3502/6975-S16_S-sm.bam -s B_14 -r B_14_6975-S16_S > /analysis/CROTH/SELFFILAM/SAM/ADDITIONAL_PROGENY_B3502/6975-S16_S-smr.bam\\n\\nrm /analysis/CROTH/SELFFILAM/SAM/ADDITIONAL_PROGENY_B3502/6975-S16_S-sm.bam\\n\\nsamtools index /analysis/CROTH/SELFFILAM/SAM/ADDITIONAL_PROGENY_B3502/6975-S16_S-smr.bam\\n\\n\\n\\n',\n",
       "       'bwa mem -a -M /analysis/CROTH/Self-Filamentation_B3502_progeny/REF/FungiDB-48_CneoformansJEC21_Genome.fasta /analysis/CROTH/SELFFILAM/FASTQ/6975-S17_S*_R1_*.fastq.gz /analysis/CROTH/SELFFILAM/FASTQ/6975-S17_S*_R2*.fastq.gz | samtools view -F 4 -b | samtools sort -o /analysis/CROTH/SELFFILAM/SAM/ADDITIONAL_PROGENY_B3502/6975-S17_S-sm.bam\\n\\n/home/croth/bin/./bamaddrg -b /analysis/CROTH/SELFFILAM/SAM/ADDITIONAL_PROGENY_B3502/6975-S17_S-sm.bam -s B_15 -r B_15_6975-S17_S > /analysis/CROTH/SELFFILAM/SAM/ADDITIONAL_PROGENY_B3502/6975-S17_S-smr.bam\\n\\nrm /analysis/CROTH/SELFFILAM/SAM/ADDITIONAL_PROGENY_B3502/6975-S17_S-sm.bam\\n\\nsamtools index /analysis/CROTH/SELFFILAM/SAM/ADDITIONAL_PROGENY_B3502/6975-S17_S-smr.bam\\n\\n\\n\\n',\n",
       "       'bwa mem -a -M /analysis/CROTH/Self-Filamentation_B3502_progeny/REF/FungiDB-48_CneoformansJEC21_Genome.fasta /analysis/CROTH/SELFFILAM/FASTQ/6975-S18_S*_R1_*.fastq.gz /analysis/CROTH/SELFFILAM/FASTQ/6975-S18_S*_R2*.fastq.gz | samtools view -F 4 -b | samtools sort -o /analysis/CROTH/SELFFILAM/SAM/ADDITIONAL_PROGENY_B3502/6975-S18_S-sm.bam\\n\\n/home/croth/bin/./bamaddrg -b /analysis/CROTH/SELFFILAM/SAM/ADDITIONAL_PROGENY_B3502/6975-S18_S-sm.bam -s B_16 -r B_16_6975-S18_S > /analysis/CROTH/SELFFILAM/SAM/ADDITIONAL_PROGENY_B3502/6975-S18_S-smr.bam\\n\\nrm /analysis/CROTH/SELFFILAM/SAM/ADDITIONAL_PROGENY_B3502/6975-S18_S-sm.bam\\n\\nsamtools index /analysis/CROTH/SELFFILAM/SAM/ADDITIONAL_PROGENY_B3502/6975-S18_S-smr.bam\\n\\n\\n\\n',\n",
       "       'bwa mem -a -M /analysis/CROTH/Self-Filamentation_B3502_progeny/REF/FungiDB-48_CneoformansJEC21_Genome.fasta /analysis/CROTH/SELFFILAM/FASTQ/6975-S19_S*_R1_*.fastq.gz /analysis/CROTH/SELFFILAM/FASTQ/6975-S19_S*_R2*.fastq.gz | samtools view -F 4 -b | samtools sort -o /analysis/CROTH/SELFFILAM/SAM/ADDITIONAL_PROGENY_B3502/6975-S19_S-sm.bam\\n\\n/home/croth/bin/./bamaddrg -b /analysis/CROTH/SELFFILAM/SAM/ADDITIONAL_PROGENY_B3502/6975-S19_S-sm.bam -s B_17 -r B_17_6975-S19_S > /analysis/CROTH/SELFFILAM/SAM/ADDITIONAL_PROGENY_B3502/6975-S19_S-smr.bam\\n\\nrm /analysis/CROTH/SELFFILAM/SAM/ADDITIONAL_PROGENY_B3502/6975-S19_S-sm.bam\\n\\nsamtools index /analysis/CROTH/SELFFILAM/SAM/ADDITIONAL_PROGENY_B3502/6975-S19_S-smr.bam\\n\\n\\n\\n',\n",
       "       'bwa mem -a -M /analysis/CROTH/Self-Filamentation_B3502_progeny/REF/FungiDB-48_CneoformansJEC21_Genome.fasta /analysis/CROTH/SELFFILAM/FASTQ/6975-S20_S*_R1_*.fastq.gz /analysis/CROTH/SELFFILAM/FASTQ/6975-S20_S*_R2*.fastq.gz | samtools view -F 4 -b | samtools sort -o /analysis/CROTH/SELFFILAM/SAM/ADDITIONAL_PROGENY_B3502/6975-S20_S-sm.bam\\n\\n/home/croth/bin/./bamaddrg -b /analysis/CROTH/SELFFILAM/SAM/ADDITIONAL_PROGENY_B3502/6975-S20_S-sm.bam -s B_18 -r B_18_6975-S20_S > /analysis/CROTH/SELFFILAM/SAM/ADDITIONAL_PROGENY_B3502/6975-S20_S-smr.bam\\n\\nrm /analysis/CROTH/SELFFILAM/SAM/ADDITIONAL_PROGENY_B3502/6975-S20_S-sm.bam\\n\\nsamtools index /analysis/CROTH/SELFFILAM/SAM/ADDITIONAL_PROGENY_B3502/6975-S20_S-smr.bam\\n\\n\\n\\n',\n",
       "       'bwa mem -a -M /analysis/CROTH/Self-Filamentation_B3502_progeny/REF/FungiDB-48_CneoformansJEC21_Genome.fasta /analysis/CROTH/SELFFILAM/FASTQ/6975-S21_S*_R1_*.fastq.gz /analysis/CROTH/SELFFILAM/FASTQ/6975-S21_S*_R2*.fastq.gz | samtools view -F 4 -b | samtools sort -o /analysis/CROTH/SELFFILAM/SAM/ADDITIONAL_PROGENY_B3502/6975-S21_S-sm.bam\\n\\n/home/croth/bin/./bamaddrg -b /analysis/CROTH/SELFFILAM/SAM/ADDITIONAL_PROGENY_B3502/6975-S21_S-sm.bam -s B_19 -r B_19_6975-S21_S > /analysis/CROTH/SELFFILAM/SAM/ADDITIONAL_PROGENY_B3502/6975-S21_S-smr.bam\\n\\nrm /analysis/CROTH/SELFFILAM/SAM/ADDITIONAL_PROGENY_B3502/6975-S21_S-sm.bam\\n\\nsamtools index /analysis/CROTH/SELFFILAM/SAM/ADDITIONAL_PROGENY_B3502/6975-S21_S-smr.bam\\n\\n\\n\\n',\n",
       "       'bwa mem -a -M /analysis/CROTH/Self-Filamentation_B3502_progeny/REF/FungiDB-48_CneoformansJEC21_Genome.fasta /analysis/CROTH/SELFFILAM/FASTQ/6975-S22_S*_R1_*.fastq.gz /analysis/CROTH/SELFFILAM/FASTQ/6975-S22_S*_R2*.fastq.gz | samtools view -F 4 -b | samtools sort -o /analysis/CROTH/SELFFILAM/SAM/ADDITIONAL_PROGENY_B3502/6975-S22_S-sm.bam\\n\\n/home/croth/bin/./bamaddrg -b /analysis/CROTH/SELFFILAM/SAM/ADDITIONAL_PROGENY_B3502/6975-S22_S-sm.bam -s B_21 -r B_21_6975-S22_S > /analysis/CROTH/SELFFILAM/SAM/ADDITIONAL_PROGENY_B3502/6975-S22_S-smr.bam\\n\\nrm /analysis/CROTH/SELFFILAM/SAM/ADDITIONAL_PROGENY_B3502/6975-S22_S-sm.bam\\n\\nsamtools index /analysis/CROTH/SELFFILAM/SAM/ADDITIONAL_PROGENY_B3502/6975-S22_S-smr.bam\\n\\n\\n\\n',\n",
       "       'bwa mem -a -M /analysis/CROTH/Self-Filamentation_B3502_progeny/REF/FungiDB-48_CneoformansJEC21_Genome.fasta /analysis/CROTH/SELFFILAM/FASTQ/6975-S23_S*_R1_*.fastq.gz /analysis/CROTH/SELFFILAM/FASTQ/6975-S23_S*_R2*.fastq.gz | samtools view -F 4 -b | samtools sort -o /analysis/CROTH/SELFFILAM/SAM/ADDITIONAL_PROGENY_B3502/6975-S23_S-sm.bam\\n\\n/home/croth/bin/./bamaddrg -b /analysis/CROTH/SELFFILAM/SAM/ADDITIONAL_PROGENY_B3502/6975-S23_S-sm.bam -s B_22 -r B_22_6975-S23_S > /analysis/CROTH/SELFFILAM/SAM/ADDITIONAL_PROGENY_B3502/6975-S23_S-smr.bam\\n\\nrm /analysis/CROTH/SELFFILAM/SAM/ADDITIONAL_PROGENY_B3502/6975-S23_S-sm.bam\\n\\nsamtools index /analysis/CROTH/SELFFILAM/SAM/ADDITIONAL_PROGENY_B3502/6975-S23_S-smr.bam\\n\\n\\n\\n',\n",
       "       'bwa mem -a -M /analysis/CROTH/Self-Filamentation_B3502_progeny/REF/FungiDB-48_CneoformansJEC21_Genome.fasta /analysis/CROTH/SELFFILAM/FASTQ/6975-S24_S*_R1_*.fastq.gz /analysis/CROTH/SELFFILAM/FASTQ/6975-S24_S*_R2*.fastq.gz | samtools view -F 4 -b | samtools sort -o /analysis/CROTH/SELFFILAM/SAM/ADDITIONAL_PROGENY_B3502/6975-S24_S-sm.bam\\n\\n/home/croth/bin/./bamaddrg -b /analysis/CROTH/SELFFILAM/SAM/ADDITIONAL_PROGENY_B3502/6975-S24_S-sm.bam -s B_23 -r B_23_6975-S24_S > /analysis/CROTH/SELFFILAM/SAM/ADDITIONAL_PROGENY_B3502/6975-S24_S-smr.bam\\n\\nrm /analysis/CROTH/SELFFILAM/SAM/ADDITIONAL_PROGENY_B3502/6975-S24_S-sm.bam\\n\\nsamtools index /analysis/CROTH/SELFFILAM/SAM/ADDITIONAL_PROGENY_B3502/6975-S24_S-smr.bam\\n\\n\\n\\n',\n",
       "       'bwa mem -a -M /analysis/CROTH/Self-Filamentation_B3502_progeny/REF/FungiDB-48_CneoformansJEC21_Genome.fasta /analysis/CROTH/SELFFILAM/FASTQ/6975-S25_S*_R1_*.fastq.gz /analysis/CROTH/SELFFILAM/FASTQ/6975-S25_S*_R2*.fastq.gz | samtools view -F 4 -b | samtools sort -o /analysis/CROTH/SELFFILAM/SAM/ADDITIONAL_PROGENY_B3502/6975-S25_S-sm.bam\\n\\n/home/croth/bin/./bamaddrg -b /analysis/CROTH/SELFFILAM/SAM/ADDITIONAL_PROGENY_B3502/6975-S25_S-sm.bam -s B_24 -r B_24_6975-S25_S > /analysis/CROTH/SELFFILAM/SAM/ADDITIONAL_PROGENY_B3502/6975-S25_S-smr.bam\\n\\nrm /analysis/CROTH/SELFFILAM/SAM/ADDITIONAL_PROGENY_B3502/6975-S25_S-sm.bam\\n\\nsamtools index /analysis/CROTH/SELFFILAM/SAM/ADDITIONAL_PROGENY_B3502/6975-S25_S-smr.bam\\n\\n\\n\\n',\n",
       "       'bwa mem -a -M /analysis/CROTH/Self-Filamentation_B3502_progeny/REF/FungiDB-48_CneoformansJEC21_Genome.fasta /analysis/CROTH/SELFFILAM/FASTQ/6975-S26_S*_R1_*.fastq.gz /analysis/CROTH/SELFFILAM/FASTQ/6975-S26_S*_R2*.fastq.gz | samtools view -F 4 -b | samtools sort -o /analysis/CROTH/SELFFILAM/SAM/ADDITIONAL_PROGENY_B3502/6975-S26_S-sm.bam\\n\\n/home/croth/bin/./bamaddrg -b /analysis/CROTH/SELFFILAM/SAM/ADDITIONAL_PROGENY_B3502/6975-S26_S-sm.bam -s B_25 -r B_25_6975-S26_S > /analysis/CROTH/SELFFILAM/SAM/ADDITIONAL_PROGENY_B3502/6975-S26_S-smr.bam\\n\\nrm /analysis/CROTH/SELFFILAM/SAM/ADDITIONAL_PROGENY_B3502/6975-S26_S-sm.bam\\n\\nsamtools index /analysis/CROTH/SELFFILAM/SAM/ADDITIONAL_PROGENY_B3502/6975-S26_S-smr.bam\\n\\n\\n\\n',\n",
       "       'bwa mem -a -M /analysis/CROTH/Self-Filamentation_B3502_progeny/REF/FungiDB-48_CneoformansJEC21_Genome.fasta /analysis/CROTH/SELFFILAM/FASTQ/6975-S27_S*_R1_*.fastq.gz /analysis/CROTH/SELFFILAM/FASTQ/6975-S27_S*_R2*.fastq.gz | samtools view -F 4 -b | samtools sort -o /analysis/CROTH/SELFFILAM/SAM/ADDITIONAL_PROGENY_B3502/6975-S27_S-sm.bam\\n\\n/home/croth/bin/./bamaddrg -b /analysis/CROTH/SELFFILAM/SAM/ADDITIONAL_PROGENY_B3502/6975-S27_S-sm.bam -s B_26 -r B_26_6975-S27_S > /analysis/CROTH/SELFFILAM/SAM/ADDITIONAL_PROGENY_B3502/6975-S27_S-smr.bam\\n\\nrm /analysis/CROTH/SELFFILAM/SAM/ADDITIONAL_PROGENY_B3502/6975-S27_S-sm.bam\\n\\nsamtools index /analysis/CROTH/SELFFILAM/SAM/ADDITIONAL_PROGENY_B3502/6975-S27_S-smr.bam\\n\\n\\n\\n',\n",
       "       'bwa mem -a -M /analysis/CROTH/Self-Filamentation_B3502_progeny/REF/FungiDB-48_CneoformansJEC21_Genome.fasta /analysis/CROTH/SELFFILAM/FASTQ/6975-S28_S*_R1_*.fastq.gz /analysis/CROTH/SELFFILAM/FASTQ/6975-S28_S*_R2*.fastq.gz | samtools view -F 4 -b | samtools sort -o /analysis/CROTH/SELFFILAM/SAM/ADDITIONAL_PROGENY_B3502/6975-S28_S-sm.bam\\n\\n/home/croth/bin/./bamaddrg -b /analysis/CROTH/SELFFILAM/SAM/ADDITIONAL_PROGENY_B3502/6975-S28_S-sm.bam -s B_27 -r B_27_6975-S28_S > /analysis/CROTH/SELFFILAM/SAM/ADDITIONAL_PROGENY_B3502/6975-S28_S-smr.bam\\n\\nrm /analysis/CROTH/SELFFILAM/SAM/ADDITIONAL_PROGENY_B3502/6975-S28_S-sm.bam\\n\\nsamtools index /analysis/CROTH/SELFFILAM/SAM/ADDITIONAL_PROGENY_B3502/6975-S28_S-smr.bam\\n\\n\\n\\n',\n",
       "       'bwa mem -a -M /analysis/CROTH/Self-Filamentation_B3502_progeny/REF/FungiDB-48_CneoformansJEC21_Genome.fasta /analysis/CROTH/SELFFILAM/FASTQ/6975-S29_S*_R1_*.fastq.gz /analysis/CROTH/SELFFILAM/FASTQ/6975-S29_S*_R2*.fastq.gz | samtools view -F 4 -b | samtools sort -o /analysis/CROTH/SELFFILAM/SAM/ADDITIONAL_PROGENY_B3502/6975-S29_S-sm.bam\\n\\n/home/croth/bin/./bamaddrg -b /analysis/CROTH/SELFFILAM/SAM/ADDITIONAL_PROGENY_B3502/6975-S29_S-sm.bam -s B_28 -r B_28_6975-S29_S > /analysis/CROTH/SELFFILAM/SAM/ADDITIONAL_PROGENY_B3502/6975-S29_S-smr.bam\\n\\nrm /analysis/CROTH/SELFFILAM/SAM/ADDITIONAL_PROGENY_B3502/6975-S29_S-sm.bam\\n\\nsamtools index /analysis/CROTH/SELFFILAM/SAM/ADDITIONAL_PROGENY_B3502/6975-S29_S-smr.bam\\n\\n\\n\\n',\n",
       "       'bwa mem -a -M /analysis/CROTH/Self-Filamentation_B3502_progeny/REF/FungiDB-48_CneoformansJEC21_Genome.fasta /analysis/CROTH/SELFFILAM/FASTQ/6975-S30_S*_R1_*.fastq.gz /analysis/CROTH/SELFFILAM/FASTQ/6975-S30_S*_R2*.fastq.gz | samtools view -F 4 -b | samtools sort -o /analysis/CROTH/SELFFILAM/SAM/ADDITIONAL_PROGENY_B3502/6975-S30_S-sm.bam\\n\\n/home/croth/bin/./bamaddrg -b /analysis/CROTH/SELFFILAM/SAM/ADDITIONAL_PROGENY_B3502/6975-S30_S-sm.bam -s B_29 -r B_29_6975-S30_S > /analysis/CROTH/SELFFILAM/SAM/ADDITIONAL_PROGENY_B3502/6975-S30_S-smr.bam\\n\\nrm /analysis/CROTH/SELFFILAM/SAM/ADDITIONAL_PROGENY_B3502/6975-S30_S-sm.bam\\n\\nsamtools index /analysis/CROTH/SELFFILAM/SAM/ADDITIONAL_PROGENY_B3502/6975-S30_S-smr.bam\\n\\n\\n\\n',\n",
       "       'bwa mem -a -M /analysis/CROTH/Self-Filamentation_B3502_progeny/REF/FungiDB-48_CneoformansJEC21_Genome.fasta /analysis/CROTH/SELFFILAM/FASTQ/6975-S31_S*_R1_*.fastq.gz /analysis/CROTH/SELFFILAM/FASTQ/6975-S31_S*_R2*.fastq.gz | samtools view -F 4 -b | samtools sort -o /analysis/CROTH/SELFFILAM/SAM/ADDITIONAL_PROGENY_B3502/6975-S31_S-sm.bam\\n\\n/home/croth/bin/./bamaddrg -b /analysis/CROTH/SELFFILAM/SAM/ADDITIONAL_PROGENY_B3502/6975-S31_S-sm.bam -s B_30 -r B_30_6975-S31_S > /analysis/CROTH/SELFFILAM/SAM/ADDITIONAL_PROGENY_B3502/6975-S31_S-smr.bam\\n\\nrm /analysis/CROTH/SELFFILAM/SAM/ADDITIONAL_PROGENY_B3502/6975-S31_S-sm.bam\\n\\nsamtools index /analysis/CROTH/SELFFILAM/SAM/ADDITIONAL_PROGENY_B3502/6975-S31_S-smr.bam\\n\\n\\n\\n',\n",
       "       'bwa mem -a -M /analysis/CROTH/Self-Filamentation_B3502_progeny/REF/FungiDB-48_CneoformansJEC21_Genome.fasta /analysis/CROTH/SELFFILAM/FASTQ/6975-S32_S*_R1_*.fastq.gz /analysis/CROTH/SELFFILAM/FASTQ/6975-S32_S*_R2*.fastq.gz | samtools view -F 4 -b | samtools sort -o /analysis/CROTH/SELFFILAM/SAM/ADDITIONAL_PROGENY_B3502/6975-S32_S-sm.bam\\n\\n/home/croth/bin/./bamaddrg -b /analysis/CROTH/SELFFILAM/SAM/ADDITIONAL_PROGENY_B3502/6975-S32_S-sm.bam -s B_31 -r B_31_6975-S32_S > /analysis/CROTH/SELFFILAM/SAM/ADDITIONAL_PROGENY_B3502/6975-S32_S-smr.bam\\n\\nrm /analysis/CROTH/SELFFILAM/SAM/ADDITIONAL_PROGENY_B3502/6975-S32_S-sm.bam\\n\\nsamtools index /analysis/CROTH/SELFFILAM/SAM/ADDITIONAL_PROGENY_B3502/6975-S32_S-smr.bam\\n\\n\\n\\n',\n",
       "       'bwa mem -a -M /analysis/CROTH/Self-Filamentation_B3502_progeny/REF/FungiDB-48_CneoformansJEC21_Genome.fasta /analysis/CROTH/SELFFILAM/FASTQ/6975-S33_S*_R1_*.fastq.gz /analysis/CROTH/SELFFILAM/FASTQ/6975-S33_S*_R2*.fastq.gz | samtools view -F 4 -b | samtools sort -o /analysis/CROTH/SELFFILAM/SAM/ADDITIONAL_PROGENY_B3502/6975-S33_S-sm.bam\\n\\n/home/croth/bin/./bamaddrg -b /analysis/CROTH/SELFFILAM/SAM/ADDITIONAL_PROGENY_B3502/6975-S33_S-sm.bam -s B_32 -r B_32_6975-S33_S > /analysis/CROTH/SELFFILAM/SAM/ADDITIONAL_PROGENY_B3502/6975-S33_S-smr.bam\\n\\nrm /analysis/CROTH/SELFFILAM/SAM/ADDITIONAL_PROGENY_B3502/6975-S33_S-sm.bam\\n\\nsamtools index /analysis/CROTH/SELFFILAM/SAM/ADDITIONAL_PROGENY_B3502/6975-S33_S-smr.bam\\n\\n\\n\\n',\n",
       "       'bwa mem -a -M /analysis/CROTH/Self-Filamentation_B3502_progeny/REF/FungiDB-48_CneoformansJEC21_Genome.fasta /analysis/CROTH/SELFFILAM/FASTQ/6975-S34_S*_R1_*.fastq.gz /analysis/CROTH/SELFFILAM/FASTQ/6975-S34_S*_R2*.fastq.gz | samtools view -F 4 -b | samtools sort -o /analysis/CROTH/SELFFILAM/SAM/ADDITIONAL_PROGENY_B3502/6975-S34_S-sm.bam\\n\\n/home/croth/bin/./bamaddrg -b /analysis/CROTH/SELFFILAM/SAM/ADDITIONAL_PROGENY_B3502/6975-S34_S-sm.bam -s B_33 -r B_33_6975-S34_S > /analysis/CROTH/SELFFILAM/SAM/ADDITIONAL_PROGENY_B3502/6975-S34_S-smr.bam\\n\\nrm /analysis/CROTH/SELFFILAM/SAM/ADDITIONAL_PROGENY_B3502/6975-S34_S-sm.bam\\n\\nsamtools index /analysis/CROTH/SELFFILAM/SAM/ADDITIONAL_PROGENY_B3502/6975-S34_S-smr.bam\\n\\n\\n\\n'],\n",
       "      dtype='<U716')"
      ]
     },
     "execution_count": 25,
     "metadata": {},
     "output_type": "execute_result"
    }
   ],
   "source": [
    "bwa"
   ]
  },
  {
   "cell_type": "code",
   "execution_count": 8,
   "metadata": {},
   "outputs": [
    {
     "name": "stdout",
     "output_type": "stream",
     "text": [
      "bwa mem -a -M /analysis/CROTH/Self-Filamentation_B3502_progeny/REF/FungiDB-48_CneoformansJEC21_Genome.fasta /analysis/CROTH/SELFFILAM/FASTQ/6975-S34_S*_R1_*.fastq.gz /analysis/CROTH/SELFFILAM/FASTQ/6975-S34_S*_R2*.fastq.gz | samtools view -F 4 -b | samtools sort -o /analysis/CROTH/SELFFILAM/SAM/ADDITIONAL_PROGENY_B3502/6975-S34_S-sm.bam\n",
      "\n",
      "/home/croth/bin/./bamaddrg -b /analysis/CROTH/SELFFILAM/SAM/ADDITIONAL_PROGENY_B3502/6975-S34_S-sm.bam -s B_33 -r B_33_6975-S34_S > /analysis/CROTH/SELFFILAM/SAM/ADDITIONAL_PROGENY_B3502/6975-S34_S-smr.bam\n",
      "\n",
      "rm /analysis/CROTH/SELFFILAM/SAM/ADDITIONAL_PROGENY_B3502/6975-S34_S-sm.bam\n",
      "\n",
      "samtools index /analysis/CROTH/SELFFILAM/6975-S34_S-smr.bam\n",
      "\n",
      "\n",
      "\n",
      "\n"
     ]
    }
   ],
   "source": [
    "## View last of command\n",
    "print(bwa[-1])"
   ]
  },
  {
   "cell_type": "code",
   "execution_count": 9,
   "metadata": {},
   "outputs": [
    {
     "name": "stdout",
     "output_type": "stream",
     "text": [
      "5\n",
      "4\n",
      "4\n",
      "4\n",
      "4\n",
      "4\n"
     ]
    }
   ],
   "source": [
    "## Split progeny samples across 4 files\n",
    "nfiles = 6\n",
    "filenames = './run_ap_%s_bwa.sh'\n",
    "\n",
    "c = 0 \n",
    "for i in range(nfiles):\n",
    "    filename = filenames%i\n",
    "    \n",
    "    thesefiles = bwa[i::nfiles]\n",
    "    print(len(thesefiles))\n",
    "    \n",
    "    c = c + len(thesefiles)\n",
    "    \n",
    "    open(filename,'w').writelines(thesefiles)\n",
    "\n",
    "## check work\n",
    "assert len(bwa) == c"
   ]
  },
  {
   "cell_type": "markdown",
   "metadata": {},
   "source": [
    "### NOTES\n",
    "You will need to take the .sh files and run chmod +x *.sh to make them executables"
   ]
  }
 ],
 "metadata": {
  "kernelspec": {
   "display_name": "Python 3",
   "language": "python",
   "name": "python3"
  },
  "language_info": {
   "codemirror_mode": {
    "name": "ipython",
    "version": 3
   },
   "file_extension": ".py",
   "mimetype": "text/x-python",
   "name": "python",
   "nbconvert_exporter": "python",
   "pygments_lexer": "ipython3",
   "version": "3.7.3"
  }
 },
 "nbformat": 4,
 "nbformat_minor": 4
}
