{
 "cells": [
  {
   "cell_type": "code",
   "execution_count": 1,
   "metadata": {},
   "outputs": [],
   "source": [
    "## Bring in needed mods\n",
    "import pandas as pd, numpy as np, glob, sys, os, seaborn as sns\n",
    "from matplotlib import pyplot as plt\n",
    "%matplotlib inline\n",
    "\n",
    "## Load in QTL functions\n",
    "sys.path.insert(0, '/home/croth/QTL-functions/SCRIPTS/')\n",
    "import qtlfunctions as qtlfun"
   ]
  },
  {
   "cell_type": "code",
   "execution_count": 2,
   "metadata": {},
   "outputs": [],
   "source": [
    "## Set paths\n",
    "## Phenotype path\n",
    "phenopath = '../PHENOTYPE/PROCESSED/Cellsize_shape_phenotype.csv'\n",
    "\n",
    "## Centromere path\n",
    "centpaths = '/home/croth/Downloads/B3502/DATA/FungiDB-48_CneoformansJEC21_centromeres.csv'\n",
    "\n",
    "## GFF path\n",
    "gffpath = '/home/croth/Downloads/B3502/REF/FungiDB-48_CneoformansJEC21.gff.gz'\n",
    "\n",
    "## path to info dataframes\n",
    "infopath = '../GENOTYPE/INFO/*.%s.B3502.progeny_info_cols.csv.gz'\n",
    "\n",
    "## path to genotype dataframes\n",
    "genopath = '../GENOTYPE/GT/*.%s.B3502.progeny_genotypes.csv.gz'\n",
    "\n",
    "## path to depth dataframes\n",
    "deptpath = '../GENOTYPE/DP/*.%s.B3502.progeny_depths.csv.gz'\n",
    "\n",
    "## path to allelic dataframes\n",
    "allepath = '../GENOTYPE/AF/*.%s.B3502.progeny_allele_ratios.csv.gz'"
   ]
  },
  {
   "cell_type": "code",
   "execution_count": 3,
   "metadata": {},
   "outputs": [],
   "source": [
    "## Bring in centromers, gff, and phenotype data\n",
    "## Load in centormere locs\n",
    "centlocs = pd.read_csv(centpaths,index_col=0)\n",
    "\n",
    "## Load in gff path\n",
    "gff = qtlfun.loadgff(gffpath)\n",
    "\n",
    "## Load in phenotype data\n",
    "pheno = pd.read_csv(phenopath)"
   ]
  },
  {
   "cell_type": "code",
   "execution_count": 4,
   "metadata": {},
   "outputs": [
    {
     "data": {
      "text/html": [
       "<div>\n",
       "<style scoped>\n",
       "    .dataframe tbody tr th:only-of-type {\n",
       "        vertical-align: middle;\n",
       "    }\n",
       "\n",
       "    .dataframe tbody tr th {\n",
       "        vertical-align: top;\n",
       "    }\n",
       "\n",
       "    .dataframe thead th {\n",
       "        text-align: right;\n",
       "    }\n",
       "</style>\n",
       "<table border=\"1\" class=\"dataframe\">\n",
       "  <thead>\n",
       "    <tr style=\"text-align: right;\">\n",
       "      <th></th>\n",
       "      <th>Strain</th>\n",
       "      <th>Basidium</th>\n",
       "      <th>Phenotype_Short</th>\n",
       "      <th>Set</th>\n",
       "      <th>Phenotype_Description</th>\n",
       "      <th>Binary</th>\n",
       "      <th>Trinary</th>\n",
       "      <th>Quadrary</th>\n",
       "      <th>Pentary</th>\n",
       "    </tr>\n",
       "  </thead>\n",
       "  <tbody>\n",
       "    <tr>\n",
       "      <th>0</th>\n",
       "      <td>A_01</td>\n",
       "      <td>1.0</td>\n",
       "      <td>N</td>\n",
       "      <td>0</td>\n",
       "      <td>Yeast</td>\n",
       "      <td>0</td>\n",
       "      <td>0</td>\n",
       "      <td>0</td>\n",
       "      <td>0</td>\n",
       "    </tr>\n",
       "    <tr>\n",
       "      <th>1</th>\n",
       "      <td>A_02</td>\n",
       "      <td>1.0</td>\n",
       "      <td>Y</td>\n",
       "      <td>0</td>\n",
       "      <td>Filamentous</td>\n",
       "      <td>1</td>\n",
       "      <td>2</td>\n",
       "      <td>2</td>\n",
       "      <td>2</td>\n",
       "    </tr>\n",
       "    <tr>\n",
       "      <th>2</th>\n",
       "      <td>A_03</td>\n",
       "      <td>1.0</td>\n",
       "      <td>N</td>\n",
       "      <td>0</td>\n",
       "      <td>Yeast</td>\n",
       "      <td>0</td>\n",
       "      <td>0</td>\n",
       "      <td>0</td>\n",
       "      <td>0</td>\n",
       "    </tr>\n",
       "    <tr>\n",
       "      <th>3</th>\n",
       "      <td>A_04</td>\n",
       "      <td>1.0</td>\n",
       "      <td>L</td>\n",
       "      <td>0</td>\n",
       "      <td>Giant Cells</td>\n",
       "      <td>1</td>\n",
       "      <td>1</td>\n",
       "      <td>1</td>\n",
       "      <td>1</td>\n",
       "    </tr>\n",
       "    <tr>\n",
       "      <th>4</th>\n",
       "      <td>A_05</td>\n",
       "      <td>2.0</td>\n",
       "      <td>N (with rare spots of T)</td>\n",
       "      <td>0</td>\n",
       "      <td>Non-filamentous with rare hyper-filamentous</td>\n",
       "      <td>0</td>\n",
       "      <td>0</td>\n",
       "      <td>3</td>\n",
       "      <td>4</td>\n",
       "    </tr>\n",
       "  </tbody>\n",
       "</table>\n",
       "</div>"
      ],
      "text/plain": [
       "  Strain  Basidium           Phenotype_Short  Set  \\\n",
       "0   A_01       1.0                         N    0   \n",
       "1   A_02       1.0                         Y    0   \n",
       "2   A_03       1.0                         N    0   \n",
       "3   A_04       1.0                         L    0   \n",
       "4   A_05       2.0  N (with rare spots of T)    0   \n",
       "\n",
       "                         Phenotype_Description  Binary  Trinary  Quadrary  \\\n",
       "0                                        Yeast       0        0         0   \n",
       "1                                  Filamentous       1        2         2   \n",
       "2                                        Yeast       0        0         0   \n",
       "3                                  Giant Cells       1        1         1   \n",
       "4  Non-filamentous with rare hyper-filamentous       0        0         3   \n",
       "\n",
       "   Pentary  \n",
       "0        0  \n",
       "1        2  \n",
       "2        0  \n",
       "3        1  \n",
       "4        4  "
      ]
     },
     "execution_count": 4,
     "metadata": {},
     "output_type": "execute_result"
    }
   ],
   "source": [
    "## View head\n",
    "pheno.head()"
   ]
  },
  {
   "cell_type": "code",
   "execution_count": 5,
   "metadata": {},
   "outputs": [],
   "source": [
    "## Set chromosome\n",
    "chromn = np.arange(1,15)\n",
    "\n",
    "## Load in genotype dataframe\n",
    "genotype = qtlfun.loadvariants(infopath,genopath,chromn)\n",
    "\n",
    "## Load in depth dataframe\n",
    "depth = qtlfun.loadvariants(infopath,deptpath,chromn)\n",
    "\n",
    "## Load in allelic dataframe\n",
    "allelr = qtlfun.loadvariants(infopath,allepath,chromn)"
   ]
  },
  {
   "cell_type": "code",
   "execution_count": 6,
   "metadata": {},
   "outputs": [
    {
     "data": {
      "text/html": [
       "<div>\n",
       "<style scoped>\n",
       "    .dataframe tbody tr th:only-of-type {\n",
       "        vertical-align: middle;\n",
       "    }\n",
       "\n",
       "    .dataframe tbody tr th {\n",
       "        vertical-align: top;\n",
       "    }\n",
       "\n",
       "    .dataframe thead th {\n",
       "        text-align: right;\n",
       "    }\n",
       "</style>\n",
       "<table border=\"1\" class=\"dataframe\">\n",
       "  <thead>\n",
       "    <tr style=\"text-align: right;\">\n",
       "      <th></th>\n",
       "      <th>Seqid</th>\n",
       "      <th>Pos</th>\n",
       "      <th>Qual</th>\n",
       "      <th>Nalleles</th>\n",
       "      <th>Alleles</th>\n",
       "    </tr>\n",
       "  </thead>\n",
       "  <tbody>\n",
       "    <tr>\n",
       "      <th>1</th>\n",
       "      <td>AE017341.1</td>\n",
       "      <td>21</td>\n",
       "      <td>0</td>\n",
       "      <td>1</td>\n",
       "      <td>TTCTC.CTCTG</td>\n",
       "    </tr>\n",
       "    <tr>\n",
       "      <th>25</th>\n",
       "      <td>AE017341.1</td>\n",
       "      <td>317</td>\n",
       "      <td>3.09223e-09</td>\n",
       "      <td>2</td>\n",
       "      <td>CAGT.TAT.TAGT</td>\n",
       "    </tr>\n",
       "    <tr>\n",
       "      <th>26</th>\n",
       "      <td>AE017341.1</td>\n",
       "      <td>331</td>\n",
       "      <td>317.714</td>\n",
       "      <td>1</td>\n",
       "      <td>ACAATCCG.ACAAGCCA</td>\n",
       "    </tr>\n",
       "    <tr>\n",
       "      <th>31</th>\n",
       "      <td>AE017341.1</td>\n",
       "      <td>393</td>\n",
       "      <td>3032.55</td>\n",
       "      <td>1</td>\n",
       "      <td>A.G</td>\n",
       "    </tr>\n",
       "    <tr>\n",
       "      <th>34</th>\n",
       "      <td>AE017341.1</td>\n",
       "      <td>435</td>\n",
       "      <td>2502.52</td>\n",
       "      <td>1</td>\n",
       "      <td>G.C</td>\n",
       "    </tr>\n",
       "  </tbody>\n",
       "</table>\n",
       "</div>"
      ],
      "text/plain": [
       "         Seqid  Pos         Qual Nalleles            Alleles\n",
       "1   AE017341.1   21            0        1        TTCTC.CTCTG\n",
       "25  AE017341.1  317  3.09223e-09        2      CAGT.TAT.TAGT\n",
       "26  AE017341.1  331      317.714        1  ACAATCCG.ACAAGCCA\n",
       "31  AE017341.1  393      3032.55        1                A.G\n",
       "34  AE017341.1  435      2502.52        1                G.C"
      ]
     },
     "execution_count": 6,
     "metadata": {},
     "output_type": "execute_result"
    }
   ],
   "source": [
    "## View head\n",
    "genotype.head().T.head().T"
   ]
  },
  {
   "cell_type": "code",
   "execution_count": 7,
   "metadata": {},
   "outputs": [
    {
     "name": "stdout",
     "output_type": "stream",
     "text": [
      "92\n"
     ]
    }
   ],
   "source": [
    "## Gather sample names and print length\n",
    "samples = genotype.columns[genotype.columns.tolist().index('MAF')+1:].tolist()\n",
    "print(len(samples))"
   ]
  },
  {
   "cell_type": "code",
   "execution_count": 8,
   "metadata": {},
   "outputs": [],
   "source": [
    "## Gather progeny\n",
    "progeny = sorted([s for s in samples if len(s)<=4])\n",
    "\n",
    "## Gather ancestors\n",
    "ancestors = sorted([s for s in samples if len(s)>4])\n",
    "\n",
    "## Check work\n",
    "assert len(progeny) + len(ancestors) == len(samples)\n",
    "\n",
    "## Gather B3502 stocks\n",
    "b3502 = [s for s in ancestors if s.split(\"_\")[0]=='B3502']\n",
    "\n",
    "## parents and progenitor strains\n",
    "progenitors = [s for s in ancestors if s not in b3502]"
   ]
  },
  {
   "cell_type": "code",
   "execution_count": 9,
   "metadata": {},
   "outputs": [
    {
     "data": {
      "text/html": [
       "<div>\n",
       "<style scoped>\n",
       "    .dataframe tbody tr th:only-of-type {\n",
       "        vertical-align: middle;\n",
       "    }\n",
       "\n",
       "    .dataframe tbody tr th {\n",
       "        vertical-align: top;\n",
       "    }\n",
       "\n",
       "    .dataframe thead th {\n",
       "        text-align: right;\n",
       "    }\n",
       "</style>\n",
       "<table border=\"1\" class=\"dataframe\">\n",
       "  <thead>\n",
       "    <tr style=\"text-align: right;\">\n",
       "      <th></th>\n",
       "      <th>Seqid</th>\n",
       "      <th>Length</th>\n",
       "      <th>Cumlen</th>\n",
       "      <th>Midpts</th>\n",
       "      <th>Chromosome</th>\n",
       "      <th>Left</th>\n",
       "      <th>Right</th>\n",
       "    </tr>\n",
       "  </thead>\n",
       "  <tbody>\n",
       "    <tr>\n",
       "      <th>9</th>\n",
       "      <td>AE017350.1</td>\n",
       "      <td>1085720</td>\n",
       "      <td>14488368</td>\n",
       "      <td>15031228.0</td>\n",
       "      <td>10</td>\n",
       "      <td>807373</td>\n",
       "      <td>880180</td>\n",
       "    </tr>\n",
       "    <tr>\n",
       "      <th>10</th>\n",
       "      <td>AE017351.1</td>\n",
       "      <td>1019842</td>\n",
       "      <td>15574088</td>\n",
       "      <td>16084009.0</td>\n",
       "      <td>11</td>\n",
       "      <td>144778</td>\n",
       "      <td>180133</td>\n",
       "    </tr>\n",
       "    <tr>\n",
       "      <th>11</th>\n",
       "      <td>AE017352.1</td>\n",
       "      <td>906695</td>\n",
       "      <td>16593930</td>\n",
       "      <td>17047277.5</td>\n",
       "      <td>12</td>\n",
       "      <td>146899</td>\n",
       "      <td>171065</td>\n",
       "    </tr>\n",
       "    <tr>\n",
       "      <th>12</th>\n",
       "      <td>AE017353.1</td>\n",
       "      <td>787977</td>\n",
       "      <td>17500625</td>\n",
       "      <td>17894613.5</td>\n",
       "      <td>13</td>\n",
       "      <td>121986</td>\n",
       "      <td>179214</td>\n",
       "    </tr>\n",
       "    <tr>\n",
       "      <th>13</th>\n",
       "      <td>AE017356.1</td>\n",
       "      <td>762694</td>\n",
       "      <td>18288602</td>\n",
       "      <td>18669949.0</td>\n",
       "      <td>14</td>\n",
       "      <td>566417</td>\n",
       "      <td>639012</td>\n",
       "    </tr>\n",
       "  </tbody>\n",
       "</table>\n",
       "</div>"
      ],
      "text/plain": [
       "         Seqid   Length    Cumlen      Midpts  Chromosome    Left   Right\n",
       "9   AE017350.1  1085720  14488368  15031228.0          10  807373  880180\n",
       "10  AE017351.1  1019842  15574088  16084009.0          11  144778  180133\n",
       "11  AE017352.1   906695  16593930  17047277.5          12  146899  171065\n",
       "12  AE017353.1   787977  17500625  17894613.5          13  121986  179214\n",
       "13  AE017356.1   762694  18288602  18669949.0          14  566417  639012"
      ]
     },
     "execution_count": 9,
     "metadata": {},
     "output_type": "execute_result"
    }
   ],
   "source": [
    "## Set chrommap\n",
    "chrommap = qtlfun.chrommap(genotype,chrom='Seqid')\n",
    "\n",
    "## Add seqid\n",
    "centlocs['Seqid'] = chrommap.Seqid\n",
    "\n",
    "## Merge centlocs\n",
    "chrommap = chrommap.merge(centlocs)\n",
    "\n",
    "## View head \n",
    "chrommap.tail()"
   ]
  },
  {
   "cell_type": "code",
   "execution_count": 10,
   "metadata": {},
   "outputs": [],
   "source": [
    "## Merge chrommap\n",
    "genotype = genotype.merge(chrommap)"
   ]
  },
  {
   "cell_type": "code",
   "execution_count": 11,
   "metadata": {},
   "outputs": [
    {
     "data": {
      "text/plain": [
       "(5457, 2262, 5796, 5485, 109843)"
      ]
     },
     "execution_count": 11,
     "metadata": {},
     "output_type": "execute_result"
    }
   ],
   "source": [
    "## Remove variants that fail our analysis\n",
    "## Filter on coverate\n",
    "cov_x = 10\n",
    "depth_drop_ix = depth[(depth[samples].T.min() < cov_x)].index\n",
    "\n",
    "## Filter on callrate > 100%\n",
    "callrate = 1\n",
    "callrate_drop_ix = genotype[(genotype.Callrate<callrate)].index\n",
    "\n",
    "## Filter on allelic read depth\n",
    "allele_ratio = .85\n",
    "alleldepth_drop_ix = allelr[(allelr[samples].T.min() < allele_ratio)].index\n",
    "\n",
    "## Drop invariant index\n",
    "## These are sites where the JEC21 sample\n",
    "## Is differnet from the referenance\n",
    "## using the progeny\n",
    "invariant_ix_jec21_1_drop = genotype[(genotype[progeny].T.var() == 0)].index\n",
    "\n",
    "## Remove variants 1kb near the centromere\n",
    "kb = 1000\n",
    "## Initlize list\n",
    "centixs = []\n",
    "\n",
    "## For each variants\n",
    "for i,c in genotype.groupby('Chromosome'):\n",
    "    \n",
    "    ## Find centromere variants and append\n",
    "    centix = c[(c.Pos>=c.Left.min()-kb) & \n",
    "               (c.Pos<=c.Right.max()+kb)].index.tolist() \n",
    "    centixs.append(centix)\n",
    "    \n",
    "## Concatonate centromere index\n",
    "centdropix = np.concatenate(centixs)\n",
    "\n",
    "## Print number of index to drop\n",
    "len(depth_drop_ix),len(callrate_drop_ix),len(alleldepth_drop_ix),len(centdropix),len(invariant_ix_jec21_1_drop)"
   ]
  },
  {
   "cell_type": "code",
   "execution_count": 12,
   "metadata": {},
   "outputs": [
    {
     "data": {
      "text/plain": [
       "111662"
      ]
     },
     "execution_count": 12,
     "metadata": {},
     "output_type": "execute_result"
    }
   ],
   "source": [
    "## Concatinate index to drop variants\n",
    "drop_ix = np.unique(np.concatenate(\n",
    "          [depth_drop_ix,\n",
    "           callrate_drop_ix,\n",
    "           alleldepth_drop_ix,\n",
    "           centdropix,\n",
    "           invariant_ix_jec21_1_drop\n",
    "          ]))\n",
    "\n",
    "## Print length\n",
    "len(drop_ix)"
   ]
  },
  {
   "cell_type": "code",
   "execution_count": 13,
   "metadata": {},
   "outputs": [
    {
     "data": {
      "text/plain": [
       "(2561, 108)"
      ]
     },
     "execution_count": 13,
     "metadata": {},
     "output_type": "execute_result"
    }
   ],
   "source": [
    "## Take these filtered variants\n",
    "variants = genotype.drop(drop_ix,axis=0)\n",
    "variants.shape"
   ]
  },
  {
   "cell_type": "code",
   "execution_count": 16,
   "metadata": {},
   "outputs": [],
   "source": [
    "## Save the vairants\n",
    "variants.to_csv('../GENOTYPE/FILTERED/B3502_F1_variants.csv.gz',index=False)"
   ]
  },
  {
   "cell_type": "code",
   "execution_count": 15,
   "metadata": {},
   "outputs": [
    {
     "ename": "AssertionError",
     "evalue": "",
     "output_type": "error",
     "traceback": [
      "\u001b[0;31m---------------------------------------------------------------------------\u001b[0m",
      "\u001b[0;31mAssertionError\u001b[0m                            Traceback (most recent call last)",
      "\u001b[0;32m<ipython-input-15-07478fc1a126>\u001b[0m in \u001b[0;36m<module>\u001b[0;34m\u001b[0m\n\u001b[1;32m      1\u001b[0m \u001b[0;31m## Break before older code\u001b[0m\u001b[0;34m\u001b[0m\u001b[0;34m\u001b[0m\u001b[0;34m\u001b[0m\u001b[0m\n\u001b[0;32m----> 2\u001b[0;31m \u001b[0;32massert\u001b[0m \u001b[0;36m1\u001b[0m \u001b[0;34m==\u001b[0m \u001b[0;36m0\u001b[0m\u001b[0;34m\u001b[0m\u001b[0;34m\u001b[0m\u001b[0m\n\u001b[0m",
      "\u001b[0;31mAssertionError\u001b[0m: "
     ]
    }
   ],
   "source": [
    "## Break before older code\n",
    "assert 1 == 0"
   ]
  },
  {
   "cell_type": "code",
   "execution_count": null,
   "metadata": {},
   "outputs": [],
   "source": []
  },
  {
   "cell_type": "code",
   "execution_count": null,
   "metadata": {},
   "outputs": [],
   "source": []
  },
  {
   "cell_type": "code",
   "execution_count": null,
   "metadata": {},
   "outputs": [],
   "source": []
  },
  {
   "cell_type": "code",
   "execution_count": null,
   "metadata": {},
   "outputs": [],
   "source": []
  },
  {
   "cell_type": "code",
   "execution_count": null,
   "metadata": {},
   "outputs": [],
   "source": []
  },
  {
   "cell_type": "code",
   "execution_count": null,
   "metadata": {},
   "outputs": [],
   "source": []
  },
  {
   "cell_type": "code",
   "execution_count": null,
   "metadata": {},
   "outputs": [],
   "source": []
  },
  {
   "cell_type": "code",
   "execution_count": null,
   "metadata": {},
   "outputs": [],
   "source": []
  },
  {
   "cell_type": "code",
   "execution_count": null,
   "metadata": {},
   "outputs": [],
   "source": []
  },
  {
   "cell_type": "code",
   "execution_count": null,
   "metadata": {},
   "outputs": [],
   "source": []
  },
  {
   "cell_type": "code",
   "execution_count": null,
   "metadata": {},
   "outputs": [],
   "source": [
    "samples = sorted([s for s in geno.columns[:-2]])\n",
    "len(samples)"
   ]
  },
  {
   "cell_type": "code",
   "execution_count": null,
   "metadata": {},
   "outputs": [],
   "source": [
    "progeny = [s for s in samples if len(s) <=4]\n",
    "len(progeny)"
   ]
  },
  {
   "cell_type": "code",
   "execution_count": null,
   "metadata": {},
   "outputs": [],
   "source": [
    "## Bring in information rows x columns of vcf files\n",
    "data = '../GENOTYPE/INFO/*.csv.gz'\n",
    "infopaths = sorted(glob.glob(data))\n",
    "assert len(infopaths) == 14\n",
    "info = makedf(infopaths)\n",
    "info.shape"
   ]
  },
  {
   "cell_type": "code",
   "execution_count": null,
   "metadata": {},
   "outputs": [],
   "source": [
    "## Bring in read depth rows x columns of vcf files\n",
    "data = '../GENOTYPE/DP/*depths.csv.gz'\n",
    "depthpaths = sorted(glob.glob(data))\n",
    "assert len(depthpaths) == 14\n",
    "depth = makedf(depthpaths)\n",
    "depth.shape"
   ]
  },
  {
   "cell_type": "code",
   "execution_count": null,
   "metadata": {},
   "outputs": [],
   "source": [
    "info['Meandepth'] = depth[progeny].T.mean()"
   ]
  },
  {
   "cell_type": "code",
   "execution_count": null,
   "metadata": {},
   "outputs": [],
   "source": [
    "old = pd.read_csv('../GENOTYPE/B3502_progeny_genotypes.csv.gz',index_col=0)\n",
    "old.shape"
   ]
  },
  {
   "cell_type": "code",
   "execution_count": null,
   "metadata": {},
   "outputs": [],
   "source": [
    "old.Qual.min()"
   ]
  },
  {
   "cell_type": "code",
   "execution_count": null,
   "metadata": {},
   "outputs": [],
   "source": [
    "old"
   ]
  },
  {
   "cell_type": "code",
   "execution_count": null,
   "metadata": {},
   "outputs": [],
   "source": [
    "info[(info.Seqid == 'AE017356.1') & (info.Pos==388777)]"
   ]
  },
  {
   "cell_type": "code",
   "execution_count": null,
   "metadata": {},
   "outputs": [],
   "source": [
    "filtix = info[(geno[progeny].T.var()!=0) & (info.Callrate==1) & (info.Qual>=100) & (info.Meandepth>=8)].index.tolist()"
   ]
  },
  {
   "cell_type": "code",
   "execution_count": null,
   "metadata": {},
   "outputs": [],
   "source": [
    "filtgeno = pd.concat([info.loc[filtix],geno.loc[filtix,samples]],axis=1)"
   ]
  },
  {
   "cell_type": "code",
   "execution_count": null,
   "metadata": {},
   "outputs": [],
   "source": [
    "filtgeno.to_csv('../GENOTYPE/B3502_additional_progeny_genotypes.csv.gz')"
   ]
  },
  {
   "cell_type": "code",
   "execution_count": null,
   "metadata": {},
   "outputs": [],
   "source": []
  },
  {
   "cell_type": "code",
   "execution_count": null,
   "metadata": {},
   "outputs": [],
   "source": []
  },
  {
   "cell_type": "code",
   "execution_count": null,
   "metadata": {},
   "outputs": [],
   "source": []
  },
  {
   "cell_type": "code",
   "execution_count": null,
   "metadata": {},
   "outputs": [],
   "source": [
    "import seaborn as sns"
   ]
  },
  {
   "cell_type": "code",
   "execution_count": null,
   "metadata": {},
   "outputs": [],
   "source": [
    "sns.lmplot(x='Meandepth',y='Qual',hue='Type',data=info,ci=False,fit_reg=False);"
   ]
  },
  {
   "cell_type": "code",
   "execution_count": null,
   "metadata": {},
   "outputs": [],
   "source": [
    "info[(info.Qual>=100)].shape"
   ]
  },
  {
   "cell_type": "code",
   "execution_count": null,
   "metadata": {},
   "outputs": [],
   "source": [
    "temp = info[(geno[progeny].T.var()!=0) & (info.Callrate==1)]\n",
    "sns.jointplot(data=temp,x='Meandepth',y='Qual',hue='Type');"
   ]
  },
  {
   "cell_type": "code",
   "execution_count": null,
   "metadata": {},
   "outputs": [],
   "source": [
    "plt.hist(info.Qual,log=True);"
   ]
  },
  {
   "cell_type": "code",
   "execution_count": null,
   "metadata": {},
   "outputs": [],
   "source": [
    "info[(info.Qual>10)]"
   ]
  },
  {
   "cell_type": "code",
   "execution_count": null,
   "metadata": {},
   "outputs": [],
   "source": [
    "geno['AF'] = geno[samples].T.mean()"
   ]
  },
  {
   "cell_type": "code",
   "execution_count": null,
   "metadata": {},
   "outputs": [],
   "source": [
    "geno[samples].T[0]"
   ]
  },
  {
   "cell_type": "code",
   "execution_count": null,
   "metadata": {},
   "outputs": [],
   "source": [
    "## Make a list of the stocks\n",
    "stocks = ['B3502_%s'%s for s in pheno.Parent.dropna().unique()]\n",
    "stocks"
   ]
  },
  {
   "cell_type": "code",
   "execution_count": null,
   "metadata": {},
   "outputs": [],
   "source": [
    "## Find index where B1 genotype != the others\n",
    "b1nota1_ix = (geno[stocks[1]] != geno[stocks[0]])\n",
    "b1notb7_ix = (geno[stocks[1]] != geno[stocks[-1]])\n",
    "\n",
    "## Drop na\n",
    "stock_dif_ix = geno[b1nota1_ix & \n",
    "                    b1notb7_ix][stocks].dropna().index\n",
    "len(stock_dif_ix)"
   ]
  },
  {
   "cell_type": "code",
   "execution_count": null,
   "metadata": {},
   "outputs": [],
   "source": []
  },
  {
   "cell_type": "code",
   "execution_count": null,
   "metadata": {},
   "outputs": [],
   "source": [
    "## Calculate mean, min and max depths of stock dif vars\n",
    "mean_stock_depth = depth.loc[stock_dif_ix,stocks].T.mean()\n",
    "min_stock_depth = depth.loc[stock_dif_ix,stocks].T.min()\n",
    "max_stock_depth = depth.loc[stock_dif_ix,stocks].T.max()"
   ]
  },
  {
   "cell_type": "code",
   "execution_count": null,
   "metadata": {},
   "outputs": [],
   "source": [
    "## Bring in allelic read depth ratios of\n",
    "## rows x columns of vcf files\n",
    "data = '../GENOTYPE/AF/*ratios.csv.gz'\n",
    "alleledepth = sorted(glob.glob(data))\n",
    "assert len(alleledepth) == 14\n",
    "ratio = makedf(alleledepth)\n",
    "ratio.shape"
   ]
  },
  {
   "cell_type": "code",
   "execution_count": null,
   "metadata": {},
   "outputs": [],
   "source": [
    "## Calculate mean, min and max of ratios of stock dif vars\n",
    "mean_stock_ratio = ratio.loc[stock_dif_ix,stocks].T.mean()\n",
    "min_stock_ratio = ratio.loc[stock_dif_ix,stocks].T.min()\n",
    "max_stock_ratio = ratio.loc[stock_dif_ix,stocks].T.max()"
   ]
  },
  {
   "cell_type": "code",
   "execution_count": null,
   "metadata": {},
   "outputs": [],
   "source": []
  },
  {
   "cell_type": "code",
   "execution_count": null,
   "metadata": {},
   "outputs": [],
   "source": [
    "## Make a dataframe of potential stock variants\n",
    "## Take info\n",
    "tempdf = info.loc[stock_dif_ix].copy()\n",
    "\n",
    "## stock genotypes \n",
    "dif_genos = geno.loc[stock_dif_ix,stocks].copy()\n",
    "\n",
    "## concatonate\n",
    "df = pd.concat([tempdf,dif_genos],axis=1)\n",
    "\n",
    "## Add depth and ratio info\n",
    "labels = ['min','max','mean']\n",
    "\n",
    "for i,j in enumerate([min_stock_depth,\n",
    "                      max_stock_depth,\n",
    "                      mean_stock_depth]):\n",
    "    \n",
    "    df['%s_depth'%labels[i]] = np.round(j,2)\n",
    "    \n",
    "for i,j in enumerate([min_stock_ratio,\n",
    "                      max_stock_ratio,\n",
    "                      mean_stock_ratio]):\n",
    "    \n",
    "    df['%s_ratio'%labels[i]] = np.round(j,2)\n",
    "    \n",
    "## Drop un-needed columns    \n",
    "to_drop = ['Maxlen','Minlen',\n",
    "           'Callrate','Qual','Type','Oldix',\n",
    "           'max_ratio','max_depth']\n",
    "\n",
    "df.drop(to_drop,axis=1,inplace=True)\n",
    "\n",
    "## View head\n",
    "df.head()"
   ]
  },
  {
   "cell_type": "code",
   "execution_count": null,
   "metadata": {},
   "outputs": [],
   "source": [
    "## Check our work\n",
    "assert np.sum(stock_dif_ix-df.index.values) == 0"
   ]
  },
  {
   "cell_type": "code",
   "execution_count": null,
   "metadata": {},
   "outputs": [],
   "source": [
    "## Examine as a ftn of paramaters\n",
    "## The number of vairants in B3501_B1 we detect\n",
    "drf = 0.1 ## Slide of allelic read reatio\n",
    "ratio_fs = np.arange(0,1+drf,drf)\n",
    "covx_fs = np.arange(0,12+1,1)\n",
    "\n",
    "## Gather results per conditions\n",
    "rf_pass = []\n",
    "for ratio_f in ratio_fs:\n",
    "    \n",
    "    covx_pass = []\n",
    "    for covx_f in covx_fs:\n",
    "        \n",
    "        ## Make sure the B3502_B1 stock passes \n",
    "        b1_depth_pass = depth[(depth[stocks[1]] >= covx_f) & \n",
    "                      (depth.index.isin(stock_dif_ix))].index\n",
    "\n",
    "        b1_ratio_pass = ratio[(ratio[stocks[1]] >=ratio_f) & \n",
    "                      (ratio.index.isin(stock_dif_ix))].index\n",
    "        \n",
    "        rp = df[(df.mean_depth>=covx_f) & \n",
    "           (df.mean_ratio>=ratio_f) & \n",
    "           (df.index.isin(b1_depth_pass)) & \n",
    "           (df.index.isin(b1_ratio_pass))].shape[0]\n",
    "        \n",
    "        covx_pass.append(rp)\n",
    "    rf_pass.append(covx_pass)\n",
    "    \n",
    "## Make into a dataframe\n",
    "test = pd.DataFrame(rf_pass)\n",
    "test.index = np.round(ratio_fs,2)"
   ]
  },
  {
   "cell_type": "code",
   "execution_count": null,
   "metadata": {},
   "outputs": [],
   "source": [
    "## Plot results\n",
    "fig,ax = plt.subplots(1,1,figsize=(15,10))\n",
    "sns.heatmap(test,cmap='cividis',annot=True, \n",
    "            cbar_kws={'label': 'Number of Variants'});\n",
    "plt.yticks(fontsize=14,rotation=0);\n",
    "plt.xticks(fontsize=14);\n",
    "plt.ylabel('Allelic Read Ratio',fontsize=14)\n",
    "plt.xlabel('Read Depth',fontsize=14);"
   ]
  },
  {
   "cell_type": "code",
   "execution_count": null,
   "metadata": {},
   "outputs": [],
   "source": [
    "## Filter potential snps\n",
    "ratio_f = 0.5\n",
    "covx_f = 10\n",
    "\n",
    "## Make sure the B3502_B1 stock passes \n",
    "b1_depth_pass = depth[(depth[stocks[1]] >= covx_f) & \n",
    "                      (depth.index.isin(stock_dif_ix))].index\n",
    "\n",
    "b1_ratio_pass = ratio[(ratio[stocks[1]] >=ratio_f) & \n",
    "                      (ratio.index.isin(stock_dif_ix))].index\n",
    "\n",
    "## take variants\n",
    "vardf = df[(df.mean_depth>=covx_f) & \n",
    "           (df.mean_ratio>=ratio_f) & \n",
    "           (df.index.isin(b1_depth_pass)) & \n",
    "           (df.index.isin(b1_ratio_pass))].copy()"
   ]
  },
  {
   "cell_type": "code",
   "execution_count": null,
   "metadata": {},
   "outputs": [],
   "source": [
    "## Find genes that overlap with our candidate variants\n",
    "gene_res = []\n",
    "\n",
    "for s in vardf.Seqid.unique():\n",
    "    vt = vardf[(vardf.Seqid==s)]\n",
    "    gfft = gff[(gff.Type=='gene') & (gff.Seqid==s)]\n",
    "    \n",
    "    for i,p in vt.iterrows():\n",
    "        pt = p.Pos\n",
    "        \n",
    "        for j,k in gfft.iterrows():    \n",
    "            gps = np.arange(k.Start,k.End+1)\n",
    "            \n",
    "            if pt in gps:\n",
    "                gene_res.append((i,k.Gene))\n",
    "            else:\n",
    "                pass\n",
    "            \n",
    "hitdf = pd.DataFrame(gene_res,columns=['gix','Gene'])\n",
    "hitdf.index = hitdf.gix\n",
    "vardf['Gene'] = hitdf['Gene']\n",
    "vardf.shape"
   ]
  },
  {
   "cell_type": "code",
   "execution_count": null,
   "metadata": {},
   "outputs": [],
   "source": [
    "## Save out data\n",
    "vardf[['Seqid','Chrom','Pos','Gene','Alleles']+stocks\n",
    "     ].to_csv('../GENOTYPE/B3502_parent_variants.csv.gz')"
   ]
  },
  {
   "cell_type": "code",
   "execution_count": null,
   "metadata": {},
   "outputs": [],
   "source": [
    "## View dataframe results \n",
    "vardf[['Chrom','Pos','Gene','Alleles']].tail()"
   ]
  },
  {
   "cell_type": "code",
   "execution_count": null,
   "metadata": {},
   "outputs": [],
   "source": [
    "## Gather B3502_progeny who are self filamentous\n",
    "b1_filamentation = pheno[(pheno.Parent=='B1') & \n",
    "                         (pheno.Phenotype=='Y')\n",
    "                        ].Strain.tolist()\n",
    "\n",
    "## How many are there of these?\n",
    "len(b1_filamentation)"
   ]
  },
  {
   "cell_type": "code",
   "execution_count": null,
   "metadata": {},
   "outputs": [],
   "source": [
    "## Sum the progeny genotypes\n",
    "## We are looking for sites not equal to B3502 (ie 1)\n",
    "## So sites with a sum of zero here in the four\n",
    "## self-filamentous progeny are candidate repressor sites\n",
    "vardf['B1_SF_progeny_sum'] = geno.loc[vardf.index,b1_filamentation].T.sum()\n",
    "vardf[(vardf.B1_SF_progeny_sum==0)][['Chrom','Pos','Gene','Alleles']]"
   ]
  },
  {
   "cell_type": "code",
   "execution_count": null,
   "metadata": {},
   "outputs": [],
   "source": [
    "## Gather B3502_progeny who are non-yeast growth\n",
    "b1_non_yeast= pheno[(pheno.Parent=='B1') & \n",
    "                         (pheno.Phenotype!='N')\n",
    "                        ].Strain.tolist()\n",
    "\n",
    "## How many are there of these?\n",
    "len(b1_non_yeast)"
   ]
  },
  {
   "cell_type": "code",
   "execution_count": null,
   "metadata": {},
   "outputs": [],
   "source": [
    "## Sum the progeny genotypes\n",
    "## We are looking for sites not equal to B3502_B1 (ie 1)\n",
    "## So sites with a sum of zero here in the four\n",
    "## non-yeast progeny are candidate repressor sites\n",
    "vardf['B1_NY_progeny_sum'] = geno.loc[vardf.index,b1_non_yeast].T.sum()\n",
    "vardf[(vardf.B1_NY_progeny_sum==0)][['Chrom','Pos','Gene','Alleles']]"
   ]
  },
  {
   "cell_type": "code",
   "execution_count": null,
   "metadata": {},
   "outputs": [],
   "source": [
    "## Gather all progeny that show filamentous growth\n",
    "## regardlest of parent\n",
    "filam_prog = pheno[(pheno.Phenotype=='Y')\n",
    "                    ].Strain.tolist()\n",
    "\n",
    "## How many are there of these?\n",
    "len(filam_prog)"
   ]
  },
  {
   "cell_type": "code",
   "execution_count": null,
   "metadata": {},
   "outputs": [],
   "source": [
    "## Sum the progeny genotypes\n",
    "## We are looking for sites not equal to B3502_B1 (ie 1)\n",
    "## So sites with a sum of zero here in all of the\n",
    "## filamentous progeny are candidate repressor sites\n",
    "vardf['Progeny_sum'] = geno.loc[vardf.index,filam_prog].T.sum()\n",
    "vardf[(vardf.Progeny_sum==0)][['Chrom','Pos','Gene','Alleles']]"
   ]
  },
  {
   "cell_type": "code",
   "execution_count": null,
   "metadata": {},
   "outputs": [],
   "source": [
    "## Analysis of clones\n",
    "## Here we are searching for valid variants that seperate the clones"
   ]
  },
  {
   "cell_type": "code",
   "execution_count": null,
   "metadata": {},
   "outputs": [],
   "source": [
    "## Take a look at the first set of clones\n",
    "c1 = 'A27'\n",
    "c2 = 'A24'\n",
    "\n",
    "clones1 = [c1,c2]\n",
    "\n",
    "## Find candidate genomic sites that are \n",
    "## different between the clones\n",
    "clone1_dif_ix = geno[(geno[c1] != geno[c2])][clones1].dropna().index\n",
    "\n",
    "## Filter on covX\n",
    "clone_covx_f = 8\n",
    "clone1_depth_ix = depth[(depth[clones1].T.min() > clone_covx_f) & \n",
    "                        (depth.index.isin(clone1_dif_ix))].index\n",
    "\n",
    "## Filter ratios\n",
    "clone_ratio_f = .6\n",
    "clone1_ratio_ix = ratio[(ratio[clones1].T.min() >= clone_ratio_f) & \n",
    "                        (ratio.index.isin(clone1_depth_ix))][clones1].index\n",
    "\n",
    "pheno[(pheno.Strain.isin(clones1))]"
   ]
  },
  {
   "cell_type": "code",
   "execution_count": null,
   "metadata": {},
   "outputs": [],
   "source": [
    "## What are the genotypes at these sites in \n",
    "## these clones and their parent strain?\n",
    "geno.loc[clone1_ratio_ix,clones1+['B3502_B1']]"
   ]
  },
  {
   "cell_type": "code",
   "execution_count": null,
   "metadata": {},
   "outputs": [],
   "source": [
    "## Check out the info on these\n",
    "info.loc[clone1_ratio_ix]"
   ]
  },
  {
   "cell_type": "code",
   "execution_count": null,
   "metadata": {},
   "outputs": [],
   "source": [
    "## Take a look at the first set of clones\n",
    "c3 = 'A44'\n",
    "c4 = 'A43'\n",
    "\n",
    "clones2 = [c3,c4]\n",
    "\n",
    "## Find candidate genomic sites that are \n",
    "## different between the clones\n",
    "clone2_dif_ix = geno[(geno[c3] != geno[c4])][clones2].dropna().index\n",
    "\n",
    "## Filter on covX\n",
    "clone_covx_f = 8\n",
    "clone2_depth_ix = depth[(depth[clones2].T.min() > clone_covx_f) & \n",
    "                        (depth.index.isin(clone2_dif_ix))].index\n",
    "\n",
    "## Filter ratios\n",
    "clone_ratio_f = .6\n",
    "clone2_ratio_ix = ratio[(ratio[clones2].T.min() >= clone_ratio_f) & \n",
    "                        (ratio.index.isin(clone2_depth_ix))].index\n",
    "\n",
    "pheno[(pheno.Strain.isin(clones2))]"
   ]
  },
  {
   "cell_type": "code",
   "execution_count": null,
   "metadata": {},
   "outputs": [],
   "source": [
    "## What are the genotypes at these sites in \n",
    "## these clones and their parent strain?\n",
    "geno.loc[clone2_ratio_ix,clones2+['B3502_B7']]"
   ]
  },
  {
   "cell_type": "code",
   "execution_count": null,
   "metadata": {},
   "outputs": [],
   "source": [
    "geno.loc[clone1_ratio_ix,clones2]"
   ]
  },
  {
   "cell_type": "code",
   "execution_count": null,
   "metadata": {},
   "outputs": [],
   "source": [
    "clones = clones1+clones2\n",
    "clones"
   ]
  },
  {
   "cell_type": "code",
   "execution_count": null,
   "metadata": {},
   "outputs": [],
   "source": [
    "## Find genotypes with similar patters of \n",
    "## inheritance across clones\n",
    "clones_dif_ix = geno[(geno[c1]!=geno[c2]) & \n",
    "                     (geno[c3]!=geno[c4]) & \n",
    "                     (geno[c1]==geno[c3]) & \n",
    "                     (geno[c2]==geno[c4])\n",
    "                    ][clones].dropna().index"
   ]
  },
  {
   "cell_type": "code",
   "execution_count": null,
   "metadata": {},
   "outputs": [],
   "source": [
    "ratio.loc[clones_dif_ix,clones+['B3502_B1','B3502_B7']]"
   ]
  },
  {
   "cell_type": "code",
   "execution_count": null,
   "metadata": {},
   "outputs": [],
   "source": [
    "depth.loc[clones_dif_ix,clones+['B3502_B1','B3502_B7']]"
   ]
  },
  {
   "cell_type": "code",
   "execution_count": null,
   "metadata": {},
   "outputs": [],
   "source": [
    "geno.loc[clones_dif_ix,clones+['B3502_B1','B3502_B7']]"
   ]
  },
  {
   "cell_type": "code",
   "execution_count": null,
   "metadata": {},
   "outputs": [],
   "source": [
    "\n",
    "\n",
    "\n",
    "\n",
    "\n",
    "## Load in chromosome map\n",
    "mappath = '/home/croth/Downloads/B3502/DATA/chrommap.csv.gz'\n",
    "chrommap = pd.read_csv(mappath)\n",
    "chrommap['Seqid'] = chrommap.Contig\n",
    "chrommap.drop('Contig',axis=1,inplace=True)\n",
    "\n",
    "\n",
    "\n",
    "## Merge dataframes\n",
    "chrommap['Chromosome'] = chrommap.index+1\n",
    "chrommap = chrommap.merge(centlocs)\n",
    "\n",
    "\n",
    "gff = gff.merge(chrommap)\n",
    "\n",
    "#stock_variants = pd.read_csv('/home/croth/Downloads/B3502/DATA/B3502_stocks_variants.csv',\n",
    "#                            index_col=0)\n",
    "#stock_variants.head()\n",
    "\n",
    "## Load in gene changes analysis \n",
    "## This was done on stocks of B3502, CF830, and JEC21\n",
    "gene_changes = pd.read_csv('../GENES/gene_changes.csv.gz')\n",
    "\n"
   ]
  },
  {
   "cell_type": "code",
   "execution_count": null,
   "metadata": {},
   "outputs": [],
   "source": [
    "pheno[(pheno.Parent=='B1')].shape"
   ]
  },
  {
   "cell_type": "code",
   "execution_count": null,
   "metadata": {},
   "outputs": [],
   "source": [
    "pheno[(pheno.Parent=='B1')]"
   ]
  },
  {
   "cell_type": "code",
   "execution_count": null,
   "metadata": {},
   "outputs": [],
   "source": []
  },
  {
   "cell_type": "code",
   "execution_count": null,
   "metadata": {},
   "outputs": [],
   "source": []
  },
  {
   "cell_type": "code",
   "execution_count": null,
   "metadata": {},
   "outputs": [],
   "source": []
  },
  {
   "cell_type": "code",
   "execution_count": null,
   "metadata": {},
   "outputs": [],
   "source": [
    "## Gather samples view last 5\n",
    "samples = sorted(geno.columns.tolist()[:-2])\n",
    "len(samples), samples[-5:]"
   ]
  },
  {
   "cell_type": "code",
   "execution_count": null,
   "metadata": {},
   "outputs": [],
   "source": [
    "## Set parents used in sequenced cross A1, B1, B7\n",
    "parents = ['B3502_%s'%a for a in ['A1','B1','B7']] + ['CF830','JEC21'] \n",
    "parents"
   ]
  },
  {
   "cell_type": "code",
   "execution_count": null,
   "metadata": {},
   "outputs": [],
   "source": [
    "## concatonate info with geno\n",
    "seggeno = geno.loc[:,~geno.columns.isin(['Chrom','Oldix'])]\n",
    "genodf = pd.concat([info,seggeno],axis=1)\n",
    "genodf.shape"
   ]
  },
  {
   "cell_type": "code",
   "execution_count": null,
   "metadata": {},
   "outputs": [],
   "source": [
    "## Find sites that are invariant across population.\n",
    "## IE gvs that are all JEC21 (reference genotype)\n",
    "parent_invar_0_ix = geno[(geno[parents].T.sum() == 0) | \n",
    "                         (geno[parents].T.var() == 0)].index.tolist()\n",
    "len(parent_invar_0_ix)"
   ]
  },
  {
   "cell_type": "code",
   "execution_count": null,
   "metadata": {},
   "outputs": [],
   "source": [
    "## Gather the variant sites\n",
    "vargeno_temp = genodf[~(genodf.index.isin(parent_invar_0_ix))]\n",
    "vargeno_temp.shape"
   ]
  },
  {
   "cell_type": "code",
   "execution_count": null,
   "metadata": {},
   "outputs": [],
   "source": [
    "vartest_ix = vargeno_temp[(vargeno_temp[parents].T.var()>0)\n",
    "                          ][parents].dropna().index"
   ]
  },
  {
   "cell_type": "code",
   "execution_count": null,
   "metadata": {},
   "outputs": [],
   "source": [
    "non_sf_parent = 'B3502_B1'\n",
    "other_parents = [p for p in parents ]"
   ]
  },
  {
   "cell_type": "markdown",
   "metadata": {},
   "source": [
    "## Gather indcies where at least one of the \n",
    "## B3502 stock parents is different from CF830\n",
    "var_ix = []\n",
    "for p in parents:\n",
    "    \n",
    "    pgeno = vargeno_temp[[p,parents[-1]]].diff(axis=1).dropna(axis=0,how='all')\n",
    "    dif_ix = pgeno[(pgeno[parents[-1]] != 0)].index\n",
    "    var_ix.append(dif_ix)\n",
    "    \n",
    "var_ix = np.unique(np.concatenate(var_ix))\n",
    "\n",
    "## Gather this variant genotype info check shape\n",
    "vargeno = vargeno_temp.loc[var_ix].dropna().copy()\n",
    "vargeno.shape"
   ]
  },
  {
   "cell_type": "code",
   "execution_count": null,
   "metadata": {},
   "outputs": [],
   "source": [
    "vargeno = vargeno_temp.loc[vartest_ix,:].copy()\n",
    "vargeno.shape"
   ]
  },
  {
   "cell_type": "code",
   "execution_count": null,
   "metadata": {},
   "outputs": [],
   "source": [
    "missing = [i for i in vargeno_temp.index if i not in vargeno.index]\n",
    "len(missing)"
   ]
  },
  {
   "cell_type": "code",
   "execution_count": null,
   "metadata": {},
   "outputs": [],
   "source": [
    "## Make parent and stock variant dataframes\n",
    "infocols = ['Seqid','Chrom','Oldix','Pos','Qual','Nallele','Alleles','Type']\n",
    "\n",
    "parents_gvs = vargeno[parents+['JEC21']+infocols].T.drop_duplicates().T.copy()\n",
    "\n",
    "parents_gvs['Avedepth'] = depth.loc[vargeno.index,parents+['JEC21']].T.mean()\n",
    "parents_gvs['Mindepth'] = depth.loc[vargeno.index,parents+['JEC21']].T.min()\n",
    "parents_gvs['Maxdepth'] = depth.loc[vargeno.index,parents+['JEC21']].T.max()\n",
    "\n",
    "parents_gvs['Averatio'] = ratio.loc[vargeno.index,parents+['JEC21']].T.mean()\n",
    "parents_gvs['Minratio'] = ratio.loc[vargeno.index,parents+['JEC21']].T.min()\n",
    "parents_gvs['Maxratio'] = ratio.loc[vargeno.index,parents+['JEC21']].T.max()\n",
    "\n",
    "parents_gvs.to_csv('../GENOTYPE/B3502_parent_variants.csv.gz',index=True)"
   ]
  },
  {
   "cell_type": "code",
   "execution_count": null,
   "metadata": {},
   "outputs": [],
   "source": [
    "casual = 1438418"
   ]
  },
  {
   "cell_type": "code",
   "execution_count": null,
   "metadata": {},
   "outputs": [],
   "source": [
    "candidate_ix = parents_gvs[(parents_gvs.Chrom==6) & \n",
    "                (parents_gvs.Pos.isin(\n",
    "                np.arange(1437068, 1438867,1)))].index"
   ]
  },
  {
   "cell_type": "code",
   "execution_count": null,
   "metadata": {},
   "outputs": [],
   "source": [
    "b1_p = pheno[(pheno[pheno.columns[3]]=='Y')].Progeny.tolist()\n",
    "\n",
    "b1_checks = b1_p+ ['B3502_B7','B3502_A1','B3502_B1']\n",
    "len(b1_checks),len(b1_p)"
   ]
  },
  {
   "cell_type": "code",
   "execution_count": null,
   "metadata": {},
   "outputs": [],
   "source": [
    "genodf.loc[candidate_ix,b1_checks+['CF830','Pos']]"
   ]
  },
  {
   "cell_type": "code",
   "execution_count": null,
   "metadata": {},
   "outputs": [],
   "source": []
  },
  {
   "cell_type": "code",
   "execution_count": null,
   "metadata": {},
   "outputs": [],
   "source": []
  },
  {
   "cell_type": "code",
   "execution_count": null,
   "metadata": {},
   "outputs": [],
   "source": [
    "repressor_candidate = 'CNF04940'\n",
    "rc_gff = gff[(gff.Gene==repressor_candidate)].copy()\n",
    "rc_gff.head()"
   ]
  },
  {
   "cell_type": "code",
   "execution_count": null,
   "metadata": {},
   "outputs": [],
   "source": [
    "fig,ax = plt.subplots(1,1,figsize=(8,3))\n",
    "\n",
    "plt.hlines(0,rc_gff.Start.min(),rc_gff.End.max(),color='grey',alpha=.7,linewidth=5);\n",
    "plt.hlines(0,rc_gff[(rc_gff.Type=='CDS')].Start.min(),\n",
    "           rc_gff[(rc_gff.Type=='CDS')].End.max(),color='grey',\n",
    "           linewidth=10,alpha=0.87);\n",
    "\n",
    "temp_pos = parents_gvs[(parents_gvs.Chrom==6) & \n",
    "                       (parents_gvs.Pos>1435000) & \n",
    "                       (parents_gvs.Pos<1500000)].Pos.values\n",
    "\n",
    "plt.plot(temp_pos,np.zeros(len(temp_pos)),'k.');\n"
   ]
  },
  {
   "cell_type": "code",
   "execution_count": null,
   "metadata": {},
   "outputs": [],
   "source": [
    " parents_gvs[(parents_gvs.Chrom==6) & \n",
    "                       (parents_gvs.Pos>1400000) & \n",
    "                       (parents_gvs.Pos<1500000)]"
   ]
  },
  {
   "cell_type": "code",
   "execution_count": null,
   "metadata": {},
   "outputs": [],
   "source": [
    "parents_gvs[(parents_gvs.Chrom==6) & \n",
    "                    (parents_gvs.Pos>143000) & \n",
    "                       (parents_gvs.Pos<144000)]"
   ]
  },
  {
   "cell_type": "code",
   "execution_count": null,
   "metadata": {},
   "outputs": [],
   "source": [
    "## Group by parent\n",
    "byparent = [p.Progeny.values for a,p in pheno.groupby('Parent')]\n",
    "[print(a) for a,p in pheno.groupby('Parent')];"
   ]
  },
  {
   "cell_type": "code",
   "execution_count": null,
   "metadata": {},
   "outputs": [],
   "source": [
    "## Calculate the CF830 allele frequencies \n",
    "## PER cross between CF830 and the B3502 stocks\n",
    "cf_830 = [np.sum((vargeno[bp\n",
    "            ].T.values  - vargeno['CF830'].values\n",
    "                   ) == 0,axis=0)/len(bp) for bp in byparent]\n",
    "\n",
    "## Add as columns to variant df\n",
    "for i,p in enumerate(['A1','B1','B7']):\n",
    "    vargeno['%s_af'%p] = cf_830[i]\n",
    "    \n",
    "vargeno.tail()"
   ]
  },
  {
   "cell_type": "code",
   "execution_count": null,
   "metadata": {},
   "outputs": [],
   "source": [
    "## Find variants that are invariant in the progeny\n",
    "invar_geno = vargeno[(vargeno[pheno.Progeny.tolist()].T.var() == 0)]\n",
    "invar_geno.shape"
   ]
  },
  {
   "cell_type": "code",
   "execution_count": null,
   "metadata": {},
   "outputs": [],
   "source": [
    "## Assert that we have colledct genotypes == JEC21\n",
    "## We should have found these above\n",
    "assert len([i for i in vargeno[(vargeno[(pheno.Progeny)].T.sum()==0)].index \n",
    " if i not in invar_geno.index]) == 0"
   ]
  },
  {
   "cell_type": "code",
   "execution_count": null,
   "metadata": {},
   "outputs": [],
   "source": [
    "## Check where the invariance is in the other genotype B3502\n",
    "vargeno[(np.sum(vargeno[pheno.Progeny] == 1,axis=1) == len(pheno.Progeny))]"
   ]
  },
  {
   "cell_type": "code",
   "execution_count": null,
   "metadata": {},
   "outputs": [],
   "source": [
    "## Remove invarnt sites\n",
    "loci = vargeno[~(vargeno.index.isin(invar_geno.index))]\n",
    "loci = loci.T.drop_duplicates().T\n",
    "\n",
    "## SAve\n",
    "loci.to_csv('../GENOTYPE/B3502_progeny_genotypes.csv.gz')\n",
    "loci.shape"
   ]
  },
  {
   "cell_type": "code",
   "execution_count": null,
   "metadata": {},
   "outputs": [],
   "source": [
    "## Gather progeny from the B3502_B1 stock\n",
    "## That are filamentous (Y for yes)\n",
    "#b1_p = pheno[(pheno.Parent=='B1') & (pheno[pheno.columns[3]]=='Y')].Progeny.tolist()\n",
    "b1_p = pheno[(pheno.Parent=='B1') & \n",
    "             (pheno[pheno.columns[3]]!='N')].Progeny.tolist()\n",
    "\n",
    "b1_checks = b1_p+ ['B3502_B7','B3502_A1','B3502_B1']\n",
    "len(b1_checks),len(b1_p)"
   ]
  },
  {
   "cell_type": "code",
   "execution_count": null,
   "metadata": {},
   "outputs": [],
   "source": [
    "b1_checks"
   ]
  },
  {
   "cell_type": "code",
   "execution_count": null,
   "metadata": {},
   "outputs": [],
   "source": [
    "## Find potential repressor sites in geno (full data non filtered)\n",
    "k = np.min(np.abs(geno[b1_checks[:-1]].T.values - geno[b1_checks[-1]].values).T,axis=1)\n",
    "#k = np.min(np.abs(geno[b1_checks_ny[:-1]].T.values - geno[b1_checks_ny[-1]].values).T,axis=1)\n",
    "repres_ix = geno.index.values[(k!=0)]\n",
    "\n",
    "## Check work\n",
    "assert len(repres_ix) == np.unique(repres_ix).shape[0]\n",
    "\n",
    "## Print number\n",
    "len(repres_ix)"
   ]
  },
  {
   "cell_type": "code",
   "execution_count": null,
   "metadata": {},
   "outputs": [],
   "source": [
    "## Gather represors into a dataframe\n",
    "repres_temp = geno.loc[repres_ix,b1_checks].dropna()\n",
    "repres = pd.concat([repres_temp,info.loc[repres_temp.index]],axis=1)\n",
    "\n",
    "repres['Ratio_ave'] = ratio.loc[repres.index,b1_checks].mean(axis=1)\n",
    "repres['Depth_ave'] = depth.loc[repres.index,b1_checks].mean(axis=1)\n",
    "\n",
    "repres = repres.T.drop_duplicates().T\n",
    "repres.head()"
   ]
  },
  {
   "cell_type": "code",
   "execution_count": null,
   "metadata": {},
   "outputs": [],
   "source": [
    "## Gather genes on chromosomes in our represor set\n",
    "gfftemp = gff[(gff.Type=='gene') & \n",
    "              (gff.Chromosome.isin(repres.Chrom))]\n",
    "\n",
    "\n",
    "## If the repressor is in a gene\n",
    "gene_check = []\n",
    "for i,j in repres.iterrows():\n",
    "    gp = gfftemp[(gfftemp.Chromosome==j.Chrom) & \n",
    "            (gfftemp.Start<=j.Pos) & (gfftemp.End>=j.Pos)]\n",
    "    \n",
    "    if gp.shape[0]>0:\n",
    "    #    print(gp[['Gene','Start','End']])\n",
    "    #    print(i,j.Pos,j.Chrom)\n",
    "    #    print('\\n')\n",
    "        \n",
    "        gene_check.append(gp.Gene.min())\n",
    "    \n",
    "gene_check = np.unique(gene_check)\n",
    "len(gene_check)"
   ]
  },
  {
   "cell_type": "code",
   "execution_count": null,
   "metadata": {},
   "outputs": [],
   "source": [
    "gene_check"
   ]
  },
  {
   "cell_type": "code",
   "execution_count": null,
   "metadata": {},
   "outputs": [],
   "source": [
    "## Gather the parent data\n",
    "parents_and_JEC21 = parents + ['JEC21']\n",
    "pgeno = geno[parents_and_JEC21].copy().dropna()\n",
    "pgeno['Ave_depth'] = depth[parents_and_JEC21].T.mean()\n",
    "pgeno['Ave_ratio'] = ratio[parents_and_JEC21].T.mean()\n",
    "pgeno['IsJEC21'] = pgeno[parents_and_JEC21].T.sum()\n",
    "pgeno['Genovar'] = pgeno[parents_and_JEC21].T.var()"
   ]
  },
  {
   "cell_type": "code",
   "execution_count": null,
   "metadata": {},
   "outputs": [],
   "source": [
    "## Filter the parent data\n",
    "pfilt = pgeno[(pgeno.Genovar!= 0) & \n",
    "              (pgeno.Ave_depth> 9) & \n",
    "              (pgeno.Ave_ratio > .8)]"
   ]
  },
  {
   "cell_type": "code",
   "execution_count": null,
   "metadata": {},
   "outputs": [],
   "source": [
    "pfin = pd.concat([info.loc[pfilt.index],pfilt],axis=1)\n",
    "pfin.shape"
   ]
  },
  {
   "cell_type": "code",
   "execution_count": null,
   "metadata": {},
   "outputs": [],
   "source": [
    "pfin[(pfin.Chrom==1) & (pfin.Pos==1430787)]"
   ]
  },
  {
   "cell_type": "code",
   "execution_count": null,
   "metadata": {},
   "outputs": [],
   "source": [
    "geno.loc[27604,b1_checks]"
   ]
  },
  {
   "cell_type": "code",
   "execution_count": null,
   "metadata": {},
   "outputs": [],
   "source": [
    "pfin[(pfin.Chrom==3) & (pfin.Pos==153548)][parents_and_JEC21]"
   ]
  },
  {
   "cell_type": "code",
   "execution_count": null,
   "metadata": {},
   "outputs": [],
   "source": [
    "pfin[(pfin.Chrom==6) & (pfin.Pos>=1437085)]"
   ]
  },
  {
   "cell_type": "code",
   "execution_count": null,
   "metadata": {},
   "outputs": [],
   "source": [
    "parents_gvs[(parents_gvs.Chrom==6) & (parents_gvs.Pos>=1437085)]"
   ]
  },
  {
   "cell_type": "code",
   "execution_count": null,
   "metadata": {},
   "outputs": [],
   "source": [
    "pfin[(pfin.Chrom==10) & (pfin.Pos==323716)]"
   ]
  },
  {
   "cell_type": "code",
   "execution_count": null,
   "metadata": {},
   "outputs": [],
   "source": [
    "notin = [i for i in repres.index if i not in pfin.index]\n",
    "notin[:5],len(notin)"
   ]
  },
  {
   "cell_type": "code",
   "execution_count": null,
   "metadata": {},
   "outputs": [],
   "source": [
    "len(repres)"
   ]
  },
  {
   "cell_type": "code",
   "execution_count": null,
   "metadata": {},
   "outputs": [],
   "source": [
    "## Find reprsor index in parent differnet index\n",
    "repres_in_parents = [i for i in repres.index if i in pfin.index]\n",
    "len(repres_in_parents)"
   ]
  },
  {
   "cell_type": "code",
   "execution_count": null,
   "metadata": {},
   "outputs": [],
   "source": [
    "pfin.loc[repres_in_parents][['Pos','Chrom']]"
   ]
  },
  {
   "cell_type": "code",
   "execution_count": null,
   "metadata": {},
   "outputs": [],
   "source": [
    "geno.loc[244989][['A44','A43','A27','A24']]"
   ]
  },
  {
   "cell_type": "code",
   "execution_count": null,
   "metadata": {},
   "outputs": [],
   "source": [
    "tempix = geno[(info.Pos>=1437068) & \n",
    "              (info.Pos<=1438867) & \n",
    "              (geno.Chrom==6)][b1_checks].index"
   ]
  },
  {
   "cell_type": "code",
   "execution_count": null,
   "metadata": {},
   "outputs": [],
   "source": [
    "candidate = geno.loc[tempix].copy()\n",
    "candidate['Pos'] = info.loc[tempix,'Pos']\n",
    "candidate['Var'] = candidate[b1_checks].T.var()\n",
    "candidate[(candidate.Var!=0)]\n",
    "toplot_can = candidate[(candidate.Var!=0)][b1_checks+['Pos']].copy().dropna()\n",
    "toplot_can.index = toplot_can.Pos\n",
    "toplot_can.drop(['Pos'],axis=1,inplace=True)\n",
    "toplot_can"
   ]
  },
  {
   "cell_type": "code",
   "execution_count": null,
   "metadata": {},
   "outputs": [],
   "source": [
    "clones1 = geno[(geno['A27'] != geno['A24'])][['A27','A24']].copy().dropna()\n",
    "clones1['Mdepth'] =depth.loc[clones1.index,['A27','A24']].T.min()\n",
    "clones1['Mratio'] =ratio.loc[clones1.index,['A27','A24']].T.min()\n",
    "clones1['Pos'] = info.loc[clones1.index,'Pos']\n",
    "clones1['Chrom'] = info.loc[clones1.index,'Chrom']"
   ]
  },
  {
   "cell_type": "code",
   "execution_count": null,
   "metadata": {},
   "outputs": [],
   "source": [
    "geno.loc[clones1[(clones1.Mratio>0.6)].index,['A44','A43']]"
   ]
  },
  {
   "cell_type": "code",
   "execution_count": null,
   "metadata": {},
   "outputs": [],
   "source": [
    "info"
   ]
  },
  {
   "cell_type": "code",
   "execution_count": null,
   "metadata": {},
   "outputs": [],
   "source": [
    "clones2 = geno[(geno['A44'] != geno['A43'])][['A44','A43']].copy().dropna()\n",
    "clones2['Mdepth'] =depth.loc[clones2.index,['A44','A43']].T.max()\n",
    "clones2['Mratio'] =ratio.loc[clones2.index,['A44','A43']].T.max()\n",
    "clones2['Pos'] = info.loc[clones2.index,'Pos']\n",
    "clones2['Chrom'] = info.loc[clones2.index,'Chrom']\n",
    "clones2['Alleles'] = info.loc[clones2.index,'Alleles']\n",
    "clones2['Type'] = info.loc[clones2.index,'Type']\n",
    "\n",
    "clones2[(clones2.Mratio>0.8)].head()"
   ]
  },
  {
   "cell_type": "code",
   "execution_count": null,
   "metadata": {},
   "outputs": [],
   "source": [
    "commonix = [i for i in clones1.index.tolist() if i in clones2.index.tolist()]"
   ]
  },
  {
   "cell_type": "code",
   "execution_count": null,
   "metadata": {},
   "outputs": [],
   "source": [
    "temp = pd.concat([clones1.loc[commonix,['A27','A24']],clones2.loc[commonix]],axis=1)"
   ]
  },
  {
   "cell_type": "code",
   "execution_count": null,
   "metadata": {},
   "outputs": [],
   "source": [
    "temp.shape"
   ]
  },
  {
   "cell_type": "code",
   "execution_count": null,
   "metadata": {},
   "outputs": [],
   "source": [
    "sf_progeny = pheno[(pheno[(pheno.columns[3])] =='Y')].Progeny.tolist() + ['B3502_A1','B3502_B7','B3502_B1','CF830']"
   ]
  },
  {
   "cell_type": "code",
   "execution_count": null,
   "metadata": {},
   "outputs": [],
   "source": [
    "other_repressor = []\n",
    "for i,g in vargeno.iterrows():\n",
    "    \n",
    "    if (g['B3502_B1'] not in g[sf_progeny[:-2]].tolist()) and (g['B3502_B1']!=g['CF830']):\n",
    "        other_repressor.append(i)\n",
    "        \n",
    "len(other_repressor)"
   ]
  },
  {
   "cell_type": "code",
   "execution_count": null,
   "metadata": {},
   "outputs": [],
   "source": [
    "loci.loc[other_repressor][sf_progeny+['Chrom','Pos','Alleles','Type']]"
   ]
  },
  {
   "cell_type": "code",
   "execution_count": null,
   "metadata": {},
   "outputs": [],
   "source": [
    "loci.loc[other_repressor][sf_progeny+['Chrom','Pos','Alleles','Type']]"
   ]
  },
  {
   "cell_type": "code",
   "execution_count": null,
   "metadata": {},
   "outputs": [],
   "source": []
  },
  {
   "cell_type": "code",
   "execution_count": null,
   "metadata": {},
   "outputs": [],
   "source": []
  },
  {
   "cell_type": "code",
   "execution_count": null,
   "metadata": {},
   "outputs": [],
   "source": [
    "info[(info.Chrom==6) & (info.Pos==1437914)]"
   ]
  },
  {
   "cell_type": "code",
   "execution_count": null,
   "metadata": {},
   "outputs": [],
   "source": [
    "import seaborn as sns"
   ]
  },
  {
   "cell_type": "code",
   "execution_count": null,
   "metadata": {},
   "outputs": [],
   "source": [
    "fig,ax = plt.subplots(1,1,figsize=(10,3))\n",
    "sns.heatmap(toplot_can.T,cbar=False, linewidths=.5);\n",
    "plt.xlabel('\\nGenetiv Vairant Position',fontsize=12)\n",
    "plt.ylabel('B3502 Stocks and F$_1$ Progeny\\n',fontsize=12);\n",
    "plt.savefig('../FIGURES/CNF04940_variants.png',dpi=200,bbox_inches='tight')"
   ]
  },
  {
   "cell_type": "code",
   "execution_count": null,
   "metadata": {},
   "outputs": [],
   "source": [
    "gff[(gff.Gene=='CNF04940')]"
   ]
  },
  {
   "cell_type": "code",
   "execution_count": null,
   "metadata": {},
   "outputs": [],
   "source": [
    "repres_in_parents"
   ]
  },
  {
   "cell_type": "code",
   "execution_count": null,
   "metadata": {},
   "outputs": [],
   "source": [
    "info.loc[repres_in_parents]"
   ]
  },
  {
   "cell_type": "code",
   "execution_count": null,
   "metadata": {},
   "outputs": [],
   "source": [
    "for i,j in repres.loc[repres_in_parents].iterrows():\n",
    "    gp = gfftemp[(gfftemp.Chromosome==j.Chrom) & \n",
    "           "
   ]
  },
  {
   "cell_type": "code",
   "execution_count": null,
   "metadata": {},
   "outputs": [],
   "source": [
    "repres.loc[repres_in_parents]"
   ]
  },
  {
   "cell_type": "code",
   "execution_count": null,
   "metadata": {},
   "outputs": [],
   "source": [
    "#[i for i in pfin.index if i not in repres]"
   ]
  },
  {
   "cell_type": "code",
   "execution_count": null,
   "metadata": {},
   "outputs": [],
   "source": [
    "p = 1430787\n",
    "c = 1\n",
    "ix = info[(info.Pos==p) & (info.Chrom==c)].index\n",
    "\n",
    "\n",
    "geno.loc[ix,b1_checks]"
   ]
  },
  {
   "cell_type": "code",
   "execution_count": null,
   "metadata": {},
   "outputs": [],
   "source": [
    "p = 153548\n",
    "c = 3\n",
    "ix = info[(info.Pos==p) & (info.Chrom==c)].index\n",
    "\n",
    "\n",
    "geno.loc[ix,b1_checks]"
   ]
  },
  {
   "cell_type": "code",
   "execution_count": null,
   "metadata": {},
   "outputs": [],
   "source": [
    "p = [1437085,1437389,1438373]\n",
    "c = 6\n",
    "ix = info[(info.Pos.isin(p)) & (info.Chrom==c)].index\n",
    "\n",
    "\n",
    "geno.loc[ix,b1_checks]"
   ]
  },
  {
   "cell_type": "code",
   "execution_count": null,
   "metadata": {},
   "outputs": [],
   "source": [
    "p = [323716]\n",
    "c = 10\n",
    "ix = info[(info.Pos.isin(p)) & (info.Chrom==c)].index\n",
    "\n",
    "\n",
    "geno.loc[ix,b1_checks]"
   ]
  },
  {
   "cell_type": "code",
   "execution_count": null,
   "metadata": {},
   "outputs": [],
   "source": []
  },
  {
   "cell_type": "code",
   "execution_count": null,
   "metadata": {},
   "outputs": [],
   "source": []
  },
  {
   "cell_type": "code",
   "execution_count": null,
   "metadata": {},
   "outputs": [],
   "source": [
    "cnf04940varix= pfin[(pfin.Chrom==6) & (pfin.Pos>=1437068)].index"
   ]
  },
  {
   "cell_type": "code",
   "execution_count": null,
   "metadata": {},
   "outputs": [],
   "source": [
    "cnm00880 = pfin[(pfin.Chrom==13) & (pfin.Pos>= 256057) & (pfin.Pos<=258338)].index"
   ]
  },
  {
   "cell_type": "code",
   "execution_count": null,
   "metadata": {},
   "outputs": [],
   "source": [
    "info.loc[cnm00880]"
   ]
  },
  {
   "cell_type": "code",
   "execution_count": null,
   "metadata": {},
   "outputs": [],
   "source": [
    "cnm00880ix_temp = info[(info.Chrom==13) & (info.Pos>= 256057) & (info.Pos<=258338)].index.tolist()"
   ]
  },
  {
   "cell_type": "code",
   "execution_count": null,
   "metadata": {},
   "outputs": [],
   "source": [
    "cnm00880ix = repres[(repres.index.isin(cnm00880ix_temp))].index"
   ]
  },
  {
   "cell_type": "code",
   "execution_count": null,
   "metadata": {},
   "outputs": [],
   "source": [
    "y_progeny = pheno[(pheno[pheno.columns[3]]=='Y')].Progeny.values\n",
    "check1 = sorted(np.unique(list(b1_checks) + list(y_progeny)))\n",
    "\n",
    "c_progeny = pheno[(pheno[pheno.columns[3]].isin(['Y','L','T']))].Progeny.values\n",
    "check2 = sorted(c_progeny)\n",
    "\n",
    "T_progeny = pheno[(pheno[pheno.columns[3]].isin(['Y','T']))].Progeny.values\n",
    "check3 = sorted(T_progeny)"
   ]
  },
  {
   "cell_type": "code",
   "execution_count": null,
   "metadata": {},
   "outputs": [],
   "source": [
    "g = 'CNB00860'\n",
    "gse = gff[(gff.Gene==g) & (gff.Type=='gene')][['Start','End']].values[0]\n",
    "gpos = np.arange(*gse)\n",
    "gchrom = gff[(gff.Gene==g)]['Chromosome'].min()\n",
    "\n",
    "gix = repres[(repres.Chrom==gchrom) & (repres.Pos.isin(gpos))].index\n",
    "geno.loc[gix,check3]"
   ]
  },
  {
   "cell_type": "code",
   "execution_count": null,
   "metadata": {},
   "outputs": [],
   "source": [
    "geno.loc[gix,b1_checks]"
   ]
  },
  {
   "cell_type": "code",
   "execution_count": null,
   "metadata": {},
   "outputs": [],
   "source": [
    "g = 'CNE05380'\n",
    "gse = gff[(gff.Gene==g) & (gff.Type=='gene')][['Start','End']].values[0]\n",
    "gpos = np.arange(*gse)\n",
    "gchrom = gff[(gff.Gene==g)]['Chromosome'].min()\n",
    "\n",
    "gix = repres[(repres.Chrom==gchrom) & (repres.Pos.isin(gpos))].index\n",
    "geno.loc[gix,check3]"
   ]
  },
  {
   "cell_type": "code",
   "execution_count": null,
   "metadata": {},
   "outputs": [],
   "source": [
    "geno.loc[gix,check1]"
   ]
  },
  {
   "cell_type": "code",
   "execution_count": null,
   "metadata": {},
   "outputs": [],
   "source": [
    "geno.loc[gix,check2]"
   ]
  },
  {
   "cell_type": "code",
   "execution_count": null,
   "metadata": {},
   "outputs": [],
   "source": [
    "np.unique(geno.loc[gix,check2].values[0])"
   ]
  },
  {
   "cell_type": "code",
   "execution_count": null,
   "metadata": {},
   "outputs": [],
   "source": [
    "geno.loc[gix,b1_checks]"
   ]
  },
  {
   "cell_type": "code",
   "execution_count": null,
   "metadata": {},
   "outputs": [],
   "source": [
    "gix in pfin.index.tolist()"
   ]
  },
  {
   "cell_type": "code",
   "execution_count": null,
   "metadata": {},
   "outputs": [],
   "source": [
    "pgeno.loc[gix]"
   ]
  },
  {
   "cell_type": "code",
   "execution_count": null,
   "metadata": {},
   "outputs": [],
   "source": [
    "g = 'CNF04940'\n",
    "gse = gff[(gff.Gene==g) & (gff.Type=='gene')][['Start','End']].values[0]\n",
    "gpos = np.arange(*gse)\n",
    "gchrom = gff[(gff.Gene==g)]['Chromosome'].min()\n",
    "\n",
    "gix = repres[(repres.Chrom==gchrom) & (repres.Pos.isin(gpos))].index\n",
    "geno.loc[gix,check3]"
   ]
  },
  {
   "cell_type": "code",
   "execution_count": null,
   "metadata": {},
   "outputs": [],
   "source": [
    "geno.loc[gix,check1]"
   ]
  },
  {
   "cell_type": "code",
   "execution_count": null,
   "metadata": {},
   "outputs": [],
   "source": [
    "g = 'CNL04090'\n",
    "gse = gff[(gff.Gene==g) & (gff.Type=='gene')][['Start','End']].values[0]\n",
    "gpos = np.arange(*gse)\n",
    "gchrom = gff[(gff.Gene==g)]['Chromosome'].min()\n",
    "\n",
    "gix = repres[(repres.Chrom==gchrom) & (repres.Pos.isin(gpos))].index\n",
    "geno.loc[gix,check3].values"
   ]
  },
  {
   "cell_type": "code",
   "execution_count": null,
   "metadata": {},
   "outputs": [],
   "source": [
    "g = 'CNM00880'\n",
    "gse = gff[(gff.Gene==g) & (gff.Type=='gene')][['Start','End']].values[0]\n",
    "gpos = np.arange(*gse)\n",
    "gchrom = gff[(gff.Gene==g)]['Chromosome'].min()\n",
    "\n",
    "gix = repres[(repres.Chrom==gchrom) & (repres.Pos.isin(gpos))].index\n",
    "geno.loc[gix,check3].values"
   ]
  },
  {
   "cell_type": "code",
   "execution_count": null,
   "metadata": {},
   "outputs": [],
   "source": [
    "g = 'CNJ01150'\n",
    "gse = gff[(gff.Gene==g) & (gff.Type=='gene')][['Start','End']].values[0]\n",
    "gpos = np.arange(*gse)\n",
    "gchrom = gff[(gff.Gene==g)]['Chromosome'].min()\n",
    "\n",
    "gix = repres[(repres.Chrom==gchrom) & (repres.Pos.isin(gpos))].index\n",
    "geno.loc[gix,check3].values"
   ]
  },
  {
   "cell_type": "code",
   "execution_count": null,
   "metadata": {},
   "outputs": [],
   "source": [
    "geno.loc[info[(info.Pos.isin(gpos)) & (info.Chrom==gchrom)].index,b1_checks]"
   ]
  },
  {
   "cell_type": "code",
   "execution_count": null,
   "metadata": {},
   "outputs": [],
   "source": [
    "geno.loc[info[(info.Pos==1430787)].index,b1_checks]"
   ]
  },
  {
   "cell_type": "code",
   "execution_count": null,
   "metadata": {},
   "outputs": [],
   "source": [
    "geno.loc[info[(info.Pos==153548) & (info.Chrom==3)].index,b1_checks+['B3502_A7']]"
   ]
  },
  {
   "cell_type": "code",
   "execution_count": null,
   "metadata": {},
   "outputs": [],
   "source": [
    "\n",
    "geno.loc[cnm00880ix,check1]"
   ]
  },
  {
   "cell_type": "code",
   "execution_count": null,
   "metadata": {},
   "outputs": [],
   "source": [
    "n_progeny = pheno[(pheno[pheno.columns[3]]=='N')].Progeny.values\n",
    "\n",
    "check2 = np.unique(list(b1_checks) + list(n_progeny) + ['JEC21'])\n",
    "geno.loc[cnm00880ix,check2]"
   ]
  },
  {
   "cell_type": "code",
   "execution_count": null,
   "metadata": {},
   "outputs": [],
   "source": [
    "y_progeny = pheno[(pheno[pheno.columns[3]]=='Y')].Progeny.values\n",
    "check1 = np.unique(list(b1_checks) + list(y_progeny))\n",
    "geno.loc[cnf04940varix,check1]"
   ]
  },
  {
   "cell_type": "code",
   "execution_count": null,
   "metadata": {},
   "outputs": [],
   "source": [
    "n_progeny = pheno[(pheno[pheno.columns[3]]=='N')].Progeny.values\n",
    "\n",
    "check2 = np.unique(list(b1_checks) + list(n_progeny) + ['JEC21'])\n",
    "geno.loc[cnf04940varix,check2]"
   ]
  },
  {
   "cell_type": "code",
   "execution_count": null,
   "metadata": {},
   "outputs": [],
   "source": [
    "b1_checks"
   ]
  },
  {
   "cell_type": "code",
   "execution_count": null,
   "metadata": {},
   "outputs": [],
   "source": [
    "geno.loc[cnf04940varix,]"
   ]
  },
  {
   "cell_type": "code",
   "execution_count": null,
   "metadata": {},
   "outputs": [],
   "source": [
    "#pfin.drop(237053,axis=0,inplace=True)"
   ]
  },
  {
   "cell_type": "code",
   "execution_count": null,
   "metadata": {},
   "outputs": [],
   "source": []
  },
  {
   "cell_type": "code",
   "execution_count": null,
   "metadata": {},
   "outputs": [],
   "source": []
  },
  {
   "cell_type": "code",
   "execution_count": null,
   "metadata": {},
   "outputs": [],
   "source": []
  },
  {
   "cell_type": "code",
   "execution_count": null,
   "metadata": {},
   "outputs": [],
   "source": [
    "pfin.to_csv('../GENOTYPE/B3502_refilt_stock_variants.csv.gz')"
   ]
  },
  {
   "cell_type": "code",
   "execution_count": null,
   "metadata": {},
   "outputs": [],
   "source": [
    "assert 1 ==0"
   ]
  },
  {
   "cell_type": "code",
   "execution_count": null,
   "metadata": {},
   "outputs": [],
   "source": []
  },
  {
   "cell_type": "code",
   "execution_count": null,
   "metadata": {},
   "outputs": [],
   "source": [
    "info['AF'] = (geno[samples] !=0).mean(axis=1)"
   ]
  },
  {
   "cell_type": "code",
   "execution_count": null,
   "metadata": {},
   "outputs": [],
   "source": [
    "info[(info.AF>0) & (info.AF<1)].shape[0]"
   ]
  },
  {
   "cell_type": "code",
   "execution_count": null,
   "metadata": {},
   "outputs": [],
   "source": [
    "qtlfun.manhattan(info.sort_values('Chrom'),\n",
    "                 pval='AF',ylabel='Allele Freq.');"
   ]
  },
  {
   "cell_type": "code",
   "execution_count": null,
   "metadata": {},
   "outputs": [],
   "source": [
    "plt.plot(info.AF,np.log10((info.Qual/info.Depth)+1),'.');"
   ]
  },
  {
   "cell_type": "code",
   "execution_count": null,
   "metadata": {},
   "outputs": [],
   "source": [
    "depthpaths = sorted(glob.glob('../GENOTYPE/DP/*depths.csv.gz'))\n",
    "len(depthpaths)\n",
    "\n",
    "depth = makedf(depthpaths)"
   ]
  },
  {
   "cell_type": "code",
   "execution_count": null,
   "metadata": {},
   "outputs": [],
   "source": [
    "info['Mdepth'] = depth[samples].min(axis=1)\n",
    "info['Meandepth'] = depth[samples].mean(axis=1)\n",
    "info['Ndepth'] = np.mean(depth[samples]>=10,axis=1)"
   ]
  },
  {
   "cell_type": "code",
   "execution_count": null,
   "metadata": {},
   "outputs": [],
   "source": [
    "alleledepth = sorted(glob.glob('../GENOTYPE/AF/*ratios.csv.gz'))\n",
    "len(alleledepth)\n",
    "\n",
    "ratio = makedf(alleledepth)"
   ]
  },
  {
   "cell_type": "code",
   "execution_count": null,
   "metadata": {},
   "outputs": [],
   "source": [
    "info['Ratio'] = ratio[samples].min(axis=1)\n",
    "info['Nratio'] = np.mean(ratio[samples]>.8,axis=1)"
   ]
  },
  {
   "cell_type": "code",
   "execution_count": null,
   "metadata": {},
   "outputs": [],
   "source": [
    "pheno = pd.read_excel('../PHENOTYPE/202011_WGS_B3502Progeny_for_QTL.xlsx')\n",
    "pheno.head()"
   ]
  },
  {
   "cell_type": "code",
   "execution_count": null,
   "metadata": {},
   "outputs": [],
   "source": [
    "pheno"
   ]
  },
  {
   "cell_type": "code",
   "execution_count": null,
   "metadata": {},
   "outputs": [],
   "source": []
  },
  {
   "cell_type": "code",
   "execution_count": null,
   "metadata": {},
   "outputs": [],
   "source": [
    "info[(info.Pos==153548) & (info.Chrom==3)]"
   ]
  },
  {
   "cell_type": "code",
   "execution_count": null,
   "metadata": {},
   "outputs": [],
   "source": [
    "geno.loc[73829][['Stock1','Stock3','Stock4','JEC21','CF830']]"
   ]
  },
  {
   "cell_type": "code",
   "execution_count": null,
   "metadata": {},
   "outputs": [],
   "source": []
  },
  {
   "cell_type": "code",
   "execution_count": null,
   "metadata": {},
   "outputs": [],
   "source": [
    "geno.loc[73829][samples].sum()"
   ]
  },
  {
   "cell_type": "code",
   "execution_count": null,
   "metadata": {},
   "outputs": [],
   "source": [
    "info[(info.Pos==1894056)]"
   ]
  },
  {
   "cell_type": "code",
   "execution_count": null,
   "metadata": {},
   "outputs": [],
   "source": [
    "geno.loc[110255][['Stock1','Stock3','Stock4','CF830','JEC21']]"
   ]
  },
  {
   "cell_type": "code",
   "execution_count": null,
   "metadata": {},
   "outputs": [],
   "source": [
    "## Bring in phenotype data from Dr. Sheng Sun\n",
    "phenopath = '../PHENOTYPE/202011_WGS_B3502Progeny_for_QTL.xlsx'\n",
    "pheno = pd.read_excel(phenopath)\n",
    "pheno['Strain'] = [''.join(a.split('_'))[:3] \n",
    "                   for a in pheno[pheno.columns[0]]]\n",
    "pheno['Parent1'] = [ a.split('x')[0].split('B3502')[-1][:-1] \n",
    "                    for a in pheno['Cross_Progeny']]\n",
    "pheno.index = pheno.Strain\n",
    "\n",
    "pheno['RIC8'] = -1\n",
    "pheno['RIC8'] = geno.loc[382952,pheno.index]\n",
    "pheno['RHO'] = -1\n",
    "pheno['RHO'] = geno.loc[110255,pheno.index]\n",
    "#pheno.tail()"
   ]
  },
  {
   "cell_type": "code",
   "execution_count": null,
   "metadata": {},
   "outputs": [],
   "source": [
    "pheno[(pheno.Parent1=='B1') & \n",
    "      (pheno.RIC8==1) & (pheno.RHO==0)]"
   ]
  },
  {
   "cell_type": "code",
   "execution_count": null,
   "metadata": {},
   "outputs": [],
   "source": [
    "b1segs = pheno[(pheno.Parent1=='B1') & \n",
    "               (pheno.RIC8==1) \n",
    "              ].Strain.tolist()"
   ]
  },
  {
   "cell_type": "code",
   "execution_count": null,
   "metadata": {},
   "outputs": [],
   "source": [
    "kix = geno[(geno[b1segs+['Stock1','Stock4','JEC21','CF830']].T.sum()==0) & \n",
    "     (geno['Stock3']==1) \n",
    "    ].dropna().index.values"
   ]
  },
  {
   "cell_type": "code",
   "execution_count": null,
   "metadata": {},
   "outputs": [],
   "source": [
    "genodf = pd.concat([info,geno],axis=1)"
   ]
  },
  {
   "cell_type": "code",
   "execution_count": null,
   "metadata": {},
   "outputs": [],
   "source": [
    "genodf[(genodf.Pos==1437085)][['Stock1','Stock4','Stock3']+b1segs]"
   ]
  },
  {
   "cell_type": "code",
   "execution_count": null,
   "metadata": {},
   "outputs": [],
   "source": [
    "represors = info.loc[kix].sort_values('Chrom')\n",
    "represors"
   ]
  },
  {
   "cell_type": "code",
   "execution_count": null,
   "metadata": {},
   "outputs": [],
   "source": [
    "gff = qtlfun.loadgff('/home/croth/Downloads/B3502/REF/FungiDB-48_CneoformansJEC21.gff.gz')"
   ]
  },
  {
   "cell_type": "code",
   "execution_count": null,
   "metadata": {},
   "outputs": [],
   "source": [
    "gene_check = []\n",
    "for i, (j,c) in enumerate(represors.iterrows()):\n",
    "    k = gff[(gff.Type=='gene') & (gff.Seqid==c.Seqid) & \n",
    "        (gff.Start<=c.Pos) & (gff.End>=c.Pos)].Gene\n",
    "    #print(k)\n",
    "    if len(k) > 0:\n",
    "        gene_check.append(k.min())\n",
    "gene_check = np.unique(gene_check)\n",
    "gene_check"
   ]
  },
  {
   "cell_type": "code",
   "execution_count": null,
   "metadata": {},
   "outputs": [],
   "source": [
    "genech = pd.read_csv('/home/croth/Downloads/B3502/DATA/gene_changes.csv.gz')"
   ]
  },
  {
   "cell_type": "code",
   "execution_count": null,
   "metadata": {},
   "outputs": [],
   "source": [
    "genech[(genech.Gene=='CNF04940')]"
   ]
  },
  {
   "cell_type": "code",
   "execution_count": null,
   "metadata": {},
   "outputs": [],
   "source": [
    "genech[(genech.Gene=='CNM00880')]"
   ]
  },
  {
   "cell_type": "code",
   "execution_count": null,
   "metadata": {},
   "outputs": [],
   "source": [
    "gff[(gff.Gene.isin(gene_check)) & (gff.Type=='gene')]"
   ]
  },
  {
   "cell_type": "code",
   "execution_count": null,
   "metadata": {},
   "outputs": [],
   "source": [
    "genech[(genech.Gene.isin(gene_check))]"
   ]
  },
  {
   "cell_type": "code",
   "execution_count": null,
   "metadata": {},
   "outputs": [],
   "source": [
    "info.loc[(info.Pos== 388777) & (info.Chrom==14)]"
   ]
  },
  {
   "cell_type": "code",
   "execution_count": null,
   "metadata": {},
   "outputs": [],
   "source": [
    "info[(info.Chrom==14) & (info.Pos>=388700)]"
   ]
  },
  {
   "cell_type": "code",
   "execution_count": null,
   "metadata": {},
   "outputs": [],
   "source": [
    "b1segs = pheno[(pheno.Parent1=='B1')].Strain.tolist()"
   ]
  },
  {
   "cell_type": "code",
   "execution_count": null,
   "metadata": {},
   "outputs": [],
   "source": [
    "b1segs"
   ]
  },
  {
   "cell_type": "code",
   "execution_count": null,
   "metadata": {},
   "outputs": [],
   "source": [
    "pheno[(pheno.Parent1=='B1')]"
   ]
  },
  {
   "cell_type": "code",
   "execution_count": null,
   "metadata": {},
   "outputs": [],
   "source": []
  },
  {
   "cell_type": "code",
   "execution_count": null,
   "metadata": {},
   "outputs": [],
   "source": [
    "geno[(geno.Stock3>=1) & \n",
    "     (geno[['Stock1','Stock4']].T.sum()==0) & \n",
    "     (info.Chrom==6)].dropna()[['Stock1','Stock4','Stock3']]"
   ]
  },
  {
   "cell_type": "code",
   "execution_count": null,
   "metadata": {},
   "outputs": [],
   "source": [
    "geno[(geno.Stock3>=1) & \n",
    "     (geno[['Stock1','Stock4']].T.sum()==0) & \n",
    "     (info.Chrom==6)].dropna()[['Stock1','Stock4','Stock3']]"
   ]
  },
  {
   "cell_type": "code",
   "execution_count": null,
   "metadata": {},
   "outputs": [],
   "source": [
    "geno[(geno.Stock3>=1) & \n",
    "     (geno[['Stock1','Stock4']].T.sum()==0) & \n",
    "     (info.Chrom==1)].dropna()[['Stock1','Stock4','Stock3']]"
   ]
  },
  {
   "cell_type": "code",
   "execution_count": null,
   "metadata": {},
   "outputs": [],
   "source": [
    "geno[(geno.Stock3>=1) & \n",
    "     (geno[['Stock1','Stock4']].T.sum()==0) & \n",
    "     (info.Chrom==3)].dropna()[['Stock1','Stock4','Stock3']]"
   ]
  },
  {
   "cell_type": "code",
   "execution_count": null,
   "metadata": {},
   "outputs": [],
   "source": [
    "geno[(geno.Stock3>=1) & \n",
    "     (geno[['Stock1','Stock4']].T.sum()==0) & \n",
    "     (info.Chrom==10)].dropna()[['Stock1','Stock4','Stock3']]"
   ]
  },
  {
   "cell_type": "code",
   "execution_count": null,
   "metadata": {},
   "outputs": [],
   "source": [
    "info[(info.Pos==1430787)]"
   ]
  },
  {
   "cell_type": "code",
   "execution_count": null,
   "metadata": {},
   "outputs": [],
   "source": [
    "geno.loc[30:30][samples][['Stock1','Stock3','Stock4','JEC21','CF830']]"
   ]
  },
  {
   "cell_type": "code",
   "execution_count": null,
   "metadata": {},
   "outputs": [],
   "source": [
    "geno.loc[30][samples].sum()"
   ]
  },
  {
   "cell_type": "code",
   "execution_count": null,
   "metadata": {},
   "outputs": [],
   "source": []
  },
  {
   "cell_type": "code",
   "execution_count": null,
   "metadata": {},
   "outputs": [],
   "source": [
    "ratio.loc[30:30]['Stock3']"
   ]
  },
  {
   "cell_type": "code",
   "execution_count": null,
   "metadata": {},
   "outputs": [],
   "source": [
    "info[(info.Chrom==14) & (info.Pos>=386823) & \n",
    "     (info.Pos<=389688) & \n",
    "     (info.AF>0) & (info.AF<1) ]"
   ]
  },
  {
   "cell_type": "code",
   "execution_count": null,
   "metadata": {},
   "outputs": [],
   "source": [
    "stock_variants[(stock_variants.Pos>=386823) & \n",
    "               (stock_variants.Pos<=389688) &\n",
    "               (stock_variants.Chromosome==14)]"
   ]
  },
  {
   "cell_type": "code",
   "execution_count": null,
   "metadata": {},
   "outputs": [],
   "source": [
    "chg = geno[(info.Chrom==14)]\n",
    "chd = depth[(info.Chrom==14)]\n",
    "chi = info[(info.Chrom==14)]\n",
    "cha = ratio[(ratio.Chrom==14)]"
   ]
  },
  {
   "cell_type": "code",
   "execution_count": null,
   "metadata": {},
   "outputs": [],
   "source": [
    "cents = centlocs[(centlocs.Chromosome==14)][['Left','Right']].values[0]"
   ]
  },
  {
   "cell_type": "code",
   "execution_count": null,
   "metadata": {},
   "outputs": [],
   "source": [
    "info"
   ]
  },
  {
   "cell_type": "code",
   "execution_count": null,
   "metadata": {},
   "outputs": [],
   "source": [
    "plt.plot(chi.Pos,np.log2(chi.Meandepth),'.');\n",
    "plt.hlines(2,*cents,color='r');\n",
    "plt.plot(chi[(chi.Callrate==1)].Pos,np.log2(chi[(chi.Callrate==1)].Meandepth),'.')"
   ]
  },
  {
   "cell_type": "code",
   "execution_count": null,
   "metadata": {},
   "outputs": [],
   "source": [
    "plt.plot(chi.Nratio,chi.Ratio,'.');"
   ]
  },
  {
   "cell_type": "code",
   "execution_count": null,
   "metadata": {},
   "outputs": [],
   "source": [
    "atleast = 3\n",
    "umaf = (len(samples)-atleast)/len(samples)\n",
    "lmaf = atleast/len(samples)\n",
    "\n",
    "filt = info[(info.AF>lmaf) & \n",
    "     (info.AF<umaf) & \n",
    "    (info.)\n",
    "     #(info.Ndepth>0.8) & \n",
    "     #(info.Nratio>0.8) & \n",
    "     (info.Callrate==1)].copy()\n",
    "filt['Chromosome'] = filt.Chrom\n",
    "filt.shape"
   ]
  },
  {
   "cell_type": "code",
   "execution_count": null,
   "metadata": {},
   "outputs": [],
   "source": [
    "loci = geno.loc[filt.index,samples].drop_duplicates()"
   ]
  },
  {
   "cell_type": "code",
   "execution_count": null,
   "metadata": {},
   "outputs": [],
   "source": [
    "chrommap"
   ]
  },
  {
   "cell_type": "code",
   "execution_count": null,
   "metadata": {},
   "outputs": [],
   "source": [
    "MAT = [1529240,1661861]"
   ]
  },
  {
   "cell_type": "code",
   "execution_count": null,
   "metadata": {},
   "outputs": [],
   "source": [
    "fig,ax = plt.subplots(7,2,figsize=(20,15),sharex=True,sharey=True)\n",
    "\n",
    "for i,(j,c) in enumerate(chrommap.iterrows()):\n",
    "    \n",
    "    plt.sca(ax.ravel()[i])\n",
    "    plt.hlines(0.5,0,c.Length,color='k',linestyle='--')\n",
    "    \n",
    "    plt.hlines(0.5,c.Left,c.Right,color='r',linewidth=5)\n",
    "    \n",
    "    temp = filt[(filt.Seqid==c.Seqid)]\n",
    "    \n",
    "    \n",
    "    plt.plot(temp.Pos,temp.AF,'ko')\n",
    "    plt.title(i+1,y=.8)\n",
    "    \n",
    "plt.sca(ax.ravel()[3])\n",
    "plt.hlines(0.5,*MAT,color='g',linewidth=5)\n",
    "\n",
    "plt.ylim(0,1)\n",
    "plt.subplots_adjust(wspace=0.1);"
   ]
  },
  {
   "cell_type": "code",
   "execution_count": null,
   "metadata": {},
   "outputs": [],
   "source": [
    "filt[(filt.Chromosome==4)].shape"
   ]
  },
  {
   "cell_type": "code",
   "execution_count": null,
   "metadata": {},
   "outputs": [],
   "source": [
    "geno.loc[filt[(filt.Chromosome==4)].index,\n",
    "         samples\n",
    "        ].drop_duplicates().shape"
   ]
  },
  {
   "cell_type": "code",
   "execution_count": null,
   "metadata": {},
   "outputs": [],
   "source": [
    "filt[(filt.Chromosome==11)]"
   ]
  },
  {
   "cell_type": "code",
   "execution_count": null,
   "metadata": {},
   "outputs": [],
   "source": []
  },
  {
   "cell_type": "code",
   "execution_count": null,
   "metadata": {},
   "outputs": [],
   "source": [
    "info[(info.Chrom==11) & \n",
    "     (info.Callrate==1) & \n",
    "     (info.AF>0) & \n",
    "     (info.AF<1) & (info.Type=='snp')]"
   ]
  },
  {
   "cell_type": "code",
   "execution_count": null,
   "metadata": {},
   "outputs": [],
   "source": [
    "info[(info.Chrom==12) & (info.Pos>773178) & (info.Pos<774000) & (info.AF>0)]"
   ]
  },
  {
   "cell_type": "code",
   "execution_count": null,
   "metadata": {},
   "outputs": [],
   "source": [
    "ratio[(info.Chrom==12) & (info.Pos>773178) & (info.Pos<774000) & (info.AF>0)]"
   ]
  },
  {
   "cell_type": "code",
   "execution_count": null,
   "metadata": {},
   "outputs": [],
   "source": [
    "info[(info.Chrom==11) & (info.Pos==823427)]"
   ]
  },
  {
   "cell_type": "code",
   "execution_count": null,
   "metadata": {},
   "outputs": [],
   "source": [
    "loci = pd.concat([filt,geno.loc[filt.index,samples]],axis=1)"
   ]
  },
  {
   "cell_type": "code",
   "execution_count": null,
   "metadata": {},
   "outputs": [],
   "source": [
    "loci.to_csv('../GENOTYPE/B3502_progeny_variants.csv.gz',index=True)"
   ]
  },
  {
   "cell_type": "code",
   "execution_count": null,
   "metadata": {},
   "outputs": [],
   "source": []
  },
  {
   "cell_type": "code",
   "execution_count": null,
   "metadata": {},
   "outputs": [],
   "source": [
    "stock_variants[(stock_variants.Chromosome==7) & \n",
    "               (stock_variants.Pos==890559)][\n",
    "                ['CF830','B3502_A1','B3502_B1','B3502_B7']]"
   ]
  },
  {
   "cell_type": "code",
   "execution_count": null,
   "metadata": {},
   "outputs": [],
   "source": [
    "filt[(filt.AF<.25) & (filt.Chromosome==7)]"
   ]
  },
  {
   "cell_type": "code",
   "execution_count": null,
   "metadata": {},
   "outputs": [],
   "source": [
    "stock_variants.shape"
   ]
  },
  {
   "cell_type": "code",
   "execution_count": null,
   "metadata": {},
   "outputs": [],
   "source": [
    "assert 1 == 0\n",
    "mydpi = 150\n",
    "for s in samples[:5]:\n",
    "    \n",
    "    temp = info.copy()\n",
    "    temp['Ratio'] = ratio[s]\n",
    "    temp['Geno'] = geno[s]\n",
    "    temp['SDepth'] = np.log2(depth[s]+1)\n",
    "    temp = temp.merge(chrommap[['Seqid','Cumlen']])\n",
    "    #print(temp.shape)\n",
    "    #temp = temp.loc[info[(info.AF>0) & \n",
    "    #                     (info.AF<1) & \n",
    "    #                      (info.depth>8)].index,:]\n",
    "   \n",
    "    fig,ax = plt.subplots(2,1,figsize=(12,5),sharex=True);\n",
    "    fig.set_facecolor('w')\n",
    "    plt.sca(ax[0])\n",
    "    \n",
    "    g0 = temp[(temp.Geno==0)]\n",
    "    g1 = temp[(temp.Geno!=0)]\n",
    "    \n",
    "    plt.plot(g0.Pos+g0.Cumlen,g0.SDepth,'.',\n",
    "             color='tab:blue',ms=2,alpha=0.5)\n",
    "    plt.plot(g1.Pos+g1.Cumlen,g1.SDepth,'.',\n",
    "             color='tab:orange',ms=2,alpha=0.5)\n",
    "    \n",
    "    plt.xticks(chrommap.Midpts,\n",
    "               np.arange(chrommap.shape[0])+1,\n",
    "               fontsize=12)\n",
    "    yp,yl = plt.yticks()\n",
    "    \n",
    "    plt.vlines(chrommap.Cumlen.values[1:],\n",
    "               yp[1],yp[-2],color='k',\n",
    "               linestyle='--',linewidth=1,\n",
    "              alpha =0.52)\n",
    "    \n",
    "    sp = pheno[(pheno.Strain==s)][pheno.columns[2]].min()\n",
    "    \n",
    "    plt.title('Strain: %s | Phenotype: %s'%(s,sp),fontsize=12)\n",
    "    plt.ylabel('-log$_2$ Read Depth',fontsize=12)\n",
    "    \n",
    "    for i,c in chrommap.iterrows():\n",
    "        plt.hlines(0,c.Left+c.Cumlen,\n",
    "                  c.Right+c.Cumlen,\n",
    "               color='k')\n",
    "    \n",
    "    plt.sca(ax[1])\n",
    "    \n",
    "    plt.plot(g0.Pos+g0.Cumlen,g0.Ratio,'.',\n",
    "             color='tab:blue',ms=1,alpha=0.2)\n",
    "    plt.plot(g1.Pos+g1.Cumlen,g1.Ratio,'.',\n",
    "             color='tab:orange',ms=1,alpha=0.2)\n",
    "    \n",
    "    plt.xticks(chrommap.Midpts,\n",
    "               np.arange(chrommap.shape[0])+1,\n",
    "               fontsize=12)\n",
    "    \n",
    "    plt.vlines(chrommap.Cumlen.values[1:],\n",
    "               0,1,color='k',\n",
    "               linestyle='--',linewidth=1,\n",
    "              alpha =0.52)\n",
    "    \n",
    "    plt.ylabel('Allelic Ratio',fontsize=12)\n",
    "    plt.xlabel('Chromosome',fontsize=12)\n",
    "    \n",
    "    plt.savefig('../FIGURES/DEPTHPLOTS/%s.png'%(s),\n",
    "             dpi=mydpi,bbox_inches='tight')\n",
    "    plt.close()"
   ]
  },
  {
   "cell_type": "code",
   "execution_count": null,
   "metadata": {},
   "outputs": [],
   "source": []
  }
 ],
 "metadata": {
  "kernelspec": {
   "display_name": "Python 3",
   "language": "python",
   "name": "python3"
  },
  "language_info": {
   "codemirror_mode": {
    "name": "ipython",
    "version": 3
   },
   "file_extension": ".py",
   "mimetype": "text/x-python",
   "name": "python",
   "nbconvert_exporter": "python",
   "pygments_lexer": "ipython3",
   "version": "3.7.3"
  }
 },
 "nbformat": 4,
 "nbformat_minor": 4
}
