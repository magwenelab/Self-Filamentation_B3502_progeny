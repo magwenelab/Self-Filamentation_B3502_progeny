{
 "cells": [
  {
   "cell_type": "code",
   "execution_count": 1,
   "metadata": {},
   "outputs": [],
   "source": [
    "%matplotlib inline\n",
    "from matplotlib import pyplot as plt"
   ]
  },
  {
   "cell_type": "code",
   "execution_count": 2,
   "metadata": {},
   "outputs": [],
   "source": [
    "import numpy as np\n",
    "import scipy as sp\n",
    "import pandas as pd\n",
    "import sklearn\n",
    "from sklearn import feature_selection as fs"
   ]
  },
  {
   "cell_type": "code",
   "execution_count": 3,
   "metadata": {},
   "outputs": [
    {
     "data": {
      "text/html": [
       "<div>\n",
       "<style scoped>\n",
       "    .dataframe tbody tr th:only-of-type {\n",
       "        vertical-align: middle;\n",
       "    }\n",
       "\n",
       "    .dataframe tbody tr th {\n",
       "        vertical-align: top;\n",
       "    }\n",
       "\n",
       "    .dataframe thead th {\n",
       "        text-align: right;\n",
       "    }\n",
       "</style>\n",
       "<table border=\"1\" class=\"dataframe\">\n",
       "  <thead>\n",
       "    <tr style=\"text-align: right;\">\n",
       "      <th></th>\n",
       "      <th>Unnamed: 0</th>\n",
       "      <th>H2O2</th>\n",
       "      <th>SSK1</th>\n",
       "      <th>SSK2</th>\n",
       "      <th>RIC8</th>\n",
       "    </tr>\n",
       "  </thead>\n",
       "  <tbody>\n",
       "    <tr>\n",
       "      <th>0</th>\n",
       "      <td>SS-A837</td>\n",
       "      <td>2.0</td>\n",
       "      <td>1.0</td>\n",
       "      <td>1.0</td>\n",
       "      <td>1.0</td>\n",
       "    </tr>\n",
       "    <tr>\n",
       "      <th>1</th>\n",
       "      <td>SS-B307</td>\n",
       "      <td>0.5</td>\n",
       "      <td>0.0</td>\n",
       "      <td>0.0</td>\n",
       "      <td>1.0</td>\n",
       "    </tr>\n",
       "    <tr>\n",
       "      <th>2</th>\n",
       "      <td>SS-B310</td>\n",
       "      <td>0.0</td>\n",
       "      <td>1.0</td>\n",
       "      <td>0.0</td>\n",
       "      <td>1.0</td>\n",
       "    </tr>\n",
       "    <tr>\n",
       "      <th>3</th>\n",
       "      <td>SS-B311</td>\n",
       "      <td>4.0</td>\n",
       "      <td>0.0</td>\n",
       "      <td>1.0</td>\n",
       "      <td>1.0</td>\n",
       "    </tr>\n",
       "    <tr>\n",
       "      <th>4</th>\n",
       "      <td>SS-B312</td>\n",
       "      <td>5.0</td>\n",
       "      <td>0.0</td>\n",
       "      <td>1.0</td>\n",
       "      <td>0.0</td>\n",
       "    </tr>\n",
       "  </tbody>\n",
       "</table>\n",
       "</div>"
      ],
      "text/plain": [
       "  Unnamed: 0  H2O2  SSK1  SSK2  RIC8\n",
       "0    SS-A837   2.0   1.0   1.0   1.0\n",
       "1    SS-B307   0.5   0.0   0.0   1.0\n",
       "2    SS-B310   0.0   1.0   0.0   1.0\n",
       "3    SS-B311   4.0   0.0   1.0   1.0\n",
       "4    SS-B312   5.0   0.0   1.0   0.0"
      ]
     },
     "execution_count": 3,
     "metadata": {},
     "output_type": "execute_result"
    }
   ],
   "source": [
    "data = pd.read_csv(\"H2O2_data.csv\")\n",
    "data.head()"
   ]
  },
  {
   "cell_type": "code",
   "execution_count": 4,
   "metadata": {},
   "outputs": [
    {
     "data": {
      "image/png": "[encoded data removed]",
      "text/plain": [
       "<Figure size 432x288 with 1 Axes>"
      ]
     },
     "metadata": {
      "needs_background": "light"
     },
     "output_type": "display_data"
    }
   ],
   "source": [
    "vals, cts = np.unique(data.H2O2, return_counts=True)\n",
    "plt.plot(vals, cts, 'o')\n",
    "plt.vlines(vals, ymin=0, ymax=cts)\n",
    "pass"
   ]
  },
  {
   "cell_type": "code",
   "execution_count": 5,
   "metadata": {},
   "outputs": [],
   "source": [
    "data.SSK1 = data.SSK1.astype(int)\n",
    "data.SSK2 = data.SSK2.astype(int)\n",
    "data.RIC8 = data.RIC8.astype(int)"
   ]
  },
  {
   "cell_type": "code",
   "execution_count": 6,
   "metadata": {},
   "outputs": [],
   "source": [
    "ssk1 = data.SSK1.to_numpy().reshape(-1,1)\n",
    "ssk2 = data.SSK2.to_numpy().reshape(-1,1)\n",
    "ric8 = data.RIC8.to_numpy().reshape(-1,1)\n",
    "h2o2 = data.H2O2.to_numpy().reshape(-1,1)"
   ]
  },
  {
   "cell_type": "code",
   "execution_count": 7,
   "metadata": {},
   "outputs": [],
   "source": [
    "# encode two- and three-locus genotypes\n",
    "ssk1ssk2 = ssk1 + 2 * ssk2\n",
    "ssk1ric8 = ssk1 + 2 * ric8\n",
    "ssk2ric8 = ssk2 + 2 * ric8\n",
    "ssk1ssk2ric8 = ssk1 + 2*ssk2 + 4*ric8"
   ]
  },
  {
   "cell_type": "markdown",
   "metadata": {},
   "source": [
    "## Analysis based on binary H2O2 (sensitive, resistant)"
   ]
  },
  {
   "cell_type": "code",
   "execution_count": 8,
   "metadata": {},
   "outputs": [],
   "source": [
    "threshold = 2.5\n",
    "\n",
    "H2O2 = h2o2 >= threshold\n",
    "H2O2 = H2O2.astype(int)\n",
    "H2O2.reshape(-1,1)\n",
    "\n",
    "MIobs = fs.mutual_info_classif(np.hstack((H2O2,\n",
    "                                  ssk1,ssk2,ric8,\n",
    "                                  ssk1ssk2, ssk1ric8, ssk2ric8,\n",
    "                                  ssk1ssk2ric8)), H2O2.ravel(),\n",
    "                      discrete_features=True)\n",
    "\n",
    "# label MIs\n",
    "MI_ssk1 = MIobs[1]\n",
    "MI_ssk2 = MIobs[2]\n",
    "MI_ric8 = MIobs[3]\n",
    "MI_ssk1ssk2 = MIobs[4]\n",
    "MI_ssk1ric8 = MIobs[5]\n",
    "MI_ssk2ric8 = MIobs[6]\n",
    "MI_ssk1ssk2ric8 = MIobs[7]\n",
    "\n",
    "entropy_H2O2 = MIobs[0]\n",
    "\n",
    "# IGstrict of Hu et al\n",
    "IG_ssk1ssk2 = MI_ssk1ssk2 - MI_ssk1 - MI_ssk2\n",
    "IG_ssk1ric8 = MI_ssk1ric8 - MI_ssk1 - MI_ric8\n",
    "IG_ssk2ric8 = MI_ssk2ric8 - MI_ssk2 - MI_ric8\n",
    "IG_ssk1ssk2ric8 =  MI_ssk1ssk2ric8 - np.maximum(IG_ssk1ssk2, 0) \\\n",
    "    - np.maximum(IG_ssk1ric8,0) \\\n",
    "    - np.maximum(IG_ssk2ric8, 0) \\\n",
    "    - MI_ssk1 - MI_ssk2 - MI_ric8\n",
    "\n"
   ]
  },
  {
   "cell_type": "markdown",
   "metadata": {},
   "source": [
    "## Permutations for main effects"
   ]
  },
  {
   "cell_type": "code",
   "execution_count": 9,
   "metadata": {},
   "outputs": [],
   "source": [
    "MIperm = []\n",
    "\n",
    "for i in range(1000):\n",
    "    origgenos = np.hstack((ssk1,ssk2,ric8))\n",
    "    permgenos = np.random.permutation(origgenos)\n",
    "    pssk1 = permgenos[:,0]\n",
    "    pssk2 = permgenos[:,1]\n",
    "    pric8 = permgenos[:,2]\n",
    "    pssk1 = pssk1.reshape(-1,1)\n",
    "    pssk2 = pssk2.reshape(-1,1)\n",
    "    pric8 = pric8.reshape(-1,1)\n",
    "    pssk1ssk2 = pssk1 + 2*pssk2\n",
    "    pssk1ric8 = pssk1 + 2*pric8\n",
    "    pssk2ric8 = pssk2 + 2*pric8\n",
    "    pssk1ssk2ric8 = pssk1 + 2*pssk2 + 4*pric8    \n",
    "    \n",
    "    miperm = fs.mutual_info_classif(np.hstack((H2O2,\n",
    "                                  pssk1,pssk2,pric8)), H2O2.ravel(),\n",
    "                      discrete_features=True)\n",
    "    MIperm.append(miperm)\n",
    "    \n",
    "    \n",
    "MIperm = np.array(MIperm)\n",
    "    \n",
    "MI_pssk1 = MIperm[:,1]\n",
    "MI_pssk2 = MIperm[:,2]\n",
    "MI_pric8 = MIperm[:,3]\n",
    "\n",
    "zeros = np.zeros_like(MI_pssk1)"
   ]
  },
  {
   "cell_type": "markdown",
   "metadata": {},
   "source": [
    "## Main effects"
   ]
  },
  {
   "cell_type": "code",
   "execution_count": 10,
   "metadata": {},
   "outputs": [
    {
     "name": "stdout",
     "output_type": "stream",
     "text": [
      "MI_ssk1:  0.029683778475350947 p-value:  0.011\n"
     ]
    },
    {
     "data": {
      "image/png": "[encoded data removed]",
      "text/plain": [
       "<Figure size 432x288 with 1 Axes>"
      ]
     },
     "metadata": {
      "needs_background": "light"
     },
     "output_type": "display_data"
    }
   ],
   "source": [
    "plt.hist(MI_pssk1)\n",
    "plt.vlines(MI_ssk1, ymin=0, ymax=200, color='r')\n",
    "print(\"MI_ssk1: \", MI_ssk1, \"p-value: \", \n",
    "      np.sum(MI_pssk1 > MI_ssk1)/float(len(MI_pssk1)))\n",
    "pass"
   ]
  },
  {
   "cell_type": "code",
   "execution_count": 11,
   "metadata": {},
   "outputs": [
    {
     "name": "stdout",
     "output_type": "stream",
     "text": [
      "MI_ssk2:  0.03202938274924372 p-value:  0.009\n"
     ]
    },
    {
     "data": {
      "image/png": "[encoded data removed]",
      "text/plain": [
       "<Figure size 432x288 with 1 Axes>"
      ]
     },
     "metadata": {
      "needs_background": "light"
     },
     "output_type": "display_data"
    }
   ],
   "source": [
    "plt.hist(MI_pssk2)\n",
    "plt.vlines(MI_ssk2, ymin=0, ymax=200, color='r')\n",
    "print(\"MI_ssk2: \", MI_ssk2, \"p-value: \", np.sum(MI_pssk2 > MI_ssk2)/float(len(MI_pssk2)))\n",
    "pass"
   ]
  },
  {
   "cell_type": "code",
   "execution_count": 12,
   "metadata": {},
   "outputs": [
    {
     "name": "stdout",
     "output_type": "stream",
     "text": [
      "MI_ric8:  0.04514264892317507 p-value:  0.0\n"
     ]
    },
    {
     "data": {
      "image/png": "[encoded data removed]",
      "text/plain": [
       "<Figure size 432x288 with 1 Axes>"
      ]
     },
     "metadata": {
      "needs_background": "light"
     },
     "output_type": "display_data"
    }
   ],
   "source": [
    "plt.hist(MI_pric8)\n",
    "plt.vlines(MI_ric8, ymin=0, ymax=200, color='r')\n",
    "print(\"MI_ric8: \", MI_ric8, \"p-value: \", np.sum(MI_pric8 > MI_ric8)/float(len(MI_pric8)))\n",
    "pass"
   ]
  },
  {
   "cell_type": "markdown",
   "metadata": {},
   "source": [
    "## Permutations for higher order interactions"
   ]
  },
  {
   "cell_type": "code",
   "execution_count": 13,
   "metadata": {},
   "outputs": [],
   "source": [
    "MIperm = []\n",
    "\n",
    "for i in range(1000):\n",
    "    origgenos = np.hstack((ssk1,ssk2,ric8))\n",
    "    p0ssk1 = np.random.permutation(ssk1[H2O2==0])\n",
    "    p1ssk1 = np.random.permutation(ssk1[H2O2==1])\n",
    "    pssk1 = np.hstack((p0ssk1,p1ssk1))\n",
    "    p0ssk2 = np.random.permutation(ssk2[H2O2==0])\n",
    "    p1ssk2 = np.random.permutation(ssk2[H2O2==1])\n",
    "    pssk2 = np.hstack((p0ssk2,p1ssk2))    \n",
    "    p0ric8 = np.random.permutation(ric8[H2O2==0])\n",
    "    p1ric8 = np.random.permutation(ric8[H2O2==1])    \n",
    "    pric8 = np.hstack((p0ric8,p1ric8))    \n",
    "    pH2O2 = np.array([0]*len(p0ssk1) + [1]*len(p1ssk1))\n",
    "                     \n",
    "    pH2O2 = pH2O2.reshape(-1,1)\n",
    "    pssk1 = pssk1.reshape(-1,1)\n",
    "    pssk2 = pssk2.reshape(-1,1)\n",
    "    pric8 = pric8.reshape(-1,1)\n",
    "    \n",
    "    pssk1ssk2 = pssk1 + 2*pssk2\n",
    "    pssk1ric8 = pssk1 + 2*pric8\n",
    "    pssk2ric8 = pssk2 + 2*pric8\n",
    "    pssk1ssk2ric8 = pssk1 + 2*pssk2 + 4*pric8    \n",
    "    \n",
    "    miperm = fs.mutual_info_classif(np.hstack((pH2O2,\n",
    "                                  pssk1, pssk2, pric8,\n",
    "                                  pssk1ssk2, pssk1ric8, pssk2ric8,\n",
    "                                  pssk1ssk2ric8)), pH2O2.ravel(),\n",
    "                      discrete_features=True)\n",
    "    MIperm.append(miperm)\n",
    "    \n",
    "MIperm = np.array(MIperm)\n",
    "    \n",
    "MI_pssk1 = MIperm[:,1]\n",
    "MI_pssk2 = MIperm[:,2]\n",
    "MI_pric8 = MIperm[:,3]\n",
    "MI_pssk1ssk2 = MIperm[:,4]\n",
    "MI_pssk1ric8 = MIperm[:,5]\n",
    "MI_pssk2ric8 = MIperm[:,6]\n",
    "MI_pssk1ssk2ric8 = MIperm[:,7]\n",
    "\n",
    "zeros = np.zeros_like(MI_pssk1)\n",
    "\n",
    "# IGstrict for permuted data\n",
    "IG_pssk1ssk2 = MI_pssk1ssk2 - MI_pssk1 - MI_pssk2\n",
    "IG_pssk1ric8 = MI_pssk1ric8 - MI_pssk1 - MI_pric8\n",
    "IG_pssk2ric8 = MI_pssk2ric8 - MI_pssk2 - MI_pric8\n",
    "IG_pssk1ssk2ric8 =  MI_pssk1ssk2ric8 - np.maximum(IG_pssk1ssk2, zeros) \\\n",
    "    - np.maximum(IG_pssk1ric8, zeros) \\\n",
    "    - np.maximum(IG_pssk2ric8, zeros) \\\n",
    "    - MI_pssk1 - MI_pssk2 - MI_pric8\n"
   ]
  },
  {
   "cell_type": "markdown",
   "metadata": {},
   "source": [
    "## 2nd order interactions"
   ]
  },
  {
   "cell_type": "code",
   "execution_count": 14,
   "metadata": {},
   "outputs": [
    {
     "name": "stdout",
     "output_type": "stream",
     "text": [
      "IG_ssk1ssk2:  -0.0007026562631989169 p-value:  0.664\n"
     ]
    },
    {
     "data": {
      "image/png": "[encoded data removed]",
      "text/plain": [
       "<Figure size 432x288 with 1 Axes>"
      ]
     },
     "metadata": {
      "needs_background": "light"
     },
     "output_type": "display_data"
    }
   ],
   "source": [
    "plt.hist(IG_pssk1ssk2)\n",
    "plt.vlines(IG_ssk1ssk2, ymin=0, ymax=200, color='r')\n",
    "print(\"IG_ssk1ssk2: \", IG_ssk1ssk2, \"p-value: \", np.sum(IG_pssk1ssk2 > IG_ssk1ssk2)/float(len(IG_pssk1ssk2)))\n",
    "pass"
   ]
  },
  {
   "cell_type": "code",
   "execution_count": 15,
   "metadata": {},
   "outputs": [
    {
     "name": "stdout",
     "output_type": "stream",
     "text": [
      "IG_ssk1ric8:  0.005659744081176213 p-value:  0.354\n"
     ]
    },
    {
     "data": {
      "image/png": "[encoded data removed]",
      "text/plain": [
       "<Figure size 432x288 with 1 Axes>"
      ]
     },
     "metadata": {
      "needs_background": "light"
     },
     "output_type": "display_data"
    }
   ],
   "source": [
    "plt.hist(IG_pssk1ric8)\n",
    "plt.vlines(IG_ssk1ric8, ymin=0, ymax=200, color='r')\n",
    "print(\"IG_ssk1ric8: \", IG_ssk1ric8, \"p-value: \", np.sum(IG_pssk1ric8 > IG_ssk1ric8)/float(len(IG_pssk1ric8)))\n",
    "pass"
   ]
  },
  {
   "cell_type": "code",
   "execution_count": 16,
   "metadata": {},
   "outputs": [
    {
     "name": "stdout",
     "output_type": "stream",
     "text": [
      "IG_ssk2ric8:  -0.006428359773575115 p-value:  0.834\n"
     ]
    },
    {
     "data": {
      "image/png": "[encoded data removed]",
      "text/plain": [
       "<Figure size 432x288 with 1 Axes>"
      ]
     },
     "metadata": {
      "needs_background": "light"
     },
     "output_type": "display_data"
    }
   ],
   "source": [
    "plt.hist(IG_pssk2ric8)\n",
    "plt.vlines(IG_ssk2ric8, ymin=0, ymax=200, color='r')\n",
    "print(\"IG_ssk2ric8: \", IG_ssk2ric8, \"p-value: \", np.sum(IG_pssk2ric8 > IG_ssk2ric8)/float(len(IG_pssk2ric8)))\n",
    "pass"
   ]
  },
  {
   "cell_type": "markdown",
   "metadata": {},
   "source": [
    "## 3rd order interactions"
   ]
  },
  {
   "cell_type": "code",
   "execution_count": 17,
   "metadata": {},
   "outputs": [
    {
     "name": "stdout",
     "output_type": "stream",
     "text": [
      "IG_ssk1ssk2ric8:  0.049230252853428746 p-value:  0.001\n"
     ]
    },
    {
     "data": {
      "image/png": "[encoded data removed]",
      "text/plain": [
       "<Figure size 432x288 with 1 Axes>"
      ]
     },
     "metadata": {
      "needs_background": "light"
     },
     "output_type": "display_data"
    }
   ],
   "source": [
    "plt.hist(IG_pssk1ssk2ric8)\n",
    "plt.vlines(IG_ssk1ssk2ric8, ymin=0, ymax=200, color='r')\n",
    "print(\"IG_ssk1ssk2ric8: \", IG_ssk1ssk2ric8, \"p-value: \", np.sum(IG_pssk1ssk2ric8 > IG_ssk1ssk2ric8)/float(len(IG_pssk1ssk2ric8)))\n",
    "pass"
   ]
  },
  {
   "cell_type": "markdown",
   "metadata": {},
   "source": [
    "## Analysis based on ternary H2O2 (sensitive, intermediate, resistant)"
   ]
  },
  {
   "cell_type": "code",
   "execution_count": 18,
   "metadata": {},
   "outputs": [],
   "source": [
    "lowthreshold = 2\n",
    "hithreshold = 4\n",
    "\n",
    "low = h2o2 < lowthreshold\n",
    "low = low.astype(int) * 1\n",
    "\n",
    "middle = np.logical_and(h2o2 >= lowthreshold, h2o2 < hithreshold)\n",
    "middle = middle.astype(int) * 2\n",
    "\n",
    "high = h2o2 >= hithreshold\n",
    "high = high.astype(int) * 3\n",
    "\n",
    "H2O2 = low + middle + high - 1\n",
    "H2O2 = np.where(H2O2 >= 0, H2O2, 0)\n",
    "H2O2.reshape(-1,1)\n",
    "pass"
   ]
  },
  {
   "cell_type": "code",
   "execution_count": 19,
   "metadata": {},
   "outputs": [],
   "source": [
    "\n",
    "MIobs = fs.mutual_info_classif(np.hstack((H2O2,\n",
    "                                  ssk1,ssk2,ric8,\n",
    "                                  ssk1ssk2, ssk1ric8, ssk2ric8,\n",
    "                                  ssk1ssk2ric8)), H2O2.ravel(),\n",
    "                                  discrete_features=True)\n",
    "\n",
    "# label MIs\n",
    "MI_ssk1 = MIobs[1]\n",
    "MI_ssk2 = MIobs[2]\n",
    "MI_ric8 = MIobs[3]\n",
    "MI_ssk1ssk2 = MIobs[4]\n",
    "MI_ssk1ric8 = MIobs[5]\n",
    "MI_ssk2ric8 = MIobs[6]\n",
    "MI_ssk1ssk2ric8 = MIobs[7]\n",
    "\n",
    "entropy_H2O2 = MIobs[0]\n",
    "\n",
    "# IGstrict of Hu et al\n",
    "IG_ssk1ssk2 = MI_ssk1ssk2 - MI_ssk1 - MI_ssk2\n",
    "IG_ssk1ric8 = MI_ssk1ric8 - MI_ssk1 - MI_ric8\n",
    "IG_ssk2ric8 = MI_ssk2ric8 - MI_ssk2 - MI_ric8\n",
    "IG_ssk1ssk2ric8 =  MI_ssk1ssk2ric8 - np.maximum(IG_ssk1ssk2, 0) \\\n",
    "    - np.maximum(IG_ssk1ric8,0) \\\n",
    "    - np.maximum(IG_ssk2ric8, 0) \\\n",
    "    - MI_ssk1 - MI_ssk2 - MI_ric8\n"
   ]
  },
  {
   "cell_type": "markdown",
   "metadata": {},
   "source": [
    "## Main effects permutations, ternary phenotype"
   ]
  },
  {
   "cell_type": "code",
   "execution_count": 20,
   "metadata": {},
   "outputs": [],
   "source": [
    "MIperm = []\n",
    "\n",
    "for i in range(1000):\n",
    "    origgenos = np.hstack((ssk1,ssk2,ric8))\n",
    "    permgenos = np.random.permutation(origgenos)\n",
    "    pssk1 = permgenos[:,0]\n",
    "    pssk2 = permgenos[:,1]\n",
    "    pric8 = permgenos[:,2]\n",
    "    pssk1 = pssk1.reshape(-1,1)\n",
    "    pssk2 = pssk2.reshape(-1,1)\n",
    "    pric8 = pric8.reshape(-1,1)\n",
    "    pssk1ssk2 = pssk1 + 2*pssk2\n",
    "    pssk1ric8 = pssk1 + 2*pric8\n",
    "    pssk2ric8 = pssk2 + 2*pric8\n",
    "    pssk1ssk2ric8 = pssk1 + 2*pssk2 + 4*pric8    \n",
    "    \n",
    "    miperm = fs.mutual_info_classif(np.hstack((H2O2,\n",
    "                                  pssk1,pssk2,pric8,\n",
    "                                  pssk1ssk2, pssk1ric8, pssk2ric8,\n",
    "                                  pssk1ssk2ric8)), H2O2.ravel(),\n",
    "                      discrete_features=True)\n",
    "    MIperm.append(miperm)\n",
    "    \n",
    "MIperm = np.array(MIperm)\n",
    "    \n",
    "MI_pssk1 = MIperm[:,1]\n",
    "MI_pssk2 = MIperm[:,2]\n",
    "MI_pric8 = MIperm[:,3]\n",
    "MI_pssk1ssk2 = MIperm[:,4]\n",
    "MI_pssk1ric8 = MIperm[:,5]\n",
    "MI_pssk2ric8 = MIperm[:,6]\n",
    "MI_pssk1ssk2ric8 = MIperm[:,7]\n",
    "\n",
    "zeros = np.zeros_like(MI_pssk1)\n",
    "\n",
    "# IGstrict for permuted data\n",
    "IG_pssk1ssk2 = MI_pssk1ssk2 - MI_pssk1 - MI_pssk2\n",
    "IG_pssk1ric8 = MI_pssk1ric8 - MI_pssk1 - MI_pric8\n",
    "IG_pssk2ric8 = MI_pssk2ric8 - MI_pssk2 - MI_pric8\n",
    "IG_pssk1ssk2ric8 =  MI_pssk1ssk2ric8 - np.maximum(IG_pssk1ssk2, zeros) \\\n",
    "    - np.maximum(IG_pssk1ric8, zeros) \\\n",
    "    - np.maximum(IG_pssk2ric8, zeros) \\\n",
    "    - MI_pssk1 - MI_pssk2 - MI_pric8\n",
    "\n"
   ]
  },
  {
   "cell_type": "markdown",
   "metadata": {},
   "source": [
    "## Main effects, ternary phenotype"
   ]
  },
  {
   "cell_type": "code",
   "execution_count": 21,
   "metadata": {},
   "outputs": [
    {
     "name": "stdout",
     "output_type": "stream",
     "text": [
      "MI_ssk1:  0.0411082805376069 p-value:  0.007\n"
     ]
    },
    {
     "data": {
      "image/png": "[encoded data removed]",
      "text/plain": [
       "<Figure size 432x288 with 1 Axes>"
      ]
     },
     "metadata": {
      "needs_background": "light"
     },
     "output_type": "display_data"
    }
   ],
   "source": [
    "plt.hist(MI_pssk1)\n",
    "plt.vlines(MI_ssk1, ymin=0, ymax=200, color='r')\n",
    "print(\"MI_ssk1: \", MI_ssk1, \"p-value: \", np.sum(MI_pssk1 > MI_ssk1)/float(len(MI_pssk1)))\n",
    "pass"
   ]
  },
  {
   "cell_type": "code",
   "execution_count": 22,
   "metadata": {},
   "outputs": [
    {
     "name": "stdout",
     "output_type": "stream",
     "text": [
      "MI_ssk2:  0.06902070838156217 p-value:  0.0\n"
     ]
    },
    {
     "data": {
      "image/png": "[encoded data removed]",
      "text/plain": [
       "<Figure size 432x288 with 1 Axes>"
      ]
     },
     "metadata": {
      "needs_background": "light"
     },
     "output_type": "display_data"
    }
   ],
   "source": [
    "plt.hist(MI_pssk2)\n",
    "plt.vlines(MI_ssk2, ymin=0, ymax=200, color='r')\n",
    "print(\"MI_ssk2: \", MI_ssk2, \"p-value: \", np.sum(MI_pssk2 > MI_ssk2)/float(len(MI_pssk2)))\n",
    "pass"
   ]
  },
  {
   "cell_type": "code",
   "execution_count": 23,
   "metadata": {},
   "outputs": [
    {
     "name": "stdout",
     "output_type": "stream",
     "text": [
      "MI_ric8:  0.06210185103050134 p-value:  0.002\n"
     ]
    },
    {
     "data": {
      "image/png": "[encoded data removed]",
      "text/plain": [
       "<Figure size 432x288 with 1 Axes>"
      ]
     },
     "metadata": {
      "needs_background": "light"
     },
     "output_type": "display_data"
    }
   ],
   "source": [
    "plt.hist(MI_pric8)\n",
    "plt.vlines(MI_ric8, ymin=0, ymax=200, color='r')\n",
    "print(\"MI_ric8: \", MI_ric8, \"p-value: \", np.sum(MI_pric8 > MI_ric8)/float(len(MI_pric8)))\n",
    "pass"
   ]
  },
  {
   "cell_type": "markdown",
   "metadata": {},
   "source": [
    "## Permutations for higher order interactions, ternary phenotype"
   ]
  },
  {
   "cell_type": "code",
   "execution_count": 24,
   "metadata": {},
   "outputs": [],
   "source": [
    "MIperm = []\n",
    "\n",
    "for i in range(1000):\n",
    "    origgenos = np.hstack((ssk1,ssk2,ric8))\n",
    "    \n",
    "    p0ssk1 = np.random.permutation(ssk1[H2O2==0])\n",
    "    p1ssk1 = np.random.permutation(ssk1[H2O2==1])\n",
    "    p2ssk1 = np.random.permutation(ssk1[H2O2==2])\n",
    "    pssk1 = np.hstack((p0ssk1,p1ssk1,p2ssk1))\n",
    "    \n",
    "    p0ssk2 = np.random.permutation(ssk2[H2O2==0])\n",
    "    p1ssk2 = np.random.permutation(ssk2[H2O2==1])\n",
    "    p2ssk2 = np.random.permutation(ssk2[H2O2==2])\n",
    "    pssk2 = np.hstack((p0ssk2,p1ssk2, p2ssk2))    \n",
    "    \n",
    "    p0ric8 = np.random.permutation(ric8[H2O2==0])\n",
    "    p1ric8 = np.random.permutation(ric8[H2O2==1]) \n",
    "    p2ric8 = np.random.permutation(ric8[H2O2==2])     \n",
    "    pric8 = np.hstack((p0ric8,p1ric8,p2ric8)) \n",
    "    \n",
    "    pH2O2 = np.array([0]*len(p0ssk1) + [1]*len(p1ssk1) + [2]*len(p2ssk1))\n",
    "                     \n",
    "    pH2O2 = pH2O2.reshape(-1,1)\n",
    "    pssk1 = pssk1.reshape(-1,1)\n",
    "    pssk2 = pssk2.reshape(-1,1)\n",
    "    pric8 = pric8.reshape(-1,1)\n",
    "    \n",
    "    pssk1ssk2 = pssk1 + 2*pssk2\n",
    "    pssk1ric8 = pssk1 + 2*pric8\n",
    "    pssk2ric8 = pssk2 + 2*pric8\n",
    "    pssk1ssk2ric8 = pssk1 + 2*pssk2 + 4*pric8    \n",
    "    \n",
    "    miperm = fs.mutual_info_classif(np.hstack((pH2O2,\n",
    "                                  pssk1, pssk2, pric8,\n",
    "                                  pssk1ssk2, pssk1ric8, pssk2ric8,\n",
    "                                  pssk1ssk2ric8)), pH2O2.ravel(),\n",
    "                      discrete_features=True)\n",
    "    MIperm.append(miperm)\n",
    "    \n",
    "MIperm = np.array(MIperm)\n",
    "    \n",
    "MI_pssk1 = MIperm[:,1]\n",
    "MI_pssk2 = MIperm[:,2]\n",
    "MI_pric8 = MIperm[:,3]\n",
    "MI_pssk1ssk2 = MIperm[:,4]\n",
    "MI_pssk1ric8 = MIperm[:,5]\n",
    "MI_pssk2ric8 = MIperm[:,6]\n",
    "MI_pssk1ssk2ric8 = MIperm[:,7]\n",
    "\n",
    "zeros = np.zeros_like(MI_pssk1)\n",
    "\n",
    "# IGstrict for permuted data\n",
    "IG_pssk1ssk2 = MI_pssk1ssk2 - MI_pssk1 - MI_pssk2\n",
    "IG_pssk1ric8 = MI_pssk1ric8 - MI_pssk1 - MI_pric8\n",
    "IG_pssk2ric8 = MI_pssk2ric8 - MI_pssk2 - MI_pric8\n",
    "IG_pssk1ssk2ric8 =  MI_pssk1ssk2ric8 - np.maximum(IG_pssk1ssk2, zeros) \\\n",
    "    - np.maximum(IG_pssk1ric8, zeros) \\\n",
    "    - np.maximum(IG_pssk2ric8, zeros) \\\n",
    "    - MI_pssk1 - MI_pssk2 - MI_pric8\n"
   ]
  },
  {
   "cell_type": "markdown",
   "metadata": {},
   "source": [
    "## 2nd order interactions, ternary phenotype"
   ]
  },
  {
   "cell_type": "code",
   "execution_count": 25,
   "metadata": {},
   "outputs": [
    {
     "name": "stdout",
     "output_type": "stream",
     "text": [
      "IG_ssk1ssk2:  -0.0025562433741109364 p-value:  0.766\n"
     ]
    },
    {
     "data": {
      "image/png": "[encoded data removed]",
      "text/plain": [
       "<Figure size 432x288 with 1 Axes>"
      ]
     },
     "metadata": {
      "needs_background": "light"
     },
     "output_type": "display_data"
    }
   ],
   "source": [
    "plt.hist(IG_pssk1ssk2)\n",
    "plt.vlines(IG_ssk1ssk2, ymin=0, ymax=200, color='r')\n",
    "print(\"IG_ssk1ssk2: \", IG_ssk1ssk2, \"p-value: \", np.sum(IG_pssk1ssk2 > IG_ssk1ssk2)/float(len(IG_pssk1ssk2)))\n",
    "pass"
   ]
  },
  {
   "cell_type": "code",
   "execution_count": 26,
   "metadata": {},
   "outputs": [
    {
     "name": "stdout",
     "output_type": "stream",
     "text": [
      "IG_ssk1ric8:  0.020554372714294195 p-value:  0.148\n"
     ]
    },
    {
     "data": {
      "image/png": "[encoded data removed]",
      "text/plain": [
       "<Figure size 432x288 with 1 Axes>"
      ]
     },
     "metadata": {
      "needs_background": "light"
     },
     "output_type": "display_data"
    }
   ],
   "source": [
    "plt.hist(IG_pssk1ric8)\n",
    "plt.vlines(IG_ssk1ric8, ymin=0, ymax=200, color='r')\n",
    "print(\"IG_ssk1ric8: \", IG_ssk1ric8, \"p-value: \", np.sum(IG_pssk1ric8 > IG_ssk1ric8)/float(len(IG_pssk1ric8)))\n",
    "pass"
   ]
  },
  {
   "cell_type": "code",
   "execution_count": 27,
   "metadata": {},
   "outputs": [
    {
     "name": "stdout",
     "output_type": "stream",
     "text": [
      "IG_ssk2ric8:  0.0075554509310481605 p-value:  0.345\n"
     ]
    },
    {
     "data": {
      "image/png": "[encoded data removed]",
      "text/plain": [
       "<Figure size 432x288 with 1 Axes>"
      ]
     },
     "metadata": {
      "needs_background": "light"
     },
     "output_type": "display_data"
    }
   ],
   "source": [
    "plt.hist(IG_pssk2ric8)\n",
    "plt.vlines(IG_ssk2ric8, ymin=0, ymax=200, color='r')\n",
    "print(\"IG_ssk2ric8: \", IG_ssk2ric8, \"p-value: \", np.sum(IG_pssk2ric8 > IG_ssk2ric8)/float(len(IG_pssk2ric8)))\n",
    "pass"
   ]
  },
  {
   "cell_type": "markdown",
   "metadata": {},
   "source": [
    "## 3rd order interactions, ternary phenotype"
   ]
  },
  {
   "cell_type": "code",
   "execution_count": 28,
   "metadata": {},
   "outputs": [
    {
     "name": "stdout",
     "output_type": "stream",
     "text": [
      "IG_ssk1ssk2ric8:  0.06900359953353838 p-value:  0.001\n"
     ]
    },
    {
     "data": {
      "image/png": "[encoded data removed]",
      "text/plain": [
       "<Figure size 432x288 with 1 Axes>"
      ]
     },
     "metadata": {
      "needs_background": "light"
     },
     "output_type": "display_data"
    }
   ],
   "source": [
    "plt.hist(IG_pssk1ssk2ric8)\n",
    "plt.vlines(IG_ssk1ssk2ric8, ymin=0, ymax=200, color='r')\n",
    "print(\"IG_ssk1ssk2ric8: \", IG_ssk1ssk2ric8, \"p-value: \", np.sum(IG_pssk1ssk2ric8 > IG_ssk1ssk2ric8)/float(len(IG_pssk1ssk2ric8)))\n",
    "pass"
   ]
  }
 ],
 "metadata": {
  "kernelspec": {
   "display_name": "Python 3",
   "language": "python",
   "name": "python3"
  },
  "language_info": {
   "codemirror_mode": {
    "name": "ipython",
    "version": 3
   },
   "file_extension": ".py",
   "mimetype": "text/x-python",
   "name": "python",
   "nbconvert_exporter": "python",
   "pygments_lexer": "ipython3",
   "version": "3.7.3"
  }
 },
 "nbformat": 4,
 "nbformat_minor": 4
}
