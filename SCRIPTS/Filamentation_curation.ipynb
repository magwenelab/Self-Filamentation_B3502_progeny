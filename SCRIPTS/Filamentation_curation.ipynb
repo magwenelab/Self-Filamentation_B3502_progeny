{
 "cells": [
  {
   "cell_type": "code",
   "execution_count": 1,
   "metadata": {},
   "outputs": [],
   "source": [
    "import numpy as np, pandas as pd\n",
    "import QTLfunctions as QTLfun"
   ]
  },
  {
   "cell_type": "code",
   "execution_count": 2,
   "metadata": {},
   "outputs": [
    {
     "data": {
      "text/html": [
       "<div>\n",
       "<style scoped>\n",
       "    .dataframe tbody tr th:only-of-type {\n",
       "        vertical-align: middle;\n",
       "    }\n",
       "\n",
       "    .dataframe tbody tr th {\n",
       "        vertical-align: top;\n",
       "    }\n",
       "\n",
       "    .dataframe thead th {\n",
       "        text-align: right;\n",
       "    }\n",
       "</style>\n",
       "<table border=\"1\" class=\"dataframe\">\n",
       "  <thead>\n",
       "    <tr style=\"text-align: right;\">\n",
       "      <th></th>\n",
       "      <th>gDNA sample for WGS</th>\n",
       "      <th>Cross_Progeny</th>\n",
       "      <th>Phenotype on MS (N-no filamentation; Y-filamentation; L-giant cells; T-transgressive filamentation)</th>\n",
       "      <th>Notes</th>\n",
       "    </tr>\n",
       "  </thead>\n",
       "  <tbody>\n",
       "    <tr>\n",
       "      <th>52</th>\n",
       "      <td>B_09</td>\n",
       "      <td>1. B3502A1_x_CF830_Random12</td>\n",
       "      <td>N</td>\n",
       "      <td>NaN</td>\n",
       "    </tr>\n",
       "    <tr>\n",
       "      <th>53</th>\n",
       "      <td>B_10</td>\n",
       "      <td>1. B3502A1_x_CF830_Random14</td>\n",
       "      <td>N</td>\n",
       "      <td>NaN</td>\n",
       "    </tr>\n",
       "    <tr>\n",
       "      <th>54</th>\n",
       "      <td>B_11</td>\n",
       "      <td>1. B3502A1_x_CF830_Random20</td>\n",
       "      <td>T</td>\n",
       "      <td>NaN</td>\n",
       "    </tr>\n",
       "    <tr>\n",
       "      <th>55</th>\n",
       "      <td>B_12</td>\n",
       "      <td>2. B3502B1_x_CF830_Random01</td>\n",
       "      <td>N</td>\n",
       "      <td>NaN</td>\n",
       "    </tr>\n",
       "    <tr>\n",
       "      <th>56</th>\n",
       "      <td>B_20</td>\n",
       "      <td>2. B3502B1_x_CF830_Random12</td>\n",
       "      <td>Y</td>\n",
       "      <td>Replacing sample \"SS_20201123_H99_03\"</td>\n",
       "    </tr>\n",
       "  </tbody>\n",
       "</table>\n",
       "</div>"
      ],
      "text/plain": [
       "   gDNA sample for WGS                Cross_Progeny  \\\n",
       "52                B_09  1. B3502A1_x_CF830_Random12   \n",
       "53                B_10  1. B3502A1_x_CF830_Random14   \n",
       "54                B_11  1. B3502A1_x_CF830_Random20   \n",
       "55                B_12  2. B3502B1_x_CF830_Random01   \n",
       "56                B_20  2. B3502B1_x_CF830_Random12   \n",
       "\n",
       "   Phenotype on MS (N-no filamentation; Y-filamentation; L-giant cells; T-transgressive filamentation)  \\\n",
       "52                                                  N                                                    \n",
       "53                                                  N                                                    \n",
       "54                                                  T                                                    \n",
       "55                                                  N                                                    \n",
       "56                                                  Y                                                    \n",
       "\n",
       "                                    Notes  \n",
       "52                                    NaN  \n",
       "53                                    NaN  \n",
       "54                                    NaN  \n",
       "55                                    NaN  \n",
       "56  Replacing sample \"SS_20201123_H99_03\"  "
      ]
     },
     "execution_count": 2,
     "metadata": {},
     "output_type": "execute_result"
    }
   ],
   "source": [
    "## Set phenotype path\n",
    "phenopath = '../PHENOTYPE/202011_WGS_B3502Progeny_for_QTL.xlsx'\n",
    "pheno = pd.read_excel(phenopath)\n",
    "pheno.tail()"
   ]
  },
  {
   "cell_type": "code",
   "execution_count": 3,
   "metadata": {},
   "outputs": [
    {
     "name": "stdout",
     "output_type": "stream",
     "text": [
      "['L', 'N', 'N (with rare spots of T)', 'T', 'Y'] \n",
      " [3. 0. 0. 2. 1.]\n"
     ]
    }
   ],
   "source": [
    "## Make a numeric map of phenotypes\n",
    "unipheno = sorted(pheno[pheno.columns[2]].unique())\n",
    "\n",
    "npheno = np.array([3,0,0,2,1],dtype=float)\n",
    "\n",
    "pdict = dict(zip(unipheno,npheno))\n",
    "\n",
    "pheno['Phenotype'] = pheno[pheno.columns[2]].replace(pdict)\n",
    "pheno['Strain'] = [''.join(a.split('_')) \n",
    "                   for a in pheno[pheno.columns[0]].tolist()]\n",
    "\n",
    "print(unipheno,'\\n',npheno)"
   ]
  },
  {
   "cell_type": "code",
   "execution_count": 4,
   "metadata": {},
   "outputs": [
    {
     "data": {
      "text/html": [
       "<div>\n",
       "<style scoped>\n",
       "    .dataframe tbody tr th:only-of-type {\n",
       "        vertical-align: middle;\n",
       "    }\n",
       "\n",
       "    .dataframe tbody tr th {\n",
       "        vertical-align: top;\n",
       "    }\n",
       "\n",
       "    .dataframe thead th {\n",
       "        text-align: right;\n",
       "    }\n",
       "</style>\n",
       "<table border=\"1\" class=\"dataframe\">\n",
       "  <thead>\n",
       "    <tr style=\"text-align: right;\">\n",
       "      <th></th>\n",
       "      <th>gDNA sample for WGS</th>\n",
       "      <th>Cross_Progeny</th>\n",
       "      <th>Phenotype on MS (N-no filamentation; Y-filamentation; L-giant cells; T-transgressive filamentation)</th>\n",
       "      <th>Notes</th>\n",
       "      <th>Phenotype</th>\n",
       "      <th>Strain</th>\n",
       "    </tr>\n",
       "  </thead>\n",
       "  <tbody>\n",
       "    <tr>\n",
       "      <th>0</th>\n",
       "      <td>A_01</td>\n",
       "      <td>1. B3502A1_x_CF830_BasidiumSpecific_01</td>\n",
       "      <td>N</td>\n",
       "      <td>NaN</td>\n",
       "      <td>0.0</td>\n",
       "      <td>A01</td>\n",
       "    </tr>\n",
       "    <tr>\n",
       "      <th>1</th>\n",
       "      <td>A_02</td>\n",
       "      <td>1. B3502A1_x_CF830_BasidiumSpecific_02</td>\n",
       "      <td>Y</td>\n",
       "      <td>NaN</td>\n",
       "      <td>1.0</td>\n",
       "      <td>A02</td>\n",
       "    </tr>\n",
       "    <tr>\n",
       "      <th>2</th>\n",
       "      <td>A_03</td>\n",
       "      <td>1. B3502A1_x_CF830_BasidiumSpecific_04</td>\n",
       "      <td>N</td>\n",
       "      <td>NaN</td>\n",
       "      <td>0.0</td>\n",
       "      <td>A03</td>\n",
       "    </tr>\n",
       "    <tr>\n",
       "      <th>3</th>\n",
       "      <td>A_04</td>\n",
       "      <td>1. B3502A1_x_CF830_BasidiumSpecific_09</td>\n",
       "      <td>L</td>\n",
       "      <td>NaN</td>\n",
       "      <td>3.0</td>\n",
       "      <td>A04</td>\n",
       "    </tr>\n",
       "    <tr>\n",
       "      <th>4</th>\n",
       "      <td>A_05</td>\n",
       "      <td>1. B3502A1_x_CF830_BasidiumSpecific_13</td>\n",
       "      <td>N (with rare spots of T)</td>\n",
       "      <td>NaN</td>\n",
       "      <td>0.0</td>\n",
       "      <td>A05</td>\n",
       "    </tr>\n",
       "  </tbody>\n",
       "</table>\n",
       "</div>"
      ],
      "text/plain": [
       "  gDNA sample for WGS                           Cross_Progeny  \\\n",
       "0                A_01  1. B3502A1_x_CF830_BasidiumSpecific_01   \n",
       "1                A_02  1. B3502A1_x_CF830_BasidiumSpecific_02   \n",
       "2                A_03  1. B3502A1_x_CF830_BasidiumSpecific_04   \n",
       "3                A_04  1. B3502A1_x_CF830_BasidiumSpecific_09   \n",
       "4                A_05  1. B3502A1_x_CF830_BasidiumSpecific_13   \n",
       "\n",
       "  Phenotype on MS (N-no filamentation; Y-filamentation; L-giant cells; T-transgressive filamentation)  \\\n",
       "0                                                  N                                                    \n",
       "1                                                  Y                                                    \n",
       "2                                                  N                                                    \n",
       "3                                                  L                                                    \n",
       "4                           N (with rare spots of T)                                                    \n",
       "\n",
       "  Notes  Phenotype Strain  \n",
       "0   NaN        0.0    A01  \n",
       "1   NaN        1.0    A02  \n",
       "2   NaN        0.0    A03  \n",
       "3   NaN        3.0    A04  \n",
       "4   NaN        0.0    A05  "
      ]
     },
     "execution_count": 4,
     "metadata": {},
     "output_type": "execute_result"
    }
   ],
   "source": [
    "pheno.head()"
   ]
  },
  {
   "cell_type": "code",
   "execution_count": 5,
   "metadata": {},
   "outputs": [
    {
     "data": {
      "text/plain": [
       "array(['Cross_Progeny',\n",
       "       'Phenotype on MS (N-no filamentation; Y-filamentation; L-giant cells; T-transgressive filamentation)',\n",
       "       'Phenotype', 'Strain'], dtype=object)"
      ]
     },
     "execution_count": 5,
     "metadata": {},
     "output_type": "execute_result"
    }
   ],
   "source": [
    "save_cols = pheno.columns.values[[1,2,4,5]]\n",
    "save_cols"
   ]
  },
  {
   "cell_type": "code",
   "execution_count": 6,
   "metadata": {},
   "outputs": [],
   "source": [
    "pheno[save_cols].to_csv('../PHENOTYPE/202011_WGS_B3502Progeny_phenotypes.csv.gz',\n",
    "            index=False)"
   ]
  },
  {
   "cell_type": "code",
   "execution_count": 7,
   "metadata": {},
   "outputs": [
    {
     "data": {
      "text/html": [
       "<div>\n",
       "<style scoped>\n",
       "    .dataframe tbody tr th:only-of-type {\n",
       "        vertical-align: middle;\n",
       "    }\n",
       "\n",
       "    .dataframe tbody tr th {\n",
       "        vertical-align: top;\n",
       "    }\n",
       "\n",
       "    .dataframe thead th {\n",
       "        text-align: right;\n",
       "    }\n",
       "</style>\n",
       "<table border=\"1\" class=\"dataframe\">\n",
       "  <thead>\n",
       "    <tr style=\"text-align: right;\">\n",
       "      <th></th>\n",
       "      <th>gDNA sample for WGS</th>\n",
       "      <th>Cross_Progeny</th>\n",
       "      <th>Phenotype on MS (N-no filamentation; Y-filamentation; L-giant cells; T-transgressive filamentation)</th>\n",
       "      <th>Notes</th>\n",
       "      <th>Strain</th>\n",
       "    </tr>\n",
       "    <tr>\n",
       "      <th>Phenotype</th>\n",
       "      <th></th>\n",
       "      <th></th>\n",
       "      <th></th>\n",
       "      <th></th>\n",
       "      <th></th>\n",
       "    </tr>\n",
       "  </thead>\n",
       "  <tbody>\n",
       "    <tr>\n",
       "      <th>0.0</th>\n",
       "      <td>28</td>\n",
       "      <td>28</td>\n",
       "      <td>28</td>\n",
       "      <td>0</td>\n",
       "      <td>28</td>\n",
       "    </tr>\n",
       "    <tr>\n",
       "      <th>1.0</th>\n",
       "      <td>13</td>\n",
       "      <td>13</td>\n",
       "      <td>13</td>\n",
       "      <td>1</td>\n",
       "      <td>13</td>\n",
       "    </tr>\n",
       "    <tr>\n",
       "      <th>2.0</th>\n",
       "      <td>6</td>\n",
       "      <td>6</td>\n",
       "      <td>6</td>\n",
       "      <td>0</td>\n",
       "      <td>6</td>\n",
       "    </tr>\n",
       "    <tr>\n",
       "      <th>3.0</th>\n",
       "      <td>10</td>\n",
       "      <td>10</td>\n",
       "      <td>10</td>\n",
       "      <td>0</td>\n",
       "      <td>10</td>\n",
       "    </tr>\n",
       "  </tbody>\n",
       "</table>\n",
       "</div>"
      ],
      "text/plain": [
       "           gDNA sample for WGS  Cross_Progeny  \\\n",
       "Phenotype                                       \n",
       "0.0                         28             28   \n",
       "1.0                         13             13   \n",
       "2.0                          6              6   \n",
       "3.0                         10             10   \n",
       "\n",
       "           Phenotype on MS (N-no filamentation; Y-filamentation; L-giant cells; T-transgressive filamentation)  \\\n",
       "Phenotype                                                                                                        \n",
       "0.0                                                       28                                                     \n",
       "1.0                                                       13                                                     \n",
       "2.0                                                        6                                                     \n",
       "3.0                                                       10                                                     \n",
       "\n",
       "           Notes  Strain  \n",
       "Phenotype                 \n",
       "0.0            0      28  \n",
       "1.0            1      13  \n",
       "2.0            0       6  \n",
       "3.0            0      10  "
      ]
     },
     "execution_count": 7,
     "metadata": {},
     "output_type": "execute_result"
    }
   ],
   "source": [
    "pheno.groupby('Phenotype').count()"
   ]
  },
  {
   "cell_type": "code",
   "execution_count": null,
   "metadata": {},
   "outputs": [],
   "source": []
  }
 ],
 "metadata": {
  "kernelspec": {
   "display_name": "Python 3",
   "language": "python",
   "name": "python3"
  },
  "language_info": {
   "codemirror_mode": {
    "name": "ipython",
    "version": 3
   },
   "file_extension": ".py",
   "mimetype": "text/x-python",
   "name": "python",
   "nbconvert_exporter": "python",
   "pygments_lexer": "ipython3",
   "version": "3.7.3"
  }
 },
 "nbformat": 4,
 "nbformat_minor": 4
}
