{
 "cells": [
  {
   "cell_type": "code",
   "execution_count": 1,
   "metadata": {},
   "outputs": [],
   "source": [
    "## Bring in needed mods\n",
    "import pandas as pd, numpy as np, glob, sys, os, seaborn as sns\n",
    "from matplotlib import pyplot as plt\n",
    "%matplotlib inline\n",
    "\n",
    "sys.path.insert(0, '/home/croth/QTL-functions/SCRIPTS/')\n",
    "import qtlfunctions as qtlfun"
   ]
  },
  {
   "cell_type": "code",
   "execution_count": 2,
   "metadata": {},
   "outputs": [],
   "source": [
    "## Set variables\n",
    "## Set chromosomes\n",
    "chromns = np.arange(1,15)\n",
    "\n",
    "## path to info dataframes\n",
    "infopath = '../GENOTYPE/INFO/*.%s.B3502.progeny_info_cols.csv.gz'\n",
    "\n",
    "## path to genotype dataframes\n",
    "genopath = '../GENOTYPE/GT/*.%s.B3502.progeny_genotypes.csv.gz'\n",
    "\n",
    "## path to depth dataframes\n",
    "deptpath = '../GENOTYPE/DP/*.%s.B3502.progeny_depths.csv.gz'\n",
    "\n",
    "## path to allelic dataframes\n",
    "allepath = '../GENOTYPE/AF/*.%s.B3502.progeny_allele_ratios.csv.gz'"
   ]
  },
  {
   "cell_type": "code",
   "execution_count": 19,
   "metadata": {},
   "outputs": [
    {
     "data": {
      "text/html": [
       "<div>\n",
       "<style scoped>\n",
       "    .dataframe tbody tr th:only-of-type {\n",
       "        vertical-align: middle;\n",
       "    }\n",
       "\n",
       "    .dataframe tbody tr th {\n",
       "        vertical-align: top;\n",
       "    }\n",
       "\n",
       "    .dataframe thead th {\n",
       "        text-align: right;\n",
       "    }\n",
       "</style>\n",
       "<table border=\"1\" class=\"dataframe\">\n",
       "  <thead>\n",
       "    <tr style=\"text-align: right;\">\n",
       "      <th></th>\n",
       "      <th>A30</th>\n",
       "      <th>A31</th>\n",
       "      <th>A33</th>\n",
       "      <th>A32</th>\n",
       "      <th>A34</th>\n",
       "    </tr>\n",
       "  </thead>\n",
       "  <tbody>\n",
       "    <tr>\n",
       "      <th>22654</th>\n",
       "      <td>91</td>\n",
       "      <td>78</td>\n",
       "      <td>73</td>\n",
       "      <td>130</td>\n",
       "      <td>78</td>\n",
       "    </tr>\n",
       "    <tr>\n",
       "      <th>22656</th>\n",
       "      <td>94</td>\n",
       "      <td>62</td>\n",
       "      <td>77</td>\n",
       "      <td>125</td>\n",
       "      <td>80</td>\n",
       "    </tr>\n",
       "    <tr>\n",
       "      <th>22671</th>\n",
       "      <td>28</td>\n",
       "      <td>22</td>\n",
       "      <td>14</td>\n",
       "      <td>26</td>\n",
       "      <td>28</td>\n",
       "    </tr>\n",
       "    <tr>\n",
       "      <th>22682</th>\n",
       "      <td>4</td>\n",
       "      <td>1</td>\n",
       "      <td>0</td>\n",
       "      <td>3</td>\n",
       "      <td>3</td>\n",
       "    </tr>\n",
       "    <tr>\n",
       "      <th>22683</th>\n",
       "      <td>0</td>\n",
       "      <td>0</td>\n",
       "      <td>0</td>\n",
       "      <td>0</td>\n",
       "      <td>0</td>\n",
       "    </tr>\n",
       "  </tbody>\n",
       "</table>\n",
       "</div>"
      ],
      "text/plain": [
       "      A30 A31 A33  A32 A34\n",
       "22654  91  78  73  130  78\n",
       "22656  94  62  77  125  80\n",
       "22671  28  22  14   26  28\n",
       "22682   4   1   0    3   3\n",
       "22683   0   0   0    0   0"
      ]
     },
     "execution_count": 19,
     "metadata": {},
     "output_type": "execute_result"
    }
   ],
   "source": [
    "## Load in depth dataframe\n",
    "dps = qtlfun.loadvariants(infopath,deptpath,chromns)\n",
    "\n",
    "## View tail\n",
    "dps.tail().T.tail().T"
   ]
  },
  {
   "cell_type": "code",
   "execution_count": 20,
   "metadata": {},
   "outputs": [
    {
     "data": {
      "text/html": [
       "<div>\n",
       "<style scoped>\n",
       "    .dataframe tbody tr th:only-of-type {\n",
       "        vertical-align: middle;\n",
       "    }\n",
       "\n",
       "    .dataframe tbody tr th {\n",
       "        vertical-align: top;\n",
       "    }\n",
       "\n",
       "    .dataframe thead th {\n",
       "        text-align: right;\n",
       "    }\n",
       "</style>\n",
       "<table border=\"1\" class=\"dataframe\">\n",
       "  <thead>\n",
       "    <tr style=\"text-align: right;\">\n",
       "      <th></th>\n",
       "      <th>A30</th>\n",
       "      <th>A31</th>\n",
       "      <th>A33</th>\n",
       "      <th>A32</th>\n",
       "      <th>A34</th>\n",
       "    </tr>\n",
       "  </thead>\n",
       "  <tbody>\n",
       "    <tr>\n",
       "      <th>22654</th>\n",
       "      <td>1</td>\n",
       "      <td>1</td>\n",
       "      <td>1</td>\n",
       "      <td>1</td>\n",
       "      <td>1</td>\n",
       "    </tr>\n",
       "    <tr>\n",
       "      <th>22656</th>\n",
       "      <td>1</td>\n",
       "      <td>1</td>\n",
       "      <td>1</td>\n",
       "      <td>1</td>\n",
       "      <td>1</td>\n",
       "    </tr>\n",
       "    <tr>\n",
       "      <th>22671</th>\n",
       "      <td>1</td>\n",
       "      <td>1</td>\n",
       "      <td>1</td>\n",
       "      <td>1</td>\n",
       "      <td>1</td>\n",
       "    </tr>\n",
       "    <tr>\n",
       "      <th>22682</th>\n",
       "      <td>1</td>\n",
       "      <td>1</td>\n",
       "      <td>NaN</td>\n",
       "      <td>1</td>\n",
       "      <td>1</td>\n",
       "    </tr>\n",
       "    <tr>\n",
       "      <th>22683</th>\n",
       "      <td>NaN</td>\n",
       "      <td>NaN</td>\n",
       "      <td>NaN</td>\n",
       "      <td>NaN</td>\n",
       "      <td>NaN</td>\n",
       "    </tr>\n",
       "  </tbody>\n",
       "</table>\n",
       "</div>"
      ],
      "text/plain": [
       "       A30  A31  A33  A32  A34\n",
       "22654    1    1    1    1    1\n",
       "22656    1    1    1    1    1\n",
       "22671    1    1    1    1    1\n",
       "22682    1    1  NaN    1    1\n",
       "22683  NaN  NaN  NaN  NaN  NaN"
      ]
     },
     "execution_count": 20,
     "metadata": {},
     "output_type": "execute_result"
    }
   ],
   "source": [
    "## Load in allelic ratio dataframe\n",
    "ads = qtlfun.loadvariants(infopath,allepath,chromns)\n",
    "\n",
    "## View tail\n",
    "ads.tail().T.tail().T"
   ]
  },
  {
   "cell_type": "code",
   "execution_count": 16,
   "metadata": {},
   "outputs": [
    {
     "name": "stdout",
     "output_type": "stream",
     "text": [
      "92\n"
     ]
    }
   ],
   "source": [
    "## Gather sample names and print length\n",
    "samples = ads.columns[ads.columns.tolist().index('MAF')+1:].tolist()\n",
    "print(len(samples))"
   ]
  },
  {
   "cell_type": "code",
   "execution_count": 17,
   "metadata": {},
   "outputs": [],
   "source": [
    "## Gather progeny\n",
    "progeny = sorted([s for s in samples if len(s)<=4])\n",
    "\n",
    "## Gather ancestors\n",
    "ancestors = sorted([s for s in samples if len(s)>4])\n",
    "\n",
    "## Check work\n",
    "assert len(progeny) + len(ancestors) == len(samples)\n",
    "\n",
    "## Gather B3502 stocks\n",
    "b3502 = [s for s in ancestors if s.split(\"_\")[0]=='B3502']\n",
    "\n",
    "## parents and progenitor strains\n",
    "progenitors = [s for s in ancestors if s not in b3502]"
   ]
  },
  {
   "cell_type": "code",
   "execution_count": 7,
   "metadata": {},
   "outputs": [],
   "source": [
    "## For each sample, plot the depth and allelic depth ratio\n",
    "for sample in samples:\n",
    "\n",
    "    ## Call figure\n",
    "    fig,ax = plt.subplots(2,1,figsize=(12,5),sharex=True)\n",
    "    fig.set_facecolor('w')\n",
    "\n",
    "    ## Set axis and title\n",
    "    plt.sca(ax[0])\n",
    "    plt.title(sample)\n",
    "\n",
    "    ## plot log2 depth\n",
    "    qtlfun.manhattan(dps,pval=sample,chrom='Seqid',xlabel='',\n",
    "                 ylabel='log$_2$ (Depth)',ylims=(0,12),ax=ax[0]);\n",
    "\n",
    "    ## plot allelic depth ratio\n",
    "    qtlfun.manhattan(ads,pval=sample,chrom='Seqid',chromlabels=chromns,\n",
    "                 ylabel='Allelic Depth',ylims=(0,1),ax=ax[1]);\n",
    "    \n",
    "    ## Save figure and close figure\n",
    "    plt.savefig('../FIGURES/DEPTHPLOTS/%s.png'%sample,\n",
    "                dpi=100,bbox_inches='tight')\n",
    "    plt.close()"
   ]
  }
 ],
 "metadata": {
  "kernelspec": {
   "display_name": "Python 3",
   "language": "python",
   "name": "python3"
  },
  "language_info": {
   "codemirror_mode": {
    "name": "ipython",
    "version": 3
   },
   "file_extension": ".py",
   "mimetype": "text/x-python",
   "name": "python",
   "nbconvert_exporter": "python",
   "pygments_lexer": "ipython3",
   "version": "3.7.3"
  }
 },
 "nbformat": 4,
 "nbformat_minor": 4
}
