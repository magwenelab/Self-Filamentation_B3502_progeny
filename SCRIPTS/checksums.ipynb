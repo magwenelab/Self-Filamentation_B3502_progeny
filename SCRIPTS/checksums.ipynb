{
 "cells": [
  {
   "cell_type": "code",
   "execution_count": 3,
   "metadata": {},
   "outputs": [],
   "source": [
    "import pandas as pd\n",
    "\n",
    "\n",
    "## Checked with md5sum *.fastq.gz\n",
    "## List to checksum\n",
    "checkpath = './Sun_6673_210202B6.checksum'\n",
    "recheckpath = './recheck.checksum'\n",
    "\n",
    "## Bring in shengs checksum\n",
    "checksums = pd.read_csv(checkpath,header=None,sep=' ')\n",
    "checksums.dropna(axis=1,how='all',inplace=True)\n",
    "checksums.columns = ['Checksum','Fastq']\n",
    "checksums['Filename'] = [s.split('/')[-1] for s in checksums.Fastq]\n",
    "\n",
    "## Bring in our checksum\n",
    "rechecksums = pd.read_csv(recheckpath,header=None,sep=' ')\n",
    "rechecksums.dropna(axis=1,how='all',inplace=True)\n",
    "rechecksums.columns = ['Checksum','Filename']\n",
    "\n",
    "for i,(j,f) in enumerate(rechecksums.iterrows()):\n",
    "    \n",
    "    file = f.Filename\n",
    "    newcheck = f.Checksum\n",
    "    \n",
    "    if file not in checksums.Filename.tolist():\n",
    "        print(file)\n",
    "    \n",
    "    oldcheck = checksums[(checksums.Filename==file)].Checksum.min()\n",
    "    \n",
    "    if oldcheck!=newcheck:\n",
    "        print(file)"
   ]
  }
 ],
 "metadata": {
  "kernelspec": {
   "display_name": "Python 3",
   "language": "python",
   "name": "python3"
  },
  "language_info": {
   "codemirror_mode": {
    "name": "ipython",
    "version": 3
   },
   "file_extension": ".py",
   "mimetype": "text/x-python",
   "name": "python",
   "nbconvert_exporter": "python",
   "pygments_lexer": "ipython3",
   "version": "3.7.3"
  }
 },
 "nbformat": 4,
 "nbformat_minor": 4
}
