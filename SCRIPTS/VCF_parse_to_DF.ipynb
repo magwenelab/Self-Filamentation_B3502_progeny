{
 "cells": [
  {
   "cell_type": "code",
   "execution_count": null,
   "metadata": {},
   "outputs": [],
   "source": [
    "## Bring in needed mods.\n",
    "import numpy as np, pandas as pd, sys, os\n",
    "\n",
    "## Load in our vcf functions.\n",
    "sys.path.insert(0, '../../QTL-functions/SCRIPTS/')\n",
    "import vcffunctions as vcff\n",
    "\n",
    "## Set and sort vcf paths (with wild card).\n",
    "## NOTE this \"vcfpath\" is a path on Magwene lab server.\n",
    "## It will need to be changed for other users\n",
    "vcfpath = '../GENOTYPE/listovcf.txt' \n",
    "vcfs = [f.split('\\n')[0] for f in open(vcfpath,'r').readlines()]\n",
    "\n",
    "## Check we have 14 chromosomes.\n",
    "#assert len(vcfs) >= 14, \"Not enough chromosome paths, check pahts\"\n",
    "\n",
    "## Check the paths are real.\n",
    "for p in vcfs:\n",
    "    assert os.path.exists(p), \"Path to VCF file %s does not exist\"%p.split('/')[-1]\n",
    "\n",
    "## interate thru each vcf and parse needed info.\n",
    "vcfsplit = '.vcf'\n",
    "\n",
    "## Iterate thru vcf files\n",
    "for i,vcffile in enumerate(vcfs):\n",
    "    \n",
    "    ## Set saveing name\n",
    "    savechrom =  vcffile.split(vcfsplit)[0].split('/')[-1]#+'_%s'%(i+1)\n",
    "    \n",
    "    ## Show the saveing labels for the files\n",
    "    print(savechrom)\n",
    "    \n",
    "    ### Make variant records into dataframes\n",
    "    info,gts,dps,ars = vcff.vcftodf(vcffile)\n",
    "    \n",
    "    ## Save dataframes\n",
    "    dps.to_csv('../GENOTYPE/DP/%s_depths.csv.gz'%savechrom)\n",
    "    ars.to_csv('../GENOTYPE/AF/%s_allele_ratios.csv.gz'%savechrom)\n",
    "    gts.to_csv('../GENOTYPE/GT/%s_genotypes.csv.gz'%savechrom)\n",
    "    info.to_csv('../GENOTYPE/INFO/%s_info_cols.csv.gz'%savechrom)"
   ]
  }
 ],
 "metadata": {
  "kernelspec": {
   "display_name": "Python 3",
   "language": "python",
   "name": "python3"
  },
  "language_info": {
   "codemirror_mode": {
    "name": "ipython",
    "version": 3
   },
   "file_extension": ".py",
   "mimetype": "text/x-python",
   "name": "python",
   "nbconvert_exporter": "python",
   "pygments_lexer": "ipython3",
   "version": "3.7.3"
  }
 },
 "nbformat": 4,
 "nbformat_minor": 4
}
