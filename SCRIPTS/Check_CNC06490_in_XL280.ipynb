{
 "cells": [
  {
   "cell_type": "code",
   "execution_count": 1,
   "metadata": {},
   "outputs": [],
   "source": [
    "## Load in python mods\n",
    "import pandas as pd, numpy as np, sys\n",
    "from Bio import SeqIO\n",
    "\n",
    "## Load in my mods\n",
    "sys.path.insert(0, '/home/croth/QTL-functions/SCRIPTS/')\n",
    "import qtlfunctions as qtlfun, vcffunctions as vcf"
   ]
  },
  {
   "cell_type": "code",
   "execution_count": 2,
   "metadata": {},
   "outputs": [],
   "source": [
    "## Load in genotype data\n",
    "genopath = '/home/croth/crypto-QTL-paper/DATA/GENOTYPE/CDx-ill-SNP-INDEL-df-104-blocked.csv.gz'\n",
    "\n",
    "## Load in genotype\n",
    "geno = pd.read_csv(genopath)"
   ]
  },
  {
   "cell_type": "code",
   "execution_count": 3,
   "metadata": {},
   "outputs": [
    {
     "data": {
      "text/html": [
       "<div>\n",
       "<style scoped>\n",
       "    .dataframe tbody tr th:only-of-type {\n",
       "        vertical-align: middle;\n",
       "    }\n",
       "\n",
       "    .dataframe tbody tr th {\n",
       "        vertical-align: top;\n",
       "    }\n",
       "\n",
       "    .dataframe thead th {\n",
       "        text-align: right;\n",
       "    }\n",
       "</style>\n",
       "<table border=\"1\" class=\"dataframe\">\n",
       "  <thead>\n",
       "    <tr style=\"text-align: right;\">\n",
       "      <th></th>\n",
       "      <th>id</th>\n",
       "      <th>start</th>\n",
       "      <th>end</th>\n",
       "      <th>description</th>\n",
       "      <th>strand</th>\n",
       "    </tr>\n",
       "  </thead>\n",
       "  <tbody>\n",
       "    <tr>\n",
       "      <th>67941</th>\n",
       "      <td>CNC06490</td>\n",
       "      <td>1892348</td>\n",
       "      <td>1896246</td>\n",
       "      <td>Rho GTPase activator%2C putative</td>\n",
       "      <td>-</td>\n",
       "    </tr>\n",
       "  </tbody>\n",
       "</table>\n",
       "</div>"
      ],
      "text/plain": [
       "             id    start      end                       description strand\n",
       "67941  CNC06490  1892348  1896246  Rho GTPase activator%2C putative      -"
      ]
     },
     "execution_count": 3,
     "metadata": {},
     "output_type": "execute_result"
    }
   ],
   "source": [
    "## Set gff path\n",
    "gffpath = '/home/croth/crypto-QTL-paper/DATA/xl280genome.gff3.csv.gz'\n",
    "\n",
    "## Load in gff\n",
    "gff = pd.read_csv(gffpath,comment='#',index_col=0)\n",
    "\n",
    "## Gather info for CNC06490\n",
    "cnc06490 = gff[(gff.id=='CNC06490')]\n",
    "\n",
    "## show the info\n",
    "cnc06490[['id','start','end','description','strand']]"
   ]
  },
  {
   "cell_type": "code",
   "execution_count": 7,
   "metadata": {},
   "outputs": [
    {
     "data": {
      "text/html": [
       "<div>\n",
       "<style scoped>\n",
       "    .dataframe tbody tr th:only-of-type {\n",
       "        vertical-align: middle;\n",
       "    }\n",
       "\n",
       "    .dataframe tbody tr th {\n",
       "        vertical-align: top;\n",
       "    }\n",
       "\n",
       "    .dataframe thead th {\n",
       "        text-align: right;\n",
       "    }\n",
       "</style>\n",
       "<table border=\"1\" class=\"dataframe\">\n",
       "  <thead>\n",
       "    <tr style=\"text-align: right;\">\n",
       "      <th></th>\n",
       "      <th>type</th>\n",
       "      <th>gene</th>\n",
       "      <th>start</th>\n",
       "      <th>end</th>\n",
       "      <th>strand</th>\n",
       "      <th>contig</th>\n",
       "      <th>phase</th>\n",
       "      <th>attribute</th>\n",
       "      <th>description</th>\n",
       "      <th>id</th>\n",
       "    </tr>\n",
       "  </thead>\n",
       "  <tbody>\n",
       "    <tr>\n",
       "      <th>67941</th>\n",
       "      <td>gene</td>\n",
       "      <td>CNC06490</td>\n",
       "      <td>1892348</td>\n",
       "      <td>1896246</td>\n",
       "      <td>-</td>\n",
       "      <td>Chr03</td>\n",
       "      <td>.</td>\n",
       "      <td>ID=CNC06490;description=Rho GTPase activator%2...</td>\n",
       "      <td>Rho GTPase activator%2C putative</td>\n",
       "      <td>CNC06490</td>\n",
       "    </tr>\n",
       "    <tr>\n",
       "      <th>67942</th>\n",
       "      <td>mRNA</td>\n",
       "      <td>CNC06490</td>\n",
       "      <td>1892348</td>\n",
       "      <td>1896246</td>\n",
       "      <td>-</td>\n",
       "      <td>Chr03</td>\n",
       "      <td>.</td>\n",
       "      <td>ID=CNC06490-t26_1;Parent=CNC06490;description=...</td>\n",
       "      <td>Rho GTPase activator%2C putative</td>\n",
       "      <td>CNC06490-t26_1</td>\n",
       "    </tr>\n",
       "    <tr>\n",
       "      <th>67943</th>\n",
       "      <td>exon</td>\n",
       "      <td>CNC06490</td>\n",
       "      <td>1892348</td>\n",
       "      <td>1893729</td>\n",
       "      <td>-</td>\n",
       "      <td>Chr03</td>\n",
       "      <td>.</td>\n",
       "      <td>ID=exon_CNC06490-E6;Parent=CNC06490-t26_1</td>\n",
       "      <td>NaN</td>\n",
       "      <td>exon_CNC06490-E6</td>\n",
       "    </tr>\n",
       "    <tr>\n",
       "      <th>67944</th>\n",
       "      <td>exon</td>\n",
       "      <td>CNC06490</td>\n",
       "      <td>1893800</td>\n",
       "      <td>1893971</td>\n",
       "      <td>-</td>\n",
       "      <td>Chr03</td>\n",
       "      <td>.</td>\n",
       "      <td>ID=exon_CNC06490-E5;Parent=CNC06490-t26_1</td>\n",
       "      <td>NaN</td>\n",
       "      <td>exon_CNC06490-E5</td>\n",
       "    </tr>\n",
       "    <tr>\n",
       "      <th>67945</th>\n",
       "      <td>exon</td>\n",
       "      <td>CNC06490</td>\n",
       "      <td>1894028</td>\n",
       "      <td>1894205</td>\n",
       "      <td>-</td>\n",
       "      <td>Chr03</td>\n",
       "      <td>.</td>\n",
       "      <td>ID=exon_CNC06490-E4;Parent=CNC06490-t26_1</td>\n",
       "      <td>NaN</td>\n",
       "      <td>exon_CNC06490-E4</td>\n",
       "    </tr>\n",
       "    <tr>\n",
       "      <th>67946</th>\n",
       "      <td>exon</td>\n",
       "      <td>CNC06490</td>\n",
       "      <td>1894259</td>\n",
       "      <td>1895254</td>\n",
       "      <td>-</td>\n",
       "      <td>Chr03</td>\n",
       "      <td>.</td>\n",
       "      <td>ID=exon_CNC06490-E3;Parent=CNC06490-t26_1</td>\n",
       "      <td>NaN</td>\n",
       "      <td>exon_CNC06490-E3</td>\n",
       "    </tr>\n",
       "    <tr>\n",
       "      <th>67947</th>\n",
       "      <td>exon</td>\n",
       "      <td>CNC06490</td>\n",
       "      <td>1895302</td>\n",
       "      <td>1895961</td>\n",
       "      <td>-</td>\n",
       "      <td>Chr03</td>\n",
       "      <td>.</td>\n",
       "      <td>ID=exon_CNC06490-E2;Parent=CNC06490-t26_1</td>\n",
       "      <td>NaN</td>\n",
       "      <td>exon_CNC06490-E2</td>\n",
       "    </tr>\n",
       "    <tr>\n",
       "      <th>67948</th>\n",
       "      <td>exon</td>\n",
       "      <td>CNC06490</td>\n",
       "      <td>1896062</td>\n",
       "      <td>1896246</td>\n",
       "      <td>-</td>\n",
       "      <td>Chr03</td>\n",
       "      <td>.</td>\n",
       "      <td>ID=exon_CNC06490-E1;Parent=CNC06490-t26_1</td>\n",
       "      <td>NaN</td>\n",
       "      <td>exon_CNC06490-E1</td>\n",
       "    </tr>\n",
       "    <tr>\n",
       "      <th>67949</th>\n",
       "      <td>CDS</td>\n",
       "      <td>CNC06490</td>\n",
       "      <td>1892596</td>\n",
       "      <td>1893729</td>\n",
       "      <td>-</td>\n",
       "      <td>Chr03</td>\n",
       "      <td>2</td>\n",
       "      <td>ID=CNC06490-t26_1-p1-CDS5;Parent=CNC06490-t26_...</td>\n",
       "      <td>NaN</td>\n",
       "      <td>CNC06490-t26_1-p1-CDS5</td>\n",
       "    </tr>\n",
       "    <tr>\n",
       "      <th>67950</th>\n",
       "      <td>CDS</td>\n",
       "      <td>CNC06490</td>\n",
       "      <td>1893800</td>\n",
       "      <td>1893971</td>\n",
       "      <td>-</td>\n",
       "      <td>Chr03</td>\n",
       "      <td>2</td>\n",
       "      <td>ID=CNC06490-t26_1-p1-CDS4;Parent=CNC06490-t26_...</td>\n",
       "      <td>NaN</td>\n",
       "      <td>CNC06490-t26_1-p1-CDS4</td>\n",
       "    </tr>\n",
       "    <tr>\n",
       "      <th>67951</th>\n",
       "      <td>CDS</td>\n",
       "      <td>CNC06490</td>\n",
       "      <td>1894028</td>\n",
       "      <td>1894205</td>\n",
       "      <td>-</td>\n",
       "      <td>Chr03</td>\n",
       "      <td>2</td>\n",
       "      <td>ID=CNC06490-t26_1-p1-CDS3;Parent=CNC06490-t26_...</td>\n",
       "      <td>NaN</td>\n",
       "      <td>CNC06490-t26_1-p1-CDS3</td>\n",
       "    </tr>\n",
       "    <tr>\n",
       "      <th>67952</th>\n",
       "      <td>CDS</td>\n",
       "      <td>CNC06490</td>\n",
       "      <td>1894259</td>\n",
       "      <td>1895254</td>\n",
       "      <td>-</td>\n",
       "      <td>Chr03</td>\n",
       "      <td>1</td>\n",
       "      <td>ID=CNC06490-t26_1-p1-CDS2;Parent=CNC06490-t26_...</td>\n",
       "      <td>NaN</td>\n",
       "      <td>CNC06490-t26_1-p1-CDS2</td>\n",
       "    </tr>\n",
       "    <tr>\n",
       "      <th>67953</th>\n",
       "      <td>CDS</td>\n",
       "      <td>CNC06490</td>\n",
       "      <td>1895302</td>\n",
       "      <td>1895817</td>\n",
       "      <td>-</td>\n",
       "      <td>Chr03</td>\n",
       "      <td>0</td>\n",
       "      <td>ID=CNC06490-t26_1-p1-CDS1;Parent=CNC06490-t26_...</td>\n",
       "      <td>NaN</td>\n",
       "      <td>CNC06490-t26_1-p1-CDS1</td>\n",
       "    </tr>\n",
       "    <tr>\n",
       "      <th>67954</th>\n",
       "      <td>three_prime_UTR</td>\n",
       "      <td>CNC06490</td>\n",
       "      <td>1892348</td>\n",
       "      <td>1892596</td>\n",
       "      <td>-</td>\n",
       "      <td>Chr03</td>\n",
       "      <td>.</td>\n",
       "      <td>ID=utr_CNC06490-t26_1_1;Parent=CNC06490-t26_1</td>\n",
       "      <td>NaN</td>\n",
       "      <td>utr_CNC06490-t26_1_1</td>\n",
       "    </tr>\n",
       "    <tr>\n",
       "      <th>67955</th>\n",
       "      <td>five_prime_UTR</td>\n",
       "      <td>CNC06490</td>\n",
       "      <td>1895817</td>\n",
       "      <td>1895961</td>\n",
       "      <td>-</td>\n",
       "      <td>Chr03</td>\n",
       "      <td>.</td>\n",
       "      <td>ID=utr_CNC06490-t26_1_2;Parent=CNC06490-t26_1</td>\n",
       "      <td>NaN</td>\n",
       "      <td>utr_CNC06490-t26_1_2</td>\n",
       "    </tr>\n",
       "    <tr>\n",
       "      <th>67956</th>\n",
       "      <td>five_prime_UTR</td>\n",
       "      <td>CNC06490</td>\n",
       "      <td>1896062</td>\n",
       "      <td>1896246</td>\n",
       "      <td>-</td>\n",
       "      <td>Chr03</td>\n",
       "      <td>.</td>\n",
       "      <td>ID=utr_CNC06490-t26_1_3;Parent=CNC06490-t26_1</td>\n",
       "      <td>NaN</td>\n",
       "      <td>utr_CNC06490-t26_1_3</td>\n",
       "    </tr>\n",
       "  </tbody>\n",
       "</table>\n",
       "</div>"
      ],
      "text/plain": [
       "                  type      gene    start      end strand contig phase  \\\n",
       "67941             gene  CNC06490  1892348  1896246      -  Chr03     .   \n",
       "67942             mRNA  CNC06490  1892348  1896246      -  Chr03     .   \n",
       "67943             exon  CNC06490  1892348  1893729      -  Chr03     .   \n",
       "67944             exon  CNC06490  1893800  1893971      -  Chr03     .   \n",
       "67945             exon  CNC06490  1894028  1894205      -  Chr03     .   \n",
       "67946             exon  CNC06490  1894259  1895254      -  Chr03     .   \n",
       "67947             exon  CNC06490  1895302  1895961      -  Chr03     .   \n",
       "67948             exon  CNC06490  1896062  1896246      -  Chr03     .   \n",
       "67949              CDS  CNC06490  1892596  1893729      -  Chr03     2   \n",
       "67950              CDS  CNC06490  1893800  1893971      -  Chr03     2   \n",
       "67951              CDS  CNC06490  1894028  1894205      -  Chr03     2   \n",
       "67952              CDS  CNC06490  1894259  1895254      -  Chr03     1   \n",
       "67953              CDS  CNC06490  1895302  1895817      -  Chr03     0   \n",
       "67954  three_prime_UTR  CNC06490  1892348  1892596      -  Chr03     .   \n",
       "67955   five_prime_UTR  CNC06490  1895817  1895961      -  Chr03     .   \n",
       "67956   five_prime_UTR  CNC06490  1896062  1896246      -  Chr03     .   \n",
       "\n",
       "                                               attribute  \\\n",
       "67941  ID=CNC06490;description=Rho GTPase activator%2...   \n",
       "67942  ID=CNC06490-t26_1;Parent=CNC06490;description=...   \n",
       "67943          ID=exon_CNC06490-E6;Parent=CNC06490-t26_1   \n",
       "67944          ID=exon_CNC06490-E5;Parent=CNC06490-t26_1   \n",
       "67945          ID=exon_CNC06490-E4;Parent=CNC06490-t26_1   \n",
       "67946          ID=exon_CNC06490-E3;Parent=CNC06490-t26_1   \n",
       "67947          ID=exon_CNC06490-E2;Parent=CNC06490-t26_1   \n",
       "67948          ID=exon_CNC06490-E1;Parent=CNC06490-t26_1   \n",
       "67949  ID=CNC06490-t26_1-p1-CDS5;Parent=CNC06490-t26_...   \n",
       "67950  ID=CNC06490-t26_1-p1-CDS4;Parent=CNC06490-t26_...   \n",
       "67951  ID=CNC06490-t26_1-p1-CDS3;Parent=CNC06490-t26_...   \n",
       "67952  ID=CNC06490-t26_1-p1-CDS2;Parent=CNC06490-t26_...   \n",
       "67953  ID=CNC06490-t26_1-p1-CDS1;Parent=CNC06490-t26_...   \n",
       "67954      ID=utr_CNC06490-t26_1_1;Parent=CNC06490-t26_1   \n",
       "67955      ID=utr_CNC06490-t26_1_2;Parent=CNC06490-t26_1   \n",
       "67956      ID=utr_CNC06490-t26_1_3;Parent=CNC06490-t26_1   \n",
       "\n",
       "                            description                      id  \n",
       "67941  Rho GTPase activator%2C putative                CNC06490  \n",
       "67942  Rho GTPase activator%2C putative          CNC06490-t26_1  \n",
       "67943                               NaN        exon_CNC06490-E6  \n",
       "67944                               NaN        exon_CNC06490-E5  \n",
       "67945                               NaN        exon_CNC06490-E4  \n",
       "67946                               NaN        exon_CNC06490-E3  \n",
       "67947                               NaN        exon_CNC06490-E2  \n",
       "67948                               NaN        exon_CNC06490-E1  \n",
       "67949                               NaN  CNC06490-t26_1-p1-CDS5  \n",
       "67950                               NaN  CNC06490-t26_1-p1-CDS4  \n",
       "67951                               NaN  CNC06490-t26_1-p1-CDS3  \n",
       "67952                               NaN  CNC06490-t26_1-p1-CDS2  \n",
       "67953                               NaN  CNC06490-t26_1-p1-CDS1  \n",
       "67954                               NaN    utr_CNC06490-t26_1_1  \n",
       "67955                               NaN    utr_CNC06490-t26_1_2  \n",
       "67956                               NaN    utr_CNC06490-t26_1_3  "
      ]
     },
     "execution_count": 7,
     "metadata": {},
     "output_type": "execute_result"
    }
   ],
   "source": [
    "gff[(gff.gene=='CNC06490')]"
   ]
  },
  {
   "cell_type": "code",
   "execution_count": 13,
   "metadata": {},
   "outputs": [
    {
     "data": {
      "text/plain": [
       "1894043"
      ]
     },
     "execution_count": 13,
     "metadata": {},
     "output_type": "execute_result"
    }
   ],
   "source": [
    "1896246-2203"
   ]
  },
  {
   "cell_type": "code",
   "execution_count": 8,
   "metadata": {},
   "outputs": [
    {
     "data": {
      "text/html": [
       "<div>\n",
       "<style scoped>\n",
       "    .dataframe tbody tr th:only-of-type {\n",
       "        vertical-align: middle;\n",
       "    }\n",
       "\n",
       "    .dataframe tbody tr th {\n",
       "        vertical-align: top;\n",
       "    }\n",
       "\n",
       "    .dataframe thead th {\n",
       "        text-align: right;\n",
       "    }\n",
       "</style>\n",
       "<table border=\"1\" class=\"dataframe\">\n",
       "  <thead>\n",
       "    <tr style=\"text-align: right;\">\n",
       "      <th></th>\n",
       "      <th>XL280a</th>\n",
       "      <th>XL280alpha</th>\n",
       "      <th>SS-A837</th>\n",
       "    </tr>\n",
       "  </thead>\n",
       "  <tbody>\n",
       "    <tr>\n",
       "      <th>27136</th>\n",
       "      <td>0.0</td>\n",
       "      <td>0.0</td>\n",
       "      <td>1.0</td>\n",
       "    </tr>\n",
       "  </tbody>\n",
       "</table>\n",
       "</div>"
      ],
      "text/plain": [
       "       XL280a  XL280alpha  SS-A837\n",
       "27136     0.0         0.0      1.0"
      ]
     },
     "execution_count": 8,
     "metadata": {},
     "output_type": "execute_result"
    }
   ],
   "source": [
    "## Check genotype in filtered data\n",
    "## Gather cnc06490 positions\n",
    "cnc06490_pos = np.arange(cnc06490.start.min()-1,\n",
    "                         cnc06490.end.min()+1)\n",
    "\n",
    "## Set list of parents \n",
    "parental_strains = ['XL280a','XL280alpha','SS-A837']\n",
    "\n",
    "## Show variants in CNC06490\n",
    "geno[(geno.Chrom=='Chr03') & (geno.Pos.isin(cnc06490_pos))\n",
    "    ][parental_strains]"
   ]
  },
  {
   "cell_type": "code",
   "execution_count": null,
   "metadata": {},
   "outputs": [],
   "source": [
    "CCC"
   ]
  },
  {
   "cell_type": "code",
   "execution_count": 11,
   "metadata": {},
   "outputs": [
    {
     "data": {
      "text/html": [
       "<div>\n",
       "<style scoped>\n",
       "    .dataframe tbody tr th:only-of-type {\n",
       "        vertical-align: middle;\n",
       "    }\n",
       "\n",
       "    .dataframe tbody tr th {\n",
       "        vertical-align: top;\n",
       "    }\n",
       "\n",
       "    .dataframe thead th {\n",
       "        text-align: right;\n",
       "    }\n",
       "</style>\n",
       "<table border=\"1\" class=\"dataframe\">\n",
       "  <thead>\n",
       "    <tr style=\"text-align: right;\">\n",
       "      <th></th>\n",
       "      <th>Chrom</th>\n",
       "      <th>Pos</th>\n",
       "      <th>Qual</th>\n",
       "      <th>Callrate</th>\n",
       "      <th>Ref</th>\n",
       "      <th>Alt</th>\n",
       "      <th>Altlen</th>\n",
       "      <th>Dp</th>\n",
       "      <th>Type</th>\n",
       "      <th>Vcfix</th>\n",
       "      <th>...</th>\n",
       "      <th>SS-B598</th>\n",
       "      <th>SS-B565</th>\n",
       "      <th>SS-B600</th>\n",
       "      <th>SS-B574</th>\n",
       "      <th>SS-B872_cor</th>\n",
       "      <th>SS-B873_cor</th>\n",
       "      <th>SS-B360</th>\n",
       "      <th>SS-B397</th>\n",
       "      <th>SS-B564</th>\n",
       "      <th>SS-B382</th>\n",
       "    </tr>\n",
       "  </thead>\n",
       "  <tbody>\n",
       "    <tr>\n",
       "      <th>27136</th>\n",
       "      <td>Chr03</td>\n",
       "      <td>1895127</td>\n",
       "      <td>104186.0</td>\n",
       "      <td>1.0</td>\n",
       "      <td>GAG</td>\n",
       "      <td>GGG</td>\n",
       "      <td>1</td>\n",
       "      <td>8335</td>\n",
       "      <td>indel</td>\n",
       "      <td>57029</td>\n",
       "      <td>...</td>\n",
       "      <td>1.0</td>\n",
       "      <td>0.0</td>\n",
       "      <td>1.0</td>\n",
       "      <td>1.0</td>\n",
       "      <td>0.0</td>\n",
       "      <td>0.0</td>\n",
       "      <td>1.0</td>\n",
       "      <td>0.0</td>\n",
       "      <td>0.0</td>\n",
       "      <td>0.0</td>\n",
       "    </tr>\n",
       "  </tbody>\n",
       "</table>\n",
       "<p>1 rows × 125 columns</p>\n",
       "</div>"
      ],
      "text/plain": [
       "       Chrom      Pos      Qual  Callrate  Ref  Alt  Altlen    Dp   Type  \\\n",
       "27136  Chr03  1895127  104186.0       1.0  GAG  GGG       1  8335  indel   \n",
       "\n",
       "       Vcfix  ...  SS-B598  SS-B565  SS-B600  SS-B574  SS-B872_cor  \\\n",
       "27136  57029  ...      1.0      0.0      1.0      1.0          0.0   \n",
       "\n",
       "       SS-B873_cor  SS-B360  SS-B397  SS-B564  SS-B382  \n",
       "27136          0.0      1.0      0.0      0.0      0.0  \n",
       "\n",
       "[1 rows x 125 columns]"
      ]
     },
     "execution_count": 11,
     "metadata": {},
     "output_type": "execute_result"
    }
   ],
   "source": [
    "geno.loc[[27136]]"
   ]
  },
  {
   "cell_type": "code",
   "execution_count": 14,
   "metadata": {},
   "outputs": [
    {
     "data": {
      "text/plain": [
       "1119"
      ]
     },
     "execution_count": 14,
     "metadata": {},
     "output_type": "execute_result"
    }
   ],
   "source": [
    "1896246 - 1895127"
   ]
  },
  {
   "cell_type": "code",
   "execution_count": 15,
   "metadata": {},
   "outputs": [
    {
     "data": {
      "text/plain": [
       "1894581"
      ]
     },
     "execution_count": 15,
     "metadata": {},
     "output_type": "execute_result"
    }
   ],
   "source": [
    "1895700 - 1119"
   ]
  },
  {
   "cell_type": "code",
   "execution_count": 5,
   "metadata": {},
   "outputs": [
    {
     "ename": "KeyboardInterrupt",
     "evalue": "",
     "output_type": "error",
     "traceback": [
      "\u001b[0;31m---------------------------------------------------------------------------\u001b[0m",
      "\u001b[0;31mKeyboardInterrupt\u001b[0m                         Traceback (most recent call last)",
      "\u001b[0;32m<ipython-input-5-7b938ab7efce>\u001b[0m in \u001b[0;36m<module>\u001b[0;34m\u001b[0m\n\u001b[1;32m      4\u001b[0m \u001b[0;34m\u001b[0m\u001b[0m\n\u001b[1;32m      5\u001b[0m \u001b[0;31m## Load in vcf using my vcf ftns\u001b[0m\u001b[0;34m\u001b[0m\u001b[0;34m\u001b[0m\u001b[0;34m\u001b[0m\u001b[0m\n\u001b[0;32m----> 6\u001b[0;31m \u001b[0minfo\u001b[0m\u001b[0;34m,\u001b[0m\u001b[0mgts\u001b[0m\u001b[0;34m,\u001b[0m\u001b[0mdps\u001b[0m\u001b[0;34m,\u001b[0m\u001b[0mars\u001b[0m \u001b[0;34m=\u001b[0m \u001b[0mvcf\u001b[0m\u001b[0;34m.\u001b[0m\u001b[0mvcftodf\u001b[0m\u001b[0;34m(\u001b[0m\u001b[0mvp\u001b[0m\u001b[0;34m)\u001b[0m\u001b[0;34m\u001b[0m\u001b[0;34m\u001b[0m\u001b[0m\n\u001b[0m\u001b[1;32m      7\u001b[0m \u001b[0;34m\u001b[0m\u001b[0m\n\u001b[1;32m      8\u001b[0m \u001b[0;31m## Check shape, # of variants and samples\u001b[0m\u001b[0;34m\u001b[0m\u001b[0;34m\u001b[0m\u001b[0;34m\u001b[0m\u001b[0m\n",
      "\u001b[0;32m~/QTL-functions/SCRIPTS/vcffunctions.py\u001b[0m in \u001b[0;36mvcftodf\u001b[0;34m(recs, colix, drop, Fields)\u001b[0m\n\u001b[1;32m    165\u001b[0m     \u001b[0;31m## Gather records and or samples\u001b[0m\u001b[0;34m\u001b[0m\u001b[0;34m\u001b[0m\u001b[0;34m\u001b[0m\u001b[0m\n\u001b[1;32m    166\u001b[0m     \u001b[0;32mif\u001b[0m \u001b[0mtype\u001b[0m\u001b[0;34m(\u001b[0m\u001b[0mrecs\u001b[0m\u001b[0;34m)\u001b[0m \u001b[0;34m==\u001b[0m \u001b[0mstr\u001b[0m\u001b[0;34m:\u001b[0m\u001b[0;34m\u001b[0m\u001b[0;34m\u001b[0m\u001b[0m\n\u001b[0;32m--> 167\u001b[0;31m         \u001b[0msamples\u001b[0m\u001b[0;34m,\u001b[0m \u001b[0mrecs\u001b[0m \u001b[0;34m=\u001b[0m \u001b[0mreadvcf\u001b[0m\u001b[0;34m(\u001b[0m\u001b[0mrecs\u001b[0m\u001b[0;34m)\u001b[0m\u001b[0;34m\u001b[0m\u001b[0;34m\u001b[0m\u001b[0m\n\u001b[0m\u001b[1;32m    168\u001b[0m     \u001b[0;32melif\u001b[0m \u001b[0mtype\u001b[0m\u001b[0;34m(\u001b[0m\u001b[0mrecs\u001b[0m\u001b[0;34m)\u001b[0m \u001b[0;34m==\u001b[0m \u001b[0mlist\u001b[0m\u001b[0;34m:\u001b[0m\u001b[0;34m\u001b[0m\u001b[0;34m\u001b[0m\u001b[0m\n\u001b[1;32m    169\u001b[0m         \u001b[0msamples\u001b[0m \u001b[0;34m=\u001b[0m \u001b[0;34m[\u001b[0m\u001b[0ms\u001b[0m\u001b[0;34m.\u001b[0m\u001b[0msample\u001b[0m \u001b[0;32mfor\u001b[0m \u001b[0ms\u001b[0m \u001b[0;32min\u001b[0m \u001b[0mrecs\u001b[0m\u001b[0;34m[\u001b[0m\u001b[0;36m0\u001b[0m\u001b[0;34m]\u001b[0m\u001b[0;34m]\u001b[0m\u001b[0;34m\u001b[0m\u001b[0;34m\u001b[0m\u001b[0m\n",
      "\u001b[0;32m~/QTL-functions/SCRIPTS/vcffunctions.py\u001b[0m in \u001b[0;36mreadvcf\u001b[0;34m(vcfpath)\u001b[0m\n\u001b[1;32m     16\u001b[0m     \u001b[0mrdr\u001b[0m \u001b[0;34m=\u001b[0m \u001b[0mvcfpy\u001b[0m\u001b[0;34m.\u001b[0m\u001b[0mReader\u001b[0m\u001b[0;34m.\u001b[0m\u001b[0mfrom_path\u001b[0m\u001b[0;34m(\u001b[0m\u001b[0mvcfpath\u001b[0m\u001b[0;34m)\u001b[0m\u001b[0;34m\u001b[0m\u001b[0;34m\u001b[0m\u001b[0m\n\u001b[1;32m     17\u001b[0m     \u001b[0msamples\u001b[0m \u001b[0;34m=\u001b[0m \u001b[0mrdr\u001b[0m\u001b[0;34m.\u001b[0m\u001b[0mheader\u001b[0m\u001b[0;34m.\u001b[0m\u001b[0msamples\u001b[0m\u001b[0;34m.\u001b[0m\u001b[0mnames\u001b[0m\u001b[0;34m\u001b[0m\u001b[0;34m\u001b[0m\u001b[0m\n\u001b[0;32m---> 18\u001b[0;31m     \u001b[0;32mreturn\u001b[0m \u001b[0msamples\u001b[0m\u001b[0;34m,\u001b[0m\u001b[0;34m[\u001b[0m\u001b[0mrec\u001b[0m \u001b[0;32mfor\u001b[0m \u001b[0mrec\u001b[0m \u001b[0;32min\u001b[0m \u001b[0mrdr\u001b[0m\u001b[0;34m]\u001b[0m\u001b[0;34m\u001b[0m\u001b[0;34m\u001b[0m\u001b[0m\n\u001b[0m\u001b[1;32m     19\u001b[0m \u001b[0;34m\u001b[0m\u001b[0m\n\u001b[1;32m     20\u001b[0m \u001b[0;34m\u001b[0m\u001b[0m\n",
      "\u001b[0;32m~/QTL-functions/SCRIPTS/vcffunctions.py\u001b[0m in \u001b[0;36m<listcomp>\u001b[0;34m(.0)\u001b[0m\n\u001b[1;32m     16\u001b[0m     \u001b[0mrdr\u001b[0m \u001b[0;34m=\u001b[0m \u001b[0mvcfpy\u001b[0m\u001b[0;34m.\u001b[0m\u001b[0mReader\u001b[0m\u001b[0;34m.\u001b[0m\u001b[0mfrom_path\u001b[0m\u001b[0;34m(\u001b[0m\u001b[0mvcfpath\u001b[0m\u001b[0;34m)\u001b[0m\u001b[0;34m\u001b[0m\u001b[0;34m\u001b[0m\u001b[0m\n\u001b[1;32m     17\u001b[0m     \u001b[0msamples\u001b[0m \u001b[0;34m=\u001b[0m \u001b[0mrdr\u001b[0m\u001b[0;34m.\u001b[0m\u001b[0mheader\u001b[0m\u001b[0;34m.\u001b[0m\u001b[0msamples\u001b[0m\u001b[0;34m.\u001b[0m\u001b[0mnames\u001b[0m\u001b[0;34m\u001b[0m\u001b[0;34m\u001b[0m\u001b[0m\n\u001b[0;32m---> 18\u001b[0;31m     \u001b[0;32mreturn\u001b[0m \u001b[0msamples\u001b[0m\u001b[0;34m,\u001b[0m\u001b[0;34m[\u001b[0m\u001b[0mrec\u001b[0m \u001b[0;32mfor\u001b[0m \u001b[0mrec\u001b[0m \u001b[0;32min\u001b[0m \u001b[0mrdr\u001b[0m\u001b[0;34m]\u001b[0m\u001b[0;34m\u001b[0m\u001b[0;34m\u001b[0m\u001b[0m\n\u001b[0m\u001b[1;32m     19\u001b[0m \u001b[0;34m\u001b[0m\u001b[0m\n\u001b[1;32m     20\u001b[0m \u001b[0;34m\u001b[0m\u001b[0m\n",
      "\u001b[0;32m~/anaconda3/lib/python3.7/site-packages/vcfpy/reader.py\u001b[0m in \u001b[0;36m__next__\u001b[0;34m(self)\u001b[0m\n\u001b[1;32m    173\u001b[0m             \u001b[0;32mreturn\u001b[0m \u001b[0mself\u001b[0m\u001b[0;34m.\u001b[0m\u001b[0mparser\u001b[0m\u001b[0;34m.\u001b[0m\u001b[0mparse_line\u001b[0m\u001b[0;34m(\u001b[0m\u001b[0mstr\u001b[0m\u001b[0;34m(\u001b[0m\u001b[0mnext\u001b[0m\u001b[0;34m(\u001b[0m\u001b[0mself\u001b[0m\u001b[0;34m.\u001b[0m\u001b[0mtabix_iter\u001b[0m\u001b[0;34m)\u001b[0m\u001b[0;34m)\u001b[0m\u001b[0;34m)\u001b[0m\u001b[0;34m\u001b[0m\u001b[0;34m\u001b[0m\u001b[0m\n\u001b[1;32m    174\u001b[0m         \u001b[0;32melse\u001b[0m\u001b[0;34m:\u001b[0m\u001b[0;34m\u001b[0m\u001b[0;34m\u001b[0m\u001b[0m\n\u001b[0;32m--> 175\u001b[0;31m             \u001b[0mresult\u001b[0m \u001b[0;34m=\u001b[0m \u001b[0mself\u001b[0m\u001b[0;34m.\u001b[0m\u001b[0mparser\u001b[0m\u001b[0;34m.\u001b[0m\u001b[0mparse_next_record\u001b[0m\u001b[0;34m(\u001b[0m\u001b[0;34m)\u001b[0m\u001b[0;34m\u001b[0m\u001b[0;34m\u001b[0m\u001b[0m\n\u001b[0m\u001b[1;32m    176\u001b[0m             \u001b[0;32mif\u001b[0m \u001b[0mresult\u001b[0m \u001b[0;32mis\u001b[0m \u001b[0;32mNone\u001b[0m\u001b[0;34m:\u001b[0m\u001b[0;34m\u001b[0m\u001b[0;34m\u001b[0m\u001b[0m\n\u001b[1;32m    177\u001b[0m                 \u001b[0;32mraise\u001b[0m \u001b[0mStopIteration\u001b[0m\u001b[0;34m(\u001b[0m\u001b[0;34m)\u001b[0m\u001b[0;34m\u001b[0m\u001b[0;34m\u001b[0m\u001b[0m\n",
      "\u001b[0;32m~/anaconda3/lib/python3.7/site-packages/vcfpy/parser.py\u001b[0m in \u001b[0;36mparse_next_record\u001b[0;34m(self)\u001b[0m\n\u001b[1;32m    800\u001b[0m             \u001b[0mproblems\u001b[0m \u001b[0mreading\u001b[0m \u001b[0mthe\u001b[0m \u001b[0mrecord\u001b[0m\u001b[0;34m\u001b[0m\u001b[0;34m\u001b[0m\u001b[0m\n\u001b[1;32m    801\u001b[0m         \"\"\"\n\u001b[0;32m--> 802\u001b[0;31m         \u001b[0;32mreturn\u001b[0m \u001b[0mself\u001b[0m\u001b[0;34m.\u001b[0m\u001b[0mparse_line\u001b[0m\u001b[0;34m(\u001b[0m\u001b[0mself\u001b[0m\u001b[0;34m.\u001b[0m\u001b[0m_read_next_line\u001b[0m\u001b[0;34m(\u001b[0m\u001b[0;34m)\u001b[0m\u001b[0;34m)\u001b[0m\u001b[0;34m\u001b[0m\u001b[0;34m\u001b[0m\u001b[0m\n\u001b[0m\u001b[1;32m    803\u001b[0m \u001b[0;34m\u001b[0m\u001b[0m\n\u001b[1;32m    804\u001b[0m     \u001b[0;32mdef\u001b[0m \u001b[0mprint_warn_summary\u001b[0m\u001b[0;34m(\u001b[0m\u001b[0mself\u001b[0m\u001b[0;34m)\u001b[0m\u001b[0;34m:\u001b[0m\u001b[0;34m\u001b[0m\u001b[0;34m\u001b[0m\u001b[0m\n",
      "\u001b[0;32m~/anaconda3/lib/python3.7/site-packages/vcfpy/parser.py\u001b[0m in \u001b[0;36mparse_line\u001b[0;34m(self, line)\u001b[0m\n\u001b[1;32m    791\u001b[0m     \u001b[0;32mdef\u001b[0m \u001b[0mparse_line\u001b[0m\u001b[0;34m(\u001b[0m\u001b[0mself\u001b[0m\u001b[0;34m,\u001b[0m \u001b[0mline\u001b[0m\u001b[0;34m)\u001b[0m\u001b[0;34m:\u001b[0m\u001b[0;34m\u001b[0m\u001b[0;34m\u001b[0m\u001b[0m\n\u001b[1;32m    792\u001b[0m         \u001b[0;34m\"\"\"Pare the given line without reading another one from the stream\"\"\"\u001b[0m\u001b[0;34m\u001b[0m\u001b[0;34m\u001b[0m\u001b[0m\n\u001b[0;32m--> 793\u001b[0;31m         \u001b[0;32mreturn\u001b[0m \u001b[0mself\u001b[0m\u001b[0;34m.\u001b[0m\u001b[0m_record_parser\u001b[0m\u001b[0;34m.\u001b[0m\u001b[0mparse_line\u001b[0m\u001b[0;34m(\u001b[0m\u001b[0mline\u001b[0m\u001b[0;34m)\u001b[0m\u001b[0;34m\u001b[0m\u001b[0;34m\u001b[0m\u001b[0m\n\u001b[0m\u001b[1;32m    794\u001b[0m \u001b[0;34m\u001b[0m\u001b[0m\n\u001b[1;32m    795\u001b[0m     \u001b[0;32mdef\u001b[0m \u001b[0mparse_next_record\u001b[0m\u001b[0;34m(\u001b[0m\u001b[0mself\u001b[0m\u001b[0;34m)\u001b[0m\u001b[0;34m:\u001b[0m\u001b[0;34m\u001b[0m\u001b[0;34m\u001b[0m\u001b[0m\n",
      "\u001b[0;32m~/anaconda3/lib/python3.7/site-packages/vcfpy/parser.py\u001b[0m in \u001b[0;36mparse_line\u001b[0;34m(self, line_str)\u001b[0m\n\u001b[1;32m    465\u001b[0m             \u001b[0mformat_\u001b[0m \u001b[0;34m=\u001b[0m \u001b[0marr\u001b[0m\u001b[0;34m[\u001b[0m\u001b[0;36m8\u001b[0m\u001b[0;34m]\u001b[0m\u001b[0;34m.\u001b[0m\u001b[0msplit\u001b[0m\u001b[0;34m(\u001b[0m\u001b[0;34m\":\"\u001b[0m\u001b[0;34m)\u001b[0m\u001b[0;34m\u001b[0m\u001b[0;34m\u001b[0m\u001b[0m\n\u001b[1;32m    466\u001b[0m             \u001b[0;31m# sample/call columns\u001b[0m\u001b[0;34m\u001b[0m\u001b[0;34m\u001b[0m\u001b[0;34m\u001b[0m\u001b[0m\n\u001b[0;32m--> 467\u001b[0;31m             \u001b[0mcalls\u001b[0m \u001b[0;34m=\u001b[0m \u001b[0mself\u001b[0m\u001b[0;34m.\u001b[0m\u001b[0m_handle_calls\u001b[0m\u001b[0;34m(\u001b[0m\u001b[0malts\u001b[0m\u001b[0;34m,\u001b[0m \u001b[0mformat_\u001b[0m\u001b[0;34m,\u001b[0m \u001b[0marr\u001b[0m\u001b[0;34m[\u001b[0m\u001b[0;36m8\u001b[0m\u001b[0;34m]\u001b[0m\u001b[0;34m,\u001b[0m \u001b[0marr\u001b[0m\u001b[0;34m)\u001b[0m\u001b[0;34m\u001b[0m\u001b[0;34m\u001b[0m\u001b[0m\n\u001b[0m\u001b[1;32m    468\u001b[0m         \u001b[0;32mreturn\u001b[0m \u001b[0mrecord\u001b[0m\u001b[0;34m.\u001b[0m\u001b[0mRecord\u001b[0m\u001b[0;34m(\u001b[0m\u001b[0mchrom\u001b[0m\u001b[0;34m,\u001b[0m \u001b[0mpos\u001b[0m\u001b[0;34m,\u001b[0m \u001b[0mids\u001b[0m\u001b[0;34m,\u001b[0m \u001b[0mref\u001b[0m\u001b[0;34m,\u001b[0m \u001b[0malts\u001b[0m\u001b[0;34m,\u001b[0m \u001b[0mqual\u001b[0m\u001b[0;34m,\u001b[0m \u001b[0mfilt\u001b[0m\u001b[0;34m,\u001b[0m \u001b[0minfo\u001b[0m\u001b[0;34m,\u001b[0m \u001b[0mformat_\u001b[0m\u001b[0;34m,\u001b[0m \u001b[0mcalls\u001b[0m\u001b[0;34m)\u001b[0m\u001b[0;34m\u001b[0m\u001b[0;34m\u001b[0m\u001b[0m\n\u001b[1;32m    469\u001b[0m \u001b[0;34m\u001b[0m\u001b[0m\n",
      "\u001b[0;32m~/anaconda3/lib/python3.7/site-packages/vcfpy/parser.py\u001b[0m in \u001b[0;36m_handle_calls\u001b[0;34m(self, alts, format_, format_str, arr)\u001b[0m\n\u001b[1;32m    476\u001b[0m         \u001b[0;32mfor\u001b[0m \u001b[0msample\u001b[0m\u001b[0;34m,\u001b[0m \u001b[0mraw_data\u001b[0m \u001b[0;32min\u001b[0m \u001b[0mzip\u001b[0m\u001b[0;34m(\u001b[0m\u001b[0mself\u001b[0m\u001b[0;34m.\u001b[0m\u001b[0msamples\u001b[0m\u001b[0;34m.\u001b[0m\u001b[0mnames\u001b[0m\u001b[0;34m,\u001b[0m \u001b[0marr\u001b[0m\u001b[0;34m[\u001b[0m\u001b[0;36m9\u001b[0m\u001b[0;34m:\u001b[0m\u001b[0;34m]\u001b[0m\u001b[0;34m)\u001b[0m\u001b[0;34m:\u001b[0m\u001b[0;34m\u001b[0m\u001b[0;34m\u001b[0m\u001b[0m\n\u001b[1;32m    477\u001b[0m             \u001b[0;32mif\u001b[0m \u001b[0mself\u001b[0m\u001b[0;34m.\u001b[0m\u001b[0msamples\u001b[0m\u001b[0;34m.\u001b[0m\u001b[0mis_parsed\u001b[0m\u001b[0;34m(\u001b[0m\u001b[0msample\u001b[0m\u001b[0;34m)\u001b[0m\u001b[0;34m:\u001b[0m\u001b[0;34m\u001b[0m\u001b[0;34m\u001b[0m\u001b[0m\n\u001b[0;32m--> 478\u001b[0;31m                 \u001b[0mdata\u001b[0m \u001b[0;34m=\u001b[0m \u001b[0mself\u001b[0m\u001b[0;34m.\u001b[0m\u001b[0m_parse_calls_data\u001b[0m\u001b[0;34m(\u001b[0m\u001b[0mformat_\u001b[0m\u001b[0;34m,\u001b[0m \u001b[0mself\u001b[0m\u001b[0;34m.\u001b[0m\u001b[0m_format_cache\u001b[0m\u001b[0;34m[\u001b[0m\u001b[0mformat_str\u001b[0m\u001b[0;34m]\u001b[0m\u001b[0;34m,\u001b[0m \u001b[0mraw_data\u001b[0m\u001b[0;34m)\u001b[0m\u001b[0;34m\u001b[0m\u001b[0;34m\u001b[0m\u001b[0m\n\u001b[0m\u001b[1;32m    479\u001b[0m                 \u001b[0mcall\u001b[0m \u001b[0;34m=\u001b[0m \u001b[0mrecord\u001b[0m\u001b[0;34m.\u001b[0m\u001b[0mCall\u001b[0m\u001b[0;34m(\u001b[0m\u001b[0msample\u001b[0m\u001b[0;34m,\u001b[0m \u001b[0mdata\u001b[0m\u001b[0;34m)\u001b[0m\u001b[0;34m\u001b[0m\u001b[0;34m\u001b[0m\u001b[0m\n\u001b[1;32m    480\u001b[0m                 \u001b[0mself\u001b[0m\u001b[0;34m.\u001b[0m\u001b[0m_format_checker\u001b[0m\u001b[0;34m.\u001b[0m\u001b[0mrun\u001b[0m\u001b[0;34m(\u001b[0m\u001b[0mcall\u001b[0m\u001b[0;34m,\u001b[0m \u001b[0mlen\u001b[0m\u001b[0;34m(\u001b[0m\u001b[0malts\u001b[0m\u001b[0;34m)\u001b[0m\u001b[0;34m)\u001b[0m\u001b[0;34m\u001b[0m\u001b[0;34m\u001b[0m\u001b[0m\n",
      "\u001b[0;32m~/anaconda3/lib/python3.7/site-packages/vcfpy/parser.py\u001b[0m in \u001b[0;36m_parse_calls_data\u001b[0;34m(klass, format_, infos, gt_str)\u001b[0m\n\u001b[1;32m    552\u001b[0m         \u001b[0;31m# programs follow this\u001b[0m\u001b[0;34m\u001b[0m\u001b[0;34m\u001b[0m\u001b[0;34m\u001b[0m\u001b[0m\n\u001b[1;32m    553\u001b[0m         \u001b[0;32mfor\u001b[0m \u001b[0mkey\u001b[0m\u001b[0;34m,\u001b[0m \u001b[0minfo\u001b[0m\u001b[0;34m,\u001b[0m \u001b[0mvalue\u001b[0m \u001b[0;32min\u001b[0m \u001b[0mzip\u001b[0m\u001b[0;34m(\u001b[0m\u001b[0mformat_\u001b[0m\u001b[0;34m,\u001b[0m \u001b[0minfos\u001b[0m\u001b[0;34m,\u001b[0m \u001b[0mgt_str\u001b[0m\u001b[0;34m.\u001b[0m\u001b[0msplit\u001b[0m\u001b[0;34m(\u001b[0m\u001b[0;34m\":\"\u001b[0m\u001b[0;34m)\u001b[0m\u001b[0;34m)\u001b[0m\u001b[0;34m:\u001b[0m\u001b[0;34m\u001b[0m\u001b[0;34m\u001b[0m\u001b[0m\n\u001b[0;32m--> 554\u001b[0;31m             \u001b[0mdata\u001b[0m\u001b[0;34m[\u001b[0m\u001b[0mkey\u001b[0m\u001b[0;34m]\u001b[0m \u001b[0;34m=\u001b[0m \u001b[0mparse_field_value\u001b[0m\u001b[0;34m(\u001b[0m\u001b[0minfo\u001b[0m\u001b[0;34m,\u001b[0m \u001b[0mvalue\u001b[0m\u001b[0;34m)\u001b[0m\u001b[0;34m\u001b[0m\u001b[0;34m\u001b[0m\u001b[0m\n\u001b[0m\u001b[1;32m    555\u001b[0m         \u001b[0;32mreturn\u001b[0m \u001b[0mdata\u001b[0m\u001b[0;34m\u001b[0m\u001b[0;34m\u001b[0m\u001b[0m\n\u001b[1;32m    556\u001b[0m \u001b[0;34m\u001b[0m\u001b[0m\n",
      "\u001b[0;32m~/anaconda3/lib/python3.7/site-packages/vcfpy/parser.py\u001b[0m in \u001b[0;36mparse_field_value\u001b[0;34m(field_info, value)\u001b[0m\n\u001b[1;32m    269\u001b[0m             \u001b[0;32mreturn\u001b[0m \u001b[0;34m[\u001b[0m\u001b[0;34m]\u001b[0m\u001b[0;34m\u001b[0m\u001b[0;34m\u001b[0m\u001b[0m\n\u001b[1;32m    270\u001b[0m         \u001b[0;32melse\u001b[0m\u001b[0;34m:\u001b[0m\u001b[0;34m\u001b[0m\u001b[0;34m\u001b[0m\u001b[0m\n\u001b[0;32m--> 271\u001b[0;31m             \u001b[0;32mreturn\u001b[0m \u001b[0;34m[\u001b[0m\u001b[0mconvert_field_value\u001b[0m\u001b[0;34m(\u001b[0m\u001b[0mfield_info\u001b[0m\u001b[0;34m.\u001b[0m\u001b[0mtype\u001b[0m\u001b[0;34m,\u001b[0m \u001b[0mx\u001b[0m\u001b[0;34m)\u001b[0m \u001b[0;32mfor\u001b[0m \u001b[0mx\u001b[0m \u001b[0;32min\u001b[0m \u001b[0mvalue\u001b[0m\u001b[0;34m.\u001b[0m\u001b[0msplit\u001b[0m\u001b[0;34m(\u001b[0m\u001b[0;34m\",\"\u001b[0m\u001b[0;34m)\u001b[0m\u001b[0;34m]\u001b[0m\u001b[0;34m\u001b[0m\u001b[0;34m\u001b[0m\u001b[0m\n\u001b[0m\u001b[1;32m    272\u001b[0m \u001b[0;34m\u001b[0m\u001b[0m\n\u001b[1;32m    273\u001b[0m \u001b[0;34m\u001b[0m\u001b[0m\n",
      "\u001b[0;31mKeyboardInterrupt\u001b[0m: "
     ]
    }
   ],
   "source": [
    "## Load in variants on chromosome 3 from raw VCF\n",
    "## Set path to vcf\n",
    "vp = '/home/croth/crypto-QTL-paper/DATA/GENOTYPE/CDX_illumina_vcf/DNX-Chr03-xl280genome-127.vcf.gz'\n",
    "\n",
    "## Load in vcf using my vcf ftns\n",
    "info,gts,dps,ars = vcf.vcftodf(vp)\n",
    "\n",
    "## Check shape, # of variants and samples\n",
    "gts.shape"
   ]
  },
  {
   "cell_type": "code",
   "execution_count": null,
   "metadata": {},
   "outputs": [],
   "source": [
    "## Gather parents strain names\n",
    "## Set parent strain sub names\n",
    "subnames = ['A837','A853','B830']\n",
    "\n",
    "## Gather sample names in vcf and print \n",
    "parents = sorted([s for s in gts.columns if s.split('-')[1] in subnames])\n",
    "parents"
   ]
  },
  {
   "cell_type": "code",
   "execution_count": null,
   "metadata": {},
   "outputs": [],
   "source": [
    "## Gather index to any variants in CNC06490\n",
    "varix = info[(info.Pos.isin(cnc06490_pos))].index.values\n",
    "\n",
    "## View any variants in the info dataframe\n",
    "info[(info.Pos.isin(cnc06490_pos))]"
   ]
  },
  {
   "cell_type": "code",
   "execution_count": null,
   "metadata": {},
   "outputs": [],
   "source": [
    "## We can see one variant above a SNP at 1895127\n",
    "## Check genotypes at this variant for parents\n",
    "gts.loc[varix][parents]"
   ]
  },
  {
   "cell_type": "code",
   "execution_count": null,
   "metadata": {},
   "outputs": [],
   "source": [
    "len(cnc06490_pos)-list(cnc06490_pos).index(1894127)"
   ]
  },
  {
   "cell_type": "code",
   "execution_count": null,
   "metadata": {},
   "outputs": [],
   "source": []
  },
  {
   "cell_type": "code",
   "execution_count": 26,
   "metadata": {},
   "outputs": [
    {
     "data": {
      "text/plain": [
       "2105722"
      ]
     },
     "execution_count": 26,
     "metadata": {},
     "output_type": "execute_result"
    }
   ],
   "source": [
    "## Set referance path\n",
    "refpath = '/home/croth/xl280genome.fasta'\n",
    "\n",
    "## parse referance\n",
    "seqs = SeqIO.parse(refpath,format=refpath.split('.')[-1])\n",
    "\n",
    "## Gather chromosome 3\n",
    "chr3ref = [s for s in seqs if s.id =='Chr03'][0].seq\n",
    "\n",
    "## print len\n",
    "len(chr3ref)"
   ]
  },
  {
   "cell_type": "code",
   "execution_count": 36,
   "metadata": {},
   "outputs": [],
   "source": [
    "#str(chr3ref[cnc06490_pos[1]:cnc06490_pos[-1]].reverse_complement())"
   ]
  },
  {
   "cell_type": "code",
   "execution_count": null,
   "metadata": {},
   "outputs": [],
   "source": []
  },
  {
   "cell_type": "code",
   "execution_count": null,
   "metadata": {},
   "outputs": [],
   "source": []
  }
 ],
 "metadata": {
  "kernelspec": {
   "display_name": "Python 3",
   "language": "python",
   "name": "python3"
  },
  "language_info": {
   "codemirror_mode": {
    "name": "ipython",
    "version": 3
   },
   "file_extension": ".py",
   "mimetype": "text/x-python",
   "name": "python",
   "nbconvert_exporter": "python",
   "pygments_lexer": "ipython3",
   "version": "3.7.3"
  }
 },
 "nbformat": 4,
 "nbformat_minor": 4
}
