{
 "cells": [
  {
   "cell_type": "code",
   "execution_count": 11,
   "metadata": {},
   "outputs": [],
   "source": [
    "import numpy as np, pandas as pd, glob\n",
    "from matplotlib import pyplot as plt\n",
    "%matplotlib inline"
   ]
  },
  {
   "cell_type": "code",
   "execution_count": 20,
   "metadata": {},
   "outputs": [],
   "source": [
    "gtpath = '/home/croth/Downloads/B3502/GENOTYPE/GT/AE017*_genotypes.csv.gz'\n",
    "dppath = '/home/croth/Downloads/B3502/GENOTYPE/DP/AE017*_depths.csv.gz'\n",
    "inpath = '/home/croth/Downloads/B3502/GENOTYPE/INFO/AE017*_info_cols.csv.gz'\n",
    "rapath = '/home/croth/Downloads/B3502/GENOTYPE/AF/AE017*_allele_ratios.csv.gz'\n",
    "\n",
    "geno_path = sorted(glob.glob(gtpath))\n",
    "dept_path = sorted(glob.glob(dppath))\n",
    "info_path = sorted(glob.glob(inpath))\n",
    "rati_path = sorted(glob.glob(rapath))\n",
    "\n",
    "## Define ftn for loading dataframes\n",
    "def makedf(paths,sep='_',fn = 1):\n",
    "    df = []\n",
    "    for d in paths:\n",
    "        \n",
    "        temp = pd.read_csv(d,index_col=0)\n",
    "        temp['Chrom'] = int(d.split(sep)[fn])\n",
    "        temp['Oldix'] = temp.index\n",
    "        df.append(temp)\n",
    "        \n",
    "    return pd.concat(df).reset_index(drop=True)"
   ]
  },
  {
   "cell_type": "code",
   "execution_count": 21,
   "metadata": {},
   "outputs": [],
   "source": [
    "geno = makedf(geno_path)"
   ]
  },
  {
   "cell_type": "code",
   "execution_count": 14,
   "metadata": {},
   "outputs": [],
   "source": [
    "samples = ['Stock1','Stock3','Stock4','CF830']"
   ]
  },
  {
   "cell_type": "code",
   "execution_count": 15,
   "metadata": {},
   "outputs": [
    {
     "data": {
      "text/plain": [
       "118634"
      ]
     },
     "execution_count": 15,
     "metadata": {},
     "output_type": "execute_result"
    }
   ],
   "source": [
    "indifix = (geno[samples].sum(axis=1) == 0)\n",
    "np.sum(indifix)"
   ]
  },
  {
   "cell_type": "code",
   "execution_count": 16,
   "metadata": {},
   "outputs": [
    {
     "data": {
      "text/plain": [
       "290"
      ]
     },
     "execution_count": 16,
     "metadata": {},
     "output_type": "execute_result"
    }
   ],
   "source": [
    "refdif = (geno[samples].sum(axis=1)==len(samples))\n",
    "np.sum(refdif)"
   ]
  },
  {
   "cell_type": "code",
   "execution_count": 17,
   "metadata": {},
   "outputs": [],
   "source": [
    "checkdif = geno[(~indifix) & (~refdif)].index"
   ]
  },
  {
   "cell_type": "code",
   "execution_count": 18,
   "metadata": {},
   "outputs": [],
   "source": [
    "depth = makedf(dept_path)"
   ]
  },
  {
   "cell_type": "code",
   "execution_count": 19,
   "metadata": {},
   "outputs": [],
   "source": [
    "covx = 10\n",
    "covixdif = depth[(depth[samples].T.min() >= covx) & \n",
    "                 (depth.index.isin(checkdif))]"
   ]
  },
  {
   "cell_type": "code",
   "execution_count": 10,
   "metadata": {},
   "outputs": [],
   "source": [
    "ratio = makedf(rati_path)"
   ]
  },
  {
   "cell_type": "code",
   "execution_count": 11,
   "metadata": {},
   "outputs": [
    {
     "data": {
      "text/plain": [
       "2155"
      ]
     },
     "execution_count": 11,
     "metadata": {},
     "output_type": "execute_result"
    }
   ],
   "source": [
    "ratx = 0.8\n",
    "checkpass = ratio[(ratio[samples].T.min() >= ratx) & \n",
    "                  (ratio.index.isin(covixdif.index))].index\n",
    "len(checkpass)"
   ]
  },
  {
   "cell_type": "code",
   "execution_count": 12,
   "metadata": {},
   "outputs": [
    {
     "data": {
      "text/html": [
       "<div>\n",
       "<style scoped>\n",
       "    .dataframe tbody tr th:only-of-type {\n",
       "        vertical-align: middle;\n",
       "    }\n",
       "\n",
       "    .dataframe tbody tr th {\n",
       "        vertical-align: top;\n",
       "    }\n",
       "\n",
       "    .dataframe thead th {\n",
       "        text-align: right;\n",
       "    }\n",
       "</style>\n",
       "<table border=\"1\" class=\"dataframe\">\n",
       "  <thead>\n",
       "    <tr style=\"text-align: right;\">\n",
       "      <th></th>\n",
       "      <th>CF830</th>\n",
       "      <th>JEC21</th>\n",
       "      <th>JEC20</th>\n",
       "      <th>Stock7</th>\n",
       "      <th>Stock6</th>\n",
       "      <th>Stock1</th>\n",
       "      <th>Stock3</th>\n",
       "      <th>Stock5</th>\n",
       "      <th>Stock2</th>\n",
       "      <th>Stock4</th>\n",
       "      <th>Chrom</th>\n",
       "      <th>Oldix</th>\n",
       "    </tr>\n",
       "  </thead>\n",
       "  <tbody>\n",
       "    <tr>\n",
       "      <th>2935</th>\n",
       "      <td>1.0</td>\n",
       "      <td>1.0</td>\n",
       "      <td>0.0</td>\n",
       "      <td>0.0</td>\n",
       "      <td>0.0</td>\n",
       "      <td>0.0</td>\n",
       "      <td>0.0</td>\n",
       "      <td>0.0</td>\n",
       "      <td>0.0</td>\n",
       "      <td>0.0</td>\n",
       "      <td>1</td>\n",
       "      <td>2935</td>\n",
       "    </tr>\n",
       "    <tr>\n",
       "      <th>4644</th>\n",
       "      <td>0.0</td>\n",
       "      <td>0.0</td>\n",
       "      <td>0.0</td>\n",
       "      <td>1.0</td>\n",
       "      <td>0.0</td>\n",
       "      <td>1.0</td>\n",
       "      <td>1.0</td>\n",
       "      <td>1.0</td>\n",
       "      <td>1.0</td>\n",
       "      <td>1.0</td>\n",
       "      <td>1</td>\n",
       "      <td>4644</td>\n",
       "    </tr>\n",
       "    <tr>\n",
       "      <th>5261</th>\n",
       "      <td>0.0</td>\n",
       "      <td>0.0</td>\n",
       "      <td>0.0</td>\n",
       "      <td>1.0</td>\n",
       "      <td>0.0</td>\n",
       "      <td>1.0</td>\n",
       "      <td>1.0</td>\n",
       "      <td>1.0</td>\n",
       "      <td>1.0</td>\n",
       "      <td>1.0</td>\n",
       "      <td>1</td>\n",
       "      <td>5261</td>\n",
       "    </tr>\n",
       "    <tr>\n",
       "      <th>7282</th>\n",
       "      <td>0.0</td>\n",
       "      <td>0.0</td>\n",
       "      <td>0.0</td>\n",
       "      <td>0.0</td>\n",
       "      <td>0.0</td>\n",
       "      <td>0.0</td>\n",
       "      <td>1.0</td>\n",
       "      <td>0.0</td>\n",
       "      <td>0.0</td>\n",
       "      <td>0.0</td>\n",
       "      <td>1</td>\n",
       "      <td>7282</td>\n",
       "    </tr>\n",
       "    <tr>\n",
       "      <th>8773</th>\n",
       "      <td>0.0</td>\n",
       "      <td>0.0</td>\n",
       "      <td>1.0</td>\n",
       "      <td>1.0</td>\n",
       "      <td>1.0</td>\n",
       "      <td>1.0</td>\n",
       "      <td>1.0</td>\n",
       "      <td>1.0</td>\n",
       "      <td>1.0</td>\n",
       "      <td>1.0</td>\n",
       "      <td>1</td>\n",
       "      <td>8773</td>\n",
       "    </tr>\n",
       "  </tbody>\n",
       "</table>\n",
       "</div>"
      ],
      "text/plain": [
       "      CF830  JEC21  JEC20  Stock7  Stock6  Stock1  Stock3  Stock5  Stock2  \\\n",
       "2935    1.0    1.0    0.0     0.0     0.0     0.0     0.0     0.0     0.0   \n",
       "4644    0.0    0.0    0.0     1.0     0.0     1.0     1.0     1.0     1.0   \n",
       "5261    0.0    0.0    0.0     1.0     0.0     1.0     1.0     1.0     1.0   \n",
       "7282    0.0    0.0    0.0     0.0     0.0     0.0     1.0     0.0     0.0   \n",
       "8773    0.0    0.0    1.0     1.0     1.0     1.0     1.0     1.0     1.0   \n",
       "\n",
       "      Stock4  Chrom  Oldix  \n",
       "2935     0.0      1   2935  \n",
       "4644     1.0      1   4644  \n",
       "5261     1.0      1   5261  \n",
       "7282     0.0      1   7282  \n",
       "8773     1.0      1   8773  "
      ]
     },
     "execution_count": 12,
     "metadata": {},
     "output_type": "execute_result"
    }
   ],
   "source": [
    "geno[(geno.index.isin(checkpass))].head()"
   ]
  },
  {
   "cell_type": "code",
   "execution_count": 13,
   "metadata": {},
   "outputs": [
    {
     "data": {
      "text/html": [
       "<div>\n",
       "<style scoped>\n",
       "    .dataframe tbody tr th:only-of-type {\n",
       "        vertical-align: middle;\n",
       "    }\n",
       "\n",
       "    .dataframe tbody tr th {\n",
       "        vertical-align: top;\n",
       "    }\n",
       "\n",
       "    .dataframe thead th {\n",
       "        text-align: right;\n",
       "    }\n",
       "</style>\n",
       "<table border=\"1\" class=\"dataframe\">\n",
       "  <thead>\n",
       "    <tr style=\"text-align: right;\">\n",
       "      <th></th>\n",
       "      <th>CF830</th>\n",
       "      <th>JEC21</th>\n",
       "      <th>JEC20</th>\n",
       "      <th>Stock7</th>\n",
       "      <th>Stock6</th>\n",
       "      <th>Stock1</th>\n",
       "      <th>Stock3</th>\n",
       "      <th>Stock5</th>\n",
       "      <th>Stock2</th>\n",
       "      <th>Stock4</th>\n",
       "      <th>Chrom</th>\n",
       "      <th>Oldix</th>\n",
       "    </tr>\n",
       "  </thead>\n",
       "  <tbody>\n",
       "    <tr>\n",
       "      <th>2935</th>\n",
       "      <td>231.0</td>\n",
       "      <td>251.0</td>\n",
       "      <td>273.0</td>\n",
       "      <td>86.0</td>\n",
       "      <td>222.0</td>\n",
       "      <td>180.0</td>\n",
       "      <td>231.0</td>\n",
       "      <td>219.0</td>\n",
       "      <td>188.0</td>\n",
       "      <td>235.0</td>\n",
       "      <td>1</td>\n",
       "      <td>2935</td>\n",
       "    </tr>\n",
       "    <tr>\n",
       "      <th>4644</th>\n",
       "      <td>105.0</td>\n",
       "      <td>92.0</td>\n",
       "      <td>143.0</td>\n",
       "      <td>43.0</td>\n",
       "      <td>91.0</td>\n",
       "      <td>78.0</td>\n",
       "      <td>69.0</td>\n",
       "      <td>47.0</td>\n",
       "      <td>51.0</td>\n",
       "      <td>66.0</td>\n",
       "      <td>1</td>\n",
       "      <td>4644</td>\n",
       "    </tr>\n",
       "    <tr>\n",
       "      <th>5261</th>\n",
       "      <td>207.0</td>\n",
       "      <td>224.0</td>\n",
       "      <td>246.0</td>\n",
       "      <td>64.0</td>\n",
       "      <td>68.0</td>\n",
       "      <td>40.0</td>\n",
       "      <td>59.0</td>\n",
       "      <td>115.0</td>\n",
       "      <td>46.0</td>\n",
       "      <td>44.0</td>\n",
       "      <td>1</td>\n",
       "      <td>5261</td>\n",
       "    </tr>\n",
       "    <tr>\n",
       "      <th>7282</th>\n",
       "      <td>121.0</td>\n",
       "      <td>90.0</td>\n",
       "      <td>115.0</td>\n",
       "      <td>29.0</td>\n",
       "      <td>54.0</td>\n",
       "      <td>48.0</td>\n",
       "      <td>20.0</td>\n",
       "      <td>48.0</td>\n",
       "      <td>40.0</td>\n",
       "      <td>29.0</td>\n",
       "      <td>1</td>\n",
       "      <td>7282</td>\n",
       "    </tr>\n",
       "    <tr>\n",
       "      <th>8773</th>\n",
       "      <td>255.0</td>\n",
       "      <td>241.0</td>\n",
       "      <td>271.0</td>\n",
       "      <td>82.0</td>\n",
       "      <td>169.0</td>\n",
       "      <td>99.0</td>\n",
       "      <td>162.0</td>\n",
       "      <td>134.0</td>\n",
       "      <td>101.0</td>\n",
       "      <td>122.0</td>\n",
       "      <td>1</td>\n",
       "      <td>8773</td>\n",
       "    </tr>\n",
       "  </tbody>\n",
       "</table>\n",
       "</div>"
      ],
      "text/plain": [
       "      CF830  JEC21  JEC20  Stock7  Stock6  Stock1  Stock3  Stock5  Stock2  \\\n",
       "2935  231.0  251.0  273.0    86.0   222.0   180.0   231.0   219.0   188.0   \n",
       "4644  105.0   92.0  143.0    43.0    91.0    78.0    69.0    47.0    51.0   \n",
       "5261  207.0  224.0  246.0    64.0    68.0    40.0    59.0   115.0    46.0   \n",
       "7282  121.0   90.0  115.0    29.0    54.0    48.0    20.0    48.0    40.0   \n",
       "8773  255.0  241.0  271.0    82.0   169.0    99.0   162.0   134.0   101.0   \n",
       "\n",
       "      Stock4  Chrom  Oldix  \n",
       "2935   235.0      1   2935  \n",
       "4644    66.0      1   4644  \n",
       "5261    44.0      1   5261  \n",
       "7282    29.0      1   7282  \n",
       "8773   122.0      1   8773  "
      ]
     },
     "execution_count": 13,
     "metadata": {},
     "output_type": "execute_result"
    }
   ],
   "source": [
    "depth[(depth.index.isin(checkpass))].head()"
   ]
  },
  {
   "cell_type": "code",
   "execution_count": 14,
   "metadata": {},
   "outputs": [
    {
     "data": {
      "text/html": [
       "<div>\n",
       "<style scoped>\n",
       "    .dataframe tbody tr th:only-of-type {\n",
       "        vertical-align: middle;\n",
       "    }\n",
       "\n",
       "    .dataframe tbody tr th {\n",
       "        vertical-align: top;\n",
       "    }\n",
       "\n",
       "    .dataframe thead th {\n",
       "        text-align: right;\n",
       "    }\n",
       "</style>\n",
       "<table border=\"1\" class=\"dataframe\">\n",
       "  <thead>\n",
       "    <tr style=\"text-align: right;\">\n",
       "      <th></th>\n",
       "      <th>CF830</th>\n",
       "      <th>JEC21</th>\n",
       "      <th>JEC20</th>\n",
       "      <th>Stock7</th>\n",
       "      <th>Stock6</th>\n",
       "      <th>Stock1</th>\n",
       "      <th>Stock3</th>\n",
       "      <th>Stock5</th>\n",
       "      <th>Stock2</th>\n",
       "      <th>Stock4</th>\n",
       "      <th>Chrom</th>\n",
       "      <th>Oldix</th>\n",
       "    </tr>\n",
       "  </thead>\n",
       "  <tbody>\n",
       "    <tr>\n",
       "      <th>2935</th>\n",
       "      <td>0.995690</td>\n",
       "      <td>0.996032</td>\n",
       "      <td>0.996350</td>\n",
       "      <td>0.988506</td>\n",
       "      <td>0.995516</td>\n",
       "      <td>0.994475</td>\n",
       "      <td>0.995690</td>\n",
       "      <td>0.995455</td>\n",
       "      <td>0.994709</td>\n",
       "      <td>0.995763</td>\n",
       "      <td>1</td>\n",
       "      <td>2935</td>\n",
       "    </tr>\n",
       "    <tr>\n",
       "      <th>4644</th>\n",
       "      <td>0.990566</td>\n",
       "      <td>0.989247</td>\n",
       "      <td>0.993056</td>\n",
       "      <td>0.977273</td>\n",
       "      <td>0.989130</td>\n",
       "      <td>0.987342</td>\n",
       "      <td>0.985714</td>\n",
       "      <td>0.979167</td>\n",
       "      <td>0.980769</td>\n",
       "      <td>0.970149</td>\n",
       "      <td>1</td>\n",
       "      <td>4644</td>\n",
       "    </tr>\n",
       "    <tr>\n",
       "      <th>5261</th>\n",
       "      <td>0.995192</td>\n",
       "      <td>0.995556</td>\n",
       "      <td>0.995951</td>\n",
       "      <td>0.984615</td>\n",
       "      <td>0.985507</td>\n",
       "      <td>0.975610</td>\n",
       "      <td>0.983333</td>\n",
       "      <td>0.991379</td>\n",
       "      <td>0.978723</td>\n",
       "      <td>0.977778</td>\n",
       "      <td>1</td>\n",
       "      <td>5261</td>\n",
       "    </tr>\n",
       "    <tr>\n",
       "      <th>7282</th>\n",
       "      <td>0.983607</td>\n",
       "      <td>0.989011</td>\n",
       "      <td>0.991379</td>\n",
       "      <td>0.966667</td>\n",
       "      <td>0.945455</td>\n",
       "      <td>0.979592</td>\n",
       "      <td>0.952381</td>\n",
       "      <td>0.979592</td>\n",
       "      <td>0.975610</td>\n",
       "      <td>0.966667</td>\n",
       "      <td>1</td>\n",
       "      <td>7282</td>\n",
       "    </tr>\n",
       "    <tr>\n",
       "      <th>8773</th>\n",
       "      <td>0.996094</td>\n",
       "      <td>0.995868</td>\n",
       "      <td>0.996324</td>\n",
       "      <td>0.987952</td>\n",
       "      <td>0.994118</td>\n",
       "      <td>0.980000</td>\n",
       "      <td>0.987730</td>\n",
       "      <td>0.992593</td>\n",
       "      <td>0.990196</td>\n",
       "      <td>0.991870</td>\n",
       "      <td>1</td>\n",
       "      <td>8773</td>\n",
       "    </tr>\n",
       "  </tbody>\n",
       "</table>\n",
       "</div>"
      ],
      "text/plain": [
       "         CF830     JEC21     JEC20    Stock7    Stock6    Stock1    Stock3  \\\n",
       "2935  0.995690  0.996032  0.996350  0.988506  0.995516  0.994475  0.995690   \n",
       "4644  0.990566  0.989247  0.993056  0.977273  0.989130  0.987342  0.985714   \n",
       "5261  0.995192  0.995556  0.995951  0.984615  0.985507  0.975610  0.983333   \n",
       "7282  0.983607  0.989011  0.991379  0.966667  0.945455  0.979592  0.952381   \n",
       "8773  0.996094  0.995868  0.996324  0.987952  0.994118  0.980000  0.987730   \n",
       "\n",
       "        Stock5    Stock2    Stock4  Chrom  Oldix  \n",
       "2935  0.995455  0.994709  0.995763      1   2935  \n",
       "4644  0.979167  0.980769  0.970149      1   4644  \n",
       "5261  0.991379  0.978723  0.977778      1   5261  \n",
       "7282  0.979592  0.975610  0.966667      1   7282  \n",
       "8773  0.992593  0.990196  0.991870      1   8773  "
      ]
     },
     "execution_count": 14,
     "metadata": {},
     "output_type": "execute_result"
    }
   ],
   "source": [
    "ratio[(ratio.index.isin(checkpass))].head()"
   ]
  },
  {
   "cell_type": "code",
   "execution_count": 24,
   "metadata": {},
   "outputs": [],
   "source": [
    "info = makedf(info_path)"
   ]
  },
  {
   "cell_type": "code",
   "execution_count": 26,
   "metadata": {},
   "outputs": [
    {
     "data": {
      "text/html": [
       "<div>\n",
       "<style scoped>\n",
       "    .dataframe tbody tr th:only-of-type {\n",
       "        vertical-align: middle;\n",
       "    }\n",
       "\n",
       "    .dataframe tbody tr th {\n",
       "        vertical-align: top;\n",
       "    }\n",
       "\n",
       "    .dataframe thead th {\n",
       "        text-align: right;\n",
       "    }\n",
       "</style>\n",
       "<table border=\"1\" class=\"dataframe\">\n",
       "  <thead>\n",
       "    <tr style=\"text-align: right;\">\n",
       "      <th></th>\n",
       "      <th>Seqid</th>\n",
       "      <th>Pos</th>\n",
       "      <th>Qual</th>\n",
       "      <th>Callrate</th>\n",
       "      <th>Nallele</th>\n",
       "      <th>Alleles</th>\n",
       "      <th>Maxlen</th>\n",
       "      <th>Minlen</th>\n",
       "      <th>Depth</th>\n",
       "      <th>Type</th>\n",
       "      <th>Chrom</th>\n",
       "      <th>Oldix</th>\n",
       "    </tr>\n",
       "  </thead>\n",
       "  <tbody>\n",
       "    <tr>\n",
       "      <th>7282</th>\n",
       "      <td>AE017341.1</td>\n",
       "      <td>1430787</td>\n",
       "      <td>495.554</td>\n",
       "      <td>1.0</td>\n",
       "      <td>1</td>\n",
       "      <td>G.T</td>\n",
       "      <td>1</td>\n",
       "      <td>1</td>\n",
       "      <td>595</td>\n",
       "      <td>snp</td>\n",
       "      <td>1</td>\n",
       "      <td>7282</td>\n",
       "    </tr>\n",
       "  </tbody>\n",
       "</table>\n",
       "</div>"
      ],
      "text/plain": [
       "           Seqid      Pos     Qual  Callrate  Nallele Alleles  Maxlen  Minlen  \\\n",
       "7282  AE017341.1  1430787  495.554       1.0        1     G.T       1       1   \n",
       "\n",
       "      Depth Type  Chrom  Oldix  \n",
       "7282    595  snp      1   7282  "
      ]
     },
     "execution_count": 26,
     "metadata": {},
     "output_type": "execute_result"
    }
   ],
   "source": [
    "info[(info.Pos==1430787)]"
   ]
  },
  {
   "cell_type": "code",
   "execution_count": 28,
   "metadata": {},
   "outputs": [
    {
     "data": {
      "text/plain": [
       "CF830        0.0\n",
       "JEC21        0.0\n",
       "JEC20        0.0\n",
       "Stock7       0.0\n",
       "Stock6       0.0\n",
       "Stock1       0.0\n",
       "Stock3       1.0\n",
       "Stock5       0.0\n",
       "Stock2       0.0\n",
       "Stock4       0.0\n",
       "Chrom        1.0\n",
       "Oldix     7282.0\n",
       "Name: 7282, dtype: float64"
      ]
     },
     "execution_count": 28,
     "metadata": {},
     "output_type": "execute_result"
    }
   ],
   "source": [
    "geno.loc[7282]"
   ]
  },
  {
   "cell_type": "code",
   "execution_count": 16,
   "metadata": {},
   "outputs": [],
   "source": [
    "tempg = geno[(geno.index.isin(checkpass))][samples+['Oldix']]"
   ]
  },
  {
   "cell_type": "code",
   "execution_count": 17,
   "metadata": {},
   "outputs": [
    {
     "data": {
      "text/plain": [
       "['Stock1', 'Stock3', 'Stock4', 'CF830']"
      ]
     },
     "execution_count": 17,
     "metadata": {},
     "output_type": "execute_result"
    }
   ],
   "source": [
    "samples"
   ]
  },
  {
   "cell_type": "code",
   "execution_count": 18,
   "metadata": {},
   "outputs": [],
   "source": [
    "sample_names = ['B3502_A1','B3502_B1','B3502_B7','CF830']\n",
    "tempg.columns = sample_names + ['Oldgeneix']"
   ]
  },
  {
   "cell_type": "code",
   "execution_count": 19,
   "metadata": {},
   "outputs": [],
   "source": [
    "parentgt = pd.concat([info[(info.index.isin(checkpass))],\n",
    "                      tempg],axis=1)"
   ]
  },
  {
   "cell_type": "code",
   "execution_count": 28,
   "metadata": {},
   "outputs": [
    {
     "data": {
      "text/plain": [
       "0"
      ]
     },
     "execution_count": 28,
     "metadata": {},
     "output_type": "execute_result"
    }
   ],
   "source": [
    "np.sum(np.sum(parentgt[sample_names]>0,axis=1) == len(sample_names))"
   ]
  },
  {
   "cell_type": "code",
   "execution_count": null,
   "metadata": {},
   "outputs": [],
   "source": []
  },
  {
   "cell_type": "code",
   "execution_count": 20,
   "metadata": {},
   "outputs": [
    {
     "data": {
      "text/html": [
       "<div>\n",
       "<style scoped>\n",
       "    .dataframe tbody tr th:only-of-type {\n",
       "        vertical-align: middle;\n",
       "    }\n",
       "\n",
       "    .dataframe tbody tr th {\n",
       "        vertical-align: top;\n",
       "    }\n",
       "\n",
       "    .dataframe thead th {\n",
       "        text-align: right;\n",
       "    }\n",
       "</style>\n",
       "<table border=\"1\" class=\"dataframe\">\n",
       "  <thead>\n",
       "    <tr style=\"text-align: right;\">\n",
       "      <th></th>\n",
       "      <th>Seqid</th>\n",
       "      <th>Pos</th>\n",
       "      <th>Qual</th>\n",
       "      <th>Callrate</th>\n",
       "      <th>Nallele</th>\n",
       "      <th>Alleles</th>\n",
       "      <th>Maxlen</th>\n",
       "      <th>Minlen</th>\n",
       "      <th>Depth</th>\n",
       "      <th>Type</th>\n",
       "      <th>Chrom</th>\n",
       "      <th>Oldix</th>\n",
       "      <th>B3502_A1</th>\n",
       "      <th>B3502_B1</th>\n",
       "      <th>B3502_B7</th>\n",
       "      <th>CF830</th>\n",
       "      <th>Oldgeneix</th>\n",
       "    </tr>\n",
       "  </thead>\n",
       "  <tbody>\n",
       "    <tr>\n",
       "      <th>2935</th>\n",
       "      <td>AE017341.1</td>\n",
       "      <td>530127</td>\n",
       "      <td>15706.400</td>\n",
       "      <td>1.0</td>\n",
       "      <td>1</td>\n",
       "      <td>C.G</td>\n",
       "      <td>1</td>\n",
       "      <td>1</td>\n",
       "      <td>2120</td>\n",
       "      <td>snp</td>\n",
       "      <td>1</td>\n",
       "      <td>2935</td>\n",
       "      <td>0.0</td>\n",
       "      <td>0.0</td>\n",
       "      <td>0.0</td>\n",
       "      <td>1.0</td>\n",
       "      <td>2935</td>\n",
       "    </tr>\n",
       "    <tr>\n",
       "      <th>4644</th>\n",
       "      <td>AE017341.1</td>\n",
       "      <td>884619</td>\n",
       "      <td>11033.600</td>\n",
       "      <td>1.0</td>\n",
       "      <td>1</td>\n",
       "      <td>G.A</td>\n",
       "      <td>1</td>\n",
       "      <td>1</td>\n",
       "      <td>790</td>\n",
       "      <td>snp</td>\n",
       "      <td>1</td>\n",
       "      <td>4644</td>\n",
       "      <td>1.0</td>\n",
       "      <td>1.0</td>\n",
       "      <td>1.0</td>\n",
       "      <td>0.0</td>\n",
       "      <td>4644</td>\n",
       "    </tr>\n",
       "    <tr>\n",
       "      <th>5261</th>\n",
       "      <td>AE017341.1</td>\n",
       "      <td>1032506</td>\n",
       "      <td>11176.400</td>\n",
       "      <td>1.0</td>\n",
       "      <td>1</td>\n",
       "      <td>T.C</td>\n",
       "      <td>1</td>\n",
       "      <td>1</td>\n",
       "      <td>1121</td>\n",
       "      <td>snp</td>\n",
       "      <td>1</td>\n",
       "      <td>5261</td>\n",
       "      <td>1.0</td>\n",
       "      <td>1.0</td>\n",
       "      <td>1.0</td>\n",
       "      <td>0.0</td>\n",
       "      <td>5261</td>\n",
       "    </tr>\n",
       "    <tr>\n",
       "      <th>7282</th>\n",
       "      <td>AE017341.1</td>\n",
       "      <td>1430787</td>\n",
       "      <td>495.554</td>\n",
       "      <td>1.0</td>\n",
       "      <td>1</td>\n",
       "      <td>G.T</td>\n",
       "      <td>1</td>\n",
       "      <td>1</td>\n",
       "      <td>595</td>\n",
       "      <td>snp</td>\n",
       "      <td>1</td>\n",
       "      <td>7282</td>\n",
       "      <td>0.0</td>\n",
       "      <td>1.0</td>\n",
       "      <td>0.0</td>\n",
       "      <td>0.0</td>\n",
       "      <td>7282</td>\n",
       "    </tr>\n",
       "    <tr>\n",
       "      <th>8773</th>\n",
       "      <td>AE017341.1</td>\n",
       "      <td>1694543</td>\n",
       "      <td>36510.300</td>\n",
       "      <td>1.0</td>\n",
       "      <td>1</td>\n",
       "      <td>G.C</td>\n",
       "      <td>1</td>\n",
       "      <td>1</td>\n",
       "      <td>1639</td>\n",
       "      <td>snp</td>\n",
       "      <td>1</td>\n",
       "      <td>8773</td>\n",
       "      <td>1.0</td>\n",
       "      <td>1.0</td>\n",
       "      <td>1.0</td>\n",
       "      <td>0.0</td>\n",
       "      <td>8773</td>\n",
       "    </tr>\n",
       "  </tbody>\n",
       "</table>\n",
       "</div>"
      ],
      "text/plain": [
       "           Seqid      Pos       Qual  Callrate  Nallele Alleles  Maxlen  \\\n",
       "2935  AE017341.1   530127  15706.400       1.0        1     C.G       1   \n",
       "4644  AE017341.1   884619  11033.600       1.0        1     G.A       1   \n",
       "5261  AE017341.1  1032506  11176.400       1.0        1     T.C       1   \n",
       "7282  AE017341.1  1430787    495.554       1.0        1     G.T       1   \n",
       "8773  AE017341.1  1694543  36510.300       1.0        1     G.C       1   \n",
       "\n",
       "      Minlen  Depth Type  Chrom  Oldix  B3502_A1  B3502_B1  B3502_B7  CF830  \\\n",
       "2935       1   2120  snp      1   2935       0.0       0.0       0.0    1.0   \n",
       "4644       1    790  snp      1   4644       1.0       1.0       1.0    0.0   \n",
       "5261       1   1121  snp      1   5261       1.0       1.0       1.0    0.0   \n",
       "7282       1    595  snp      1   7282       0.0       1.0       0.0    0.0   \n",
       "8773       1   1639  snp      1   8773       1.0       1.0       1.0    0.0   \n",
       "\n",
       "      Oldgeneix  \n",
       "2935       2935  \n",
       "4644       4644  \n",
       "5261       5261  \n",
       "7282       7282  \n",
       "8773       8773  "
      ]
     },
     "execution_count": 20,
     "metadata": {},
     "output_type": "execute_result"
    }
   ],
   "source": [
    "parentgt.head()"
   ]
  },
  {
   "cell_type": "code",
   "execution_count": 21,
   "metadata": {},
   "outputs": [],
   "source": [
    "for i,j in parentgt.iterrows():\n",
    "    if j.Oldix != j.Oldgeneix:\n",
    "        print(i)"
   ]
  },
  {
   "cell_type": "code",
   "execution_count": 22,
   "metadata": {},
   "outputs": [],
   "source": [
    "parentgt.to_csv('/home/croth/Self-Filamentation_B3502_progeny/GENOTYPE/B3502_stock_variants.csv.gz')"
   ]
  },
  {
   "cell_type": "code",
   "execution_count": 23,
   "metadata": {},
   "outputs": [
    {
     "ename": "SyntaxError",
     "evalue": "invalid syntax (<ipython-input-23-8f425085b44a>, line 1)",
     "output_type": "error",
     "traceback": [
      "\u001b[0;36m  File \u001b[0;32m\"<ipython-input-23-8f425085b44a>\"\u001b[0;36m, line \u001b[0;32m1\u001b[0m\n\u001b[0;31m    asset 1 == 0\u001b[0m\n\u001b[0m          ^\u001b[0m\n\u001b[0;31mSyntaxError\u001b[0m\u001b[0;31m:\u001b[0m invalid syntax\n"
     ]
    }
   ],
   "source": [
    "assert 1 == 0"
   ]
  },
  {
   "cell_type": "code",
   "execution_count": null,
   "metadata": {},
   "outputs": [],
   "source": [
    "segsix = []\n",
    "covx = 6\n",
    "ratx = .8\n",
    "for s in samples:\n",
    "    \n",
    "    genodifix = geno[(geno[s]!=0) & (geno[samples].T.sum()!=len(samples))].index.tolist()\n",
    "    \n",
    "    depthix = depth[(depth[s]>=covx) & (depth.index.isin(genodifix))].index.tolist()\n",
    "    \n",
    "    ratioix = ratio[(ratio[s]>=ratx) & (ratio.index.isin(depthix))].index.tolist()\n",
    "    \n",
    "    infoix = info[(info.index.isin(ratioix)) & (info.Callrate==1)].index.tolist()\n",
    "    \n",
    "    segsix.append((s,infoix))"
   ]
  },
  {
   "cell_type": "code",
   "execution_count": null,
   "metadata": {},
   "outputs": [],
   "source": [
    "segix = np.unique(np.concatenate([s for (a,s) in segsix]))\n",
    "len(segix)"
   ]
  },
  {
   "cell_type": "code",
   "execution_count": null,
   "metadata": {},
   "outputs": [],
   "source": [
    "info.loc[segix,:]"
   ]
  },
  {
   "cell_type": "code",
   "execution_count": null,
   "metadata": {},
   "outputs": [],
   "source": [
    "geno.loc[checkpass.index,samples]"
   ]
  },
  {
   "cell_type": "code",
   "execution_count": null,
   "metadata": {},
   "outputs": [],
   "source": []
  },
  {
   "cell_type": "code",
   "execution_count": null,
   "metadata": {},
   "outputs": [],
   "source": [
    "len(segix)"
   ]
  },
  {
   "cell_type": "code",
   "execution_count": null,
   "metadata": {},
   "outputs": [],
   "source": [
    "len(checkpass.index)"
   ]
  },
  {
   "cell_type": "code",
   "execution_count": null,
   "metadata": {},
   "outputs": [],
   "source": [
    "np.sum([a in segix for a in checkpass.index]) == len(checkpass.index)"
   ]
  },
  {
   "cell_type": "code",
   "execution_count": null,
   "metadata": {},
   "outputs": [],
   "source": []
  }
 ],
 "metadata": {
  "kernelspec": {
   "display_name": "Python 3",
   "language": "python",
   "name": "python3"
  },
  "language_info": {
   "codemirror_mode": {
    "name": "ipython",
    "version": 3
   },
   "file_extension": ".py",
   "mimetype": "text/x-python",
   "name": "python",
   "nbconvert_exporter": "python",
   "pygments_lexer": "ipython3",
   "version": "3.7.3"
  }
 },
 "nbformat": 4,
 "nbformat_minor": 4
}
