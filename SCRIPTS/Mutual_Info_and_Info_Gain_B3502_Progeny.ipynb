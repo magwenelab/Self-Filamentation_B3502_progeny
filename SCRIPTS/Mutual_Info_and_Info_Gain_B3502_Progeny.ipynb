{
 "cells": [
  {
   "cell_type": "code",
   "execution_count": 1,
   "metadata": {},
   "outputs": [
    {
     "data": {
      "text/html": [
       "<div>\n",
       "<style scoped>\n",
       "    .dataframe tbody tr th:only-of-type {\n",
       "        vertical-align: middle;\n",
       "    }\n",
       "\n",
       "    .dataframe tbody tr th {\n",
       "        vertical-align: top;\n",
       "    }\n",
       "\n",
       "    .dataframe thead th {\n",
       "        text-align: right;\n",
       "    }\n",
       "</style>\n",
       "<table border=\"1\" class=\"dataframe\">\n",
       "  <thead>\n",
       "    <tr style=\"text-align: right;\">\n",
       "      <th></th>\n",
       "      <th>Strain</th>\n",
       "      <th>Basidium</th>\n",
       "      <th>Phenotype_Short</th>\n",
       "      <th>Set</th>\n",
       "      <th>Phenotype_Description</th>\n",
       "      <th>Binary</th>\n",
       "      <th>Trinary</th>\n",
       "      <th>Quadrary</th>\n",
       "      <th>Genotyped</th>\n",
       "      <th>Clone</th>\n",
       "      <th>IRK7</th>\n",
       "      <th>RIC8</th>\n",
       "      <th>RHO</th>\n",
       "      <th>MAT</th>\n",
       "    </tr>\n",
       "    <tr>\n",
       "      <th>Genotyped</th>\n",
       "      <th></th>\n",
       "      <th></th>\n",
       "      <th></th>\n",
       "      <th></th>\n",
       "      <th></th>\n",
       "      <th></th>\n",
       "      <th></th>\n",
       "      <th></th>\n",
       "      <th></th>\n",
       "      <th></th>\n",
       "      <th></th>\n",
       "      <th></th>\n",
       "      <th></th>\n",
       "      <th></th>\n",
       "    </tr>\n",
       "  </thead>\n",
       "  <tbody>\n",
       "    <tr>\n",
       "      <th>A03</th>\n",
       "      <td>A_03</td>\n",
       "      <td>1.0</td>\n",
       "      <td>N</td>\n",
       "      <td>0.0</td>\n",
       "      <td>Yeast</td>\n",
       "      <td>0.0</td>\n",
       "      <td>0.0</td>\n",
       "      <td>0.0</td>\n",
       "      <td>A03</td>\n",
       "      <td>0</td>\n",
       "      <td>0.0</td>\n",
       "      <td>0.0</td>\n",
       "      <td>0.0</td>\n",
       "      <td>0.0</td>\n",
       "    </tr>\n",
       "    <tr>\n",
       "      <th>A10</th>\n",
       "      <td>A_10</td>\n",
       "      <td>3.0</td>\n",
       "      <td>N</td>\n",
       "      <td>0.0</td>\n",
       "      <td>Yeast</td>\n",
       "      <td>0.0</td>\n",
       "      <td>0.0</td>\n",
       "      <td>0.0</td>\n",
       "      <td>A10</td>\n",
       "      <td>0</td>\n",
       "      <td>0.0</td>\n",
       "      <td>0.0</td>\n",
       "      <td>0.0</td>\n",
       "      <td>0.0</td>\n",
       "    </tr>\n",
       "    <tr>\n",
       "      <th>A14</th>\n",
       "      <td>A_14</td>\n",
       "      <td>4.0</td>\n",
       "      <td>N</td>\n",
       "      <td>0.0</td>\n",
       "      <td>Yeast</td>\n",
       "      <td>0.0</td>\n",
       "      <td>0.0</td>\n",
       "      <td>0.0</td>\n",
       "      <td>A14</td>\n",
       "      <td>0</td>\n",
       "      <td>0.0</td>\n",
       "      <td>0.0</td>\n",
       "      <td>0.0</td>\n",
       "      <td>0.0</td>\n",
       "    </tr>\n",
       "    <tr>\n",
       "      <th>A25</th>\n",
       "      <td>A_25</td>\n",
       "      <td>4.0</td>\n",
       "      <td>N</td>\n",
       "      <td>0.0</td>\n",
       "      <td>Yeast</td>\n",
       "      <td>0.0</td>\n",
       "      <td>0.0</td>\n",
       "      <td>0.0</td>\n",
       "      <td>A25</td>\n",
       "      <td>0</td>\n",
       "      <td>0.0</td>\n",
       "      <td>0.0</td>\n",
       "      <td>0.0</td>\n",
       "      <td>0.0</td>\n",
       "    </tr>\n",
       "    <tr>\n",
       "      <th>A30</th>\n",
       "      <td>A_30</td>\n",
       "      <td>1.0</td>\n",
       "      <td>N</td>\n",
       "      <td>0.0</td>\n",
       "      <td>Yeast</td>\n",
       "      <td>0.0</td>\n",
       "      <td>0.0</td>\n",
       "      <td>0.0</td>\n",
       "      <td>A30</td>\n",
       "      <td>0</td>\n",
       "      <td>0.0</td>\n",
       "      <td>0.0</td>\n",
       "      <td>0.0</td>\n",
       "      <td>0.0</td>\n",
       "    </tr>\n",
       "  </tbody>\n",
       "</table>\n",
       "</div>"
      ],
      "text/plain": [
       "          Strain  Basidium Phenotype_Short  Set Phenotype_Description  Binary  \\\n",
       "Genotyped                                                                       \n",
       "A03         A_03       1.0               N  0.0                 Yeast     0.0   \n",
       "A10         A_10       3.0               N  0.0                 Yeast     0.0   \n",
       "A14         A_14       4.0               N  0.0                 Yeast     0.0   \n",
       "A25         A_25       4.0               N  0.0                 Yeast     0.0   \n",
       "A30         A_30       1.0               N  0.0                 Yeast     0.0   \n",
       "\n",
       "           Trinary  Quadrary Genotyped  Clone  IRK7  RIC8  RHO  MAT  \n",
       "Genotyped                                                            \n",
       "A03            0.0       0.0       A03      0   0.0   0.0  0.0  0.0  \n",
       "A10            0.0       0.0       A10      0   0.0   0.0  0.0  0.0  \n",
       "A14            0.0       0.0       A14      0   0.0   0.0  0.0  0.0  \n",
       "A25            0.0       0.0       A25      0   0.0   0.0  0.0  0.0  \n",
       "A30            0.0       0.0       A30      0   0.0   0.0  0.0  0.0  "
      ]
     },
     "execution_count": 1,
     "metadata": {},
     "output_type": "execute_result"
    }
   ],
   "source": [
    "## Load in needed mods\n",
    "import numpy as np, pandas as pd, scipy.stats as ss, seaborn as sns\n",
    "from sklearn import feature_selection as fs\n",
    "from matplotlib import pyplot as plt\n",
    "%matplotlib inline\n",
    "\n",
    "## Set random seed\n",
    "np.random.seed(7111991)\n",
    "\n",
    "## Set phenotype of interest \n",
    "newpheno_label = 'Quadrary'\n",
    "\n",
    "## Set paths\n",
    "## Phenotype path (you'll need to change this)\n",
    "phenopath = '../PHENOTYPE/PROCESSED/Cellsize_shape_phenotype_QTL.csv'\n",
    "\n",
    "## load phenotype\n",
    "pheno = pd.read_csv(phenopath)\n",
    "\n",
    "## Sort values\n",
    "pheno.sort_values(by=['RIC8','RHO','MAT',newpheno_label],inplace=True)\n",
    "\n",
    "## set index\n",
    "pheno.index = pheno.Genotyped\n",
    "\n",
    "## Set observed MI, y-value\n",
    "yobs = 100\n",
    "\n",
    "## Set samples to use and print number of\n",
    "samples = pheno.Genotyped.values\n",
    "\n",
    "assert len(samples) == 73, \"We are missing samples\"\n",
    "\n",
    "pheno.head()"
   ]
  },
  {
   "cell_type": "code",
   "execution_count": 2,
   "metadata": {},
   "outputs": [],
   "source": [
    "from sklearn.metrics import mutual_info_score as mis"
   ]
  },
  {
   "cell_type": "code",
   "execution_count": 3,
   "metadata": {},
   "outputs": [],
   "source": [
    "pheno['Y_mat'] = pheno[newpheno_label] + 0.25*pheno.MAT"
   ]
  },
  {
   "cell_type": "code",
   "execution_count": 4,
   "metadata": {},
   "outputs": [],
   "source": [
    "## Set MAT lables\n",
    "## For MATalpha\n",
    "matal = '$MAT\\mathrm{\\u03B1}$'\n",
    "\n",
    "## MATa\n",
    "mata =  r'$MAT\\bf{a}$'"
   ]
  },
  {
   "cell_type": "code",
   "execution_count": 5,
   "metadata": {},
   "outputs": [],
   "source": [
    "pheno_labels = [ '\\n'.join(l.split(' ')) if len(l.split(' '))>1 else l for l in pheno.Phenotype_Description.unique()]"
   ]
  },
  {
   "cell_type": "code",
   "execution_count": 6,
   "metadata": {},
   "outputs": [
    {
     "data": {
      "image/png": "[encoded data removed]",
      "text/plain": [
       "<Figure size 504x360 with 2 Axes>"
      ]
     },
     "metadata": {},
     "output_type": "display_data"
    }
   ],
   "source": [
    "fig,ax = plt.subplots(1,1,figsize=(7,5))\n",
    "fig.set_facecolor('w')\n",
    "[sns.swarmplot(x='RIC8',y='Y_mat',\n",
    "              data=pheno[(pheno.MAT==k)],\n",
    "              hue='RHO',dodge=True,\n",
    "               size=7,alpha=0.75,\n",
    "               marker='o' if k == 0 else '^') for k in [0,1]]\n",
    "\n",
    "leg = plt.legend()\n",
    "\n",
    "ax.get_legend().remove()\n",
    "\n",
    "## Add y and x tick lables\n",
    "plt.yticks(np.arange(4)+np.array([0.15,0.15,0.1,0]),pheno_labels,fontsize=16);plt.ylabel(' ');\n",
    "plt.xticks([0,1],[r'RIC8$_{\\rm{CF830}}$',r'RIC8$_{\\rm{B3502}}$'],fontstyle='italic',fontsize=16);plt.xlabel(' ');\n",
    "\n",
    "[ax.spines[t].set_visible(False) for t in ['top','right']]\n",
    "\n",
    "\n",
    "az = fig.add_axes([0.1,0.88,0.5,0.2])\n",
    "plt.axis('off')\n",
    "\n",
    "## Make our own legend\n",
    "plt.plot(-0.1,2.8,'^',color='tab:blue')\n",
    "plt.plot(-0.35,2.8,'o',color='tab:blue')\n",
    "plt.text(0.05,2.8,r'CNC06490$_{\\rm{CF830}}$',style='italic',va='center',ha='left',color='tab:blue',fontsize=14)\n",
    "\n",
    "plt.text(-0.1,3.12,mata,fontsize=14,va='center',ha='center')\n",
    "plt.text(-0.35,3.12,matal,fontsize=14,va='center',ha='center')\n",
    "\n",
    "plt.plot(-0.1,2.5,'^',color='tab:orange')\n",
    "plt.plot(-0.35,2.5,'o',color='tab:orange')\n",
    "plt.text(0.05,2.5,r'CNC06490$_{\\rm{B3502}}$',style='italic',va='center',ha='left',color='tab:orange',fontsize=14)\n",
    "\n",
    "plt.vlines([np.mean([-0.1,-0.35]),-0.47,0.02,0.61],2.35,3.3,color='k',alpha=0.1,linestyle='-')\n",
    "plt.hlines([2.65,2.35,3,3.3],-0.47,0.61,linestyle='-',color='grey',alpha=0.1);\n",
    "\n",
    "plt.hlines(3.3,0.0201,0.62,color='w',linewidth=2)\n",
    "plt.vlines(0.61,3.01,3.3,color='w',linewidth=2)\n",
    "\n",
    "plt.savefig('../FIGURES/Selfing_phenotype_by_QTL.png',dpi=400,bbox_inches='tight');"
   ]
  },
  {
   "cell_type": "code",
   "execution_count": 7,
   "metadata": {},
   "outputs": [],
   "source": [
    "## Here we are using the quadrary (4) phenotype to\n",
    "## search for interatons between RIC8, RHO, and MAT\n",
    "## locus that lead to transgressive selffing phenotype\n",
    "\n",
    "## Gather the phenotypes coded 0 - 3\n",
    "Y = pheno.loc[samples,newpheno_label].values.reshape(-1,1)\n",
    "\n",
    "## Main loci to test, the MAT type (coded 0 or 1)\n",
    "## and genotypes at QTL3 (putatitve RHO) and RIC8\n",
    "MAT = pheno.loc[samples,'MAT'].values.reshape(-1,1)\n",
    "RHO = pheno.loc[samples,'RHO'].values.reshape(-1,1)\n",
    "RIC8 = pheno.loc[samples,'RIC8'].values.reshape(-1,1)\n",
    "irk7 = pheno.loc[samples,'IRK7'].values.reshape(-1,1)\n",
    "\n",
    "## Encode two-locus genotypes\n",
    "MATRHO = MAT + 2 * RHO\n",
    "MATRIC8 = MAT + 2 * RIC8\n",
    "RHORIC8 = RHO + 2 * RIC8\n",
    "\n",
    "## Encode three-locus genotypes\n",
    "MATRHORIC8 = MAT + 2*RHO + 4*RIC8\n",
    "\n",
    "## Run MI code, this is using natrual log (nats)\n",
    "MIobs = fs.mutual_info_classif(np.hstack((Y,\n",
    "                                  MAT,RHO,RIC8,\n",
    "                                  MATRHO, MATRIC8, RHORIC8,\n",
    "                                  MATRHORIC8,irk7)), Y.ravel(),\n",
    "                                  discrete_features=True)\n",
    "\n",
    "## label MIs\n",
    "MI_MAT = MIobs[1]\n",
    "MI_RHO = MIobs[2]\n",
    "MI_RIC8 = MIobs[3]\n",
    "MI_MATRHO = MIobs[4]\n",
    "MI_MATRIC8 = MIobs[5]\n",
    "MI_RHORIC8 = MIobs[6]\n",
    "MI_MATRHORIC8 = MIobs[7]\n",
    "MI_irk7 = MIobs[8]\n",
    "\n",
    "## Gather entropy of Y\n",
    "entropy_Y = MIobs[0]\n",
    "\n",
    "## Calculate IGstrict of Hu et al\n",
    "IG_MATRHO = MI_MATRHO - MI_MAT - MI_RHO\n",
    "IG_MATRIC8 = MI_MATRIC8 - MI_MAT - MI_RIC8\n",
    "IG_RHORIC8 = MI_RHORIC8 - MI_RHO - MI_RIC8\n",
    "IG_MATRHORIC8 =  MI_MATRHORIC8 - np.maximum(IG_MATRHO, 0) \\\n",
    "    - np.maximum(IG_MATRIC8,0) \\\n",
    "    - np.maximum(IG_RHORIC8, 0) \\\n",
    "    - MI_MAT - MI_RHO - MI_RIC8"
   ]
  },
  {
   "cell_type": "code",
   "execution_count": 8,
   "metadata": {},
   "outputs": [
    {
     "data": {
      "text/plain": [
       "(-5.58921926874234e-06, -7.324386374163439e-05, -0.002553082950156549)"
      ]
     },
     "execution_count": 8,
     "metadata": {},
     "output_type": "execute_result"
    }
   ],
   "source": [
    "IG_MATRHO, IG_RHORIC8, IG_MATRIC8"
   ]
  },
  {
   "cell_type": "code",
   "execution_count": 9,
   "metadata": {},
   "outputs": [
    {
     "data": {
      "image/png": "[encoded data removed]",
      "text/plain": [
       "<Figure size 864x216 with 4 Axes>"
      ]
     },
     "metadata": {},
     "output_type": "display_data"
    }
   ],
   "source": [
    "## Cunduct permutation testing\n",
    "## Test for main effects\n",
    "MIperm = []\n",
    "nperms = 1000\n",
    "\n",
    "while len(MIperm) < nperms:\n",
    "    origgenos = np.hstack((MAT,RHO,RIC8,irk7))\n",
    "    permgenos = np.random.permutation(origgenos)\n",
    "    \n",
    "    ## Gather permutation of each locus\n",
    "    pMAT = permgenos[:,0].reshape(-1,1)\n",
    "    pRHO = permgenos[:,1].reshape(-1,1)\n",
    "    pRIC8 = permgenos[:,2].reshape(-1,1)\n",
    "    pirk7 = permgenos[:,3].reshape(-1,1)\n",
    "    \n",
    "    pMATRHO = pMAT + 2*pRHO\n",
    "    pMATRIC8 = pMAT + 2*pRIC8\n",
    "    pRHORIC8 = pRHO + 2*pRIC8\n",
    "    pMATRHORIC8 = pMAT + 2*pRHO + 4*pRIC8    \n",
    "    \n",
    "    miperm = fs.mutual_info_classif(np.hstack((Y,pMAT, pRHO, pRIC8,\n",
    "                                               pMATRHO, pMATRIC8, pRHORIC8,\n",
    "                                               pMATRHORIC8)), Y.ravel(),\n",
    "                                    discrete_features=True)\n",
    "    MIperm.append(miperm)\n",
    "    \n",
    "MIperm = np.array(MIperm)\n",
    "\n",
    "MI_pMAT = MIperm[:,1]\n",
    "MI_pRHO = MIperm[:,2]\n",
    "MI_pRIC8 = MIperm[:,3]\n",
    "MI_pirk7 = MIperm[:,4]\n",
    "\n",
    "## List MI, permuted MI, and labels for plotting\n",
    "MI = [MI_MAT, MI_RHO,MI_RIC8,MI_irk7]\n",
    "MIp = [MI_pMAT,MI_pRHO,MI_pRIC8,MI_pirk7]\n",
    "MI_labels = ['MAT','RHO','RIC8','IRK7']\n",
    "\n",
    "## Call figure and set facecolor\n",
    "fig,ax = plt.subplots(1,len(MI_labels),figsize=(12,3), sharey=True)\n",
    "fig.set_facecolor('w')\n",
    "\n",
    "## Iterate overthe three MI\n",
    "for i,mi in enumerate(MI):\n",
    "    \n",
    "    ## Calcualte p-value\n",
    "    pval = np.round(np.sum(MIp[i] > mi)/float(len(MIp[i])),3)\n",
    "    \n",
    "    ## Set axis\n",
    "    plt.sca(ax[i])\n",
    "    \n",
    "    ## Plot null MI\n",
    "    plt.hist(MIp[i],color='tab:grey',alpha=0.5)\n",
    "    \n",
    "    ## Plot observed MI\n",
    "    plt.vlines(mi,0,yobs,color='tab:red')\n",
    "    \n",
    "    ## Set title, x and y lables\n",
    "    plt.title('I ($%s$ ; S)\\n$p$-value: %s'%(MI_labels[i],pval))\n",
    "    plt.xlabel('Nats')\n",
    "    plt.ylabel('Number of Permutations' if i == 0 else None)"
   ]
  },
  {
   "cell_type": "code",
   "execution_count": 10,
   "metadata": {},
   "outputs": [
    {
     "data": {
      "text/plain": [
       "(73, 1)"
      ]
     },
     "execution_count": 10,
     "metadata": {},
     "output_type": "execute_result"
    }
   ],
   "source": [
    "pRHO.shape"
   ]
  },
  {
   "cell_type": "code",
   "execution_count": null,
   "metadata": {},
   "outputs": [],
   "source": []
  },
  {
   "cell_type": "code",
   "execution_count": 11,
   "metadata": {},
   "outputs": [
    {
     "data": {
      "text/plain": [
       "73"
      ]
     },
     "execution_count": 11,
     "metadata": {},
     "output_type": "execute_result"
    }
   ],
   "source": [
    "len(samples)"
   ]
  },
  {
   "cell_type": "code",
   "execution_count": 12,
   "metadata": {},
   "outputs": [
    {
     "data": {
      "text/plain": [
       "array([0., 1., 2., 3.])"
      ]
     },
     "execution_count": 12,
     "metadata": {},
     "output_type": "execute_result"
    }
   ],
   "source": [
    "np.unique(Y)"
   ]
  },
  {
   "cell_type": "code",
   "execution_count": 13,
   "metadata": {},
   "outputs": [
    {
     "data": {
      "image/png": "[encoded data removed]",
      "text/plain": [
       "<Figure size 720x216 with 3 Axes>"
      ]
     },
     "metadata": {},
     "output_type": "display_data"
    }
   ],
   "source": [
    "## Run permutation for TWO-way effects\n",
    "## with RIC8 fixed\n",
    "MIperm = []\n",
    "\n",
    "Y = pheno.loc[samples,newpheno_label].values.reshape(-1,1)\n",
    "\n",
    "while len(MIperm) < nperms:\n",
    "    \n",
    "    ## Permute MAT based on RIC8\n",
    "    pMAT = np.concatenate([np.random.permutation(MAT[(RIC8==r) & (Y==y)]) for r in [0,1] for y in np.unique(Y)]).reshape(-1,1)\n",
    "    \n",
    "    ## Permute RHO based on RIC8\n",
    "    pRHO = np.concatenate([np.random.permutation(RHO[(RIC8==r) & (Y==y)]) for r in [0,1] for y in np.unique(Y)]).reshape(-1,1)\n",
    "    \n",
    "    ## FIX RIC8\n",
    "    pRIC8 = RIC8\n",
    "    \n",
    "    ## Code phenotypes\n",
    "    pY = np.concatenate([[y]*len(MAT[(RIC8==r) & (Y==y)]) for r in [0,1] for y in np.unique(Y)]).reshape(-1,1)\n",
    "\n",
    "    pMATRHO = pMAT + 2*pRHO\n",
    "    pMATRIC8 = pMAT + 2*pRIC8\n",
    "    pRHORIC8 = pRHO + 2*pRIC8\n",
    "    pMATRHORIC8 = pMAT + 2*pRHO + 4*pRIC8   \n",
    "    \n",
    "    \n",
    "    ## Run MI analysis\n",
    "    miperm = fs.mutual_info_classif(np.hstack((pY,\n",
    "                                  pMAT, pRHO, pRIC8,\n",
    "                                  pMATRHO, pMATRIC8, pRHORIC8,\n",
    "                                  pMATRHORIC8)),pY.ravel(),discrete_features=True)\n",
    "    ## Append results\n",
    "    MIperm.append(miperm)\n",
    "    \n",
    "## Make into an array\n",
    "MIperm = np.array(MIperm)\n",
    "    \n",
    "## List arrays    \n",
    "MI_pMAT = MIperm[:,1]\n",
    "MI_pRHO = MIperm[:,2]\n",
    "MI_pRIC8 = MIperm[:,3]\n",
    "MI_pMATRHO = MIperm[:,4]\n",
    "MI_pMATRIC8 = MIperm[:,5]\n",
    "MI_pRHORIC8 = MIperm[:,6]\n",
    "\n",
    "# Two-way IGstrict for permuted data\n",
    "IG_pMATRHO_rf = MI_pMATRHO - MI_pMAT - MI_pRHO\n",
    "IG_pMATRIC8_rf = MI_pMATRIC8 - MI_pMAT - MI_pRIC8\n",
    "IG_pRHORIC8_rf = MI_pRHORIC8 - MI_pRHO - MI_pRIC8\n",
    "\n",
    "## Plot results\n",
    "## Call figure\n",
    "fig,ax = plt.subplots(1,3,figsize=(10,3),sharey=True)\n",
    "fig.set_facecolor('w')\n",
    "\n",
    "plt.sca(ax[0])\n",
    "plt.hist(IG_pMATRHO_rf,color='grey',alpha=0.5)\n",
    "plt.vlines(IG_MATRHO, ymin=0, ymax=100, color='r')\n",
    "plt.ylabel('Number of Permutations',fontsize=12)\n",
    "k = np.sum(IG_pMATRHO_rf > IG_MATRHO)/float(len(IG_pMATRHO_rf))\n",
    "plt.title(\"IG ($MAT$, $RHO$; S): %s\\n$p$-value: %s\"%(\n",
    "    str(np.round(IG_MATRHO,4)),\n",
    "    str(np.round(k,4))),fontsize=12)\n",
    "\n",
    "plt.sca(ax[1])\n",
    "plt.hist(IG_pMATRIC8_rf,color='grey',alpha=0.5)\n",
    "plt.vlines(IG_MATRIC8, ymin=0, ymax=100, color='r')\n",
    "k = np.sum(IG_pMATRIC8_rf > IG_MATRIC8)/float(len(IG_pMATRIC8_rf))\n",
    "plt.title(\"IG ($MAT$, $RIC8$ ; S): %s\\n$p$-value: %s\"%(\n",
    "    str(np.round(IG_MATRIC8,4)),\n",
    "    str(np.round(k,4))),fontsize=12)\n",
    "\n",
    "plt.sca(ax[2])\n",
    "plt.hist(IG_pRHORIC8_rf,color='grey',alpha=0.5)\n",
    "plt.vlines(IG_RHORIC8, ymin=0, ymax=100, color='r')\n",
    "k = np.sum(IG_pRHORIC8_rf > IG_RHORIC8)/float(len(IG_pRHORIC8_rf))\n",
    "plt.title(\"IG ($RHO$, $RIC8$ ; S): %s\\n$p$-value: %s\"%(\n",
    "    str(np.round(IG_RHORIC8,4)),\n",
    "    str(np.round(k,4))),fontsize=12)\n",
    "\n",
    "fig.text(x=0.5,y=-0.05,s='Two Loci Information Gain (nats) with RIC8 fixed',\n",
    "         fontsize=12,va='center',ha='center');"
   ]
  },
  {
   "cell_type": "code",
   "execution_count": 14,
   "metadata": {},
   "outputs": [
    {
     "data": {
      "text/plain": [
       "-0.002553082950156549"
      ]
     },
     "execution_count": 14,
     "metadata": {},
     "output_type": "execute_result"
    }
   ],
   "source": [
    "IG_MATRIC8"
   ]
  },
  {
   "cell_type": "code",
   "execution_count": 15,
   "metadata": {},
   "outputs": [
    {
     "data": {
      "text/plain": [
       "-0.002553082950156549"
      ]
     },
     "execution_count": 15,
     "metadata": {},
     "output_type": "execute_result"
    }
   ],
   "source": [
    "np.max(IG_pMATRIC8_rf)"
   ]
  },
  {
   "cell_type": "code",
   "execution_count": 16,
   "metadata": {},
   "outputs": [
    {
     "data": {
      "image/png": "[encoded data removed]",
      "text/plain": [
       "<Figure size 720x216 with 3 Axes>"
      ]
     },
     "metadata": {},
     "output_type": "display_data"
    }
   ],
   "source": [
    "## Run permutations with full data, no fixed point\n",
    "MIperm = []\n",
    "\n",
    "for i in range(1000):\n",
    "    origgenos = np.hstack((MAT,RHO,RIC8))\n",
    "    permgenos = np.random.permutation(origgenos)\n",
    "    pMAT = permgenos[:,0]\n",
    "    pRHO = permgenos[:,1]\n",
    "    pRIC8 = permgenos[:,2]\n",
    "    pMAT = pMAT.reshape(-1,1)\n",
    "    pRHO = pRHO.reshape(-1,1)\n",
    "    pRIC8 = pRIC8.reshape(-1,1)\n",
    "    pMATRHO = pMAT + 2*pRHO\n",
    "    pMATRIC8 = pMAT + 2*pRIC8\n",
    "    pRHORIC8 = pRHO + 2*pRIC8\n",
    "    pMATRHORIC8 = pMAT + 2*pRHO + 4*pRIC8    \n",
    "    \n",
    "    miperm = fs.mutual_info_classif(np.hstack((Y,\n",
    "                                  pMAT,pRHO,pRIC8,\n",
    "                                  pMATRHO, pMATRIC8, pRHORIC8,\n",
    "                                  pMATRHORIC8)), Y.ravel(),\n",
    "                                  discrete_features=True)\n",
    "    MIperm.append(miperm)\n",
    "    \n",
    "MIperm = np.array(MIperm)\n",
    "    \n",
    "MI_pMAT = MIperm[:,1]\n",
    "MI_pRHO = MIperm[:,2]\n",
    "MI_pRIC8 = MIperm[:,3]\n",
    "MI_pMATRHO = MIperm[:,4]\n",
    "MI_pMATRIC8 = MIperm[:,5]\n",
    "MI_pRHORIC8 = MIperm[:,6]\n",
    "MI_pMATRHORIC8 = MIperm[:,7]\n",
    "\n",
    "zeros = np.zeros_like(MI_pMAT)\n",
    "\n",
    "# IGstrict for permuted data\n",
    "IG_pMATRHO = MI_pMATRHO - MI_pMAT - MI_pRHO\n",
    "IG_pMATRIC8 = MI_pMATRIC8 - MI_pMAT - MI_pRIC8\n",
    "IG_pRHORIC8 = MI_pRHORIC8 - MI_pRHO - MI_pRIC8\n",
    "IG_pMATRHORIC8 =  MI_pMATRHORIC8 - np.maximum(IG_pMATRHO, zeros) \\\n",
    "    - np.maximum(IG_pMATRIC8, zeros) \\\n",
    "    - np.maximum(IG_pRHORIC8, zeros) \\\n",
    "    - MI_pMAT - MI_pRHO - MI_pRIC8\n",
    "\n",
    "## Plot results\n",
    "## Call figure\n",
    "fig,ax = plt.subplots(1,3,figsize=(10,3),sharey=True)\n",
    "fig.set_facecolor('w')\n",
    "\n",
    "plt.sca(ax[0])\n",
    "plt.hist(IG_pMATRHO,color='grey',alpha=0.5)\n",
    "plt.vlines(IG_MATRHO, ymin=0, ymax=100, color='r')\n",
    "plt.ylabel('Number of Permutations',fontsize=12)\n",
    "k = np.sum(IG_pMATRHO > IG_MATRHO)/float(len(IG_pMATRHO))\n",
    "plt.title(\"IG ($MAT$, $RHO$; S): %s\\n$p$-value: %s\"%(\n",
    "    str(np.round(IG_MATRHO,4)),\n",
    "    str(np.round(k,4))),fontsize=12)\n",
    "\n",
    "plt.sca(ax[1])\n",
    "plt.hist(IG_pMATRIC8,color='grey',alpha=0.5)\n",
    "plt.vlines(IG_MATRIC8, ymin=0, ymax=100, color='r')\n",
    "k = np.sum(IG_pMATRIC8 > IG_MATRIC8)/float(len(IG_pMATRIC8))\n",
    "plt.title(\"IG ($MAT$, $RIC8$ ; S): %s\\n$p$-value: %s\"%(\n",
    "    str(np.round(IG_MATRIC8,4)),\n",
    "    str(np.round(k,4))),fontsize=12)\n",
    "\n",
    "plt.sca(ax[2])\n",
    "plt.hist(IG_pRHORIC8,color='grey',alpha=0.5)\n",
    "plt.vlines(IG_RHORIC8, ymin=0, ymax=100, color='r')\n",
    "k = np.sum(IG_pRHORIC8 > IG_RHORIC8)/float(len(IG_pRHORIC8))\n",
    "plt.title(\"IG ($RHO$, $RIC8$ ; S): %s\\n$p$-value: %s\"%(\n",
    "    str(np.round(IG_RHORIC8,4)),\n",
    "    str(np.round(k,4))),fontsize=12)\n",
    "\n",
    "fig.text(x=0.5,y=-0.05,s='Two Loci Information Gain (nats)',\n",
    "         fontsize=12,va='center',ha='center');"
   ]
  },
  {
   "cell_type": "code",
   "execution_count": 17,
   "metadata": {},
   "outputs": [
    {
     "name": "stdout",
     "output_type": "stream",
     "text": [
      "IG ( $MAT, RHO, RIC8$ ; S ): 0.015\n",
      "p-value: 0.0\n"
     ]
    },
    {
     "data": {
      "image/png": "[encoded data removed]",
      "text/plain": [
       "<Figure size 432x360 with 1 Axes>"
      ]
     },
     "metadata": {
      "needs_background": "light"
     },
     "output_type": "display_data"
    }
   ],
   "source": [
    "## Run permutation for higher order effects\n",
    "## With main effects fixed\n",
    "MIperm = []\n",
    "\n",
    "Y = pheno.loc[samples,newpheno_label].values.reshape(-1,1)\n",
    "uniq_y = sorted(np.unique(Y))\n",
    "\n",
    "while len(MIperm) < nperms:\n",
    "    origgenos = np.hstack((MAT,RHO,RIC8))\n",
    "    \n",
    "    pMAT = np.concatenate([np.random.permutation(MAT[(Y==y)]) for y in uniq_y]).reshape(-1,1)\n",
    "    pRHO = np.concatenate([np.random.permutation(RHO[(Y==y)]) for y in uniq_y]).reshape(-1,1)\n",
    "    pRIC8 = np.concatenate([np.random.permutation(RIC8[(Y==y)]) for y in uniq_y]).reshape(-1,1)\n",
    "    pY = np.concatenate([[y]*len(RIC8[Y==y]) for y in uniq_y]).reshape(-1,1)\n",
    "\n",
    "    pMATRHO = pMAT + 2*pRHO\n",
    "    pMATRIC8 = pMAT + 2*pRIC8\n",
    "    pRHORIC8 = pRHO + 2*pRIC8\n",
    "    pMATRHORIC8 = pMAT + 2*pRHO + 4*pRIC8    \n",
    "    \n",
    "    miperm = fs.mutual_info_classif(np.hstack((pY,\n",
    "                                  pMAT, pRHO, pRIC8,\n",
    "                                  pMATRHO, pMATRIC8, pRHORIC8,\n",
    "                                  pMATRHORIC8)),pY.ravel(),\n",
    "                                  discrete_features=True)\n",
    "    MIperm.append(miperm)\n",
    "    \n",
    "MIperm = np.array(MIperm)\n",
    "    \n",
    "MI_pMAT = MIperm[:,1]\n",
    "MI_pRHO = MIperm[:,2]\n",
    "MI_pRIC8 = MIperm[:,3]\n",
    "MI_pMATRHO = MIperm[:,4]\n",
    "MI_pMATRIC8 = MIperm[:,5]\n",
    "MI_pRHORIC8 = MIperm[:,6]\n",
    "MI_pMATRHORIC8 = MIperm[:,7]\n",
    "\n",
    "zeros = np.zeros_like(MI_pMAT)\n",
    "\n",
    "# IGstrict for permuted data\n",
    "IG_pMATRHO = MI_pMATRHO - MI_pMAT - MI_pRHO\n",
    "IG_pMATRIC8 = MI_pMATRIC8 - MI_pMAT - MI_pRIC8\n",
    "IG_pRHORIC8 = MI_pRHORIC8 - MI_pRHO - MI_pRIC8\n",
    "IG_pMATRHORIC8_mf =  MI_pMATRHORIC8 - np.maximum(IG_pMATRHO, zeros) \\\n",
    "    - np.maximum(IG_pMATRIC8, zeros) \\\n",
    "    - np.maximum(IG_pRHORIC8, zeros) \\\n",
    "    - MI_pMAT - MI_pRHO - MI_pRIC8\n",
    "\n",
    "## Examine three way interactioin null dist\n",
    "## make lable\n",
    "myxlabel = r'$\\rm{IG}$ '+'( RIC8, CNC06490, MAT ; S )' + r' $\\rm{nats}$'\n",
    "\n",
    "## call figure\n",
    "fig,ax = plt.subplots(1,1,figsize=(6,5))\n",
    "\n",
    "## Calculate pvalue for three loci interaction\n",
    "three_way_pval = np.round(np.sum(IG_pMATRHORIC8_mf > IG_MATRHORIC8)/float(len(IG_pMATRHORIC8_mf)),3)\n",
    "\n",
    "## plot null dist\n",
    "plt.hist(IG_pMATRHORIC8_mf,color='tab:grey',alpha=0.5,label='Null Distribution')\n",
    "\n",
    "## Plot observed IG\n",
    "plt.vlines(IG_MATRHORIC8, ymin=0, ymax=100,color='r',label='Observed')\n",
    "\n",
    "## print p-value and statistic\n",
    "print(\"IG ( $MAT, RHO, RIC8$ ; S ): %s\\np-value: %s\"%(\n",
    "    np.round(IG_MATRHORIC8,3), three_way_pval ))\n",
    "\n",
    "## Add legend\n",
    "plt.legend(fontsize=12);plt.xticks(fontsize=12);plt.yticks(fontsize=12)\n",
    "\n",
    "## add x and y labels\n",
    "plt.xlabel(myxlabel,fontstyle='italic',fontsize=14)\n",
    "plt.ylabel('Number of Permutations',fontsize=14);\n",
    "\n",
    "[ax.spines[t].set_visible(False) for t in ['top','right']]\n",
    "\n",
    "plt.savefig('../FIGURES/Three-way_IG_nulldist.png',dpi=400,bbox_inches='tight')"
   ]
  },
  {
   "cell_type": "code",
   "execution_count": 18,
   "metadata": {},
   "outputs": [
    {
     "data": {
      "image/png": "[encoded data removed]",
      "text/plain": [
       "<Figure size 720x216 with 3 Axes>"
      ]
     },
     "metadata": {},
     "output_type": "display_data"
    }
   ],
   "source": [
    "## Plot results\n",
    "## Call figure\n",
    "fig,ax = plt.subplots(1,3,figsize=(10,3),sharey=True)\n",
    "fig.set_facecolor('w')\n",
    "\n",
    "plt.sca(ax[0])\n",
    "plt.hist(IG_pMATRHO,color='grey',alpha=0.5)\n",
    "plt.vlines(IG_MATRHO, ymin=0, ymax=100, color='r')\n",
    "plt.ylabel('Number of Permutations',fontsize=12)\n",
    "k = np.sum(IG_pMATRHO > IG_MATRHO)/float(len(IG_pMATRHO))\n",
    "plt.title(\"IG ($MAT$, $RHO$; S): %s\\n$p$-value: %s\"%(\n",
    "    str(np.round(IG_MATRHO,4)),\n",
    "    str(np.round(k,4))),fontsize=12)\n",
    "\n",
    "plt.sca(ax[1])\n",
    "plt.hist(IG_pMATRIC8,color='grey',alpha=0.5)\n",
    "plt.vlines(IG_MATRIC8, ymin=0, ymax=100, color='r')\n",
    "k = np.sum(IG_pMATRIC8 > IG_MATRIC8)/float(len(IG_pMATRIC8))\n",
    "plt.title(\"IG ($MAT$, $RIC8$ ; S): %s\\n$p$-value: %s\"%(\n",
    "    str(np.round(IG_MATRIC8,4)),\n",
    "    str(np.round(k,4))),fontsize=12)\n",
    "\n",
    "plt.sca(ax[2])\n",
    "plt.hist(IG_pRHORIC8,color='grey',alpha=0.5)\n",
    "plt.vlines(IG_RHORIC8, ymin=0, ymax=100, color='r')\n",
    "k = np.sum(IG_pRHORIC8 > IG_RHORIC8)/float(len(IG_pRHORIC8))\n",
    "plt.title(\"IG ($RHO$, $RIC8$ ; S): %s\\n$p$-value: %s\"%(\n",
    "    str(np.round(IG_RHORIC8,4)),\n",
    "    str(np.round(k,4))),fontsize=12)\n",
    "\n",
    "fig.text(x=0.5,y=-0.05,s='Two Loci Information Gain (nats)',\n",
    "         fontsize=12,va='center',ha='center');"
   ]
  },
  {
   "cell_type": "code",
   "execution_count": 19,
   "metadata": {},
   "outputs": [],
   "source": [
    "## Run analysis with just the causal allele\n",
    "## Gather samples with causleal alle\n",
    "samples = pheno[(pheno.RIC8==1)].Genotyped\n",
    "\n",
    "## Gather the phenotypes coded 0 - 3\n",
    "Y = pheno.loc[samples,newpheno_label].values.reshape(-1,1)\n",
    "\n",
    "## Main loci to test, the MAT type (coded 0 or 1)\n",
    "## and genotypes at QTL3 (putatitve RHO) and RIC8\n",
    "MAT = pheno.loc[samples,'MAT'].values.reshape(-1,1)\n",
    "RHO = pheno.loc[samples,'RHO'].values.reshape(-1,1)\n",
    "\n",
    "## Encode two-locus genotypes\n",
    "MATRHO = MAT + 2 * RHO\n",
    "\n",
    "## Run MI code, this is using natrual log (nats)\n",
    "MIobs = fs.mutual_info_classif(np.hstack((Y,MAT,RHO,MATRHO)), Y.ravel(),discrete_features=True)\n",
    "\n",
    "## label MIs\n",
    "MI_MAT = MIobs[1]\n",
    "MI_RHO = MIobs[2]\n",
    "MI_MATRHO = MIobs[3]\n",
    "\n",
    "## Calculate IGstrict of Hu et al\n",
    "IG_MATRHO = MI_MATRHO - MI_MAT - MI_RHO"
   ]
  },
  {
   "cell_type": "code",
   "execution_count": 20,
   "metadata": {},
   "outputs": [],
   "source": [
    "## Run permutations with RIC8, causle allele data only\n",
    "MIperm = []\n",
    "\n",
    "## Permute \n",
    "while len(MIperm) < nperms:\n",
    "    origgenos = np.hstack((MAT,RHO))\n",
    "    permgenos = np.random.permutation(origgenos)\n",
    "    pMAT = permgenos[:,0].reshape(-1,1)\n",
    "    pRHO = permgenos[:,1].reshape(-1,1)\n",
    "    pMATRHO = pMAT + 2*pRHO\n",
    "    \n",
    "    miperm = fs.mutual_info_classif(np.hstack((Y,pMAT,pRHO,\n",
    "                                               pMATRHO)), \n",
    "                                    Y.ravel(),\n",
    "                                    discrete_features=True)\n",
    "    MIperm.append(miperm)\n",
    "    \n",
    "MIperm = np.array(MIperm)\n",
    "    \n",
    "MI_pMAT = MIperm[:,1]\n",
    "MI_pRHO = MIperm[:,2]\n",
    "MI_pMATRHO = MIperm[:,3]\n",
    "\n",
    "# IGstrict for permuted data\n",
    "IG_pMATRHO = MI_pMATRHO - MI_pMAT - MI_pRHO"
   ]
  },
  {
   "cell_type": "code",
   "execution_count": 22,
   "metadata": {},
   "outputs": [
    {
     "data": {
      "image/png": "[encoded data removed]",
      "text/plain": [
       "<Figure size 720x216 with 3 Axes>"
      ]
     },
     "metadata": {},
     "output_type": "display_data"
    }
   ],
   "source": [
    "## Plot results\n",
    "## Call figure\n",
    "fig,ax = plt.subplots(1,3,figsize=(10,3),sharey=True)\n",
    "fig.set_facecolor('w')\n",
    "\n",
    "plt.sca(ax[0])\n",
    "plt.hist(MI_pMAT,color='grey',alpha=0.5)\n",
    "plt.vlines(MI_MAT, ymin=0, ymax=yobs, color='r')\n",
    "k = np.sum(MI_pMAT > MI_MAT)/float(len(MI_pMAT))\n",
    "plt.title(\"I ($MAT$ ; S): %s\\n$p$-value: %s\"%(\n",
    "    str(np.round(MI_MAT,4)),\n",
    "    str(np.round(k,4))),fontsize=12)\n",
    "\n",
    "plt.ylabel('Number of Permutations',fontsize=12)\n",
    "\n",
    "plt.sca(ax[1])\n",
    "plt.hist(MI_pRHO,color='grey',alpha=0.5)\n",
    "plt.vlines(MI_RHO, ymin=0, ymax=yobs, color='r')\n",
    "k = np.sum(MI_pRHO > MI_RHO)/float(len(MI_pRHO))\n",
    "plt.title(\"I ($RHO$ ; S): %s\\n$p$-value: %s\"%(\n",
    "    str(np.round(MI_RHO,4)),\n",
    "    str(np.round(k,4))),fontsize=12)\n",
    "\n",
    "plt.sca(ax[2])\n",
    "plt.hist(IG_pMATRHO,color='grey',alpha=0.5)\n",
    "plt.vlines(IG_MATRHO, ymin=0, ymax=yobs, color='r')\n",
    "k = np.sum(IG_pMATRHO > IG_MATRHO)/float(len(IG_pMATRHO))\n",
    "plt.title(\"IG ($MAT$, $RHO$; S): %s\\n$p$-value: %s\"%(\n",
    "    str(np.round(IG_MATRHO,4)),\n",
    "    str(np.round(k,4))),fontsize=12)\n",
    "\n",
    "plt.xlabel('Two Loci Information Gain (nats)',\n",
    "         fontsize=12,va='center',ha='center');"
   ]
  },
  {
   "cell_type": "code",
   "execution_count": null,
   "metadata": {},
   "outputs": [],
   "source": []
  }
 ],
 "metadata": {
  "kernelspec": {
   "display_name": "Python 3",
   "language": "python",
   "name": "python3"
  },
  "language_info": {
   "codemirror_mode": {
    "name": "ipython",
    "version": 3
   },
   "file_extension": ".py",
   "mimetype": "text/x-python",
   "name": "python",
   "nbconvert_exporter": "python",
   "pygments_lexer": "ipython3",
   "version": "3.7.3"
  }
 },
 "nbformat": 4,
 "nbformat_minor": 4
}
