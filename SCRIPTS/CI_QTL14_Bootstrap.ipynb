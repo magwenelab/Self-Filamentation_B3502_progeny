{
 "cells": [
  {
   "cell_type": "code",
   "execution_count": 1,
   "metadata": {},
   "outputs": [],
   "source": [
    "## Load in needed mods\n",
    "## Bring in mutual information mods\n",
    "from sklearn import feature_selection as fs\n",
    "\n",
    "## Load in matplotlib\n",
    "from matplotlib import pyplot as plt\n",
    "\n",
    "## Import mods for analysis\n",
    "import numpy as np, pandas as pd, scipy.stats as ss"
   ]
  },
  {
   "cell_type": "code",
   "execution_count": 2,
   "metadata": {},
   "outputs": [
    {
     "data": {
      "text/html": [
       "<div>\n",
       "<style scoped>\n",
       "    .dataframe tbody tr th:only-of-type {\n",
       "        vertical-align: middle;\n",
       "    }\n",
       "\n",
       "    .dataframe tbody tr th {\n",
       "        vertical-align: top;\n",
       "    }\n",
       "\n",
       "    .dataframe thead th {\n",
       "        text-align: right;\n",
       "    }\n",
       "</style>\n",
       "<table border=\"1\" class=\"dataframe\">\n",
       "  <thead>\n",
       "    <tr style=\"text-align: right;\">\n",
       "      <th></th>\n",
       "      <th>Strain</th>\n",
       "      <th>Basidium</th>\n",
       "      <th>Phenotype_Short</th>\n",
       "      <th>Set</th>\n",
       "      <th>Phenotype_Description</th>\n",
       "      <th>Binary</th>\n",
       "      <th>Trinary</th>\n",
       "      <th>Quaternary</th>\n",
       "      <th>Genotyped</th>\n",
       "      <th>Clone</th>\n",
       "      <th>IRK7</th>\n",
       "      <th>RIC8</th>\n",
       "      <th>RHO</th>\n",
       "      <th>MAT</th>\n",
       "    </tr>\n",
       "  </thead>\n",
       "  <tbody>\n",
       "    <tr>\n",
       "      <th>0</th>\n",
       "      <td>A_01</td>\n",
       "      <td>1.0</td>\n",
       "      <td>N</td>\n",
       "      <td>0.0</td>\n",
       "      <td>Yeast</td>\n",
       "      <td>0.0</td>\n",
       "      <td>0.0</td>\n",
       "      <td>0.0</td>\n",
       "      <td>A01</td>\n",
       "      <td>0</td>\n",
       "      <td>1.0</td>\n",
       "      <td>0.0</td>\n",
       "      <td>1.0</td>\n",
       "      <td>1.0</td>\n",
       "    </tr>\n",
       "    <tr>\n",
       "      <th>1</th>\n",
       "      <td>A_02</td>\n",
       "      <td>1.0</td>\n",
       "      <td>Y</td>\n",
       "      <td>0.0</td>\n",
       "      <td>Selfing</td>\n",
       "      <td>1.0</td>\n",
       "      <td>2.0</td>\n",
       "      <td>2.0</td>\n",
       "      <td>A02</td>\n",
       "      <td>0</td>\n",
       "      <td>0.0</td>\n",
       "      <td>1.0</td>\n",
       "      <td>1.0</td>\n",
       "      <td>0.0</td>\n",
       "    </tr>\n",
       "    <tr>\n",
       "      <th>2</th>\n",
       "      <td>A_03</td>\n",
       "      <td>1.0</td>\n",
       "      <td>N</td>\n",
       "      <td>0.0</td>\n",
       "      <td>Yeast</td>\n",
       "      <td>0.0</td>\n",
       "      <td>0.0</td>\n",
       "      <td>0.0</td>\n",
       "      <td>A03</td>\n",
       "      <td>0</td>\n",
       "      <td>0.0</td>\n",
       "      <td>0.0</td>\n",
       "      <td>0.0</td>\n",
       "      <td>0.0</td>\n",
       "    </tr>\n",
       "    <tr>\n",
       "      <th>3</th>\n",
       "      <td>A_04</td>\n",
       "      <td>1.0</td>\n",
       "      <td>L</td>\n",
       "      <td>0.0</td>\n",
       "      <td>Large Cell</td>\n",
       "      <td>1.0</td>\n",
       "      <td>1.0</td>\n",
       "      <td>1.0</td>\n",
       "      <td>A04</td>\n",
       "      <td>0</td>\n",
       "      <td>1.0</td>\n",
       "      <td>1.0</td>\n",
       "      <td>0.0</td>\n",
       "      <td>1.0</td>\n",
       "    </tr>\n",
       "    <tr>\n",
       "      <th>4</th>\n",
       "      <td>A_06</td>\n",
       "      <td>2.0</td>\n",
       "      <td>L</td>\n",
       "      <td>0.0</td>\n",
       "      <td>Large Cell</td>\n",
       "      <td>1.0</td>\n",
       "      <td>1.0</td>\n",
       "      <td>1.0</td>\n",
       "      <td>A06</td>\n",
       "      <td>0</td>\n",
       "      <td>1.0</td>\n",
       "      <td>1.0</td>\n",
       "      <td>0.0</td>\n",
       "      <td>1.0</td>\n",
       "    </tr>\n",
       "  </tbody>\n",
       "</table>\n",
       "</div>"
      ],
      "text/plain": [
       "  Strain  Basidium Phenotype_Short  Set Phenotype_Description  Binary  \\\n",
       "0   A_01       1.0               N  0.0                 Yeast     0.0   \n",
       "1   A_02       1.0               Y  0.0               Selfing     1.0   \n",
       "2   A_03       1.0               N  0.0                 Yeast     0.0   \n",
       "3   A_04       1.0               L  0.0            Large Cell     1.0   \n",
       "4   A_06       2.0               L  0.0            Large Cell     1.0   \n",
       "\n",
       "   Trinary  Quaternary Genotyped  Clone  IRK7  RIC8  RHO  MAT  \n",
       "0      0.0         0.0       A01      0   1.0   0.0  1.0  1.0  \n",
       "1      2.0         2.0       A02      0   0.0   1.0  1.0  0.0  \n",
       "2      0.0         0.0       A03      0   0.0   0.0  0.0  0.0  \n",
       "3      1.0         1.0       A04      0   1.0   1.0  0.0  1.0  \n",
       "4      1.0         1.0       A06      0   1.0   1.0  0.0  1.0  "
      ]
     },
     "execution_count": 2,
     "metadata": {},
     "output_type": "execute_result"
    }
   ],
   "source": [
    "## Load in phenotype data\n",
    "## set path\n",
    "phenopath = '../PHENOTYPE/PROCESSED/Cellsize_shape_phenotype_QTL.csv.gz'\n",
    "\n",
    "## Load in dataframe\n",
    "pheno = pd.read_csv(phenopath)\n",
    "\n",
    "## Check that there are no clones\n",
    "assert pheno.Clone.sum() == 0, \"Clones present\"\n",
    "\n",
    "## View first 5 rows\n",
    "pheno.head()"
   ]
  },
  {
   "cell_type": "code",
   "execution_count": 3,
   "metadata": {},
   "outputs": [],
   "source": [
    "## Set phenotype name\n",
    "phenotype = 'Quaternary'\n",
    "\n",
    "## Slice a bit of data\n",
    "pheno_chr14 = pheno[[phenotype,'IRK7','RIC8']]"
   ]
  },
  {
   "cell_type": "code",
   "execution_count": 4,
   "metadata": {},
   "outputs": [
    {
     "data": {
      "text/plain": [
       "15.0"
      ]
     },
     "execution_count": 4,
     "metadata": {},
     "output_type": "execute_result"
    }
   ],
   "source": [
    "## Calculate the number of recombinant progeny\n",
    "n_rec = pheno_chr14[['IRK7','RIC8']].diff(axis=1).abs().sum().max()\n",
    "n_rec"
   ]
  },
  {
   "cell_type": "code",
   "execution_count": 5,
   "metadata": {},
   "outputs": [
    {
     "data": {
      "text/plain": [
       "0.21428571428571427"
      ]
     },
     "execution_count": 5,
     "metadata": {},
     "output_type": "execute_result"
    }
   ],
   "source": [
    "## How many are recombinant (not including the three parental strains)\n",
    "n_rec/(pheno_chr14.shape[0]-3)"
   ]
  },
  {
   "cell_type": "code",
   "execution_count": 6,
   "metadata": {},
   "outputs": [],
   "source": [
    "## Calculate bootstrapped MI observation\n",
    "## Set boot straps\n",
    "nboots = 1000\n",
    "\n",
    "## initilize boot list\n",
    "boots = []\n",
    "\n",
    "## Loop thru bootstraps\n",
    "while len(boots)<nboots:\n",
    "    \n",
    "    ## Sample progeny names\n",
    "    temp = pheno_chr14.sample(pheno_chr14.shape[0],replace=True).copy()\n",
    "    \n",
    "    ## Calculate MI\n",
    "    miobs = fs.mutual_info_classif(temp.values,temp[phenotype],discrete_features=True)\n",
    "    \n",
    "    ## Append list\n",
    "    boots.append(miobs)\n",
    "    \n",
    "## Make into a dataframe\n",
    "boots = pd.DataFrame(boots,columns=['Entropy','IRK7','RIC8'])"
   ]
  },
  {
   "cell_type": "code",
   "execution_count": 7,
   "metadata": {},
   "outputs": [],
   "source": [
    "## Zip together variant positions\n",
    "varpos = dict(zip(['IRK7','RIC8'],[134798,388777]))"
   ]
  },
  {
   "cell_type": "code",
   "execution_count": 8,
   "metadata": {},
   "outputs": [
    {
     "data": {
      "text/plain": [
       "388777.0"
      ]
     },
     "execution_count": 8,
     "metadata": {},
     "output_type": "execute_result"
    }
   ],
   "source": [
    "## What is the 99th percentile \n",
    "np.percentile(boots[['IRK7','RIC8']].T.idxmax().replace(varpos),99)"
   ]
  },
  {
   "cell_type": "code",
   "execution_count": 9,
   "metadata": {},
   "outputs": [
    {
     "data": {
      "text/plain": [
       "Entropy    1.215911\n",
       "IRK7       0.211268\n",
       "RIC8       0.585657\n",
       "dtype: float64"
      ]
     },
     "execution_count": 9,
     "metadata": {},
     "output_type": "execute_result"
    }
   ],
   "source": [
    "## Calculate the mean of the bootstraps\n",
    "boots.mean()"
   ]
  },
  {
   "cell_type": "code",
   "execution_count": 10,
   "metadata": {},
   "outputs": [
    {
     "data": {
      "text/plain": [
       "SpearmanrResult(correlation=0.5843492038624621, pvalue=5.713014256949314e-08)"
      ]
     },
     "execution_count": 10,
     "metadata": {},
     "output_type": "execute_result"
    }
   ],
   "source": [
    "## How correlated are these two loci?\n",
    "ss.spearmanr(pheno_chr14.IRK7.values,pheno_chr14.RIC8.values)"
   ]
  },
  {
   "cell_type": "code",
   "execution_count": 11,
   "metadata": {},
   "outputs": [
    {
     "data": {
      "text/plain": [
       "array([0.18105694])"
      ]
     },
     "execution_count": 11,
     "metadata": {},
     "output_type": "execute_result"
    }
   ],
   "source": [
    "## What is the true mutual information\n",
    "## between IRK7 and RIC8\n",
    "obs = fs.mutual_info_classif(pheno_chr14.IRK7.values.reshape(-1,1),\n",
    "                       pheno_chr14.RIC8.values,\n",
    "                       discrete_features=True)\n",
    "\n",
    "## Print this MI\n",
    "obs"
   ]
  },
  {
   "cell_type": "code",
   "execution_count": 12,
   "metadata": {},
   "outputs": [],
   "source": [
    "## Generate a null dist of mutual information\n",
    "## between the two loci using 1000 permutations\n",
    "perms = np.concatenate([fs.mutual_info_classif(np.random.permutation(pheno_chr14.IRK7.values.reshape(-1,1)),\n",
    "                       pheno_chr14.RIC8.values,\n",
    "                       discrete_features=True) for i in range(1000)])"
   ]
  },
  {
   "cell_type": "code",
   "execution_count": 13,
   "metadata": {},
   "outputs": [
    {
     "data": {
      "text/plain": [
       "0.0"
      ]
     },
     "execution_count": 13,
     "metadata": {},
     "output_type": "execute_result"
    }
   ],
   "source": [
    "## What percent of permuted MI is greater than the obsvered?\n",
    "np.sum(perms > obs)/len(perms)"
   ]
  },
  {
   "cell_type": "code",
   "execution_count": 14,
   "metadata": {},
   "outputs": [
    {
     "data": {
      "image/png": "[encoded data removed]",
      "text/plain": [
       "<Figure size 432x288 with 1 Axes>"
      ]
     },
     "metadata": {
      "needs_background": "light"
     },
     "output_type": "display_data"
    }
   ],
   "source": [
    "## Generate a hitogram showing the\n",
    "## null distribution of MI and the true MI\n",
    "## between RIC8 and IRK7\n",
    "plt.hist(perms/np.log(2),color='grey',alpha=0.5);\n",
    "plt.vlines(obs/np.log(2),0,len(perms)/10,color='r');\n",
    "plt.ylabel('Number of Permutations',fontsize=12)\n",
    "plt.xlabel('I (RIC8 ; IRK7) Shannons',fontsize=12);"
   ]
  },
  {
   "cell_type": "code",
   "execution_count": null,
   "metadata": {},
   "outputs": [],
   "source": []
  }
 ],
 "metadata": {
  "kernelspec": {
   "display_name": "Python 3",
   "language": "python",
   "name": "python3"
  },
  "language_info": {
   "codemirror_mode": {
    "name": "ipython",
    "version": 3
   },
   "file_extension": ".py",
   "mimetype": "text/x-python",
   "name": "python",
   "nbconvert_exporter": "python",
   "pygments_lexer": "ipython3",
   "version": "3.7.3"
  }
 },
 "nbformat": 4,
 "nbformat_minor": 4
}
