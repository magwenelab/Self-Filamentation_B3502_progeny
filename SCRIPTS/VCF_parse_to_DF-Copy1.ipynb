{
 "cells": [
  {
   "cell_type": "code",
   "execution_count": 1,
   "metadata": {},
   "outputs": [],
   "source": [
    "## Bring in needed mods\n",
    "import numpy as np, pandas as pd, vcfpy, glob\n",
    "from matplotlib import pyplot as plt\n",
    "%matplotlib inline"
   ]
  },
  {
   "cell_type": "code",
   "execution_count": 2,
   "metadata": {},
   "outputs": [
    {
     "data": {
      "text/plain": [
       "14"
      ]
     },
     "execution_count": 2,
     "metadata": {},
     "output_type": "execute_result"
    }
   ],
   "source": [
    "## Set vcf paths (with wild card) and print number\n",
    "vcfpath = '/home/croth/SELFFILAM/VCF/AE0173*.vcf.gz' \n",
    "vcfs = sorted(glob.glob(vcfpath))\n",
    "len(vcfs)"
   ]
  },
  {
   "cell_type": "code",
   "execution_count": 3,
   "metadata": {},
   "outputs": [
    {
     "name": "stdout",
     "output_type": "stream",
     "text": [
      "AE017341.1.B3502.progeny_1\n",
      "AE017342.1.B3502.progeny_2\n",
      "AE017343.1.B3502.progeny_3\n",
      "AE017344.1.B3502.progeny_4\n",
      "AE017345.1.B3502.progeny_5\n",
      "AE017346.1.B3502.progeny_6\n",
      "AE017347.1.B3502.progeny_7\n",
      "AE017348.1.B3502.progeny_8\n",
      "AE017349.1.B3502.progeny_9\n",
      "AE017350.1.B3502.progeny_10\n",
      "AE017351.1.B3502.progeny_11\n",
      "AE017352.1.B3502.progeny_12\n",
      "AE017353.1.B3502.progeny_13\n",
      "AE017356.1.B3502.progeny_14\n"
     ]
    }
   ],
   "source": [
    "## Show the saveing labels for the files\n",
    "vcfsplit = '.vcf'\n",
    "for i,vcffile in enumerate(vcfs):\n",
    "    savechrom = vcffile.split(vcfsplit)[0\n",
    "                    ].split('/')[-1]+'_%s'%(i+1)\n",
    "    print(savechrom)"
   ]
  },
  {
   "cell_type": "code",
   "execution_count": 4,
   "metadata": {},
   "outputs": [],
   "source": [
    "## interate thru each vcf and parse needed info\n",
    "for i,vcffile in enumerate(vcfs):\n",
    "    ## Set save ing name\n",
    "    savechrom = vcffile.split(vcfsplit)[0].split('/')[-1]+'_%s'%(i+1)\n",
    "        \n",
    "    ## Load in variant records and sample names\n",
    "    rdr = vcfpy.Reader.from_path(vcffile)\n",
    "    samples = rdr.header.samples.names\n",
    "    recs = [rec for rec in rdr]\n",
    "    \n",
    "    ## Gather info on recs\n",
    "    chrom = [rec.CHROM for rec in recs]\n",
    "    pos = [rec.POS for rec in recs]\n",
    "    qual = [rec.QUAL for rec in recs]\n",
    "    callrate = [rec.INFO['AN']/len(rec.calls) for rec in recs]\n",
    "    ref = [rec.REF for rec in recs]\n",
    "    alt = [rec.ALT for rec in recs]\n",
    "    Nalt = [len(a) for a in alt]\n",
    "    len_alt_max = [np.max([len(k.value) for k in a ]) \n",
    "                   for i,a in enumerate(alt)]\n",
    "    len_alt_min = [np.max([len(k.value) for k in a ]) \n",
    "                   for i,a in enumerate(alt)]\n",
    "    depth = [rec.INFO['DP'] for rec in recs]\n",
    "    typegv = [rec.INFO['TYPE'][0] for rec in recs]\n",
    "    alleles = ['.'.join([ref[i]]+[k.value for k in a ]) \n",
    "                               for i,a in enumerate(alt)]\n",
    "    \n",
    "    ## Gather infor per recorded\n",
    "    DP = []\n",
    "    AR = []\n",
    "    GT = []\n",
    "    for rec in recs:\n",
    "        dp = []\n",
    "        ar = []\n",
    "        gt = []\n",
    "        for s in rec:\n",
    "            if s.data['GT'] is None:\n",
    "                dp.append(np.nan)\n",
    "                ar.append(np.nan)\n",
    "                gt.append(np.nan)\n",
    "            else:\n",
    "                dp.append(np.sum(s.data['AD']))\n",
    "                ar.append(int(s.data['AD'][int(s.data['GT'])])/(\n",
    "                        np.sum(s.data['AD'])+1))\n",
    "                gt.append(int(s.data['GT']))\n",
    "                \n",
    "        DP.append(dp)\n",
    "        AR.append(ar)\n",
    "        GT.append(gt)\n",
    "        \n",
    "    ## make dataframes\n",
    "    dps = pd.DataFrame(DP,columns=samples)\n",
    "    ars = pd.DataFrame(AR,columns=samples)\n",
    "    gts = pd.DataFrame(GT,columns=samples)\n",
    "    info = pd.DataFrame([chrom,pos,qual,callrate,Nalt,\n",
    "                     alleles,len_alt_max,len_alt_min,\n",
    "                     depth,typegv],\n",
    "                    index=['Seqid','Pos','Qual','Callrate','Nallele',\n",
    "                           'Alleles','Maxlen','Minlen','Depth','Type']).T\n",
    "    \n",
    "    ## Save dataframes\n",
    "    dps.to_csv('../GENOTYPE/DP/%s_depths.csv.gz'%savechrom)\n",
    "    ars.to_csv('../GENOTYPE/AF/%s_allele_ratios.csv.gz'%savechrom)\n",
    "    gts.to_csv('../GENOTYPE/GT/%s_genotypes.csv.gz'%savechrom)\n",
    "    info.to_csv('../GENOTYPE/INFO/%s_info_cols.csv.gz'%savechrom)"
   ]
  },
  {
   "cell_type": "markdown",
   "metadata": {},
   "source": [
    "test = [recs[i] for i,n in enumerate(Nalt) if n>1]"
   ]
  },
  {
   "cell_type": "markdown",
   "metadata": {},
   "source": [
    "for s in test[20]:\n",
    "    if s.data['GT'] is not None:\n",
    "        k = int(s.data['AD'][int(s.data['GT'])])/(np.sum(s.data['AD'])+1)\n",
    "        m = np.max(s.data['AD'])/(np.sum(s.data['AD'])+1)\n",
    "        print(k,m)"
   ]
  },
  {
   "cell_type": "code",
   "execution_count": null,
   "metadata": {},
   "outputs": [],
   "source": []
  }
 ],
 "metadata": {
  "kernelspec": {
   "display_name": "Python 3",
   "language": "python",
   "name": "python3"
  },
  "language_info": {
   "codemirror_mode": {
    "name": "ipython",
    "version": 3
   },
   "file_extension": ".py",
   "mimetype": "text/x-python",
   "name": "python",
   "nbconvert_exporter": "python",
   "pygments_lexer": "ipython3",
   "version": "3.7.3"
  }
 },
 "nbformat": 4,
 "nbformat_minor": 4
}
