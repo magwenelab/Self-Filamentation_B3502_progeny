{
 "cells": [
  {
   "cell_type": "code",
   "execution_count": 1,
   "metadata": {},
   "outputs": [],
   "source": [
    "## Bring in needed mods\n",
    "import pandas as pd, numpy as np, glob, sys, os, seaborn as sns\n",
    "from matplotlib import pyplot as plt\n",
    "%matplotlib inline\n",
    "\n",
    "sys.path.insert(0, '/home/croth/QTL-functions/SCRIPTS/')\n",
    "import qtlfunctions as qtlfun"
   ]
  },
  {
   "cell_type": "code",
   "execution_count": 2,
   "metadata": {},
   "outputs": [],
   "source": [
    "## Define ftn for use in brining in data\n",
    "def makedf(paths,sep='_',fn = 1):\n",
    "    df = []\n",
    "    for d in paths:\n",
    "        \n",
    "        temp = pd.read_csv(d,index_col=0)\n",
    "        temp['Chrom'] = int(d.split(sep)[fn])\n",
    "        temp['Oldix'] = temp.index\n",
    "        df.append(temp)\n",
    "        \n",
    "    return pd.concat(df).reset_index(drop=True)"
   ]
  },
  {
   "cell_type": "code",
   "execution_count": 3,
   "metadata": {},
   "outputs": [],
   "source": [
    "## Load in centormere locs\n",
    "centpaths = '/home/croth/Downloads/B3502/DATA/FungiDB-48_CneoformansJEC21_centromeres.csv'\n",
    "centlocs = pd.read_csv(centpaths,index_col=0)\n",
    "\n",
    "## Load in gff path\n",
    "gffpath = '/home/croth/Downloads/B3502/REF/FungiDB-48_CneoformansJEC21.gff.gz'\n",
    "gff = qtlfun.loadgff(gffpath)"
   ]
  },
  {
   "cell_type": "code",
   "execution_count": 4,
   "metadata": {},
   "outputs": [
    {
     "data": {
      "text/html": [
       "<div>\n",
       "<style scoped>\n",
       "    .dataframe tbody tr th:only-of-type {\n",
       "        vertical-align: middle;\n",
       "    }\n",
       "\n",
       "    .dataframe tbody tr th {\n",
       "        vertical-align: top;\n",
       "    }\n",
       "\n",
       "    .dataframe thead th {\n",
       "        text-align: right;\n",
       "    }\n",
       "</style>\n",
       "<table border=\"1\" class=\"dataframe\">\n",
       "  <thead>\n",
       "    <tr style=\"text-align: right;\">\n",
       "      <th></th>\n",
       "      <th>Basidium</th>\n",
       "      <th>Phenotype on MS (N-no filamentation; Y-filamentation; L-giant cells; T-transgressive filamentation)</th>\n",
       "      <th>Progeny</th>\n",
       "      <th>Parent</th>\n",
       "      <th>Phenotype</th>\n",
       "    </tr>\n",
       "  </thead>\n",
       "  <tbody>\n",
       "    <tr>\n",
       "      <th>0</th>\n",
       "      <td>1.0</td>\n",
       "      <td>N</td>\n",
       "      <td>A01</td>\n",
       "      <td>A1</td>\n",
       "      <td>0.0</td>\n",
       "    </tr>\n",
       "    <tr>\n",
       "      <th>1</th>\n",
       "      <td>1.0</td>\n",
       "      <td>Y</td>\n",
       "      <td>A02</td>\n",
       "      <td>A1</td>\n",
       "      <td>1.0</td>\n",
       "    </tr>\n",
       "    <tr>\n",
       "      <th>2</th>\n",
       "      <td>1.0</td>\n",
       "      <td>N</td>\n",
       "      <td>A03</td>\n",
       "      <td>A1</td>\n",
       "      <td>0.0</td>\n",
       "    </tr>\n",
       "    <tr>\n",
       "      <th>3</th>\n",
       "      <td>1.0</td>\n",
       "      <td>L</td>\n",
       "      <td>A04</td>\n",
       "      <td>A1</td>\n",
       "      <td>3.0</td>\n",
       "    </tr>\n",
       "    <tr>\n",
       "      <th>4</th>\n",
       "      <td>2.0</td>\n",
       "      <td>N (with rare spots of T)</td>\n",
       "      <td>A05</td>\n",
       "      <td>A1</td>\n",
       "      <td>0.0</td>\n",
       "    </tr>\n",
       "  </tbody>\n",
       "</table>\n",
       "</div>"
      ],
      "text/plain": [
       "   Basidium  \\\n",
       "0       1.0   \n",
       "1       1.0   \n",
       "2       1.0   \n",
       "3       1.0   \n",
       "4       2.0   \n",
       "\n",
       "  Phenotype on MS (N-no filamentation; Y-filamentation; L-giant cells; T-transgressive filamentation)  \\\n",
       "0                                                  N                                                    \n",
       "1                                                  Y                                                    \n",
       "2                                                  N                                                    \n",
       "3                                                  L                                                    \n",
       "4                           N (with rare spots of T)                                                    \n",
       "\n",
       "  Progeny Parent  Phenotype  \n",
       "0     A01     A1        0.0  \n",
       "1     A02     A1        1.0  \n",
       "2     A03     A1        0.0  \n",
       "3     A04     A1        3.0  \n",
       "4     A05     A1        0.0  "
      ]
     },
     "execution_count": 4,
     "metadata": {},
     "output_type": "execute_result"
    }
   ],
   "source": [
    "## Bring in phenotype information\n",
    "data = '../PHENOTYPE/202011_WGS_B3502Progeny_for_QTL.xlsx'\n",
    "pheno = pd.read_excel(data)\n",
    "\n",
    "## Set progeny\n",
    "pheno['Progeny'] = [''.join(a.split(\"_\"))[:3] for a in pheno[pheno.columns[0]]]\n",
    "pheno['Parent'] = [ a.split('_')[0].split('B3502')[-1] for a in pheno['Cross_Progeny']]\n",
    "\n",
    "## Add a phenotype column with a dictionarry\n",
    "## Make a numeric map of phenotypes\n",
    "unipheno = sorted(pheno[pheno.columns[3]].unique())\n",
    "\n",
    "## Make dicitonary\n",
    "npheno = np.array([3,0,0,2,1],dtype=float)\n",
    "pdict = dict(zip(unipheno,npheno))\n",
    "\n",
    "## Add phenotype\n",
    "pheno['Phenotype'] = pheno[pheno.columns[3]].replace(pdict)\n",
    "\n",
    "## Drop un-needed columns\n",
    "pheno.drop(pheno.columns[:2].tolist()+['Notes'],axis=1,inplace=True)\n",
    "\n",
    "## View head\n",
    "pheno.head()"
   ]
  },
  {
   "cell_type": "code",
   "execution_count": 5,
   "metadata": {},
   "outputs": [
    {
     "data": {
      "text/html": [
       "<div>\n",
       "<style scoped>\n",
       "    .dataframe tbody tr th:only-of-type {\n",
       "        vertical-align: middle;\n",
       "    }\n",
       "\n",
       "    .dataframe tbody tr th {\n",
       "        vertical-align: top;\n",
       "    }\n",
       "\n",
       "    .dataframe thead th {\n",
       "        text-align: right;\n",
       "    }\n",
       "</style>\n",
       "<table border=\"1\" class=\"dataframe\">\n",
       "  <thead>\n",
       "    <tr style=\"text-align: right;\">\n",
       "      <th></th>\n",
       "      <th>Basidium</th>\n",
       "      <th>Phenotype on MS (N-no filamentation; Y-filamentation; L-giant cells; T-transgressive filamentation)</th>\n",
       "      <th>Progeny</th>\n",
       "      <th>Parent</th>\n",
       "      <th>Phenotype</th>\n",
       "    </tr>\n",
       "  </thead>\n",
       "  <tbody>\n",
       "    <tr>\n",
       "      <th>0</th>\n",
       "      <td>1.0</td>\n",
       "      <td>N</td>\n",
       "      <td>A01</td>\n",
       "      <td>A1</td>\n",
       "      <td>0.0</td>\n",
       "    </tr>\n",
       "    <tr>\n",
       "      <th>1</th>\n",
       "      <td>1.0</td>\n",
       "      <td>Y</td>\n",
       "      <td>A02</td>\n",
       "      <td>A1</td>\n",
       "      <td>1.0</td>\n",
       "    </tr>\n",
       "    <tr>\n",
       "      <th>2</th>\n",
       "      <td>1.0</td>\n",
       "      <td>N</td>\n",
       "      <td>A03</td>\n",
       "      <td>A1</td>\n",
       "      <td>0.0</td>\n",
       "    </tr>\n",
       "    <tr>\n",
       "      <th>3</th>\n",
       "      <td>1.0</td>\n",
       "      <td>L</td>\n",
       "      <td>A04</td>\n",
       "      <td>A1</td>\n",
       "      <td>3.0</td>\n",
       "    </tr>\n",
       "    <tr>\n",
       "      <th>4</th>\n",
       "      <td>2.0</td>\n",
       "      <td>N (with rare spots of T)</td>\n",
       "      <td>A05</td>\n",
       "      <td>A1</td>\n",
       "      <td>0.0</td>\n",
       "    </tr>\n",
       "    <tr>\n",
       "      <th>5</th>\n",
       "      <td>2.0</td>\n",
       "      <td>L</td>\n",
       "      <td>A06</td>\n",
       "      <td>A1</td>\n",
       "      <td>3.0</td>\n",
       "    </tr>\n",
       "    <tr>\n",
       "      <th>6</th>\n",
       "      <td>2.0</td>\n",
       "      <td>Y</td>\n",
       "      <td>A07</td>\n",
       "      <td>A1</td>\n",
       "      <td>1.0</td>\n",
       "    </tr>\n",
       "    <tr>\n",
       "      <th>7</th>\n",
       "      <td>2.0</td>\n",
       "      <td>N</td>\n",
       "      <td>A08</td>\n",
       "      <td>A1</td>\n",
       "      <td>0.0</td>\n",
       "    </tr>\n",
       "    <tr>\n",
       "      <th>8</th>\n",
       "      <td>3.0</td>\n",
       "      <td>T</td>\n",
       "      <td>A09</td>\n",
       "      <td>A1</td>\n",
       "      <td>2.0</td>\n",
       "    </tr>\n",
       "    <tr>\n",
       "      <th>9</th>\n",
       "      <td>3.0</td>\n",
       "      <td>N</td>\n",
       "      <td>A10</td>\n",
       "      <td>A1</td>\n",
       "      <td>0.0</td>\n",
       "    </tr>\n",
       "    <tr>\n",
       "      <th>10</th>\n",
       "      <td>3.0</td>\n",
       "      <td>N</td>\n",
       "      <td>A11</td>\n",
       "      <td>A1</td>\n",
       "      <td>0.0</td>\n",
       "    </tr>\n",
       "    <tr>\n",
       "      <th>11</th>\n",
       "      <td>3.0</td>\n",
       "      <td>Y</td>\n",
       "      <td>A12</td>\n",
       "      <td>A1</td>\n",
       "      <td>1.0</td>\n",
       "    </tr>\n",
       "    <tr>\n",
       "      <th>12</th>\n",
       "      <td>4.0</td>\n",
       "      <td>Y</td>\n",
       "      <td>A13</td>\n",
       "      <td>A1</td>\n",
       "      <td>1.0</td>\n",
       "    </tr>\n",
       "    <tr>\n",
       "      <th>13</th>\n",
       "      <td>4.0</td>\n",
       "      <td>N</td>\n",
       "      <td>A14</td>\n",
       "      <td>A1</td>\n",
       "      <td>0.0</td>\n",
       "    </tr>\n",
       "    <tr>\n",
       "      <th>14</th>\n",
       "      <td>1.0</td>\n",
       "      <td>Y</td>\n",
       "      <td>A15</td>\n",
       "      <td>B1</td>\n",
       "      <td>1.0</td>\n",
       "    </tr>\n",
       "    <tr>\n",
       "      <th>15</th>\n",
       "      <td>1.0</td>\n",
       "      <td>N</td>\n",
       "      <td>A16</td>\n",
       "      <td>B1</td>\n",
       "      <td>0.0</td>\n",
       "    </tr>\n",
       "    <tr>\n",
       "      <th>16</th>\n",
       "      <td>1.0</td>\n",
       "      <td>L</td>\n",
       "      <td>A17</td>\n",
       "      <td>B1</td>\n",
       "      <td>3.0</td>\n",
       "    </tr>\n",
       "    <tr>\n",
       "      <th>17</th>\n",
       "      <td>1.0</td>\n",
       "      <td>N</td>\n",
       "      <td>A18</td>\n",
       "      <td>B1</td>\n",
       "      <td>0.0</td>\n",
       "    </tr>\n",
       "    <tr>\n",
       "      <th>18</th>\n",
       "      <td>2.0</td>\n",
       "      <td>N</td>\n",
       "      <td>A19</td>\n",
       "      <td>B1</td>\n",
       "      <td>0.0</td>\n",
       "    </tr>\n",
       "    <tr>\n",
       "      <th>19</th>\n",
       "      <td>2.0</td>\n",
       "      <td>Y</td>\n",
       "      <td>A20</td>\n",
       "      <td>B1</td>\n",
       "      <td>1.0</td>\n",
       "    </tr>\n",
       "    <tr>\n",
       "      <th>20</th>\n",
       "      <td>3.0</td>\n",
       "      <td>N</td>\n",
       "      <td>A21</td>\n",
       "      <td>B1</td>\n",
       "      <td>0.0</td>\n",
       "    </tr>\n",
       "    <tr>\n",
       "      <th>21</th>\n",
       "      <td>3.0</td>\n",
       "      <td>L</td>\n",
       "      <td>A22</td>\n",
       "      <td>B1</td>\n",
       "      <td>3.0</td>\n",
       "    </tr>\n",
       "    <tr>\n",
       "      <th>22</th>\n",
       "      <td>3.0</td>\n",
       "      <td>N</td>\n",
       "      <td>A23</td>\n",
       "      <td>B1</td>\n",
       "      <td>0.0</td>\n",
       "    </tr>\n",
       "    <tr>\n",
       "      <th>23</th>\n",
       "      <td>4.0</td>\n",
       "      <td>Y</td>\n",
       "      <td>A24</td>\n",
       "      <td>B1</td>\n",
       "      <td>1.0</td>\n",
       "    </tr>\n",
       "    <tr>\n",
       "      <th>24</th>\n",
       "      <td>4.0</td>\n",
       "      <td>N</td>\n",
       "      <td>A25</td>\n",
       "      <td>B1</td>\n",
       "      <td>0.0</td>\n",
       "    </tr>\n",
       "    <tr>\n",
       "      <th>25</th>\n",
       "      <td>4.0</td>\n",
       "      <td>L</td>\n",
       "      <td>A26</td>\n",
       "      <td>B1</td>\n",
       "      <td>3.0</td>\n",
       "    </tr>\n",
       "    <tr>\n",
       "      <th>26</th>\n",
       "      <td>4.0</td>\n",
       "      <td>T</td>\n",
       "      <td>A27</td>\n",
       "      <td>B1</td>\n",
       "      <td>2.0</td>\n",
       "    </tr>\n",
       "    <tr>\n",
       "      <th>27</th>\n",
       "      <td>4.0</td>\n",
       "      <td>N</td>\n",
       "      <td>A28</td>\n",
       "      <td>B1</td>\n",
       "      <td>0.0</td>\n",
       "    </tr>\n",
       "    <tr>\n",
       "      <th>28</th>\n",
       "      <td>1.0</td>\n",
       "      <td>Y</td>\n",
       "      <td>A29</td>\n",
       "      <td>B7</td>\n",
       "      <td>1.0</td>\n",
       "    </tr>\n",
       "    <tr>\n",
       "      <th>29</th>\n",
       "      <td>1.0</td>\n",
       "      <td>N</td>\n",
       "      <td>A30</td>\n",
       "      <td>B7</td>\n",
       "      <td>0.0</td>\n",
       "    </tr>\n",
       "    <tr>\n",
       "      <th>30</th>\n",
       "      <td>1.0</td>\n",
       "      <td>N</td>\n",
       "      <td>A31</td>\n",
       "      <td>B7</td>\n",
       "      <td>0.0</td>\n",
       "    </tr>\n",
       "    <tr>\n",
       "      <th>31</th>\n",
       "      <td>1.0</td>\n",
       "      <td>L</td>\n",
       "      <td>A32</td>\n",
       "      <td>B7</td>\n",
       "      <td>3.0</td>\n",
       "    </tr>\n",
       "    <tr>\n",
       "      <th>32</th>\n",
       "      <td>2.0</td>\n",
       "      <td>N</td>\n",
       "      <td>A33</td>\n",
       "      <td>B7</td>\n",
       "      <td>0.0</td>\n",
       "    </tr>\n",
       "    <tr>\n",
       "      <th>33</th>\n",
       "      <td>2.0</td>\n",
       "      <td>N</td>\n",
       "      <td>A34</td>\n",
       "      <td>B7</td>\n",
       "      <td>0.0</td>\n",
       "    </tr>\n",
       "    <tr>\n",
       "      <th>34</th>\n",
       "      <td>2.0</td>\n",
       "      <td>Y</td>\n",
       "      <td>A35</td>\n",
       "      <td>B7</td>\n",
       "      <td>1.0</td>\n",
       "    </tr>\n",
       "    <tr>\n",
       "      <th>35</th>\n",
       "      <td>3.0</td>\n",
       "      <td>Y</td>\n",
       "      <td>A36</td>\n",
       "      <td>B7</td>\n",
       "      <td>1.0</td>\n",
       "    </tr>\n",
       "    <tr>\n",
       "      <th>36</th>\n",
       "      <td>3.0</td>\n",
       "      <td>T</td>\n",
       "      <td>A37</td>\n",
       "      <td>B7</td>\n",
       "      <td>2.0</td>\n",
       "    </tr>\n",
       "    <tr>\n",
       "      <th>37</th>\n",
       "      <td>3.0</td>\n",
       "      <td>L</td>\n",
       "      <td>A38</td>\n",
       "      <td>B7</td>\n",
       "      <td>3.0</td>\n",
       "    </tr>\n",
       "    <tr>\n",
       "      <th>38</th>\n",
       "      <td>3.0</td>\n",
       "      <td>N</td>\n",
       "      <td>A39</td>\n",
       "      <td>B7</td>\n",
       "      <td>0.0</td>\n",
       "    </tr>\n",
       "    <tr>\n",
       "      <th>39</th>\n",
       "      <td>3.0</td>\n",
       "      <td>N</td>\n",
       "      <td>A40</td>\n",
       "      <td>B7</td>\n",
       "      <td>0.0</td>\n",
       "    </tr>\n",
       "    <tr>\n",
       "      <th>40</th>\n",
       "      <td>4.0</td>\n",
       "      <td>N</td>\n",
       "      <td>A41</td>\n",
       "      <td>B7</td>\n",
       "      <td>0.0</td>\n",
       "    </tr>\n",
       "    <tr>\n",
       "      <th>41</th>\n",
       "      <td>4.0</td>\n",
       "      <td>L</td>\n",
       "      <td>A42</td>\n",
       "      <td>B7</td>\n",
       "      <td>3.0</td>\n",
       "    </tr>\n",
       "    <tr>\n",
       "      <th>42</th>\n",
       "      <td>4.0</td>\n",
       "      <td>T</td>\n",
       "      <td>A43</td>\n",
       "      <td>B7</td>\n",
       "      <td>2.0</td>\n",
       "    </tr>\n",
       "    <tr>\n",
       "      <th>43</th>\n",
       "      <td>4.0</td>\n",
       "      <td>Y</td>\n",
       "      <td>A44</td>\n",
       "      <td>B7</td>\n",
       "      <td>1.0</td>\n",
       "    </tr>\n",
       "    <tr>\n",
       "      <th>44</th>\n",
       "      <td>NaN</td>\n",
       "      <td>Y</td>\n",
       "      <td>B01</td>\n",
       "      <td>A1</td>\n",
       "      <td>1.0</td>\n",
       "    </tr>\n",
       "    <tr>\n",
       "      <th>45</th>\n",
       "      <td>NaN</td>\n",
       "      <td>N</td>\n",
       "      <td>B02</td>\n",
       "      <td>A1</td>\n",
       "      <td>0.0</td>\n",
       "    </tr>\n",
       "    <tr>\n",
       "      <th>46</th>\n",
       "      <td>NaN</td>\n",
       "      <td>N</td>\n",
       "      <td>B03</td>\n",
       "      <td>A1</td>\n",
       "      <td>0.0</td>\n",
       "    </tr>\n",
       "    <tr>\n",
       "      <th>47</th>\n",
       "      <td>NaN</td>\n",
       "      <td>L</td>\n",
       "      <td>B04</td>\n",
       "      <td>A1</td>\n",
       "      <td>3.0</td>\n",
       "    </tr>\n",
       "    <tr>\n",
       "      <th>48</th>\n",
       "      <td>NaN</td>\n",
       "      <td>N (with rare spots of T)</td>\n",
       "      <td>B05</td>\n",
       "      <td>A1</td>\n",
       "      <td>0.0</td>\n",
       "    </tr>\n",
       "    <tr>\n",
       "      <th>49</th>\n",
       "      <td>NaN</td>\n",
       "      <td>L</td>\n",
       "      <td>B06</td>\n",
       "      <td>A1</td>\n",
       "      <td>3.0</td>\n",
       "    </tr>\n",
       "    <tr>\n",
       "      <th>50</th>\n",
       "      <td>NaN</td>\n",
       "      <td>T</td>\n",
       "      <td>B07</td>\n",
       "      <td>A1</td>\n",
       "      <td>2.0</td>\n",
       "    </tr>\n",
       "    <tr>\n",
       "      <th>51</th>\n",
       "      <td>NaN</td>\n",
       "      <td>N</td>\n",
       "      <td>B08</td>\n",
       "      <td>A1</td>\n",
       "      <td>0.0</td>\n",
       "    </tr>\n",
       "    <tr>\n",
       "      <th>52</th>\n",
       "      <td>NaN</td>\n",
       "      <td>N</td>\n",
       "      <td>B09</td>\n",
       "      <td>A1</td>\n",
       "      <td>0.0</td>\n",
       "    </tr>\n",
       "    <tr>\n",
       "      <th>53</th>\n",
       "      <td>NaN</td>\n",
       "      <td>N</td>\n",
       "      <td>B10</td>\n",
       "      <td>A1</td>\n",
       "      <td>0.0</td>\n",
       "    </tr>\n",
       "    <tr>\n",
       "      <th>54</th>\n",
       "      <td>NaN</td>\n",
       "      <td>T</td>\n",
       "      <td>B11</td>\n",
       "      <td>A1</td>\n",
       "      <td>2.0</td>\n",
       "    </tr>\n",
       "    <tr>\n",
       "      <th>55</th>\n",
       "      <td>NaN</td>\n",
       "      <td>N</td>\n",
       "      <td>B12</td>\n",
       "      <td>B1</td>\n",
       "      <td>0.0</td>\n",
       "    </tr>\n",
       "    <tr>\n",
       "      <th>56</th>\n",
       "      <td>NaN</td>\n",
       "      <td>Y</td>\n",
       "      <td>B20</td>\n",
       "      <td>B1</td>\n",
       "      <td>1.0</td>\n",
       "    </tr>\n",
       "  </tbody>\n",
       "</table>\n",
       "</div>"
      ],
      "text/plain": [
       "    Basidium  \\\n",
       "0        1.0   \n",
       "1        1.0   \n",
       "2        1.0   \n",
       "3        1.0   \n",
       "4        2.0   \n",
       "5        2.0   \n",
       "6        2.0   \n",
       "7        2.0   \n",
       "8        3.0   \n",
       "9        3.0   \n",
       "10       3.0   \n",
       "11       3.0   \n",
       "12       4.0   \n",
       "13       4.0   \n",
       "14       1.0   \n",
       "15       1.0   \n",
       "16       1.0   \n",
       "17       1.0   \n",
       "18       2.0   \n",
       "19       2.0   \n",
       "20       3.0   \n",
       "21       3.0   \n",
       "22       3.0   \n",
       "23       4.0   \n",
       "24       4.0   \n",
       "25       4.0   \n",
       "26       4.0   \n",
       "27       4.0   \n",
       "28       1.0   \n",
       "29       1.0   \n",
       "30       1.0   \n",
       "31       1.0   \n",
       "32       2.0   \n",
       "33       2.0   \n",
       "34       2.0   \n",
       "35       3.0   \n",
       "36       3.0   \n",
       "37       3.0   \n",
       "38       3.0   \n",
       "39       3.0   \n",
       "40       4.0   \n",
       "41       4.0   \n",
       "42       4.0   \n",
       "43       4.0   \n",
       "44       NaN   \n",
       "45       NaN   \n",
       "46       NaN   \n",
       "47       NaN   \n",
       "48       NaN   \n",
       "49       NaN   \n",
       "50       NaN   \n",
       "51       NaN   \n",
       "52       NaN   \n",
       "53       NaN   \n",
       "54       NaN   \n",
       "55       NaN   \n",
       "56       NaN   \n",
       "\n",
       "   Phenotype on MS (N-no filamentation; Y-filamentation; L-giant cells; T-transgressive filamentation)  \\\n",
       "0                                                   N                                                    \n",
       "1                                                   Y                                                    \n",
       "2                                                   N                                                    \n",
       "3                                                   L                                                    \n",
       "4                            N (with rare spots of T)                                                    \n",
       "5                                                   L                                                    \n",
       "6                                                   Y                                                    \n",
       "7                                                   N                                                    \n",
       "8                                                   T                                                    \n",
       "9                                                   N                                                    \n",
       "10                                                  N                                                    \n",
       "11                                                  Y                                                    \n",
       "12                                                  Y                                                    \n",
       "13                                                  N                                                    \n",
       "14                                                  Y                                                    \n",
       "15                                                  N                                                    \n",
       "16                                                  L                                                    \n",
       "17                                                  N                                                    \n",
       "18                                                  N                                                    \n",
       "19                                                  Y                                                    \n",
       "20                                                  N                                                    \n",
       "21                                                  L                                                    \n",
       "22                                                  N                                                    \n",
       "23                                                  Y                                                    \n",
       "24                                                  N                                                    \n",
       "25                                                  L                                                    \n",
       "26                                                  T                                                    \n",
       "27                                                  N                                                    \n",
       "28                                                  Y                                                    \n",
       "29                                                  N                                                    \n",
       "30                                                  N                                                    \n",
       "31                                                  L                                                    \n",
       "32                                                  N                                                    \n",
       "33                                                  N                                                    \n",
       "34                                                  Y                                                    \n",
       "35                                                  Y                                                    \n",
       "36                                                  T                                                    \n",
       "37                                                  L                                                    \n",
       "38                                                  N                                                    \n",
       "39                                                  N                                                    \n",
       "40                                                  N                                                    \n",
       "41                                                  L                                                    \n",
       "42                                                  T                                                    \n",
       "43                                                  Y                                                    \n",
       "44                                                  Y                                                    \n",
       "45                                                  N                                                    \n",
       "46                                                  N                                                    \n",
       "47                                                  L                                                    \n",
       "48                           N (with rare spots of T)                                                    \n",
       "49                                                  L                                                    \n",
       "50                                                  T                                                    \n",
       "51                                                  N                                                    \n",
       "52                                                  N                                                    \n",
       "53                                                  N                                                    \n",
       "54                                                  T                                                    \n",
       "55                                                  N                                                    \n",
       "56                                                  Y                                                    \n",
       "\n",
       "   Progeny Parent  Phenotype  \n",
       "0      A01     A1        0.0  \n",
       "1      A02     A1        1.0  \n",
       "2      A03     A1        0.0  \n",
       "3      A04     A1        3.0  \n",
       "4      A05     A1        0.0  \n",
       "5      A06     A1        3.0  \n",
       "6      A07     A1        1.0  \n",
       "7      A08     A1        0.0  \n",
       "8      A09     A1        2.0  \n",
       "9      A10     A1        0.0  \n",
       "10     A11     A1        0.0  \n",
       "11     A12     A1        1.0  \n",
       "12     A13     A1        1.0  \n",
       "13     A14     A1        0.0  \n",
       "14     A15     B1        1.0  \n",
       "15     A16     B1        0.0  \n",
       "16     A17     B1        3.0  \n",
       "17     A18     B1        0.0  \n",
       "18     A19     B1        0.0  \n",
       "19     A20     B1        1.0  \n",
       "20     A21     B1        0.0  \n",
       "21     A22     B1        3.0  \n",
       "22     A23     B1        0.0  \n",
       "23     A24     B1        1.0  \n",
       "24     A25     B1        0.0  \n",
       "25     A26     B1        3.0  \n",
       "26     A27     B1        2.0  \n",
       "27     A28     B1        0.0  \n",
       "28     A29     B7        1.0  \n",
       "29     A30     B7        0.0  \n",
       "30     A31     B7        0.0  \n",
       "31     A32     B7        3.0  \n",
       "32     A33     B7        0.0  \n",
       "33     A34     B7        0.0  \n",
       "34     A35     B7        1.0  \n",
       "35     A36     B7        1.0  \n",
       "36     A37     B7        2.0  \n",
       "37     A38     B7        3.0  \n",
       "38     A39     B7        0.0  \n",
       "39     A40     B7        0.0  \n",
       "40     A41     B7        0.0  \n",
       "41     A42     B7        3.0  \n",
       "42     A43     B7        2.0  \n",
       "43     A44     B7        1.0  \n",
       "44     B01     A1        1.0  \n",
       "45     B02     A1        0.0  \n",
       "46     B03     A1        0.0  \n",
       "47     B04     A1        3.0  \n",
       "48     B05     A1        0.0  \n",
       "49     B06     A1        3.0  \n",
       "50     B07     A1        2.0  \n",
       "51     B08     A1        0.0  \n",
       "52     B09     A1        0.0  \n",
       "53     B10     A1        0.0  \n",
       "54     B11     A1        2.0  \n",
       "55     B12     B1        0.0  \n",
       "56     B20     B1        1.0  "
      ]
     },
     "execution_count": 5,
     "metadata": {},
     "output_type": "execute_result"
    }
   ],
   "source": [
    "pheno"
   ]
  },
  {
   "cell_type": "code",
   "execution_count": 5,
   "metadata": {},
   "outputs": [
    {
     "data": {
      "text/plain": [
       "(113730, 84)"
      ]
     },
     "execution_count": 5,
     "metadata": {},
     "output_type": "execute_result"
    }
   ],
   "source": [
    "## Bring in genotypes of rows x columns of vcf files\n",
    "datapath = '../GENOTYPE/GT/*genotype*.csv.gz'\n",
    "genopaths = sorted(glob.glob(datapath))\n",
    "assert len(genopaths) == 14\n",
    "geno = makedf(genopaths)\n",
    "geno.shape"
   ]
  },
  {
   "cell_type": "code",
   "execution_count": 7,
   "metadata": {},
   "outputs": [
    {
     "data": {
      "text/plain": [
       "Index(['B10', 'B05', 'B03', 'B02', 'A42', 'B20', 'A41', 'A40', 'B07', 'A39',\n",
       "       'B11', 'A38', 'A36', 'A35', 'B_33', 'B_21', 'B_32', 'B04', 'A18',\n",
       "       'B_31', 'B_29', 'A26', 'NIH433', 'A01', 'A12', 'B12', 'B09', 'B_24',\n",
       "       'B_23', 'A09', 'B_25', 'I641', 'A10', 'B_13', 'A37', 'B_19', 'B06',\n",
       "       'B_30', 'I643', 'B_14', 'B08', 'B_22', 'B_26', 'A43', 'A24', 'B_28',\n",
       "       'B_16', 'A22', 'I645', 'A03', 'B_15', 'NIH12', 'A27', 'A04', 'B_27',\n",
       "       'B_17', 'A29', 'A05', 'A25', 'A06', 'B01', 'A07', 'A02', 'A08', 'A21',\n",
       "       'A11', 'A13', 'B_18', 'A28', 'A44', 'A19', 'A14', 'A15', 'A16', 'A17',\n",
       "       'A20', 'A23', 'A30', 'A31', 'A33', 'A32', 'A34', 'Chrom', 'Oldix'],\n",
       "      dtype='object')"
      ]
     },
     "execution_count": 7,
     "metadata": {},
     "output_type": "execute_result"
    }
   ],
   "source": [
    "geno.columns"
   ]
  },
  {
   "cell_type": "code",
   "execution_count": 10,
   "metadata": {},
   "outputs": [],
   "source": [
    "samples = sorted([s for s in geno.columns[:-2]])"
   ]
  },
  {
   "cell_type": "code",
   "execution_count": 16,
   "metadata": {},
   "outputs": [
    {
     "data": {
      "text/plain": [
       "82"
      ]
     },
     "execution_count": 16,
     "metadata": {},
     "output_type": "execute_result"
    }
   ],
   "source": [
    "len(samples)"
   ]
  },
  {
   "cell_type": "code",
   "execution_count": 11,
   "metadata": {},
   "outputs": [
    {
     "data": {
      "text/plain": [
       "['A01',\n",
       " 'A02',\n",
       " 'A03',\n",
       " 'A04',\n",
       " 'A05',\n",
       " 'A06',\n",
       " 'A07',\n",
       " 'A08',\n",
       " 'A09',\n",
       " 'A10',\n",
       " 'A11',\n",
       " 'A12',\n",
       " 'A13',\n",
       " 'A14',\n",
       " 'A15',\n",
       " 'A16',\n",
       " 'A17',\n",
       " 'A18',\n",
       " 'A19',\n",
       " 'A20',\n",
       " 'A21',\n",
       " 'A22',\n",
       " 'A23',\n",
       " 'A24',\n",
       " 'A25',\n",
       " 'A26',\n",
       " 'A27',\n",
       " 'A28',\n",
       " 'A29',\n",
       " 'A30',\n",
       " 'A31',\n",
       " 'A32',\n",
       " 'A33',\n",
       " 'A34',\n",
       " 'A35',\n",
       " 'A36',\n",
       " 'A37',\n",
       " 'A38',\n",
       " 'A39',\n",
       " 'A40',\n",
       " 'A41',\n",
       " 'A42',\n",
       " 'A43',\n",
       " 'A44',\n",
       " 'B01',\n",
       " 'B02',\n",
       " 'B03',\n",
       " 'B04',\n",
       " 'B05',\n",
       " 'B06',\n",
       " 'B07',\n",
       " 'B08',\n",
       " 'B09',\n",
       " 'B10',\n",
       " 'B11',\n",
       " 'B12',\n",
       " 'B20',\n",
       " 'B_13',\n",
       " 'B_14',\n",
       " 'B_15',\n",
       " 'B_16',\n",
       " 'B_17',\n",
       " 'B_18',\n",
       " 'B_19',\n",
       " 'B_21',\n",
       " 'B_22',\n",
       " 'B_23',\n",
       " 'B_24',\n",
       " 'B_25',\n",
       " 'B_26',\n",
       " 'B_27',\n",
       " 'B_28',\n",
       " 'B_29',\n",
       " 'B_30',\n",
       " 'B_31',\n",
       " 'B_32',\n",
       " 'B_33',\n",
       " 'I641',\n",
       " 'I643',\n",
       " 'I645',\n",
       " 'NIH12',\n",
       " 'NIH433']"
      ]
     },
     "execution_count": 11,
     "metadata": {},
     "output_type": "execute_result"
    }
   ],
   "source": [
    "samples"
   ]
  },
  {
   "cell_type": "code",
   "execution_count": 14,
   "metadata": {},
   "outputs": [
    {
     "data": {
      "text/plain": [
       "['B3502_A1', 'B3502_B1', 'B3502_B7']"
      ]
     },
     "execution_count": 14,
     "metadata": {},
     "output_type": "execute_result"
    }
   ],
   "source": [
    "## Make a list of the stocks\n",
    "stocks = ['B3502_%s'%s for s in pheno.Parent.unique()]\n",
    "stocks"
   ]
  },
  {
   "cell_type": "code",
   "execution_count": 15,
   "metadata": {},
   "outputs": [
    {
     "ename": "KeyError",
     "evalue": "'B3502_B1'",
     "output_type": "error",
     "traceback": [
      "\u001b[0;31m---------------------------------------------------------------------------\u001b[0m",
      "\u001b[0;31mKeyError\u001b[0m                                  Traceback (most recent call last)",
      "\u001b[0;32m~/anaconda3/lib/python3.7/site-packages/pandas/core/indexes/base.py\u001b[0m in \u001b[0;36mget_loc\u001b[0;34m(self, key, method, tolerance)\u001b[0m\n\u001b[1;32m   2894\u001b[0m             \u001b[0;32mtry\u001b[0m\u001b[0;34m:\u001b[0m\u001b[0;34m\u001b[0m\u001b[0;34m\u001b[0m\u001b[0m\n\u001b[0;32m-> 2895\u001b[0;31m                 \u001b[0;32mreturn\u001b[0m \u001b[0mself\u001b[0m\u001b[0;34m.\u001b[0m\u001b[0m_engine\u001b[0m\u001b[0;34m.\u001b[0m\u001b[0mget_loc\u001b[0m\u001b[0;34m(\u001b[0m\u001b[0mcasted_key\u001b[0m\u001b[0;34m)\u001b[0m\u001b[0;34m\u001b[0m\u001b[0;34m\u001b[0m\u001b[0m\n\u001b[0m\u001b[1;32m   2896\u001b[0m             \u001b[0;32mexcept\u001b[0m \u001b[0mKeyError\u001b[0m \u001b[0;32mas\u001b[0m \u001b[0merr\u001b[0m\u001b[0;34m:\u001b[0m\u001b[0;34m\u001b[0m\u001b[0;34m\u001b[0m\u001b[0m\n",
      "\u001b[0;32mpandas/_libs/index.pyx\u001b[0m in \u001b[0;36mpandas._libs.index.IndexEngine.get_loc\u001b[0;34m()\u001b[0m\n",
      "\u001b[0;32mpandas/_libs/index.pyx\u001b[0m in \u001b[0;36mpandas._libs.index.IndexEngine.get_loc\u001b[0;34m()\u001b[0m\n",
      "\u001b[0;32mpandas/_libs/hashtable_class_helper.pxi\u001b[0m in \u001b[0;36mpandas._libs.hashtable.PyObjectHashTable.get_item\u001b[0;34m()\u001b[0m\n",
      "\u001b[0;32mpandas/_libs/hashtable_class_helper.pxi\u001b[0m in \u001b[0;36mpandas._libs.hashtable.PyObjectHashTable.get_item\u001b[0;34m()\u001b[0m\n",
      "\u001b[0;31mKeyError\u001b[0m: 'B3502_B1'",
      "\nThe above exception was the direct cause of the following exception:\n",
      "\u001b[0;31mKeyError\u001b[0m                                  Traceback (most recent call last)",
      "\u001b[0;32m<ipython-input-15-fe2107a38bbf>\u001b[0m in \u001b[0;36m<module>\u001b[0;34m\u001b[0m\n\u001b[1;32m      1\u001b[0m \u001b[0;31m## Find index where B1 genotype != the others\u001b[0m\u001b[0;34m\u001b[0m\u001b[0;34m\u001b[0m\u001b[0;34m\u001b[0m\u001b[0m\n\u001b[0;32m----> 2\u001b[0;31m \u001b[0mb1nota1_ix\u001b[0m \u001b[0;34m=\u001b[0m \u001b[0;34m(\u001b[0m\u001b[0mgeno\u001b[0m\u001b[0;34m[\u001b[0m\u001b[0mstocks\u001b[0m\u001b[0;34m[\u001b[0m\u001b[0;36m1\u001b[0m\u001b[0;34m]\u001b[0m\u001b[0;34m]\u001b[0m \u001b[0;34m!=\u001b[0m \u001b[0mgeno\u001b[0m\u001b[0;34m[\u001b[0m\u001b[0mstocks\u001b[0m\u001b[0;34m[\u001b[0m\u001b[0;36m0\u001b[0m\u001b[0;34m]\u001b[0m\u001b[0;34m]\u001b[0m\u001b[0;34m)\u001b[0m\u001b[0;34m\u001b[0m\u001b[0;34m\u001b[0m\u001b[0m\n\u001b[0m\u001b[1;32m      3\u001b[0m \u001b[0mb1notb7_ix\u001b[0m \u001b[0;34m=\u001b[0m \u001b[0;34m(\u001b[0m\u001b[0mgeno\u001b[0m\u001b[0;34m[\u001b[0m\u001b[0mstocks\u001b[0m\u001b[0;34m[\u001b[0m\u001b[0;36m1\u001b[0m\u001b[0;34m]\u001b[0m\u001b[0;34m]\u001b[0m \u001b[0;34m!=\u001b[0m \u001b[0mgeno\u001b[0m\u001b[0;34m[\u001b[0m\u001b[0mstocks\u001b[0m\u001b[0;34m[\u001b[0m\u001b[0;34m-\u001b[0m\u001b[0;36m1\u001b[0m\u001b[0;34m]\u001b[0m\u001b[0;34m]\u001b[0m\u001b[0;34m)\u001b[0m\u001b[0;34m\u001b[0m\u001b[0;34m\u001b[0m\u001b[0m\n\u001b[1;32m      4\u001b[0m \u001b[0;34m\u001b[0m\u001b[0m\n\u001b[1;32m      5\u001b[0m \u001b[0;31m## Drop na\u001b[0m\u001b[0;34m\u001b[0m\u001b[0;34m\u001b[0m\u001b[0;34m\u001b[0m\u001b[0m\n",
      "\u001b[0;32m~/anaconda3/lib/python3.7/site-packages/pandas/core/frame.py\u001b[0m in \u001b[0;36m__getitem__\u001b[0;34m(self, key)\u001b[0m\n\u001b[1;32m   2900\u001b[0m             \u001b[0;32mif\u001b[0m \u001b[0mself\u001b[0m\u001b[0;34m.\u001b[0m\u001b[0mcolumns\u001b[0m\u001b[0;34m.\u001b[0m\u001b[0mnlevels\u001b[0m \u001b[0;34m>\u001b[0m \u001b[0;36m1\u001b[0m\u001b[0;34m:\u001b[0m\u001b[0;34m\u001b[0m\u001b[0;34m\u001b[0m\u001b[0m\n\u001b[1;32m   2901\u001b[0m                 \u001b[0;32mreturn\u001b[0m \u001b[0mself\u001b[0m\u001b[0;34m.\u001b[0m\u001b[0m_getitem_multilevel\u001b[0m\u001b[0;34m(\u001b[0m\u001b[0mkey\u001b[0m\u001b[0;34m)\u001b[0m\u001b[0;34m\u001b[0m\u001b[0;34m\u001b[0m\u001b[0m\n\u001b[0;32m-> 2902\u001b[0;31m             \u001b[0mindexer\u001b[0m \u001b[0;34m=\u001b[0m \u001b[0mself\u001b[0m\u001b[0;34m.\u001b[0m\u001b[0mcolumns\u001b[0m\u001b[0;34m.\u001b[0m\u001b[0mget_loc\u001b[0m\u001b[0;34m(\u001b[0m\u001b[0mkey\u001b[0m\u001b[0;34m)\u001b[0m\u001b[0;34m\u001b[0m\u001b[0;34m\u001b[0m\u001b[0m\n\u001b[0m\u001b[1;32m   2903\u001b[0m             \u001b[0;32mif\u001b[0m \u001b[0mis_integer\u001b[0m\u001b[0;34m(\u001b[0m\u001b[0mindexer\u001b[0m\u001b[0;34m)\u001b[0m\u001b[0;34m:\u001b[0m\u001b[0;34m\u001b[0m\u001b[0;34m\u001b[0m\u001b[0m\n\u001b[1;32m   2904\u001b[0m                 \u001b[0mindexer\u001b[0m \u001b[0;34m=\u001b[0m \u001b[0;34m[\u001b[0m\u001b[0mindexer\u001b[0m\u001b[0;34m]\u001b[0m\u001b[0;34m\u001b[0m\u001b[0;34m\u001b[0m\u001b[0m\n",
      "\u001b[0;32m~/anaconda3/lib/python3.7/site-packages/pandas/core/indexes/base.py\u001b[0m in \u001b[0;36mget_loc\u001b[0;34m(self, key, method, tolerance)\u001b[0m\n\u001b[1;32m   2895\u001b[0m                 \u001b[0;32mreturn\u001b[0m \u001b[0mself\u001b[0m\u001b[0;34m.\u001b[0m\u001b[0m_engine\u001b[0m\u001b[0;34m.\u001b[0m\u001b[0mget_loc\u001b[0m\u001b[0;34m(\u001b[0m\u001b[0mcasted_key\u001b[0m\u001b[0;34m)\u001b[0m\u001b[0;34m\u001b[0m\u001b[0;34m\u001b[0m\u001b[0m\n\u001b[1;32m   2896\u001b[0m             \u001b[0;32mexcept\u001b[0m \u001b[0mKeyError\u001b[0m \u001b[0;32mas\u001b[0m \u001b[0merr\u001b[0m\u001b[0;34m:\u001b[0m\u001b[0;34m\u001b[0m\u001b[0;34m\u001b[0m\u001b[0m\n\u001b[0;32m-> 2897\u001b[0;31m                 \u001b[0;32mraise\u001b[0m \u001b[0mKeyError\u001b[0m\u001b[0;34m(\u001b[0m\u001b[0mkey\u001b[0m\u001b[0;34m)\u001b[0m \u001b[0;32mfrom\u001b[0m \u001b[0merr\u001b[0m\u001b[0;34m\u001b[0m\u001b[0;34m\u001b[0m\u001b[0m\n\u001b[0m\u001b[1;32m   2898\u001b[0m \u001b[0;34m\u001b[0m\u001b[0m\n\u001b[1;32m   2899\u001b[0m         \u001b[0;32mif\u001b[0m \u001b[0mtolerance\u001b[0m \u001b[0;32mis\u001b[0m \u001b[0;32mnot\u001b[0m \u001b[0;32mNone\u001b[0m\u001b[0;34m:\u001b[0m\u001b[0;34m\u001b[0m\u001b[0;34m\u001b[0m\u001b[0m\n",
      "\u001b[0;31mKeyError\u001b[0m: 'B3502_B1'"
     ]
    }
   ],
   "source": [
    "## Find index where B1 genotype != the others\n",
    "b1nota1_ix = (geno[stocks[1]] != geno[stocks[0]])\n",
    "b1notb7_ix = (geno[stocks[1]] != geno[stocks[-1]])\n",
    "\n",
    "## Drop na\n",
    "stock_dif_ix = geno[b1nota1_ix & \n",
    "                    b1notb7_ix][stocks].dropna().index\n",
    "len(stock_dif_ix)"
   ]
  },
  {
   "cell_type": "code",
   "execution_count": 8,
   "metadata": {},
   "outputs": [
    {
     "data": {
      "text/plain": [
       "(446653, 69)"
      ]
     },
     "execution_count": 8,
     "metadata": {},
     "output_type": "execute_result"
    }
   ],
   "source": [
    "## Bring in read depth rows x columns of vcf files\n",
    "data = '../GENOTYPE/DP/*depths.csv.gz'\n",
    "depthpaths = sorted(glob.glob(data))\n",
    "assert len(depthpaths) == 14\n",
    "depth = makedf(depthpaths)\n",
    "depth.shape"
   ]
  },
  {
   "cell_type": "code",
   "execution_count": 9,
   "metadata": {},
   "outputs": [],
   "source": [
    "## Calculate mean, min and max depths of stock dif vars\n",
    "mean_stock_depth = depth.loc[stock_dif_ix,stocks].T.mean()\n",
    "min_stock_depth = depth.loc[stock_dif_ix,stocks].T.min()\n",
    "max_stock_depth = depth.loc[stock_dif_ix,stocks].T.max()"
   ]
  },
  {
   "cell_type": "code",
   "execution_count": 10,
   "metadata": {},
   "outputs": [
    {
     "data": {
      "text/plain": [
       "(446653, 69)"
      ]
     },
     "execution_count": 10,
     "metadata": {},
     "output_type": "execute_result"
    }
   ],
   "source": [
    "## Bring in allelic read depth ratios of\n",
    "## rows x columns of vcf files\n",
    "data = '../GENOTYPE/AF/*ratios.csv.gz'\n",
    "alleledepth = sorted(glob.glob(data))\n",
    "assert len(alleledepth) == 14\n",
    "ratio = makedf(alleledepth)\n",
    "ratio.shape"
   ]
  },
  {
   "cell_type": "code",
   "execution_count": 11,
   "metadata": {},
   "outputs": [],
   "source": [
    "## Calculate mean, min and max of ratios of stock dif vars\n",
    "mean_stock_ratio = ratio.loc[stock_dif_ix,stocks].T.mean()\n",
    "min_stock_ratio = ratio.loc[stock_dif_ix,stocks].T.min()\n",
    "max_stock_ratio = ratio.loc[stock_dif_ix,stocks].T.max()"
   ]
  },
  {
   "cell_type": "code",
   "execution_count": 12,
   "metadata": {},
   "outputs": [
    {
     "data": {
      "text/plain": [
       "(446653, 12)"
      ]
     },
     "execution_count": 12,
     "metadata": {},
     "output_type": "execute_result"
    }
   ],
   "source": [
    "## Bring in information rows x columns of vcf files\n",
    "data = '../GENOTYPE/INFO/*.csv.gz'\n",
    "infopaths = sorted(glob.glob(data))\n",
    "assert len(infopaths) == 14\n",
    "info = makedf(infopaths)\n",
    "info.shape"
   ]
  },
  {
   "cell_type": "code",
   "execution_count": 13,
   "metadata": {},
   "outputs": [
    {
     "data": {
      "text/html": [
       "<div>\n",
       "<style scoped>\n",
       "    .dataframe tbody tr th:only-of-type {\n",
       "        vertical-align: middle;\n",
       "    }\n",
       "\n",
       "    .dataframe tbody tr th {\n",
       "        vertical-align: top;\n",
       "    }\n",
       "\n",
       "    .dataframe thead th {\n",
       "        text-align: right;\n",
       "    }\n",
       "</style>\n",
       "<table border=\"1\" class=\"dataframe\">\n",
       "  <thead>\n",
       "    <tr style=\"text-align: right;\">\n",
       "      <th></th>\n",
       "      <th>Seqid</th>\n",
       "      <th>Pos</th>\n",
       "      <th>Alleles</th>\n",
       "      <th>Chrom</th>\n",
       "      <th>B3502_A1</th>\n",
       "      <th>B3502_B1</th>\n",
       "      <th>B3502_B7</th>\n",
       "      <th>min_depth</th>\n",
       "      <th>mean_depth</th>\n",
       "      <th>min_ratio</th>\n",
       "      <th>mean_ratio</th>\n",
       "    </tr>\n",
       "  </thead>\n",
       "  <tbody>\n",
       "    <tr>\n",
       "      <th>8887</th>\n",
       "      <td>AE017341.1</td>\n",
       "      <td>461149</td>\n",
       "      <td>G.C</td>\n",
       "      <td>1</td>\n",
       "      <td>0.0</td>\n",
       "      <td>1.0</td>\n",
       "      <td>0.0</td>\n",
       "      <td>70.0</td>\n",
       "      <td>74.67</td>\n",
       "      <td>0.57</td>\n",
       "      <td>0.63</td>\n",
       "    </tr>\n",
       "    <tr>\n",
       "      <th>19631</th>\n",
       "      <td>AE017341.1</td>\n",
       "      <td>977318</td>\n",
       "      <td>T.C</td>\n",
       "      <td>1</td>\n",
       "      <td>1.0</td>\n",
       "      <td>0.0</td>\n",
       "      <td>1.0</td>\n",
       "      <td>324.0</td>\n",
       "      <td>408.00</td>\n",
       "      <td>0.47</td>\n",
       "      <td>0.54</td>\n",
       "    </tr>\n",
       "    <tr>\n",
       "      <th>27604</th>\n",
       "      <td>AE017341.1</td>\n",
       "      <td>1430787</td>\n",
       "      <td>G.T</td>\n",
       "      <td>1</td>\n",
       "      <td>0.0</td>\n",
       "      <td>1.0</td>\n",
       "      <td>0.0</td>\n",
       "      <td>20.0</td>\n",
       "      <td>32.33</td>\n",
       "      <td>0.95</td>\n",
       "      <td>0.97</td>\n",
       "    </tr>\n",
       "    <tr>\n",
       "      <th>36246</th>\n",
       "      <td>AE017341.1</td>\n",
       "      <td>1954856</td>\n",
       "      <td>CTAGAGGCAGGGGGGGGGGGACGGAGT.CAACCGGCAGGGGGGGGG...</td>\n",
       "      <td>1</td>\n",
       "      <td>1.0</td>\n",
       "      <td>2.0</td>\n",
       "      <td>1.0</td>\n",
       "      <td>14.0</td>\n",
       "      <td>15.67</td>\n",
       "      <td>0.00</td>\n",
       "      <td>0.00</td>\n",
       "    </tr>\n",
       "    <tr>\n",
       "      <th>38830</th>\n",
       "      <td>AE017341.1</td>\n",
       "      <td>2149478</td>\n",
       "      <td>AATTT.CATTC</td>\n",
       "      <td>1</td>\n",
       "      <td>0.0</td>\n",
       "      <td>1.0</td>\n",
       "      <td>0.0</td>\n",
       "      <td>109.0</td>\n",
       "      <td>129.33</td>\n",
       "      <td>0.48</td>\n",
       "      <td>0.53</td>\n",
       "    </tr>\n",
       "  </tbody>\n",
       "</table>\n",
       "</div>"
      ],
      "text/plain": [
       "            Seqid      Pos                                            Alleles  \\\n",
       "8887   AE017341.1   461149                                                G.C   \n",
       "19631  AE017341.1   977318                                                T.C   \n",
       "27604  AE017341.1  1430787                                                G.T   \n",
       "36246  AE017341.1  1954856  CTAGAGGCAGGGGGGGGGGGACGGAGT.CAACCGGCAGGGGGGGGG...   \n",
       "38830  AE017341.1  2149478                                        AATTT.CATTC   \n",
       "\n",
       "       Chrom  B3502_A1  B3502_B1  B3502_B7  min_depth  mean_depth  min_ratio  \\\n",
       "8887       1       0.0       1.0       0.0       70.0       74.67       0.57   \n",
       "19631      1       1.0       0.0       1.0      324.0      408.00       0.47   \n",
       "27604      1       0.0       1.0       0.0       20.0       32.33       0.95   \n",
       "36246      1       1.0       2.0       1.0       14.0       15.67       0.00   \n",
       "38830      1       0.0       1.0       0.0      109.0      129.33       0.48   \n",
       "\n",
       "       mean_ratio  \n",
       "8887         0.63  \n",
       "19631        0.54  \n",
       "27604        0.97  \n",
       "36246        0.00  \n",
       "38830        0.53  "
      ]
     },
     "execution_count": 13,
     "metadata": {},
     "output_type": "execute_result"
    }
   ],
   "source": [
    "## Make a dataframe of potential stock variants\n",
    "## Take info\n",
    "tempdf = info.loc[stock_dif_ix].copy()\n",
    "\n",
    "## stock genotypes \n",
    "dif_genos = geno.loc[stock_dif_ix,stocks].copy()\n",
    "\n",
    "## concatonate\n",
    "df = pd.concat([tempdf,dif_genos],axis=1)\n",
    "\n",
    "## Add depth and ratio info\n",
    "labels = ['min','max','mean']\n",
    "\n",
    "for i,j in enumerate([min_stock_depth,\n",
    "                      max_stock_depth,\n",
    "                      mean_stock_depth]):\n",
    "    \n",
    "    df['%s_depth'%labels[i]] = np.round(j,2)\n",
    "    \n",
    "for i,j in enumerate([min_stock_ratio,\n",
    "                      max_stock_ratio,\n",
    "                      mean_stock_ratio]):\n",
    "    \n",
    "    df['%s_ratio'%labels[i]] = np.round(j,2)\n",
    "    \n",
    "## Drop un-needed columns    \n",
    "to_drop = ['Maxlen','Minlen','Depth','Nallele',\n",
    "           'Callrate','Qual','Type','Oldix',\n",
    "           'max_ratio','max_depth']\n",
    "\n",
    "df.drop(to_drop,axis=1,inplace=True)\n",
    "\n",
    "## View head\n",
    "df.head()"
   ]
  },
  {
   "cell_type": "code",
   "execution_count": 40,
   "metadata": {},
   "outputs": [],
   "source": [
    "## Check our work\n",
    "assert np.sum(stock_dif_ix-df.index.values) == 0"
   ]
  },
  {
   "cell_type": "code",
   "execution_count": 100,
   "metadata": {},
   "outputs": [],
   "source": [
    "## Examine as a ftn of paramaters\n",
    "## The number of vairants in B3501_B1 we detect\n",
    "drf = 0.1 ## Slide of allelic read reatio\n",
    "ratio_fs = np.arange(0,1+drf,drf)\n",
    "covx_fs = np.arange(0,12+1,1)\n",
    "\n",
    "## Gather results per conditions\n",
    "rf_pass = []\n",
    "for ratio_f in ratio_fs:\n",
    "    \n",
    "    covx_pass = []\n",
    "    for covx_f in covx_fs:\n",
    "        \n",
    "        ## Make sure the B3502_B1 stock passes \n",
    "        b1_depth_pass = depth[(depth[stocks[1]] >= covx_f) & \n",
    "                      (depth.index.isin(stock_dif_ix))].index\n",
    "\n",
    "        b1_ratio_pass = ratio[(ratio[stocks[1]] >=ratio_f) & \n",
    "                      (ratio.index.isin(stock_dif_ix))].index\n",
    "        \n",
    "        rp = df[(df.mean_depth>=covx_f) & \n",
    "           (df.mean_ratio>=ratio_f) & \n",
    "           (df.index.isin(b1_depth_pass)) & \n",
    "           (df.index.isin(b1_ratio_pass))].shape[0]\n",
    "        \n",
    "        covx_pass.append(rp)\n",
    "    rf_pass.append(covx_pass)\n",
    "    \n",
    "## Make into a dataframe\n",
    "test = pd.DataFrame(rf_pass)\n",
    "test.index = np.round(ratio_fs,2)"
   ]
  },
  {
   "cell_type": "code",
   "execution_count": 110,
   "metadata": {},
   "outputs": [
    {
     "data": {
      "image/png": "[encoded data removed]",
      "text/plain": [
       "<Figure size 1080x720 with 2 Axes>"
      ]
     },
     "metadata": {
      "needs_background": "light"
     },
     "output_type": "display_data"
    }
   ],
   "source": [
    "## Plot results\n",
    "fig,ax = plt.subplots(1,1,figsize=(15,10))\n",
    "sns.heatmap(test,cmap='cividis',annot=True, \n",
    "            cbar_kws={'label': 'Number of Variants'});\n",
    "plt.yticks(fontsize=14,rotation=0);\n",
    "plt.xticks(fontsize=14);\n",
    "plt.ylabel('Allelic Read Ratio',fontsize=14)\n",
    "plt.xlabel('Read Depth',fontsize=14);"
   ]
  },
  {
   "cell_type": "code",
   "execution_count": 119,
   "metadata": {},
   "outputs": [],
   "source": [
    "## Filter potential snps\n",
    "ratio_f = 0.5\n",
    "covx_f = 10\n",
    "\n",
    "## Make sure the B3502_B1 stock passes \n",
    "b1_depth_pass = depth[(depth[stocks[1]] >= covx_f) & \n",
    "                      (depth.index.isin(stock_dif_ix))].index\n",
    "\n",
    "b1_ratio_pass = ratio[(ratio[stocks[1]] >=ratio_f) & \n",
    "                      (ratio.index.isin(stock_dif_ix))].index\n",
    "\n",
    "## take variants\n",
    "vardf = df[(df.mean_depth>=covx_f) & \n",
    "           (df.mean_ratio>=ratio_f) & \n",
    "           (df.index.isin(b1_depth_pass)) & \n",
    "           (df.index.isin(b1_ratio_pass))].copy()"
   ]
  },
  {
   "cell_type": "code",
   "execution_count": 120,
   "metadata": {},
   "outputs": [
    {
     "data": {
      "text/plain": [
       "(47, 12)"
      ]
     },
     "execution_count": 120,
     "metadata": {},
     "output_type": "execute_result"
    }
   ],
   "source": [
    "## Find genes that overlap with our candidate variants\n",
    "gene_res = []\n",
    "\n",
    "for s in vardf.Seqid.unique():\n",
    "    vt = vardf[(vardf.Seqid==s)]\n",
    "    gfft = gff[(gff.Type=='gene') & (gff.Seqid==s)]\n",
    "    \n",
    "    for i,p in vt.iterrows():\n",
    "        pt = p.Pos\n",
    "        \n",
    "        for j,k in gfft.iterrows():    \n",
    "            gps = np.arange(k.Start,k.End+1)\n",
    "            \n",
    "            if pt in gps:\n",
    "                gene_res.append((i,k.Gene))\n",
    "            else:\n",
    "                pass\n",
    "            \n",
    "hitdf = pd.DataFrame(gene_res,columns=['gix','Gene'])\n",
    "hitdf.index = hitdf.gix\n",
    "vardf['Gene'] = hitdf['Gene']\n",
    "vardf.shape"
   ]
  },
  {
   "cell_type": "code",
   "execution_count": 126,
   "metadata": {},
   "outputs": [],
   "source": [
    "## Save out data\n",
    "vardf[['Seqid','Chrom','Pos','Gene','Alleles']+stocks\n",
    "     ].to_csv('../GENOTYPE/B3502_parent_variants.csv.gz')"
   ]
  },
  {
   "cell_type": "code",
   "execution_count": 108,
   "metadata": {},
   "outputs": [
    {
     "data": {
      "text/html": [
       "<div>\n",
       "<style scoped>\n",
       "    .dataframe tbody tr th:only-of-type {\n",
       "        vertical-align: middle;\n",
       "    }\n",
       "\n",
       "    .dataframe tbody tr th {\n",
       "        vertical-align: top;\n",
       "    }\n",
       "\n",
       "    .dataframe thead th {\n",
       "        text-align: right;\n",
       "    }\n",
       "</style>\n",
       "<table border=\"1\" class=\"dataframe\">\n",
       "  <thead>\n",
       "    <tr style=\"text-align: right;\">\n",
       "      <th></th>\n",
       "      <th>Chrom</th>\n",
       "      <th>Pos</th>\n",
       "      <th>Gene</th>\n",
       "      <th>Alleles</th>\n",
       "    </tr>\n",
       "  </thead>\n",
       "  <tbody>\n",
       "    <tr>\n",
       "      <th>8887</th>\n",
       "      <td>1</td>\n",
       "      <td>461149</td>\n",
       "      <td>NaN</td>\n",
       "      <td>G.C</td>\n",
       "    </tr>\n",
       "    <tr>\n",
       "      <th>27604</th>\n",
       "      <td>1</td>\n",
       "      <td>1430787</td>\n",
       "      <td>NaN</td>\n",
       "      <td>G.T</td>\n",
       "    </tr>\n",
       "    <tr>\n",
       "      <th>38830</th>\n",
       "      <td>1</td>\n",
       "      <td>2149478</td>\n",
       "      <td>NaN</td>\n",
       "      <td>AATTT.CATTC</td>\n",
       "    </tr>\n",
       "    <tr>\n",
       "      <th>53417</th>\n",
       "      <td>2</td>\n",
       "      <td>428582</td>\n",
       "      <td>NaN</td>\n",
       "      <td>A.T</td>\n",
       "    </tr>\n",
       "    <tr>\n",
       "      <th>53419</th>\n",
       "      <td>2</td>\n",
       "      <td>428598</td>\n",
       "      <td>NaN</td>\n",
       "      <td>T.C</td>\n",
       "    </tr>\n",
       "    <tr>\n",
       "      <th>53420</th>\n",
       "      <td>2</td>\n",
       "      <td>428603</td>\n",
       "      <td>NaN</td>\n",
       "      <td>G.A</td>\n",
       "    </tr>\n",
       "    <tr>\n",
       "      <th>53452</th>\n",
       "      <td>2</td>\n",
       "      <td>429078</td>\n",
       "      <td>NaN</td>\n",
       "      <td>GCATTT.ACGTTA</td>\n",
       "    </tr>\n",
       "    <tr>\n",
       "      <th>62654</th>\n",
       "      <td>2</td>\n",
       "      <td>789595</td>\n",
       "      <td>NaN</td>\n",
       "      <td>G.T</td>\n",
       "    </tr>\n",
       "    <tr>\n",
       "      <th>62656</th>\n",
       "      <td>2</td>\n",
       "      <td>789611</td>\n",
       "      <td>NaN</td>\n",
       "      <td>G.A</td>\n",
       "    </tr>\n",
       "    <tr>\n",
       "      <th>63450</th>\n",
       "      <td>2</td>\n",
       "      <td>865345</td>\n",
       "      <td>NaN</td>\n",
       "      <td>T.C</td>\n",
       "    </tr>\n",
       "    <tr>\n",
       "      <th>85416</th>\n",
       "      <td>3</td>\n",
       "      <td>153548</td>\n",
       "      <td>NaN</td>\n",
       "      <td>T.G</td>\n",
       "    </tr>\n",
       "    <tr>\n",
       "      <th>106435</th>\n",
       "      <td>3</td>\n",
       "      <td>865061</td>\n",
       "      <td>NaN</td>\n",
       "      <td>C.T</td>\n",
       "    </tr>\n",
       "    <tr>\n",
       "      <th>116230</th>\n",
       "      <td>3</td>\n",
       "      <td>1352772</td>\n",
       "      <td>NaN</td>\n",
       "      <td>A.G</td>\n",
       "    </tr>\n",
       "    <tr>\n",
       "      <th>194202</th>\n",
       "      <td>5</td>\n",
       "      <td>800737</td>\n",
       "      <td>NaN</td>\n",
       "      <td>T.C</td>\n",
       "    </tr>\n",
       "    <tr>\n",
       "      <th>195340</th>\n",
       "      <td>5</td>\n",
       "      <td>825063</td>\n",
       "      <td>NaN</td>\n",
       "      <td>C.T</td>\n",
       "    </tr>\n",
       "    <tr>\n",
       "      <th>195564</th>\n",
       "      <td>5</td>\n",
       "      <td>829007</td>\n",
       "      <td>NaN</td>\n",
       "      <td>G.A.T</td>\n",
       "    </tr>\n",
       "    <tr>\n",
       "      <th>206562</th>\n",
       "      <td>5</td>\n",
       "      <td>1460173</td>\n",
       "      <td>CNE05190</td>\n",
       "      <td>T.C</td>\n",
       "    </tr>\n",
       "    <tr>\n",
       "      <th>206594</th>\n",
       "      <td>5</td>\n",
       "      <td>1461086</td>\n",
       "      <td>NaN</td>\n",
       "      <td>GGTTG.TGTTA</td>\n",
       "    </tr>\n",
       "    <tr>\n",
       "      <th>206595</th>\n",
       "      <td>5</td>\n",
       "      <td>1461098</td>\n",
       "      <td>NaN</td>\n",
       "      <td>T.G</td>\n",
       "    </tr>\n",
       "    <tr>\n",
       "      <th>207085</th>\n",
       "      <td>5</td>\n",
       "      <td>1505348</td>\n",
       "      <td>CNE05380</td>\n",
       "      <td>G.A</td>\n",
       "    </tr>\n",
       "    <tr>\n",
       "      <th>244964</th>\n",
       "      <td>6</td>\n",
       "      <td>1437085</td>\n",
       "      <td>CNF04940</td>\n",
       "      <td>ATTTTTTCG.ATTTTTCG</td>\n",
       "    </tr>\n",
       "    <tr>\n",
       "      <th>244972</th>\n",
       "      <td>6</td>\n",
       "      <td>1437350</td>\n",
       "      <td>CNF04940</td>\n",
       "      <td>C.T</td>\n",
       "    </tr>\n",
       "    <tr>\n",
       "      <th>244974</th>\n",
       "      <td>6</td>\n",
       "      <td>1437389</td>\n",
       "      <td>CNF04940</td>\n",
       "      <td>C.A</td>\n",
       "    </tr>\n",
       "    <tr>\n",
       "      <th>244997</th>\n",
       "      <td>6</td>\n",
       "      <td>1438250</td>\n",
       "      <td>CNF04940</td>\n",
       "      <td>C.T</td>\n",
       "    </tr>\n",
       "    <tr>\n",
       "      <th>244999</th>\n",
       "      <td>6</td>\n",
       "      <td>1438373</td>\n",
       "      <td>CNF04940</td>\n",
       "      <td>T.C</td>\n",
       "    </tr>\n",
       "    <tr>\n",
       "      <th>266069</th>\n",
       "      <td>7</td>\n",
       "      <td>890559</td>\n",
       "      <td>CNG03190</td>\n",
       "      <td>C.T</td>\n",
       "    </tr>\n",
       "    <tr>\n",
       "      <th>266323</th>\n",
       "      <td>7</td>\n",
       "      <td>902013</td>\n",
       "      <td>NaN</td>\n",
       "      <td>T.C</td>\n",
       "    </tr>\n",
       "    <tr>\n",
       "      <th>266325</th>\n",
       "      <td>7</td>\n",
       "      <td>902053</td>\n",
       "      <td>NaN</td>\n",
       "      <td>ATTCA.GTTTG</td>\n",
       "    </tr>\n",
       "    <tr>\n",
       "      <th>305166</th>\n",
       "      <td>9</td>\n",
       "      <td>3253</td>\n",
       "      <td>NaN</td>\n",
       "      <td>T.C</td>\n",
       "    </tr>\n",
       "    <tr>\n",
       "      <th>305167</th>\n",
       "      <td>9</td>\n",
       "      <td>3267</td>\n",
       "      <td>NaN</td>\n",
       "      <td>A.G</td>\n",
       "    </tr>\n",
       "    <tr>\n",
       "      <th>305168</th>\n",
       "      <td>9</td>\n",
       "      <td>3276</td>\n",
       "      <td>NaN</td>\n",
       "      <td>CGAG.AGAAG</td>\n",
       "    </tr>\n",
       "    <tr>\n",
       "      <th>337664</th>\n",
       "      <td>10</td>\n",
       "      <td>248</td>\n",
       "      <td>CNJ00010</td>\n",
       "      <td>T.A</td>\n",
       "    </tr>\n",
       "    <tr>\n",
       "      <th>337669</th>\n",
       "      <td>10</td>\n",
       "      <td>513</td>\n",
       "      <td>CNJ00010</td>\n",
       "      <td>A.G</td>\n",
       "    </tr>\n",
       "    <tr>\n",
       "      <th>342576</th>\n",
       "      <td>10</td>\n",
       "      <td>323716</td>\n",
       "      <td>CNJ01150</td>\n",
       "      <td>A.C</td>\n",
       "    </tr>\n",
       "    <tr>\n",
       "      <th>362421</th>\n",
       "      <td>10</td>\n",
       "      <td>1082349</td>\n",
       "      <td>CNJ03440</td>\n",
       "      <td>G.T</td>\n",
       "    </tr>\n",
       "    <tr>\n",
       "      <th>362623</th>\n",
       "      <td>10</td>\n",
       "      <td>1084964</td>\n",
       "      <td>CNJ03440</td>\n",
       "      <td>T.A</td>\n",
       "    </tr>\n",
       "    <tr>\n",
       "      <th>367470</th>\n",
       "      <td>11</td>\n",
       "      <td>176756</td>\n",
       "      <td>NaN</td>\n",
       "      <td>T.C</td>\n",
       "    </tr>\n",
       "    <tr>\n",
       "      <th>367476</th>\n",
       "      <td>11</td>\n",
       "      <td>176804</td>\n",
       "      <td>NaN</td>\n",
       "      <td>CA.TG</td>\n",
       "    </tr>\n",
       "    <tr>\n",
       "      <th>387940</th>\n",
       "      <td>12</td>\n",
       "      <td>113367</td>\n",
       "      <td>CNL04090</td>\n",
       "      <td>G.A.T</td>\n",
       "    </tr>\n",
       "    <tr>\n",
       "      <th>388585</th>\n",
       "      <td>12</td>\n",
       "      <td>142209</td>\n",
       "      <td>NaN</td>\n",
       "      <td>C.A</td>\n",
       "    </tr>\n",
       "    <tr>\n",
       "      <th>389690</th>\n",
       "      <td>12</td>\n",
       "      <td>166990</td>\n",
       "      <td>CNL04210</td>\n",
       "      <td>TTCCAT.TT</td>\n",
       "    </tr>\n",
       "    <tr>\n",
       "      <th>397112</th>\n",
       "      <td>12</td>\n",
       "      <td>506442</td>\n",
       "      <td>NaN</td>\n",
       "      <td>GCTA.ACTG</td>\n",
       "    </tr>\n",
       "    <tr>\n",
       "      <th>397117</th>\n",
       "      <td>12</td>\n",
       "      <td>506494</td>\n",
       "      <td>NaN</td>\n",
       "      <td>GA.CT</td>\n",
       "    </tr>\n",
       "    <tr>\n",
       "      <th>397118</th>\n",
       "      <td>12</td>\n",
       "      <td>506501</td>\n",
       "      <td>NaN</td>\n",
       "      <td>C.T</td>\n",
       "    </tr>\n",
       "    <tr>\n",
       "      <th>413639</th>\n",
       "      <td>13</td>\n",
       "      <td>155940</td>\n",
       "      <td>CNM00540</td>\n",
       "      <td>A.G</td>\n",
       "    </tr>\n",
       "    <tr>\n",
       "      <th>416781</th>\n",
       "      <td>13</td>\n",
       "      <td>256281</td>\n",
       "      <td>CNM00880</td>\n",
       "      <td>ACGAAAGAC.GCGAAAAGAC</td>\n",
       "    </tr>\n",
       "    <tr>\n",
       "      <th>416782</th>\n",
       "      <td>13</td>\n",
       "      <td>256305</td>\n",
       "      <td>CNM00880</td>\n",
       "      <td>G.A</td>\n",
       "    </tr>\n",
       "  </tbody>\n",
       "</table>\n",
       "</div>"
      ],
      "text/plain": [
       "        Chrom      Pos      Gene               Alleles\n",
       "8887        1   461149       NaN                   G.C\n",
       "27604       1  1430787       NaN                   G.T\n",
       "38830       1  2149478       NaN           AATTT.CATTC\n",
       "53417       2   428582       NaN                   A.T\n",
       "53419       2   428598       NaN                   T.C\n",
       "53420       2   428603       NaN                   G.A\n",
       "53452       2   429078       NaN         GCATTT.ACGTTA\n",
       "62654       2   789595       NaN                   G.T\n",
       "62656       2   789611       NaN                   G.A\n",
       "63450       2   865345       NaN                   T.C\n",
       "85416       3   153548       NaN                   T.G\n",
       "106435      3   865061       NaN                   C.T\n",
       "116230      3  1352772       NaN                   A.G\n",
       "194202      5   800737       NaN                   T.C\n",
       "195340      5   825063       NaN                   C.T\n",
       "195564      5   829007       NaN                 G.A.T\n",
       "206562      5  1460173  CNE05190                   T.C\n",
       "206594      5  1461086       NaN           GGTTG.TGTTA\n",
       "206595      5  1461098       NaN                   T.G\n",
       "207085      5  1505348  CNE05380                   G.A\n",
       "244964      6  1437085  CNF04940    ATTTTTTCG.ATTTTTCG\n",
       "244972      6  1437350  CNF04940                   C.T\n",
       "244974      6  1437389  CNF04940                   C.A\n",
       "244997      6  1438250  CNF04940                   C.T\n",
       "244999      6  1438373  CNF04940                   T.C\n",
       "266069      7   890559  CNG03190                   C.T\n",
       "266323      7   902013       NaN                   T.C\n",
       "266325      7   902053       NaN           ATTCA.GTTTG\n",
       "305166      9     3253       NaN                   T.C\n",
       "305167      9     3267       NaN                   A.G\n",
       "305168      9     3276       NaN            CGAG.AGAAG\n",
       "337664     10      248  CNJ00010                   T.A\n",
       "337669     10      513  CNJ00010                   A.G\n",
       "342576     10   323716  CNJ01150                   A.C\n",
       "362421     10  1082349  CNJ03440                   G.T\n",
       "362623     10  1084964  CNJ03440                   T.A\n",
       "367470     11   176756       NaN                   T.C\n",
       "367476     11   176804       NaN                 CA.TG\n",
       "387940     12   113367  CNL04090                 G.A.T\n",
       "388585     12   142209       NaN                   C.A\n",
       "389690     12   166990  CNL04210             TTCCAT.TT\n",
       "397112     12   506442       NaN             GCTA.ACTG\n",
       "397117     12   506494       NaN                 GA.CT\n",
       "397118     12   506501       NaN                   C.T\n",
       "413639     13   155940  CNM00540                   A.G\n",
       "416781     13   256281  CNM00880  ACGAAAGAC.GCGAAAAGAC\n",
       "416782     13   256305  CNM00880                   G.A"
      ]
     },
     "execution_count": 108,
     "metadata": {},
     "output_type": "execute_result"
    }
   ],
   "source": [
    "## View dataframe results \n",
    "vardf[['Chrom','Pos','Gene','Alleles']]"
   ]
  },
  {
   "cell_type": "code",
   "execution_count": 111,
   "metadata": {},
   "outputs": [
    {
     "data": {
      "text/plain": [
       "4"
      ]
     },
     "execution_count": 111,
     "metadata": {},
     "output_type": "execute_result"
    }
   ],
   "source": [
    "## Gather B3502_progeny who are self filamentous\n",
    "b1_filamentation = pheno[(pheno.Parent=='B1') & \n",
    "                         (pheno.Phenotype==1)\n",
    "                        ].Progeny.tolist()\n",
    "\n",
    "## How many are there of these?\n",
    "len(b1_filamentation)"
   ]
  },
  {
   "cell_type": "code",
   "execution_count": 114,
   "metadata": {},
   "outputs": [
    {
     "data": {
      "text/html": [
       "<div>\n",
       "<style scoped>\n",
       "    .dataframe tbody tr th:only-of-type {\n",
       "        vertical-align: middle;\n",
       "    }\n",
       "\n",
       "    .dataframe tbody tr th {\n",
       "        vertical-align: top;\n",
       "    }\n",
       "\n",
       "    .dataframe thead th {\n",
       "        text-align: right;\n",
       "    }\n",
       "</style>\n",
       "<table border=\"1\" class=\"dataframe\">\n",
       "  <thead>\n",
       "    <tr style=\"text-align: right;\">\n",
       "      <th></th>\n",
       "      <th>Chrom</th>\n",
       "      <th>Pos</th>\n",
       "      <th>Gene</th>\n",
       "      <th>Alleles</th>\n",
       "    </tr>\n",
       "  </thead>\n",
       "  <tbody>\n",
       "    <tr>\n",
       "      <th>8887</th>\n",
       "      <td>1</td>\n",
       "      <td>461149</td>\n",
       "      <td>NaN</td>\n",
       "      <td>G.C</td>\n",
       "    </tr>\n",
       "    <tr>\n",
       "      <th>38830</th>\n",
       "      <td>1</td>\n",
       "      <td>2149478</td>\n",
       "      <td>NaN</td>\n",
       "      <td>AATTT.CATTC</td>\n",
       "    </tr>\n",
       "    <tr>\n",
       "      <th>53417</th>\n",
       "      <td>2</td>\n",
       "      <td>428582</td>\n",
       "      <td>NaN</td>\n",
       "      <td>A.T</td>\n",
       "    </tr>\n",
       "    <tr>\n",
       "      <th>53419</th>\n",
       "      <td>2</td>\n",
       "      <td>428598</td>\n",
       "      <td>NaN</td>\n",
       "      <td>T.C</td>\n",
       "    </tr>\n",
       "    <tr>\n",
       "      <th>53420</th>\n",
       "      <td>2</td>\n",
       "      <td>428603</td>\n",
       "      <td>NaN</td>\n",
       "      <td>G.A</td>\n",
       "    </tr>\n",
       "    <tr>\n",
       "      <th>53452</th>\n",
       "      <td>2</td>\n",
       "      <td>429078</td>\n",
       "      <td>NaN</td>\n",
       "      <td>GCATTT.ACGTTA</td>\n",
       "    </tr>\n",
       "    <tr>\n",
       "      <th>62654</th>\n",
       "      <td>2</td>\n",
       "      <td>789595</td>\n",
       "      <td>NaN</td>\n",
       "      <td>G.T</td>\n",
       "    </tr>\n",
       "    <tr>\n",
       "      <th>116230</th>\n",
       "      <td>3</td>\n",
       "      <td>1352772</td>\n",
       "      <td>NaN</td>\n",
       "      <td>A.G</td>\n",
       "    </tr>\n",
       "    <tr>\n",
       "      <th>195340</th>\n",
       "      <td>5</td>\n",
       "      <td>825063</td>\n",
       "      <td>NaN</td>\n",
       "      <td>C.T</td>\n",
       "    </tr>\n",
       "    <tr>\n",
       "      <th>195564</th>\n",
       "      <td>5</td>\n",
       "      <td>829007</td>\n",
       "      <td>NaN</td>\n",
       "      <td>G.A.T</td>\n",
       "    </tr>\n",
       "    <tr>\n",
       "      <th>207085</th>\n",
       "      <td>5</td>\n",
       "      <td>1505348</td>\n",
       "      <td>CNE05380</td>\n",
       "      <td>G.A</td>\n",
       "    </tr>\n",
       "    <tr>\n",
       "      <th>244964</th>\n",
       "      <td>6</td>\n",
       "      <td>1437085</td>\n",
       "      <td>CNF04940</td>\n",
       "      <td>ATTTTTTCG.ATTTTTCG</td>\n",
       "    </tr>\n",
       "    <tr>\n",
       "      <th>244972</th>\n",
       "      <td>6</td>\n",
       "      <td>1437350</td>\n",
       "      <td>CNF04940</td>\n",
       "      <td>C.T</td>\n",
       "    </tr>\n",
       "    <tr>\n",
       "      <th>244974</th>\n",
       "      <td>6</td>\n",
       "      <td>1437389</td>\n",
       "      <td>CNF04940</td>\n",
       "      <td>C.A</td>\n",
       "    </tr>\n",
       "    <tr>\n",
       "      <th>244997</th>\n",
       "      <td>6</td>\n",
       "      <td>1438250</td>\n",
       "      <td>CNF04940</td>\n",
       "      <td>C.T</td>\n",
       "    </tr>\n",
       "    <tr>\n",
       "      <th>244999</th>\n",
       "      <td>6</td>\n",
       "      <td>1438373</td>\n",
       "      <td>CNF04940</td>\n",
       "      <td>T.C</td>\n",
       "    </tr>\n",
       "    <tr>\n",
       "      <th>266325</th>\n",
       "      <td>7</td>\n",
       "      <td>902053</td>\n",
       "      <td>NaN</td>\n",
       "      <td>ATTCA.GTTTG</td>\n",
       "    </tr>\n",
       "    <tr>\n",
       "      <th>305166</th>\n",
       "      <td>9</td>\n",
       "      <td>3253</td>\n",
       "      <td>NaN</td>\n",
       "      <td>T.C</td>\n",
       "    </tr>\n",
       "    <tr>\n",
       "      <th>305167</th>\n",
       "      <td>9</td>\n",
       "      <td>3267</td>\n",
       "      <td>NaN</td>\n",
       "      <td>A.G</td>\n",
       "    </tr>\n",
       "    <tr>\n",
       "      <th>305168</th>\n",
       "      <td>9</td>\n",
       "      <td>3276</td>\n",
       "      <td>NaN</td>\n",
       "      <td>CGAG.AGAAG</td>\n",
       "    </tr>\n",
       "    <tr>\n",
       "      <th>367470</th>\n",
       "      <td>11</td>\n",
       "      <td>176756</td>\n",
       "      <td>NaN</td>\n",
       "      <td>T.C</td>\n",
       "    </tr>\n",
       "    <tr>\n",
       "      <th>367476</th>\n",
       "      <td>11</td>\n",
       "      <td>176804</td>\n",
       "      <td>NaN</td>\n",
       "      <td>CA.TG</td>\n",
       "    </tr>\n",
       "    <tr>\n",
       "      <th>387940</th>\n",
       "      <td>12</td>\n",
       "      <td>113367</td>\n",
       "      <td>CNL04090</td>\n",
       "      <td>G.A.T</td>\n",
       "    </tr>\n",
       "    <tr>\n",
       "      <th>397117</th>\n",
       "      <td>12</td>\n",
       "      <td>506494</td>\n",
       "      <td>NaN</td>\n",
       "      <td>GA.CT</td>\n",
       "    </tr>\n",
       "    <tr>\n",
       "      <th>397118</th>\n",
       "      <td>12</td>\n",
       "      <td>506501</td>\n",
       "      <td>NaN</td>\n",
       "      <td>C.T</td>\n",
       "    </tr>\n",
       "    <tr>\n",
       "      <th>416781</th>\n",
       "      <td>13</td>\n",
       "      <td>256281</td>\n",
       "      <td>CNM00880</td>\n",
       "      <td>ACGAAAGAC.GCGAAAAGAC</td>\n",
       "    </tr>\n",
       "    <tr>\n",
       "      <th>416782</th>\n",
       "      <td>13</td>\n",
       "      <td>256305</td>\n",
       "      <td>CNM00880</td>\n",
       "      <td>G.A</td>\n",
       "    </tr>\n",
       "  </tbody>\n",
       "</table>\n",
       "</div>"
      ],
      "text/plain": [
       "        Chrom      Pos      Gene               Alleles\n",
       "8887        1   461149       NaN                   G.C\n",
       "38830       1  2149478       NaN           AATTT.CATTC\n",
       "53417       2   428582       NaN                   A.T\n",
       "53419       2   428598       NaN                   T.C\n",
       "53420       2   428603       NaN                   G.A\n",
       "53452       2   429078       NaN         GCATTT.ACGTTA\n",
       "62654       2   789595       NaN                   G.T\n",
       "116230      3  1352772       NaN                   A.G\n",
       "195340      5   825063       NaN                   C.T\n",
       "195564      5   829007       NaN                 G.A.T\n",
       "207085      5  1505348  CNE05380                   G.A\n",
       "244964      6  1437085  CNF04940    ATTTTTTCG.ATTTTTCG\n",
       "244972      6  1437350  CNF04940                   C.T\n",
       "244974      6  1437389  CNF04940                   C.A\n",
       "244997      6  1438250  CNF04940                   C.T\n",
       "244999      6  1438373  CNF04940                   T.C\n",
       "266325      7   902053       NaN           ATTCA.GTTTG\n",
       "305166      9     3253       NaN                   T.C\n",
       "305167      9     3267       NaN                   A.G\n",
       "305168      9     3276       NaN            CGAG.AGAAG\n",
       "367470     11   176756       NaN                   T.C\n",
       "367476     11   176804       NaN                 CA.TG\n",
       "387940     12   113367  CNL04090                 G.A.T\n",
       "397117     12   506494       NaN                 GA.CT\n",
       "397118     12   506501       NaN                   C.T\n",
       "416781     13   256281  CNM00880  ACGAAAGAC.GCGAAAAGAC\n",
       "416782     13   256305  CNM00880                   G.A"
      ]
     },
     "execution_count": 114,
     "metadata": {},
     "output_type": "execute_result"
    }
   ],
   "source": [
    "## Sum the progeny genotypes\n",
    "## We are looking for sites not equal to B3502 (ie 1)\n",
    "## So sites with a sum of zero here in the four\n",
    "## self-filamentous progeny are candidate repressor sites\n",
    "vardf['B1_SF_progeny_sum'] = geno.loc[vardf.index,b1_filamentation].T.sum()\n",
    "vardf[(vardf.B1_SF_progeny_sum==0)][['Chrom','Pos','Gene','Alleles']]"
   ]
  },
  {
   "cell_type": "code",
   "execution_count": 115,
   "metadata": {},
   "outputs": [
    {
     "data": {
      "text/plain": [
       "8"
      ]
     },
     "execution_count": 115,
     "metadata": {},
     "output_type": "execute_result"
    }
   ],
   "source": [
    "## Gather B3502_progeny who are non-yeast growth\n",
    "b1_non_yeast= pheno[(pheno.Parent=='B1') & \n",
    "                         (pheno.Phenotype!=0)\n",
    "                        ].Progeny.tolist()\n",
    "\n",
    "## How many are there of these?\n",
    "len(b1_non_yeast)"
   ]
  },
  {
   "cell_type": "code",
   "execution_count": 116,
   "metadata": {},
   "outputs": [
    {
     "data": {
      "text/html": [
       "<div>\n",
       "<style scoped>\n",
       "    .dataframe tbody tr th:only-of-type {\n",
       "        vertical-align: middle;\n",
       "    }\n",
       "\n",
       "    .dataframe tbody tr th {\n",
       "        vertical-align: top;\n",
       "    }\n",
       "\n",
       "    .dataframe thead th {\n",
       "        text-align: right;\n",
       "    }\n",
       "</style>\n",
       "<table border=\"1\" class=\"dataframe\">\n",
       "  <thead>\n",
       "    <tr style=\"text-align: right;\">\n",
       "      <th></th>\n",
       "      <th>Chrom</th>\n",
       "      <th>Pos</th>\n",
       "      <th>Gene</th>\n",
       "      <th>Alleles</th>\n",
       "    </tr>\n",
       "  </thead>\n",
       "  <tbody>\n",
       "    <tr>\n",
       "      <th>38830</th>\n",
       "      <td>1</td>\n",
       "      <td>2149478</td>\n",
       "      <td>NaN</td>\n",
       "      <td>AATTT.CATTC</td>\n",
       "    </tr>\n",
       "    <tr>\n",
       "      <th>53417</th>\n",
       "      <td>2</td>\n",
       "      <td>428582</td>\n",
       "      <td>NaN</td>\n",
       "      <td>A.T</td>\n",
       "    </tr>\n",
       "    <tr>\n",
       "      <th>53452</th>\n",
       "      <td>2</td>\n",
       "      <td>429078</td>\n",
       "      <td>NaN</td>\n",
       "      <td>GCATTT.ACGTTA</td>\n",
       "    </tr>\n",
       "    <tr>\n",
       "      <th>62654</th>\n",
       "      <td>2</td>\n",
       "      <td>789595</td>\n",
       "      <td>NaN</td>\n",
       "      <td>G.T</td>\n",
       "    </tr>\n",
       "    <tr>\n",
       "      <th>116230</th>\n",
       "      <td>3</td>\n",
       "      <td>1352772</td>\n",
       "      <td>NaN</td>\n",
       "      <td>A.G</td>\n",
       "    </tr>\n",
       "    <tr>\n",
       "      <th>195340</th>\n",
       "      <td>5</td>\n",
       "      <td>825063</td>\n",
       "      <td>NaN</td>\n",
       "      <td>C.T</td>\n",
       "    </tr>\n",
       "    <tr>\n",
       "      <th>195564</th>\n",
       "      <td>5</td>\n",
       "      <td>829007</td>\n",
       "      <td>NaN</td>\n",
       "      <td>G.A.T</td>\n",
       "    </tr>\n",
       "    <tr>\n",
       "      <th>207085</th>\n",
       "      <td>5</td>\n",
       "      <td>1505348</td>\n",
       "      <td>CNE05380</td>\n",
       "      <td>G.A</td>\n",
       "    </tr>\n",
       "    <tr>\n",
       "      <th>266325</th>\n",
       "      <td>7</td>\n",
       "      <td>902053</td>\n",
       "      <td>NaN</td>\n",
       "      <td>ATTCA.GTTTG</td>\n",
       "    </tr>\n",
       "    <tr>\n",
       "      <th>305166</th>\n",
       "      <td>9</td>\n",
       "      <td>3253</td>\n",
       "      <td>NaN</td>\n",
       "      <td>T.C</td>\n",
       "    </tr>\n",
       "    <tr>\n",
       "      <th>305167</th>\n",
       "      <td>9</td>\n",
       "      <td>3267</td>\n",
       "      <td>NaN</td>\n",
       "      <td>A.G</td>\n",
       "    </tr>\n",
       "    <tr>\n",
       "      <th>305168</th>\n",
       "      <td>9</td>\n",
       "      <td>3276</td>\n",
       "      <td>NaN</td>\n",
       "      <td>CGAG.AGAAG</td>\n",
       "    </tr>\n",
       "    <tr>\n",
       "      <th>367470</th>\n",
       "      <td>11</td>\n",
       "      <td>176756</td>\n",
       "      <td>NaN</td>\n",
       "      <td>T.C</td>\n",
       "    </tr>\n",
       "    <tr>\n",
       "      <th>367476</th>\n",
       "      <td>11</td>\n",
       "      <td>176804</td>\n",
       "      <td>NaN</td>\n",
       "      <td>CA.TG</td>\n",
       "    </tr>\n",
       "    <tr>\n",
       "      <th>387940</th>\n",
       "      <td>12</td>\n",
       "      <td>113367</td>\n",
       "      <td>CNL04090</td>\n",
       "      <td>G.A.T</td>\n",
       "    </tr>\n",
       "    <tr>\n",
       "      <th>397117</th>\n",
       "      <td>12</td>\n",
       "      <td>506494</td>\n",
       "      <td>NaN</td>\n",
       "      <td>GA.CT</td>\n",
       "    </tr>\n",
       "    <tr>\n",
       "      <th>397118</th>\n",
       "      <td>12</td>\n",
       "      <td>506501</td>\n",
       "      <td>NaN</td>\n",
       "      <td>C.T</td>\n",
       "    </tr>\n",
       "    <tr>\n",
       "      <th>416781</th>\n",
       "      <td>13</td>\n",
       "      <td>256281</td>\n",
       "      <td>CNM00880</td>\n",
       "      <td>ACGAAAGAC.GCGAAAAGAC</td>\n",
       "    </tr>\n",
       "    <tr>\n",
       "      <th>416782</th>\n",
       "      <td>13</td>\n",
       "      <td>256305</td>\n",
       "      <td>CNM00880</td>\n",
       "      <td>G.A</td>\n",
       "    </tr>\n",
       "  </tbody>\n",
       "</table>\n",
       "</div>"
      ],
      "text/plain": [
       "        Chrom      Pos      Gene               Alleles\n",
       "38830       1  2149478       NaN           AATTT.CATTC\n",
       "53417       2   428582       NaN                   A.T\n",
       "53452       2   429078       NaN         GCATTT.ACGTTA\n",
       "62654       2   789595       NaN                   G.T\n",
       "116230      3  1352772       NaN                   A.G\n",
       "195340      5   825063       NaN                   C.T\n",
       "195564      5   829007       NaN                 G.A.T\n",
       "207085      5  1505348  CNE05380                   G.A\n",
       "266325      7   902053       NaN           ATTCA.GTTTG\n",
       "305166      9     3253       NaN                   T.C\n",
       "305167      9     3267       NaN                   A.G\n",
       "305168      9     3276       NaN            CGAG.AGAAG\n",
       "367470     11   176756       NaN                   T.C\n",
       "367476     11   176804       NaN                 CA.TG\n",
       "387940     12   113367  CNL04090                 G.A.T\n",
       "397117     12   506494       NaN                 GA.CT\n",
       "397118     12   506501       NaN                   C.T\n",
       "416781     13   256281  CNM00880  ACGAAAGAC.GCGAAAAGAC\n",
       "416782     13   256305  CNM00880                   G.A"
      ]
     },
     "execution_count": 116,
     "metadata": {},
     "output_type": "execute_result"
    }
   ],
   "source": [
    "## Sum the progeny genotypes\n",
    "## We are looking for sites not equal to B3502_B1 (ie 1)\n",
    "## So sites with a sum of zero here in the four\n",
    "## non-yeast progeny are candidate repressor sites\n",
    "vardf['B1_NY_progeny_sum'] = geno.loc[vardf.index,b1_non_yeast].T.sum()\n",
    "vardf[(vardf.B1_NY_progeny_sum==0)][['Chrom','Pos','Gene','Alleles']]"
   ]
  },
  {
   "cell_type": "code",
   "execution_count": 117,
   "metadata": {},
   "outputs": [
    {
     "data": {
      "text/plain": [
       "13"
      ]
     },
     "execution_count": 117,
     "metadata": {},
     "output_type": "execute_result"
    }
   ],
   "source": [
    "## Gather all progeny that show filamentous growth\n",
    "## regardlest of parent\n",
    "filam_prog = pheno[(pheno.Phenotype==1)\n",
    "                    ].Progeny.tolist()\n",
    "\n",
    "## How many are there of these?\n",
    "len(filam_prog)"
   ]
  },
  {
   "cell_type": "code",
   "execution_count": 118,
   "metadata": {},
   "outputs": [
    {
     "data": {
      "text/html": [
       "<div>\n",
       "<style scoped>\n",
       "    .dataframe tbody tr th:only-of-type {\n",
       "        vertical-align: middle;\n",
       "    }\n",
       "\n",
       "    .dataframe tbody tr th {\n",
       "        vertical-align: top;\n",
       "    }\n",
       "\n",
       "    .dataframe thead th {\n",
       "        text-align: right;\n",
       "    }\n",
       "</style>\n",
       "<table border=\"1\" class=\"dataframe\">\n",
       "  <thead>\n",
       "    <tr style=\"text-align: right;\">\n",
       "      <th></th>\n",
       "      <th>Chrom</th>\n",
       "      <th>Pos</th>\n",
       "      <th>Gene</th>\n",
       "      <th>Alleles</th>\n",
       "    </tr>\n",
       "  </thead>\n",
       "  <tbody>\n",
       "    <tr>\n",
       "      <th>8887</th>\n",
       "      <td>1</td>\n",
       "      <td>461149</td>\n",
       "      <td>NaN</td>\n",
       "      <td>G.C</td>\n",
       "    </tr>\n",
       "    <tr>\n",
       "      <th>38830</th>\n",
       "      <td>1</td>\n",
       "      <td>2149478</td>\n",
       "      <td>NaN</td>\n",
       "      <td>AATTT.CATTC</td>\n",
       "    </tr>\n",
       "    <tr>\n",
       "      <th>53452</th>\n",
       "      <td>2</td>\n",
       "      <td>429078</td>\n",
       "      <td>NaN</td>\n",
       "      <td>GCATTT.ACGTTA</td>\n",
       "    </tr>\n",
       "    <tr>\n",
       "      <th>62654</th>\n",
       "      <td>2</td>\n",
       "      <td>789595</td>\n",
       "      <td>NaN</td>\n",
       "      <td>G.T</td>\n",
       "    </tr>\n",
       "    <tr>\n",
       "      <th>116230</th>\n",
       "      <td>3</td>\n",
       "      <td>1352772</td>\n",
       "      <td>NaN</td>\n",
       "      <td>A.G</td>\n",
       "    </tr>\n",
       "    <tr>\n",
       "      <th>195340</th>\n",
       "      <td>5</td>\n",
       "      <td>825063</td>\n",
       "      <td>NaN</td>\n",
       "      <td>C.T</td>\n",
       "    </tr>\n",
       "    <tr>\n",
       "      <th>195564</th>\n",
       "      <td>5</td>\n",
       "      <td>829007</td>\n",
       "      <td>NaN</td>\n",
       "      <td>G.A.T</td>\n",
       "    </tr>\n",
       "    <tr>\n",
       "      <th>207085</th>\n",
       "      <td>5</td>\n",
       "      <td>1505348</td>\n",
       "      <td>CNE05380</td>\n",
       "      <td>G.A</td>\n",
       "    </tr>\n",
       "    <tr>\n",
       "      <th>244964</th>\n",
       "      <td>6</td>\n",
       "      <td>1437085</td>\n",
       "      <td>CNF04940</td>\n",
       "      <td>ATTTTTTCG.ATTTTTCG</td>\n",
       "    </tr>\n",
       "    <tr>\n",
       "      <th>244972</th>\n",
       "      <td>6</td>\n",
       "      <td>1437350</td>\n",
       "      <td>CNF04940</td>\n",
       "      <td>C.T</td>\n",
       "    </tr>\n",
       "    <tr>\n",
       "      <th>244974</th>\n",
       "      <td>6</td>\n",
       "      <td>1437389</td>\n",
       "      <td>CNF04940</td>\n",
       "      <td>C.A</td>\n",
       "    </tr>\n",
       "    <tr>\n",
       "      <th>244997</th>\n",
       "      <td>6</td>\n",
       "      <td>1438250</td>\n",
       "      <td>CNF04940</td>\n",
       "      <td>C.T</td>\n",
       "    </tr>\n",
       "    <tr>\n",
       "      <th>244999</th>\n",
       "      <td>6</td>\n",
       "      <td>1438373</td>\n",
       "      <td>CNF04940</td>\n",
       "      <td>T.C</td>\n",
       "    </tr>\n",
       "    <tr>\n",
       "      <th>266325</th>\n",
       "      <td>7</td>\n",
       "      <td>902053</td>\n",
       "      <td>NaN</td>\n",
       "      <td>ATTCA.GTTTG</td>\n",
       "    </tr>\n",
       "    <tr>\n",
       "      <th>305166</th>\n",
       "      <td>9</td>\n",
       "      <td>3253</td>\n",
       "      <td>NaN</td>\n",
       "      <td>T.C</td>\n",
       "    </tr>\n",
       "    <tr>\n",
       "      <th>305167</th>\n",
       "      <td>9</td>\n",
       "      <td>3267</td>\n",
       "      <td>NaN</td>\n",
       "      <td>A.G</td>\n",
       "    </tr>\n",
       "    <tr>\n",
       "      <th>305168</th>\n",
       "      <td>9</td>\n",
       "      <td>3276</td>\n",
       "      <td>NaN</td>\n",
       "      <td>CGAG.AGAAG</td>\n",
       "    </tr>\n",
       "    <tr>\n",
       "      <th>367470</th>\n",
       "      <td>11</td>\n",
       "      <td>176756</td>\n",
       "      <td>NaN</td>\n",
       "      <td>T.C</td>\n",
       "    </tr>\n",
       "    <tr>\n",
       "      <th>367476</th>\n",
       "      <td>11</td>\n",
       "      <td>176804</td>\n",
       "      <td>NaN</td>\n",
       "      <td>CA.TG</td>\n",
       "    </tr>\n",
       "    <tr>\n",
       "      <th>387940</th>\n",
       "      <td>12</td>\n",
       "      <td>113367</td>\n",
       "      <td>CNL04090</td>\n",
       "      <td>G.A.T</td>\n",
       "    </tr>\n",
       "    <tr>\n",
       "      <th>416781</th>\n",
       "      <td>13</td>\n",
       "      <td>256281</td>\n",
       "      <td>CNM00880</td>\n",
       "      <td>ACGAAAGAC.GCGAAAAGAC</td>\n",
       "    </tr>\n",
       "    <tr>\n",
       "      <th>416782</th>\n",
       "      <td>13</td>\n",
       "      <td>256305</td>\n",
       "      <td>CNM00880</td>\n",
       "      <td>G.A</td>\n",
       "    </tr>\n",
       "  </tbody>\n",
       "</table>\n",
       "</div>"
      ],
      "text/plain": [
       "        Chrom      Pos      Gene               Alleles\n",
       "8887        1   461149       NaN                   G.C\n",
       "38830       1  2149478       NaN           AATTT.CATTC\n",
       "53452       2   429078       NaN         GCATTT.ACGTTA\n",
       "62654       2   789595       NaN                   G.T\n",
       "116230      3  1352772       NaN                   A.G\n",
       "195340      5   825063       NaN                   C.T\n",
       "195564      5   829007       NaN                 G.A.T\n",
       "207085      5  1505348  CNE05380                   G.A\n",
       "244964      6  1437085  CNF04940    ATTTTTTCG.ATTTTTCG\n",
       "244972      6  1437350  CNF04940                   C.T\n",
       "244974      6  1437389  CNF04940                   C.A\n",
       "244997      6  1438250  CNF04940                   C.T\n",
       "244999      6  1438373  CNF04940                   T.C\n",
       "266325      7   902053       NaN           ATTCA.GTTTG\n",
       "305166      9     3253       NaN                   T.C\n",
       "305167      9     3267       NaN                   A.G\n",
       "305168      9     3276       NaN            CGAG.AGAAG\n",
       "367470     11   176756       NaN                   T.C\n",
       "367476     11   176804       NaN                 CA.TG\n",
       "387940     12   113367  CNL04090                 G.A.T\n",
       "416781     13   256281  CNM00880  ACGAAAGAC.GCGAAAAGAC\n",
       "416782     13   256305  CNM00880                   G.A"
      ]
     },
     "execution_count": 118,
     "metadata": {},
     "output_type": "execute_result"
    }
   ],
   "source": [
    "## Sum the progeny genotypes\n",
    "## We are looking for sites not equal to B3502_B1 (ie 1)\n",
    "## So sites with a sum of zero here in all of the\n",
    "## filamentous progeny are candidate repressor sites\n",
    "vardf['Progeny_sum'] = geno.loc[vardf.index,filam_prog].T.sum()\n",
    "vardf[(vardf.Progeny_sum==0)][['Chrom','Pos','Gene','Alleles']]"
   ]
  },
  {
   "cell_type": "code",
   "execution_count": 23,
   "metadata": {},
   "outputs": [],
   "source": [
    "## Analysis of clones\n",
    "## Here we are searching for valid variants that seperate the clones"
   ]
  },
  {
   "cell_type": "code",
   "execution_count": 24,
   "metadata": {},
   "outputs": [
    {
     "data": {
      "text/html": [
       "<div>\n",
       "<style scoped>\n",
       "    .dataframe tbody tr th:only-of-type {\n",
       "        vertical-align: middle;\n",
       "    }\n",
       "\n",
       "    .dataframe tbody tr th {\n",
       "        vertical-align: top;\n",
       "    }\n",
       "\n",
       "    .dataframe thead th {\n",
       "        text-align: right;\n",
       "    }\n",
       "</style>\n",
       "<table border=\"1\" class=\"dataframe\">\n",
       "  <thead>\n",
       "    <tr style=\"text-align: right;\">\n",
       "      <th></th>\n",
       "      <th>Basidium</th>\n",
       "      <th>Phenotype on MS (N-no filamentation; Y-filamentation; L-giant cells; T-transgressive filamentation)</th>\n",
       "      <th>Progeny</th>\n",
       "      <th>Parent</th>\n",
       "      <th>Phenotype</th>\n",
       "    </tr>\n",
       "  </thead>\n",
       "  <tbody>\n",
       "    <tr>\n",
       "      <th>23</th>\n",
       "      <td>4.0</td>\n",
       "      <td>Y</td>\n",
       "      <td>A24</td>\n",
       "      <td>B1</td>\n",
       "      <td>1.0</td>\n",
       "    </tr>\n",
       "    <tr>\n",
       "      <th>26</th>\n",
       "      <td>4.0</td>\n",
       "      <td>T</td>\n",
       "      <td>A27</td>\n",
       "      <td>B1</td>\n",
       "      <td>2.0</td>\n",
       "    </tr>\n",
       "  </tbody>\n",
       "</table>\n",
       "</div>"
      ],
      "text/plain": [
       "    Basidium  \\\n",
       "23       4.0   \n",
       "26       4.0   \n",
       "\n",
       "   Phenotype on MS (N-no filamentation; Y-filamentation; L-giant cells; T-transgressive filamentation)  \\\n",
       "23                                                  Y                                                    \n",
       "26                                                  T                                                    \n",
       "\n",
       "   Progeny Parent  Phenotype  \n",
       "23     A24     B1        1.0  \n",
       "26     A27     B1        2.0  "
      ]
     },
     "execution_count": 24,
     "metadata": {},
     "output_type": "execute_result"
    }
   ],
   "source": [
    "## Take a look at the first set of clones\n",
    "c1 = 'A27'\n",
    "c2 = 'A24'\n",
    "\n",
    "clones1 = [c1,c2]\n",
    "\n",
    "## Find candidate genomic sites that are \n",
    "## different between the clones\n",
    "clone1_dif_ix = geno[(geno[c1] != geno[c2])][clones1].dropna().index\n",
    "\n",
    "## Filter on covX\n",
    "clone_covx_f = 8\n",
    "clone1_depth_ix = depth[(depth[clones1].T.min() > clone_covx_f) & \n",
    "                        (depth.index.isin(clone1_dif_ix))].index\n",
    "\n",
    "## Filter ratios\n",
    "clone_ratio_f = .6\n",
    "clone1_ratio_ix = ratio[(ratio[clones1].T.min() >= clone_ratio_f) & \n",
    "                        (ratio.index.isin(clone1_depth_ix))][clones1].index\n",
    "\n",
    "pheno[(pheno.Progeny.isin(clones1))]"
   ]
  },
  {
   "cell_type": "code",
   "execution_count": 25,
   "metadata": {},
   "outputs": [
    {
     "data": {
      "text/html": [
       "<div>\n",
       "<style scoped>\n",
       "    .dataframe tbody tr th:only-of-type {\n",
       "        vertical-align: middle;\n",
       "    }\n",
       "\n",
       "    .dataframe tbody tr th {\n",
       "        vertical-align: top;\n",
       "    }\n",
       "\n",
       "    .dataframe thead th {\n",
       "        text-align: right;\n",
       "    }\n",
       "</style>\n",
       "<table border=\"1\" class=\"dataframe\">\n",
       "  <thead>\n",
       "    <tr style=\"text-align: right;\">\n",
       "      <th></th>\n",
       "      <th>A27</th>\n",
       "      <th>A24</th>\n",
       "      <th>B3502_B1</th>\n",
       "    </tr>\n",
       "  </thead>\n",
       "  <tbody>\n",
       "    <tr>\n",
       "      <th>194182</th>\n",
       "      <td>1.0</td>\n",
       "      <td>0.0</td>\n",
       "      <td>0.0</td>\n",
       "    </tr>\n",
       "    <tr>\n",
       "      <th>362451</th>\n",
       "      <td>0.0</td>\n",
       "      <td>2.0</td>\n",
       "      <td>0.0</td>\n",
       "    </tr>\n",
       "  </tbody>\n",
       "</table>\n",
       "</div>"
      ],
      "text/plain": [
       "        A27  A24  B3502_B1\n",
       "194182  1.0  0.0       0.0\n",
       "362451  0.0  2.0       0.0"
      ]
     },
     "execution_count": 25,
     "metadata": {},
     "output_type": "execute_result"
    }
   ],
   "source": [
    "## What are the genotypes at these sites in \n",
    "## these clones and their parent strain?\n",
    "geno.loc[clone1_ratio_ix,clones1+['B3502_B1']]"
   ]
  },
  {
   "cell_type": "code",
   "execution_count": 26,
   "metadata": {},
   "outputs": [
    {
     "data": {
      "text/html": [
       "<div>\n",
       "<style scoped>\n",
       "    .dataframe tbody tr th:only-of-type {\n",
       "        vertical-align: middle;\n",
       "    }\n",
       "\n",
       "    .dataframe tbody tr th {\n",
       "        vertical-align: top;\n",
       "    }\n",
       "\n",
       "    .dataframe thead th {\n",
       "        text-align: right;\n",
       "    }\n",
       "</style>\n",
       "<table border=\"1\" class=\"dataframe\">\n",
       "  <thead>\n",
       "    <tr style=\"text-align: right;\">\n",
       "      <th></th>\n",
       "      <th>Seqid</th>\n",
       "      <th>Pos</th>\n",
       "      <th>Qual</th>\n",
       "      <th>Callrate</th>\n",
       "      <th>Nallele</th>\n",
       "      <th>Alleles</th>\n",
       "      <th>Maxlen</th>\n",
       "      <th>Minlen</th>\n",
       "      <th>Depth</th>\n",
       "      <th>Type</th>\n",
       "      <th>Chrom</th>\n",
       "      <th>Oldix</th>\n",
       "    </tr>\n",
       "  </thead>\n",
       "  <tbody>\n",
       "    <tr>\n",
       "      <th>194182</th>\n",
       "      <td>AE017345.1</td>\n",
       "      <td>800527</td>\n",
       "      <td>0.017306</td>\n",
       "      <td>1.0</td>\n",
       "      <td>1</td>\n",
       "      <td>A.G</td>\n",
       "      <td>1</td>\n",
       "      <td>1</td>\n",
       "      <td>839</td>\n",
       "      <td>snp</td>\n",
       "      <td>5</td>\n",
       "      <td>18478</td>\n",
       "    </tr>\n",
       "    <tr>\n",
       "      <th>362451</th>\n",
       "      <td>AE017350.1</td>\n",
       "      <td>1082725</td>\n",
       "      <td>0.001558</td>\n",
       "      <td>1.0</td>\n",
       "      <td>2</td>\n",
       "      <td>GATT.AATC.AATT</td>\n",
       "      <td>4</td>\n",
       "      <td>4</td>\n",
       "      <td>634</td>\n",
       "      <td>complex</td>\n",
       "      <td>10</td>\n",
       "      <td>24795</td>\n",
       "    </tr>\n",
       "  </tbody>\n",
       "</table>\n",
       "</div>"
      ],
      "text/plain": [
       "             Seqid      Pos      Qual  Callrate  Nallele         Alleles  \\\n",
       "194182  AE017345.1   800527  0.017306       1.0        1             A.G   \n",
       "362451  AE017350.1  1082725  0.001558       1.0        2  GATT.AATC.AATT   \n",
       "\n",
       "        Maxlen  Minlen  Depth     Type  Chrom  Oldix  \n",
       "194182       1       1    839      snp      5  18478  \n",
       "362451       4       4    634  complex     10  24795  "
      ]
     },
     "execution_count": 26,
     "metadata": {},
     "output_type": "execute_result"
    }
   ],
   "source": [
    "## Check out the info on these\n",
    "info.loc[clone1_ratio_ix]"
   ]
  },
  {
   "cell_type": "code",
   "execution_count": 27,
   "metadata": {},
   "outputs": [
    {
     "data": {
      "text/html": [
       "<div>\n",
       "<style scoped>\n",
       "    .dataframe tbody tr th:only-of-type {\n",
       "        vertical-align: middle;\n",
       "    }\n",
       "\n",
       "    .dataframe tbody tr th {\n",
       "        vertical-align: top;\n",
       "    }\n",
       "\n",
       "    .dataframe thead th {\n",
       "        text-align: right;\n",
       "    }\n",
       "</style>\n",
       "<table border=\"1\" class=\"dataframe\">\n",
       "  <thead>\n",
       "    <tr style=\"text-align: right;\">\n",
       "      <th></th>\n",
       "      <th>Basidium</th>\n",
       "      <th>Phenotype on MS (N-no filamentation; Y-filamentation; L-giant cells; T-transgressive filamentation)</th>\n",
       "      <th>Progeny</th>\n",
       "      <th>Parent</th>\n",
       "      <th>Phenotype</th>\n",
       "    </tr>\n",
       "  </thead>\n",
       "  <tbody>\n",
       "    <tr>\n",
       "      <th>42</th>\n",
       "      <td>4.0</td>\n",
       "      <td>T</td>\n",
       "      <td>A43</td>\n",
       "      <td>B7</td>\n",
       "      <td>2.0</td>\n",
       "    </tr>\n",
       "    <tr>\n",
       "      <th>43</th>\n",
       "      <td>4.0</td>\n",
       "      <td>Y</td>\n",
       "      <td>A44</td>\n",
       "      <td>B7</td>\n",
       "      <td>1.0</td>\n",
       "    </tr>\n",
       "  </tbody>\n",
       "</table>\n",
       "</div>"
      ],
      "text/plain": [
       "    Basidium  \\\n",
       "42       4.0   \n",
       "43       4.0   \n",
       "\n",
       "   Phenotype on MS (N-no filamentation; Y-filamentation; L-giant cells; T-transgressive filamentation)  \\\n",
       "42                                                  T                                                    \n",
       "43                                                  Y                                                    \n",
       "\n",
       "   Progeny Parent  Phenotype  \n",
       "42     A43     B7        2.0  \n",
       "43     A44     B7        1.0  "
      ]
     },
     "execution_count": 27,
     "metadata": {},
     "output_type": "execute_result"
    }
   ],
   "source": [
    "## Take a look at the first set of clones\n",
    "c3 = 'A44'\n",
    "c4 = 'A43'\n",
    "\n",
    "clones2 = [c3,c4]\n",
    "\n",
    "## Find candidate genomic sites that are \n",
    "## different between the clones\n",
    "clone2_dif_ix = geno[(geno[c3] != geno[c4])][clones2].dropna().index\n",
    "\n",
    "## Filter on covX\n",
    "clone_covx_f = 8\n",
    "clone2_depth_ix = depth[(depth[clones2].T.min() > clone_covx_f) & \n",
    "                        (depth.index.isin(clone2_dif_ix))].index\n",
    "\n",
    "## Filter ratios\n",
    "clone_ratio_f = .6\n",
    "clone2_ratio_ix = ratio[(ratio[clones2].T.min() >= clone_ratio_f) & \n",
    "                        (ratio.index.isin(clone2_depth_ix))].index\n",
    "\n",
    "pheno[(pheno.Progeny.isin(clones2))]"
   ]
  },
  {
   "cell_type": "code",
   "execution_count": 28,
   "metadata": {},
   "outputs": [
    {
     "data": {
      "text/html": [
       "<div>\n",
       "<style scoped>\n",
       "    .dataframe tbody tr th:only-of-type {\n",
       "        vertical-align: middle;\n",
       "    }\n",
       "\n",
       "    .dataframe tbody tr th {\n",
       "        vertical-align: top;\n",
       "    }\n",
       "\n",
       "    .dataframe thead th {\n",
       "        text-align: right;\n",
       "    }\n",
       "</style>\n",
       "<table border=\"1\" class=\"dataframe\">\n",
       "  <thead>\n",
       "    <tr style=\"text-align: right;\">\n",
       "      <th></th>\n",
       "      <th>A44</th>\n",
       "      <th>A43</th>\n",
       "      <th>B3502_B7</th>\n",
       "    </tr>\n",
       "  </thead>\n",
       "  <tbody>\n",
       "  </tbody>\n",
       "</table>\n",
       "</div>"
      ],
      "text/plain": [
       "Empty DataFrame\n",
       "Columns: [A44, A43, B3502_B7]\n",
       "Index: []"
      ]
     },
     "execution_count": 28,
     "metadata": {},
     "output_type": "execute_result"
    }
   ],
   "source": [
    "## What are the genotypes at these sites in \n",
    "## these clones and their parent strain?\n",
    "geno.loc[clone2_ratio_ix,clones2+['B3502_B7']]"
   ]
  },
  {
   "cell_type": "code",
   "execution_count": 29,
   "metadata": {},
   "outputs": [
    {
     "data": {
      "text/html": [
       "<div>\n",
       "<style scoped>\n",
       "    .dataframe tbody tr th:only-of-type {\n",
       "        vertical-align: middle;\n",
       "    }\n",
       "\n",
       "    .dataframe tbody tr th {\n",
       "        vertical-align: top;\n",
       "    }\n",
       "\n",
       "    .dataframe thead th {\n",
       "        text-align: right;\n",
       "    }\n",
       "</style>\n",
       "<table border=\"1\" class=\"dataframe\">\n",
       "  <thead>\n",
       "    <tr style=\"text-align: right;\">\n",
       "      <th></th>\n",
       "      <th>A44</th>\n",
       "      <th>A43</th>\n",
       "    </tr>\n",
       "  </thead>\n",
       "  <tbody>\n",
       "    <tr>\n",
       "      <th>194182</th>\n",
       "      <td>0.0</td>\n",
       "      <td>0.0</td>\n",
       "    </tr>\n",
       "    <tr>\n",
       "      <th>362451</th>\n",
       "      <td>0.0</td>\n",
       "      <td>0.0</td>\n",
       "    </tr>\n",
       "  </tbody>\n",
       "</table>\n",
       "</div>"
      ],
      "text/plain": [
       "        A44  A43\n",
       "194182  0.0  0.0\n",
       "362451  0.0  0.0"
      ]
     },
     "execution_count": 29,
     "metadata": {},
     "output_type": "execute_result"
    }
   ],
   "source": [
    "geno.loc[clone1_ratio_ix,clones2]"
   ]
  },
  {
   "cell_type": "code",
   "execution_count": 30,
   "metadata": {},
   "outputs": [
    {
     "data": {
      "text/plain": [
       "['A27', 'A24', 'A44', 'A43']"
      ]
     },
     "execution_count": 30,
     "metadata": {},
     "output_type": "execute_result"
    }
   ],
   "source": [
    "clones = clones1+clones2\n",
    "clones"
   ]
  },
  {
   "cell_type": "code",
   "execution_count": 31,
   "metadata": {},
   "outputs": [],
   "source": [
    "## Find genotypes with similar patters of \n",
    "## inheritance across clones\n",
    "clones_dif_ix = geno[(geno[c1]!=geno[c2]) & \n",
    "                     (geno[c3]!=geno[c4]) & \n",
    "                     (geno[c1]==geno[c3]) & \n",
    "                     (geno[c2]==geno[c4])\n",
    "                    ][clones].dropna().index"
   ]
  },
  {
   "cell_type": "code",
   "execution_count": 32,
   "metadata": {},
   "outputs": [
    {
     "data": {
      "text/html": [
       "<div>\n",
       "<style scoped>\n",
       "    .dataframe tbody tr th:only-of-type {\n",
       "        vertical-align: middle;\n",
       "    }\n",
       "\n",
       "    .dataframe tbody tr th {\n",
       "        vertical-align: top;\n",
       "    }\n",
       "\n",
       "    .dataframe thead th {\n",
       "        text-align: right;\n",
       "    }\n",
       "</style>\n",
       "<table border=\"1\" class=\"dataframe\">\n",
       "  <thead>\n",
       "    <tr style=\"text-align: right;\">\n",
       "      <th></th>\n",
       "      <th>A27</th>\n",
       "      <th>A24</th>\n",
       "      <th>A44</th>\n",
       "      <th>A43</th>\n",
       "      <th>B3502_B1</th>\n",
       "      <th>B3502_B7</th>\n",
       "    </tr>\n",
       "  </thead>\n",
       "  <tbody>\n",
       "    <tr>\n",
       "      <th>35712</th>\n",
       "      <td>0.500000</td>\n",
       "      <td>0.400000</td>\n",
       "      <td>0.500000</td>\n",
       "      <td>0.333333</td>\n",
       "      <td>0.000000</td>\n",
       "      <td>0.200000</td>\n",
       "    </tr>\n",
       "    <tr>\n",
       "      <th>37043</th>\n",
       "      <td>0.076923</td>\n",
       "      <td>0.961538</td>\n",
       "      <td>0.055556</td>\n",
       "      <td>0.961538</td>\n",
       "      <td>0.941860</td>\n",
       "      <td>0.983871</td>\n",
       "    </tr>\n",
       "    <tr>\n",
       "      <th>79155</th>\n",
       "      <td>0.111111</td>\n",
       "      <td>0.898305</td>\n",
       "      <td>0.037037</td>\n",
       "      <td>0.891892</td>\n",
       "      <td>0.983607</td>\n",
       "      <td>0.959184</td>\n",
       "    </tr>\n",
       "    <tr>\n",
       "      <th>97003</th>\n",
       "      <td>0.976190</td>\n",
       "      <td>0.033333</td>\n",
       "      <td>0.967742</td>\n",
       "      <td>0.000000</td>\n",
       "      <td>0.020833</td>\n",
       "      <td>0.000000</td>\n",
       "    </tr>\n",
       "    <tr>\n",
       "      <th>253618</th>\n",
       "      <td>0.944444</td>\n",
       "      <td>0.000000</td>\n",
       "      <td>0.928571</td>\n",
       "      <td>0.000000</td>\n",
       "      <td>0.964286</td>\n",
       "      <td>0.958333</td>\n",
       "    </tr>\n",
       "    <tr>\n",
       "      <th>256229</th>\n",
       "      <td>0.000000</td>\n",
       "      <td>0.000000</td>\n",
       "      <td>0.000000</td>\n",
       "      <td>0.000000</td>\n",
       "      <td>0.000000</td>\n",
       "      <td>0.000000</td>\n",
       "    </tr>\n",
       "    <tr>\n",
       "      <th>275883</th>\n",
       "      <td>0.136364</td>\n",
       "      <td>0.952381</td>\n",
       "      <td>0.000000</td>\n",
       "      <td>0.923077</td>\n",
       "      <td>0.942308</td>\n",
       "      <td>0.878788</td>\n",
       "    </tr>\n",
       "    <tr>\n",
       "      <th>325679</th>\n",
       "      <td>0.228571</td>\n",
       "      <td>0.903846</td>\n",
       "      <td>0.054054</td>\n",
       "      <td>0.896552</td>\n",
       "      <td>0.981013</td>\n",
       "      <td>0.051282</td>\n",
       "    </tr>\n",
       "    <tr>\n",
       "      <th>333924</th>\n",
       "      <td>0.000000</td>\n",
       "      <td>0.933333</td>\n",
       "      <td>0.130435</td>\n",
       "      <td>0.956522</td>\n",
       "      <td>0.950000</td>\n",
       "      <td>0.916667</td>\n",
       "    </tr>\n",
       "    <tr>\n",
       "      <th>337053</th>\n",
       "      <td>0.250000</td>\n",
       "      <td>0.142857</td>\n",
       "      <td>0.000000</td>\n",
       "      <td>0.222222</td>\n",
       "      <td>0.875000</td>\n",
       "      <td>0.083333</td>\n",
       "    </tr>\n",
       "    <tr>\n",
       "      <th>421470</th>\n",
       "      <td>0.333333</td>\n",
       "      <td>0.200000</td>\n",
       "      <td>0.000000</td>\n",
       "      <td>0.166667</td>\n",
       "      <td>0.083333</td>\n",
       "      <td>0.142857</td>\n",
       "    </tr>\n",
       "  </tbody>\n",
       "</table>\n",
       "</div>"
      ],
      "text/plain": [
       "             A27       A24       A44       A43  B3502_B1  B3502_B7\n",
       "35712   0.500000  0.400000  0.500000  0.333333  0.000000  0.200000\n",
       "37043   0.076923  0.961538  0.055556  0.961538  0.941860  0.983871\n",
       "79155   0.111111  0.898305  0.037037  0.891892  0.983607  0.959184\n",
       "97003   0.976190  0.033333  0.967742  0.000000  0.020833  0.000000\n",
       "253618  0.944444  0.000000  0.928571  0.000000  0.964286  0.958333\n",
       "256229  0.000000  0.000000  0.000000  0.000000  0.000000  0.000000\n",
       "275883  0.136364  0.952381  0.000000  0.923077  0.942308  0.878788\n",
       "325679  0.228571  0.903846  0.054054  0.896552  0.981013  0.051282\n",
       "333924  0.000000  0.933333  0.130435  0.956522  0.950000  0.916667\n",
       "337053  0.250000  0.142857  0.000000  0.222222  0.875000  0.083333\n",
       "421470  0.333333  0.200000  0.000000  0.166667  0.083333  0.142857"
      ]
     },
     "execution_count": 32,
     "metadata": {},
     "output_type": "execute_result"
    }
   ],
   "source": [
    "ratio.loc[clones_dif_ix,clones+['B3502_B1','B3502_B7']]"
   ]
  },
  {
   "cell_type": "code",
   "execution_count": 33,
   "metadata": {},
   "outputs": [
    {
     "data": {
      "text/html": [
       "<div>\n",
       "<style scoped>\n",
       "    .dataframe tbody tr th:only-of-type {\n",
       "        vertical-align: middle;\n",
       "    }\n",
       "\n",
       "    .dataframe tbody tr th {\n",
       "        vertical-align: top;\n",
       "    }\n",
       "\n",
       "    .dataframe thead th {\n",
       "        text-align: right;\n",
       "    }\n",
       "</style>\n",
       "<table border=\"1\" class=\"dataframe\">\n",
       "  <thead>\n",
       "    <tr style=\"text-align: right;\">\n",
       "      <th></th>\n",
       "      <th>A27</th>\n",
       "      <th>A24</th>\n",
       "      <th>A44</th>\n",
       "      <th>A43</th>\n",
       "      <th>B3502_B1</th>\n",
       "      <th>B3502_B7</th>\n",
       "    </tr>\n",
       "  </thead>\n",
       "  <tbody>\n",
       "    <tr>\n",
       "      <th>35712</th>\n",
       "      <td>1.0</td>\n",
       "      <td>4.0</td>\n",
       "      <td>5.0</td>\n",
       "      <td>2.0</td>\n",
       "      <td>7.0</td>\n",
       "      <td>4.0</td>\n",
       "    </tr>\n",
       "    <tr>\n",
       "      <th>37043</th>\n",
       "      <td>12.0</td>\n",
       "      <td>25.0</td>\n",
       "      <td>17.0</td>\n",
       "      <td>25.0</td>\n",
       "      <td>85.0</td>\n",
       "      <td>61.0</td>\n",
       "    </tr>\n",
       "    <tr>\n",
       "      <th>79155</th>\n",
       "      <td>35.0</td>\n",
       "      <td>58.0</td>\n",
       "      <td>26.0</td>\n",
       "      <td>36.0</td>\n",
       "      <td>60.0</td>\n",
       "      <td>48.0</td>\n",
       "    </tr>\n",
       "    <tr>\n",
       "      <th>97003</th>\n",
       "      <td>41.0</td>\n",
       "      <td>29.0</td>\n",
       "      <td>30.0</td>\n",
       "      <td>21.0</td>\n",
       "      <td>47.0</td>\n",
       "      <td>45.0</td>\n",
       "    </tr>\n",
       "    <tr>\n",
       "      <th>253618</th>\n",
       "      <td>17.0</td>\n",
       "      <td>19.0</td>\n",
       "      <td>13.0</td>\n",
       "      <td>14.0</td>\n",
       "      <td>55.0</td>\n",
       "      <td>47.0</td>\n",
       "    </tr>\n",
       "    <tr>\n",
       "      <th>256229</th>\n",
       "      <td>0.0</td>\n",
       "      <td>0.0</td>\n",
       "      <td>2.0</td>\n",
       "      <td>1.0</td>\n",
       "      <td>5.0</td>\n",
       "      <td>2.0</td>\n",
       "    </tr>\n",
       "    <tr>\n",
       "      <th>275883</th>\n",
       "      <td>21.0</td>\n",
       "      <td>20.0</td>\n",
       "      <td>9.0</td>\n",
       "      <td>12.0</td>\n",
       "      <td>51.0</td>\n",
       "      <td>32.0</td>\n",
       "    </tr>\n",
       "    <tr>\n",
       "      <th>325679</th>\n",
       "      <td>34.0</td>\n",
       "      <td>51.0</td>\n",
       "      <td>36.0</td>\n",
       "      <td>28.0</td>\n",
       "      <td>157.0</td>\n",
       "      <td>116.0</td>\n",
       "    </tr>\n",
       "    <tr>\n",
       "      <th>333924</th>\n",
       "      <td>6.0</td>\n",
       "      <td>29.0</td>\n",
       "      <td>22.0</td>\n",
       "      <td>22.0</td>\n",
       "      <td>39.0</td>\n",
       "      <td>23.0</td>\n",
       "    </tr>\n",
       "    <tr>\n",
       "      <th>337053</th>\n",
       "      <td>3.0</td>\n",
       "      <td>6.0</td>\n",
       "      <td>3.0</td>\n",
       "      <td>8.0</td>\n",
       "      <td>23.0</td>\n",
       "      <td>11.0</td>\n",
       "    </tr>\n",
       "    <tr>\n",
       "      <th>421470</th>\n",
       "      <td>2.0</td>\n",
       "      <td>4.0</td>\n",
       "      <td>3.0</td>\n",
       "      <td>5.0</td>\n",
       "      <td>23.0</td>\n",
       "      <td>20.0</td>\n",
       "    </tr>\n",
       "  </tbody>\n",
       "</table>\n",
       "</div>"
      ],
      "text/plain": [
       "         A27   A24   A44   A43  B3502_B1  B3502_B7\n",
       "35712    1.0   4.0   5.0   2.0       7.0       4.0\n",
       "37043   12.0  25.0  17.0  25.0      85.0      61.0\n",
       "79155   35.0  58.0  26.0  36.0      60.0      48.0\n",
       "97003   41.0  29.0  30.0  21.0      47.0      45.0\n",
       "253618  17.0  19.0  13.0  14.0      55.0      47.0\n",
       "256229   0.0   0.0   2.0   1.0       5.0       2.0\n",
       "275883  21.0  20.0   9.0  12.0      51.0      32.0\n",
       "325679  34.0  51.0  36.0  28.0     157.0     116.0\n",
       "333924   6.0  29.0  22.0  22.0      39.0      23.0\n",
       "337053   3.0   6.0   3.0   8.0      23.0      11.0\n",
       "421470   2.0   4.0   3.0   5.0      23.0      20.0"
      ]
     },
     "execution_count": 33,
     "metadata": {},
     "output_type": "execute_result"
    }
   ],
   "source": [
    "depth.loc[clones_dif_ix,clones+['B3502_B1','B3502_B7']]"
   ]
  },
  {
   "cell_type": "code",
   "execution_count": 34,
   "metadata": {},
   "outputs": [
    {
     "data": {
      "text/html": [
       "<div>\n",
       "<style scoped>\n",
       "    .dataframe tbody tr th:only-of-type {\n",
       "        vertical-align: middle;\n",
       "    }\n",
       "\n",
       "    .dataframe tbody tr th {\n",
       "        vertical-align: top;\n",
       "    }\n",
       "\n",
       "    .dataframe thead th {\n",
       "        text-align: right;\n",
       "    }\n",
       "</style>\n",
       "<table border=\"1\" class=\"dataframe\">\n",
       "  <thead>\n",
       "    <tr style=\"text-align: right;\">\n",
       "      <th></th>\n",
       "      <th>A27</th>\n",
       "      <th>A24</th>\n",
       "      <th>A44</th>\n",
       "      <th>A43</th>\n",
       "      <th>B3502_B1</th>\n",
       "      <th>B3502_B7</th>\n",
       "      <th>CF830</th>\n",
       "    </tr>\n",
       "  </thead>\n",
       "  <tbody>\n",
       "    <tr>\n",
       "      <th>35712</th>\n",
       "      <td>3.0</td>\n",
       "      <td>4.0</td>\n",
       "      <td>3.0</td>\n",
       "      <td>4.0</td>\n",
       "      <td>3.0</td>\n",
       "      <td>1.0</td>\n",
       "      <td>3.0</td>\n",
       "    </tr>\n",
       "    <tr>\n",
       "      <th>37043</th>\n",
       "      <td>1.0</td>\n",
       "      <td>0.0</td>\n",
       "      <td>1.0</td>\n",
       "      <td>0.0</td>\n",
       "      <td>0.0</td>\n",
       "      <td>0.0</td>\n",
       "      <td>0.0</td>\n",
       "    </tr>\n",
       "    <tr>\n",
       "      <th>79155</th>\n",
       "      <td>1.0</td>\n",
       "      <td>0.0</td>\n",
       "      <td>1.0</td>\n",
       "      <td>0.0</td>\n",
       "      <td>0.0</td>\n",
       "      <td>0.0</td>\n",
       "      <td>0.0</td>\n",
       "    </tr>\n",
       "    <tr>\n",
       "      <th>97003</th>\n",
       "      <td>0.0</td>\n",
       "      <td>1.0</td>\n",
       "      <td>0.0</td>\n",
       "      <td>1.0</td>\n",
       "      <td>1.0</td>\n",
       "      <td>1.0</td>\n",
       "      <td>1.0</td>\n",
       "    </tr>\n",
       "    <tr>\n",
       "      <th>253618</th>\n",
       "      <td>0.0</td>\n",
       "      <td>1.0</td>\n",
       "      <td>0.0</td>\n",
       "      <td>1.0</td>\n",
       "      <td>0.0</td>\n",
       "      <td>0.0</td>\n",
       "      <td>1.0</td>\n",
       "    </tr>\n",
       "    <tr>\n",
       "      <th>256229</th>\n",
       "      <td>1.0</td>\n",
       "      <td>2.0</td>\n",
       "      <td>1.0</td>\n",
       "      <td>2.0</td>\n",
       "      <td>1.0</td>\n",
       "      <td>1.0</td>\n",
       "      <td>1.0</td>\n",
       "    </tr>\n",
       "    <tr>\n",
       "      <th>275883</th>\n",
       "      <td>1.0</td>\n",
       "      <td>0.0</td>\n",
       "      <td>1.0</td>\n",
       "      <td>0.0</td>\n",
       "      <td>0.0</td>\n",
       "      <td>0.0</td>\n",
       "      <td>0.0</td>\n",
       "    </tr>\n",
       "    <tr>\n",
       "      <th>325679</th>\n",
       "      <td>1.0</td>\n",
       "      <td>0.0</td>\n",
       "      <td>1.0</td>\n",
       "      <td>0.0</td>\n",
       "      <td>0.0</td>\n",
       "      <td>1.0</td>\n",
       "      <td>0.0</td>\n",
       "    </tr>\n",
       "    <tr>\n",
       "      <th>333924</th>\n",
       "      <td>1.0</td>\n",
       "      <td>0.0</td>\n",
       "      <td>1.0</td>\n",
       "      <td>0.0</td>\n",
       "      <td>0.0</td>\n",
       "      <td>0.0</td>\n",
       "      <td>0.0</td>\n",
       "    </tr>\n",
       "    <tr>\n",
       "      <th>337053</th>\n",
       "      <td>3.0</td>\n",
       "      <td>2.0</td>\n",
       "      <td>3.0</td>\n",
       "      <td>2.0</td>\n",
       "      <td>0.0</td>\n",
       "      <td>2.0</td>\n",
       "      <td>1.0</td>\n",
       "    </tr>\n",
       "    <tr>\n",
       "      <th>421470</th>\n",
       "      <td>1.0</td>\n",
       "      <td>2.0</td>\n",
       "      <td>1.0</td>\n",
       "      <td>2.0</td>\n",
       "      <td>1.0</td>\n",
       "      <td>2.0</td>\n",
       "      <td>2.0</td>\n",
       "    </tr>\n",
       "  </tbody>\n",
       "</table>\n",
       "</div>"
      ],
      "text/plain": [
       "        A27  A24  A44  A43  B3502_B1  B3502_B7  CF830\n",
       "35712   3.0  4.0  3.0  4.0       3.0       1.0    3.0\n",
       "37043   1.0  0.0  1.0  0.0       0.0       0.0    0.0\n",
       "79155   1.0  0.0  1.0  0.0       0.0       0.0    0.0\n",
       "97003   0.0  1.0  0.0  1.0       1.0       1.0    1.0\n",
       "253618  0.0  1.0  0.0  1.0       0.0       0.0    1.0\n",
       "256229  1.0  2.0  1.0  2.0       1.0       1.0    1.0\n",
       "275883  1.0  0.0  1.0  0.0       0.0       0.0    0.0\n",
       "325679  1.0  0.0  1.0  0.0       0.0       1.0    0.0\n",
       "333924  1.0  0.0  1.0  0.0       0.0       0.0    0.0\n",
       "337053  3.0  2.0  3.0  2.0       0.0       2.0    1.0\n",
       "421470  1.0  2.0  1.0  2.0       1.0       2.0    2.0"
      ]
     },
     "execution_count": 34,
     "metadata": {},
     "output_type": "execute_result"
    }
   ],
   "source": [
    "geno.loc[clones_dif_ix,clones+['B3502_B1','B3502_B7','CF830']]"
   ]
  },
  {
   "cell_type": "code",
   "execution_count": null,
   "metadata": {},
   "outputs": [],
   "source": []
  },
  {
   "cell_type": "code",
   "execution_count": 35,
   "metadata": {},
   "outputs": [
    {
     "ename": "AssertionError",
     "evalue": "",
     "output_type": "error",
     "traceback": [
      "\u001b[0;31m---------------------------------------------------------------------------\u001b[0m",
      "\u001b[0;31mAssertionError\u001b[0m                            Traceback (most recent call last)",
      "\u001b[0;32m<ipython-input-35-aeea7b376948>\u001b[0m in \u001b[0;36m<module>\u001b[0;34m\u001b[0m\n\u001b[0;32m----> 1\u001b[0;31m \u001b[0;32massert\u001b[0m \u001b[0;36m1\u001b[0m \u001b[0;34m==\u001b[0m\u001b[0;36m0\u001b[0m\u001b[0;34m\u001b[0m\u001b[0;34m\u001b[0m\u001b[0m\n\u001b[0m",
      "\u001b[0;31mAssertionError\u001b[0m: "
     ]
    }
   ],
   "source": [
    "assert 1 ==0"
   ]
  },
  {
   "cell_type": "code",
   "execution_count": null,
   "metadata": {},
   "outputs": [],
   "source": [
    "\n",
    "\n",
    "\n",
    "\n",
    "\n",
    "## Load in chromosome map\n",
    "mappath = '/home/croth/Downloads/B3502/DATA/chrommap.csv.gz'\n",
    "chrommap = pd.read_csv(mappath)\n",
    "chrommap['Seqid'] = chrommap.Contig\n",
    "chrommap.drop('Contig',axis=1,inplace=True)\n",
    "\n",
    "\n",
    "\n",
    "## Merge dataframes\n",
    "chrommap['Chromosome'] = chrommap.index+1\n",
    "chrommap = chrommap.merge(centlocs)\n",
    "\n",
    "\n",
    "gff = gff.merge(chrommap)\n",
    "\n",
    "#stock_variants = pd.read_csv('/home/croth/Downloads/B3502/DATA/B3502_stocks_variants.csv',\n",
    "#                            index_col=0)\n",
    "#stock_variants.head()\n",
    "\n",
    "## Load in gene changes analysis \n",
    "## This was done on stocks of B3502, CF830, and JEC21\n",
    "gene_changes = pd.read_csv('../GENES/gene_changes.csv.gz')\n",
    "\n"
   ]
  },
  {
   "cell_type": "code",
   "execution_count": null,
   "metadata": {},
   "outputs": [],
   "source": [
    "pheno[(pheno.Parent=='B1')].shape"
   ]
  },
  {
   "cell_type": "code",
   "execution_count": null,
   "metadata": {},
   "outputs": [],
   "source": [
    "pheno[(pheno.Parent=='B1')]"
   ]
  },
  {
   "cell_type": "code",
   "execution_count": null,
   "metadata": {},
   "outputs": [],
   "source": []
  },
  {
   "cell_type": "code",
   "execution_count": null,
   "metadata": {},
   "outputs": [],
   "source": []
  },
  {
   "cell_type": "code",
   "execution_count": null,
   "metadata": {},
   "outputs": [],
   "source": []
  },
  {
   "cell_type": "code",
   "execution_count": null,
   "metadata": {},
   "outputs": [],
   "source": [
    "## Gather samples view last 5\n",
    "samples = sorted(geno.columns.tolist()[:-2])\n",
    "len(samples), samples[-5:]"
   ]
  },
  {
   "cell_type": "code",
   "execution_count": null,
   "metadata": {},
   "outputs": [],
   "source": [
    "## Set parents used in sequenced cross A1, B1, B7\n",
    "parents = ['B3502_%s'%a for a in ['A1','B1','B7']] + ['CF830','JEC21'] \n",
    "parents"
   ]
  },
  {
   "cell_type": "code",
   "execution_count": null,
   "metadata": {},
   "outputs": [],
   "source": [
    "## concatonate info with geno\n",
    "seggeno = geno.loc[:,~geno.columns.isin(['Chrom','Oldix'])]\n",
    "genodf = pd.concat([info,seggeno],axis=1)\n",
    "genodf.shape"
   ]
  },
  {
   "cell_type": "code",
   "execution_count": null,
   "metadata": {},
   "outputs": [],
   "source": [
    "## Find sites that are invariant across population.\n",
    "## IE gvs that are all JEC21 (reference genotype)\n",
    "parent_invar_0_ix = geno[(geno[parents].T.sum() == 0) | \n",
    "                         (geno[parents].T.var() == 0)].index.tolist()\n",
    "len(parent_invar_0_ix)"
   ]
  },
  {
   "cell_type": "code",
   "execution_count": null,
   "metadata": {},
   "outputs": [],
   "source": [
    "## Gather the variant sites\n",
    "vargeno_temp = genodf[~(genodf.index.isin(parent_invar_0_ix))]\n",
    "vargeno_temp.shape"
   ]
  },
  {
   "cell_type": "code",
   "execution_count": null,
   "metadata": {},
   "outputs": [],
   "source": [
    "vartest_ix = vargeno_temp[(vargeno_temp[parents].T.var()>0)\n",
    "                          ][parents].dropna().index"
   ]
  },
  {
   "cell_type": "code",
   "execution_count": null,
   "metadata": {},
   "outputs": [],
   "source": [
    "non_sf_parent = 'B3502_B1'\n",
    "other_parents = [p for p in parents ]"
   ]
  },
  {
   "cell_type": "markdown",
   "metadata": {},
   "source": [
    "## Gather indcies where at least one of the \n",
    "## B3502 stock parents is different from CF830\n",
    "var_ix = []\n",
    "for p in parents:\n",
    "    \n",
    "    pgeno = vargeno_temp[[p,parents[-1]]].diff(axis=1).dropna(axis=0,how='all')\n",
    "    dif_ix = pgeno[(pgeno[parents[-1]] != 0)].index\n",
    "    var_ix.append(dif_ix)\n",
    "    \n",
    "var_ix = np.unique(np.concatenate(var_ix))\n",
    "\n",
    "## Gather this variant genotype info check shape\n",
    "vargeno = vargeno_temp.loc[var_ix].dropna().copy()\n",
    "vargeno.shape"
   ]
  },
  {
   "cell_type": "code",
   "execution_count": null,
   "metadata": {},
   "outputs": [],
   "source": [
    "vargeno = vargeno_temp.loc[vartest_ix,:].copy()\n",
    "vargeno.shape"
   ]
  },
  {
   "cell_type": "code",
   "execution_count": null,
   "metadata": {},
   "outputs": [],
   "source": [
    "missing = [i for i in vargeno_temp.index if i not in vargeno.index]\n",
    "len(missing)"
   ]
  },
  {
   "cell_type": "code",
   "execution_count": null,
   "metadata": {},
   "outputs": [],
   "source": [
    "## Make parent and stock variant dataframes\n",
    "infocols = ['Seqid','Chrom','Oldix','Pos','Qual','Nallele','Alleles','Type']\n",
    "\n",
    "parents_gvs = vargeno[parents+['JEC21']+infocols].T.drop_duplicates().T.copy()\n",
    "\n",
    "parents_gvs['Avedepth'] = depth.loc[vargeno.index,parents+['JEC21']].T.mean()\n",
    "parents_gvs['Mindepth'] = depth.loc[vargeno.index,parents+['JEC21']].T.min()\n",
    "parents_gvs['Maxdepth'] = depth.loc[vargeno.index,parents+['JEC21']].T.max()\n",
    "\n",
    "parents_gvs['Averatio'] = ratio.loc[vargeno.index,parents+['JEC21']].T.mean()\n",
    "parents_gvs['Minratio'] = ratio.loc[vargeno.index,parents+['JEC21']].T.min()\n",
    "parents_gvs['Maxratio'] = ratio.loc[vargeno.index,parents+['JEC21']].T.max()\n",
    "\n",
    "parents_gvs.to_csv('../GENOTYPE/B3502_parent_variants.csv.gz',index=True)"
   ]
  },
  {
   "cell_type": "code",
   "execution_count": null,
   "metadata": {},
   "outputs": [],
   "source": [
    "casual = 1438418"
   ]
  },
  {
   "cell_type": "code",
   "execution_count": null,
   "metadata": {},
   "outputs": [],
   "source": [
    "candidate_ix = parents_gvs[(parents_gvs.Chrom==6) & \n",
    "                (parents_gvs.Pos.isin(\n",
    "                np.arange(1437068, 1438867,1)))].index"
   ]
  },
  {
   "cell_type": "code",
   "execution_count": null,
   "metadata": {},
   "outputs": [],
   "source": [
    "b1_p = pheno[(pheno[pheno.columns[3]]=='Y')].Progeny.tolist()\n",
    "\n",
    "b1_checks = b1_p+ ['B3502_B7','B3502_A1','B3502_B1']\n",
    "len(b1_checks),len(b1_p)"
   ]
  },
  {
   "cell_type": "code",
   "execution_count": null,
   "metadata": {},
   "outputs": [],
   "source": [
    "genodf.loc[candidate_ix,b1_checks+['CF830','Pos']]"
   ]
  },
  {
   "cell_type": "code",
   "execution_count": null,
   "metadata": {},
   "outputs": [],
   "source": []
  },
  {
   "cell_type": "code",
   "execution_count": null,
   "metadata": {},
   "outputs": [],
   "source": []
  },
  {
   "cell_type": "code",
   "execution_count": null,
   "metadata": {},
   "outputs": [],
   "source": [
    "repressor_candidate = 'CNF04940'\n",
    "rc_gff = gff[(gff.Gene==repressor_candidate)].copy()\n",
    "rc_gff.head()"
   ]
  },
  {
   "cell_type": "code",
   "execution_count": null,
   "metadata": {},
   "outputs": [],
   "source": [
    "fig,ax = plt.subplots(1,1,figsize=(8,3))\n",
    "\n",
    "plt.hlines(0,rc_gff.Start.min(),rc_gff.End.max(),color='grey',alpha=.7,linewidth=5);\n",
    "plt.hlines(0,rc_gff[(rc_gff.Type=='CDS')].Start.min(),\n",
    "           rc_gff[(rc_gff.Type=='CDS')].End.max(),color='grey',\n",
    "           linewidth=10,alpha=0.87);\n",
    "\n",
    "temp_pos = parents_gvs[(parents_gvs.Chrom==6) & \n",
    "                       (parents_gvs.Pos>1435000) & \n",
    "                       (parents_gvs.Pos<1500000)].Pos.values\n",
    "\n",
    "plt.plot(temp_pos,np.zeros(len(temp_pos)),'k.');\n"
   ]
  },
  {
   "cell_type": "code",
   "execution_count": null,
   "metadata": {},
   "outputs": [],
   "source": [
    " parents_gvs[(parents_gvs.Chrom==6) & \n",
    "                       (parents_gvs.Pos>1400000) & \n",
    "                       (parents_gvs.Pos<1500000)]"
   ]
  },
  {
   "cell_type": "code",
   "execution_count": null,
   "metadata": {},
   "outputs": [],
   "source": [
    "parents_gvs[(parents_gvs.Chrom==6) & \n",
    "                    (parents_gvs.Pos>143000) & \n",
    "                       (parents_gvs.Pos<144000)]"
   ]
  },
  {
   "cell_type": "code",
   "execution_count": null,
   "metadata": {},
   "outputs": [],
   "source": [
    "## Group by parent\n",
    "byparent = [p.Progeny.values for a,p in pheno.groupby('Parent')]\n",
    "[print(a) for a,p in pheno.groupby('Parent')];"
   ]
  },
  {
   "cell_type": "code",
   "execution_count": null,
   "metadata": {},
   "outputs": [],
   "source": [
    "## Calculate the CF830 allele frequencies \n",
    "## PER cross between CF830 and the B3502 stocks\n",
    "cf_830 = [np.sum((vargeno[bp\n",
    "            ].T.values  - vargeno['CF830'].values\n",
    "                   ) == 0,axis=0)/len(bp) for bp in byparent]\n",
    "\n",
    "## Add as columns to variant df\n",
    "for i,p in enumerate(['A1','B1','B7']):\n",
    "    vargeno['%s_af'%p] = cf_830[i]\n",
    "    \n",
    "vargeno.tail()"
   ]
  },
  {
   "cell_type": "code",
   "execution_count": null,
   "metadata": {},
   "outputs": [],
   "source": [
    "## Find variants that are invariant in the progeny\n",
    "invar_geno = vargeno[(vargeno[pheno.Progeny.tolist()].T.var() == 0)]\n",
    "invar_geno.shape"
   ]
  },
  {
   "cell_type": "code",
   "execution_count": null,
   "metadata": {},
   "outputs": [],
   "source": [
    "## Assert that we have colledct genotypes == JEC21\n",
    "## We should have found these above\n",
    "assert len([i for i in vargeno[(vargeno[(pheno.Progeny)].T.sum()==0)].index \n",
    " if i not in invar_geno.index]) == 0"
   ]
  },
  {
   "cell_type": "code",
   "execution_count": null,
   "metadata": {},
   "outputs": [],
   "source": [
    "## Check where the invariance is in the other genotype B3502\n",
    "vargeno[(np.sum(vargeno[pheno.Progeny] == 1,axis=1) == len(pheno.Progeny))]"
   ]
  },
  {
   "cell_type": "code",
   "execution_count": null,
   "metadata": {},
   "outputs": [],
   "source": [
    "## Remove invarnt sites\n",
    "loci = vargeno[~(vargeno.index.isin(invar_geno.index))]\n",
    "loci = loci.T.drop_duplicates().T\n",
    "\n",
    "## SAve\n",
    "loci.to_csv('../GENOTYPE/B3502_progeny_genotypes.csv.gz')\n",
    "loci.shape"
   ]
  },
  {
   "cell_type": "code",
   "execution_count": null,
   "metadata": {},
   "outputs": [],
   "source": [
    "## Gather progeny from the B3502_B1 stock\n",
    "## That are filamentous (Y for yes)\n",
    "#b1_p = pheno[(pheno.Parent=='B1') & (pheno[pheno.columns[3]]=='Y')].Progeny.tolist()\n",
    "b1_p = pheno[(pheno.Parent=='B1') & \n",
    "             (pheno[pheno.columns[3]]!='N')].Progeny.tolist()\n",
    "\n",
    "b1_checks = b1_p+ ['B3502_B7','B3502_A1','B3502_B1']\n",
    "len(b1_checks),len(b1_p)"
   ]
  },
  {
   "cell_type": "code",
   "execution_count": null,
   "metadata": {},
   "outputs": [],
   "source": [
    "b1_checks"
   ]
  },
  {
   "cell_type": "code",
   "execution_count": null,
   "metadata": {},
   "outputs": [],
   "source": [
    "## Find potential repressor sites in geno (full data non filtered)\n",
    "k = np.min(np.abs(geno[b1_checks[:-1]].T.values - geno[b1_checks[-1]].values).T,axis=1)\n",
    "#k = np.min(np.abs(geno[b1_checks_ny[:-1]].T.values - geno[b1_checks_ny[-1]].values).T,axis=1)\n",
    "repres_ix = geno.index.values[(k!=0)]\n",
    "\n",
    "## Check work\n",
    "assert len(repres_ix) == np.unique(repres_ix).shape[0]\n",
    "\n",
    "## Print number\n",
    "len(repres_ix)"
   ]
  },
  {
   "cell_type": "code",
   "execution_count": null,
   "metadata": {},
   "outputs": [],
   "source": [
    "## Gather represors into a dataframe\n",
    "repres_temp = geno.loc[repres_ix,b1_checks].dropna()\n",
    "repres = pd.concat([repres_temp,info.loc[repres_temp.index]],axis=1)\n",
    "\n",
    "repres['Ratio_ave'] = ratio.loc[repres.index,b1_checks].mean(axis=1)\n",
    "repres['Depth_ave'] = depth.loc[repres.index,b1_checks].mean(axis=1)\n",
    "\n",
    "repres = repres.T.drop_duplicates().T\n",
    "repres.head()"
   ]
  },
  {
   "cell_type": "code",
   "execution_count": null,
   "metadata": {},
   "outputs": [],
   "source": [
    "## Gather genes on chromosomes in our represor set\n",
    "gfftemp = gff[(gff.Type=='gene') & \n",
    "              (gff.Chromosome.isin(repres.Chrom))]\n",
    "\n",
    "\n",
    "## If the repressor is in a gene\n",
    "gene_check = []\n",
    "for i,j in repres.iterrows():\n",
    "    gp = gfftemp[(gfftemp.Chromosome==j.Chrom) & \n",
    "            (gfftemp.Start<=j.Pos) & (gfftemp.End>=j.Pos)]\n",
    "    \n",
    "    if gp.shape[0]>0:\n",
    "    #    print(gp[['Gene','Start','End']])\n",
    "    #    print(i,j.Pos,j.Chrom)\n",
    "    #    print('\\n')\n",
    "        \n",
    "        gene_check.append(gp.Gene.min())\n",
    "    \n",
    "gene_check = np.unique(gene_check)\n",
    "len(gene_check)"
   ]
  },
  {
   "cell_type": "code",
   "execution_count": null,
   "metadata": {},
   "outputs": [],
   "source": [
    "gene_check"
   ]
  },
  {
   "cell_type": "code",
   "execution_count": null,
   "metadata": {},
   "outputs": [],
   "source": [
    "## Gather the parent data\n",
    "parents_and_JEC21 = parents + ['JEC21']\n",
    "pgeno = geno[parents_and_JEC21].copy().dropna()\n",
    "pgeno['Ave_depth'] = depth[parents_and_JEC21].T.mean()\n",
    "pgeno['Ave_ratio'] = ratio[parents_and_JEC21].T.mean()\n",
    "pgeno['IsJEC21'] = pgeno[parents_and_JEC21].T.sum()\n",
    "pgeno['Genovar'] = pgeno[parents_and_JEC21].T.var()"
   ]
  },
  {
   "cell_type": "code",
   "execution_count": null,
   "metadata": {},
   "outputs": [],
   "source": [
    "## Filter the parent data\n",
    "pfilt = pgeno[(pgeno.Genovar!= 0) & \n",
    "              (pgeno.Ave_depth> 9) & \n",
    "              (pgeno.Ave_ratio > .8)]"
   ]
  },
  {
   "cell_type": "code",
   "execution_count": null,
   "metadata": {},
   "outputs": [],
   "source": [
    "pfin = pd.concat([info.loc[pfilt.index],pfilt],axis=1)\n",
    "pfin.shape"
   ]
  },
  {
   "cell_type": "code",
   "execution_count": null,
   "metadata": {},
   "outputs": [],
   "source": [
    "pfin[(pfin.Chrom==1) & (pfin.Pos==1430787)]"
   ]
  },
  {
   "cell_type": "code",
   "execution_count": null,
   "metadata": {},
   "outputs": [],
   "source": [
    "geno.loc[27604,b1_checks]"
   ]
  },
  {
   "cell_type": "code",
   "execution_count": null,
   "metadata": {},
   "outputs": [],
   "source": [
    "pfin[(pfin.Chrom==3) & (pfin.Pos==153548)][parents_and_JEC21]"
   ]
  },
  {
   "cell_type": "code",
   "execution_count": null,
   "metadata": {},
   "outputs": [],
   "source": [
    "pfin[(pfin.Chrom==6) & (pfin.Pos>=1437085)]"
   ]
  },
  {
   "cell_type": "code",
   "execution_count": null,
   "metadata": {},
   "outputs": [],
   "source": [
    "parents_gvs[(parents_gvs.Chrom==6) & (parents_gvs.Pos>=1437085)]"
   ]
  },
  {
   "cell_type": "code",
   "execution_count": null,
   "metadata": {},
   "outputs": [],
   "source": [
    "pfin[(pfin.Chrom==10) & (pfin.Pos==323716)]"
   ]
  },
  {
   "cell_type": "code",
   "execution_count": null,
   "metadata": {},
   "outputs": [],
   "source": [
    "notin = [i for i in repres.index if i not in pfin.index]\n",
    "notin[:5],len(notin)"
   ]
  },
  {
   "cell_type": "code",
   "execution_count": null,
   "metadata": {},
   "outputs": [],
   "source": [
    "len(repres)"
   ]
  },
  {
   "cell_type": "code",
   "execution_count": null,
   "metadata": {},
   "outputs": [],
   "source": [
    "## Find reprsor index in parent differnet index\n",
    "repres_in_parents = [i for i in repres.index if i in pfin.index]\n",
    "len(repres_in_parents)"
   ]
  },
  {
   "cell_type": "code",
   "execution_count": null,
   "metadata": {},
   "outputs": [],
   "source": [
    "pfin.loc[repres_in_parents][['Pos','Chrom']]"
   ]
  },
  {
   "cell_type": "code",
   "execution_count": null,
   "metadata": {},
   "outputs": [],
   "source": [
    "geno.loc[244989][['A44','A43','A27','A24']]"
   ]
  },
  {
   "cell_type": "code",
   "execution_count": null,
   "metadata": {},
   "outputs": [],
   "source": [
    "tempix = geno[(info.Pos>=1437068) & \n",
    "              (info.Pos<=1438867) & \n",
    "              (geno.Chrom==6)][b1_checks].index"
   ]
  },
  {
   "cell_type": "code",
   "execution_count": null,
   "metadata": {},
   "outputs": [],
   "source": [
    "candidate = geno.loc[tempix].copy()\n",
    "candidate['Pos'] = info.loc[tempix,'Pos']\n",
    "candidate['Var'] = candidate[b1_checks].T.var()\n",
    "candidate[(candidate.Var!=0)]\n",
    "toplot_can = candidate[(candidate.Var!=0)][b1_checks+['Pos']].copy().dropna()\n",
    "toplot_can.index = toplot_can.Pos\n",
    "toplot_can.drop(['Pos'],axis=1,inplace=True)\n",
    "toplot_can"
   ]
  },
  {
   "cell_type": "code",
   "execution_count": null,
   "metadata": {},
   "outputs": [],
   "source": [
    "clones1 = geno[(geno['A27'] != geno['A24'])][['A27','A24']].copy().dropna()\n",
    "clones1['Mdepth'] =depth.loc[clones1.index,['A27','A24']].T.min()\n",
    "clones1['Mratio'] =ratio.loc[clones1.index,['A27','A24']].T.min()\n",
    "clones1['Pos'] = info.loc[clones1.index,'Pos']\n",
    "clones1['Chrom'] = info.loc[clones1.index,'Chrom']"
   ]
  },
  {
   "cell_type": "code",
   "execution_count": null,
   "metadata": {},
   "outputs": [],
   "source": [
    "geno.loc[clones1[(clones1.Mratio>0.6)].index,['A44','A43']]"
   ]
  },
  {
   "cell_type": "code",
   "execution_count": null,
   "metadata": {},
   "outputs": [],
   "source": [
    "info"
   ]
  },
  {
   "cell_type": "code",
   "execution_count": null,
   "metadata": {},
   "outputs": [],
   "source": [
    "clones2 = geno[(geno['A44'] != geno['A43'])][['A44','A43']].copy().dropna()\n",
    "clones2['Mdepth'] =depth.loc[clones2.index,['A44','A43']].T.max()\n",
    "clones2['Mratio'] =ratio.loc[clones2.index,['A44','A43']].T.max()\n",
    "clones2['Pos'] = info.loc[clones2.index,'Pos']\n",
    "clones2['Chrom'] = info.loc[clones2.index,'Chrom']\n",
    "clones2['Alleles'] = info.loc[clones2.index,'Alleles']\n",
    "clones2['Type'] = info.loc[clones2.index,'Type']\n",
    "\n",
    "clones2[(clones2.Mratio>0.8)].head()"
   ]
  },
  {
   "cell_type": "code",
   "execution_count": null,
   "metadata": {},
   "outputs": [],
   "source": [
    "commonix = [i for i in clones1.index.tolist() if i in clones2.index.tolist()]"
   ]
  },
  {
   "cell_type": "code",
   "execution_count": null,
   "metadata": {},
   "outputs": [],
   "source": [
    "temp = pd.concat([clones1.loc[commonix,['A27','A24']],clones2.loc[commonix]],axis=1)"
   ]
  },
  {
   "cell_type": "code",
   "execution_count": null,
   "metadata": {},
   "outputs": [],
   "source": [
    "temp.shape"
   ]
  },
  {
   "cell_type": "code",
   "execution_count": null,
   "metadata": {},
   "outputs": [],
   "source": [
    "sf_progeny = pheno[(pheno[(pheno.columns[3])] =='Y')].Progeny.tolist() + ['B3502_A1','B3502_B7','B3502_B1','CF830']"
   ]
  },
  {
   "cell_type": "code",
   "execution_count": null,
   "metadata": {},
   "outputs": [],
   "source": [
    "other_repressor = []\n",
    "for i,g in vargeno.iterrows():\n",
    "    \n",
    "    if (g['B3502_B1'] not in g[sf_progeny[:-2]].tolist()) and (g['B3502_B1']!=g['CF830']):\n",
    "        other_repressor.append(i)\n",
    "        \n",
    "len(other_repressor)"
   ]
  },
  {
   "cell_type": "code",
   "execution_count": null,
   "metadata": {},
   "outputs": [],
   "source": [
    "loci.loc[other_repressor][sf_progeny+['Chrom','Pos','Alleles','Type']]"
   ]
  },
  {
   "cell_type": "code",
   "execution_count": null,
   "metadata": {},
   "outputs": [],
   "source": [
    "loci.loc[other_repressor][sf_progeny+['Chrom','Pos','Alleles','Type']]"
   ]
  },
  {
   "cell_type": "code",
   "execution_count": null,
   "metadata": {},
   "outputs": [],
   "source": []
  },
  {
   "cell_type": "code",
   "execution_count": null,
   "metadata": {},
   "outputs": [],
   "source": []
  },
  {
   "cell_type": "code",
   "execution_count": null,
   "metadata": {},
   "outputs": [],
   "source": [
    "info[(info.Chrom==6) & (info.Pos==1437914)]"
   ]
  },
  {
   "cell_type": "code",
   "execution_count": null,
   "metadata": {},
   "outputs": [],
   "source": [
    "import seaborn as sns"
   ]
  },
  {
   "cell_type": "code",
   "execution_count": null,
   "metadata": {},
   "outputs": [],
   "source": [
    "fig,ax = plt.subplots(1,1,figsize=(10,3))\n",
    "sns.heatmap(toplot_can.T,cbar=False, linewidths=.5);\n",
    "plt.xlabel('\\nGenetiv Vairant Position',fontsize=12)\n",
    "plt.ylabel('B3502 Stocks and F$_1$ Progeny\\n',fontsize=12);\n",
    "plt.savefig('../FIGURES/CNF04940_variants.png',dpi=200,bbox_inches='tight')"
   ]
  },
  {
   "cell_type": "code",
   "execution_count": null,
   "metadata": {},
   "outputs": [],
   "source": [
    "gff[(gff.Gene=='CNF04940')]"
   ]
  },
  {
   "cell_type": "code",
   "execution_count": null,
   "metadata": {},
   "outputs": [],
   "source": [
    "repres_in_parents"
   ]
  },
  {
   "cell_type": "code",
   "execution_count": null,
   "metadata": {},
   "outputs": [],
   "source": [
    "info.loc[repres_in_parents]"
   ]
  },
  {
   "cell_type": "code",
   "execution_count": null,
   "metadata": {},
   "outputs": [],
   "source": [
    "for i,j in repres.loc[repres_in_parents].iterrows():\n",
    "    gp = gfftemp[(gfftemp.Chromosome==j.Chrom) & \n",
    "           "
   ]
  },
  {
   "cell_type": "code",
   "execution_count": null,
   "metadata": {},
   "outputs": [],
   "source": [
    "repres.loc[repres_in_parents]"
   ]
  },
  {
   "cell_type": "code",
   "execution_count": null,
   "metadata": {},
   "outputs": [],
   "source": [
    "#[i for i in pfin.index if i not in repres]"
   ]
  },
  {
   "cell_type": "code",
   "execution_count": null,
   "metadata": {},
   "outputs": [],
   "source": [
    "p = 1430787\n",
    "c = 1\n",
    "ix = info[(info.Pos==p) & (info.Chrom==c)].index\n",
    "\n",
    "\n",
    "geno.loc[ix,b1_checks]"
   ]
  },
  {
   "cell_type": "code",
   "execution_count": null,
   "metadata": {},
   "outputs": [],
   "source": [
    "p = 153548\n",
    "c = 3\n",
    "ix = info[(info.Pos==p) & (info.Chrom==c)].index\n",
    "\n",
    "\n",
    "geno.loc[ix,b1_checks]"
   ]
  },
  {
   "cell_type": "code",
   "execution_count": null,
   "metadata": {},
   "outputs": [],
   "source": [
    "p = [1437085,1437389,1438373]\n",
    "c = 6\n",
    "ix = info[(info.Pos.isin(p)) & (info.Chrom==c)].index\n",
    "\n",
    "\n",
    "geno.loc[ix,b1_checks]"
   ]
  },
  {
   "cell_type": "code",
   "execution_count": null,
   "metadata": {},
   "outputs": [],
   "source": [
    "p = [323716]\n",
    "c = 10\n",
    "ix = info[(info.Pos.isin(p)) & (info.Chrom==c)].index\n",
    "\n",
    "\n",
    "geno.loc[ix,b1_checks]"
   ]
  },
  {
   "cell_type": "code",
   "execution_count": null,
   "metadata": {},
   "outputs": [],
   "source": []
  },
  {
   "cell_type": "code",
   "execution_count": null,
   "metadata": {},
   "outputs": [],
   "source": []
  },
  {
   "cell_type": "code",
   "execution_count": null,
   "metadata": {},
   "outputs": [],
   "source": [
    "cnf04940varix= pfin[(pfin.Chrom==6) & (pfin.Pos>=1437068)].index"
   ]
  },
  {
   "cell_type": "code",
   "execution_count": null,
   "metadata": {},
   "outputs": [],
   "source": [
    "cnm00880 = pfin[(pfin.Chrom==13) & (pfin.Pos>= 256057) & (pfin.Pos<=258338)].index"
   ]
  },
  {
   "cell_type": "code",
   "execution_count": null,
   "metadata": {},
   "outputs": [],
   "source": [
    "info.loc[cnm00880]"
   ]
  },
  {
   "cell_type": "code",
   "execution_count": null,
   "metadata": {},
   "outputs": [],
   "source": [
    "cnm00880ix_temp = info[(info.Chrom==13) & (info.Pos>= 256057) & (info.Pos<=258338)].index.tolist()"
   ]
  },
  {
   "cell_type": "code",
   "execution_count": null,
   "metadata": {},
   "outputs": [],
   "source": [
    "cnm00880ix = repres[(repres.index.isin(cnm00880ix_temp))].index"
   ]
  },
  {
   "cell_type": "code",
   "execution_count": null,
   "metadata": {},
   "outputs": [],
   "source": [
    "y_progeny = pheno[(pheno[pheno.columns[3]]=='Y')].Progeny.values\n",
    "check1 = sorted(np.unique(list(b1_checks) + list(y_progeny)))\n",
    "\n",
    "c_progeny = pheno[(pheno[pheno.columns[3]].isin(['Y','L','T']))].Progeny.values\n",
    "check2 = sorted(c_progeny)\n",
    "\n",
    "T_progeny = pheno[(pheno[pheno.columns[3]].isin(['Y','T']))].Progeny.values\n",
    "check3 = sorted(T_progeny)"
   ]
  },
  {
   "cell_type": "code",
   "execution_count": null,
   "metadata": {},
   "outputs": [],
   "source": [
    "g = 'CNB00860'\n",
    "gse = gff[(gff.Gene==g) & (gff.Type=='gene')][['Start','End']].values[0]\n",
    "gpos = np.arange(*gse)\n",
    "gchrom = gff[(gff.Gene==g)]['Chromosome'].min()\n",
    "\n",
    "gix = repres[(repres.Chrom==gchrom) & (repres.Pos.isin(gpos))].index\n",
    "geno.loc[gix,check3]"
   ]
  },
  {
   "cell_type": "code",
   "execution_count": null,
   "metadata": {},
   "outputs": [],
   "source": [
    "geno.loc[gix,b1_checks]"
   ]
  },
  {
   "cell_type": "code",
   "execution_count": null,
   "metadata": {},
   "outputs": [],
   "source": [
    "g = 'CNE05380'\n",
    "gse = gff[(gff.Gene==g) & (gff.Type=='gene')][['Start','End']].values[0]\n",
    "gpos = np.arange(*gse)\n",
    "gchrom = gff[(gff.Gene==g)]['Chromosome'].min()\n",
    "\n",
    "gix = repres[(repres.Chrom==gchrom) & (repres.Pos.isin(gpos))].index\n",
    "geno.loc[gix,check3]"
   ]
  },
  {
   "cell_type": "code",
   "execution_count": null,
   "metadata": {},
   "outputs": [],
   "source": [
    "geno.loc[gix,check1]"
   ]
  },
  {
   "cell_type": "code",
   "execution_count": null,
   "metadata": {},
   "outputs": [],
   "source": [
    "geno.loc[gix,check2]"
   ]
  },
  {
   "cell_type": "code",
   "execution_count": null,
   "metadata": {},
   "outputs": [],
   "source": [
    "np.unique(geno.loc[gix,check2].values[0])"
   ]
  },
  {
   "cell_type": "code",
   "execution_count": null,
   "metadata": {},
   "outputs": [],
   "source": [
    "geno.loc[gix,b1_checks]"
   ]
  },
  {
   "cell_type": "code",
   "execution_count": null,
   "metadata": {},
   "outputs": [],
   "source": [
    "gix in pfin.index.tolist()"
   ]
  },
  {
   "cell_type": "code",
   "execution_count": null,
   "metadata": {},
   "outputs": [],
   "source": [
    "pgeno.loc[gix]"
   ]
  },
  {
   "cell_type": "code",
   "execution_count": null,
   "metadata": {},
   "outputs": [],
   "source": [
    "g = 'CNF04940'\n",
    "gse = gff[(gff.Gene==g) & (gff.Type=='gene')][['Start','End']].values[0]\n",
    "gpos = np.arange(*gse)\n",
    "gchrom = gff[(gff.Gene==g)]['Chromosome'].min()\n",
    "\n",
    "gix = repres[(repres.Chrom==gchrom) & (repres.Pos.isin(gpos))].index\n",
    "geno.loc[gix,check3]"
   ]
  },
  {
   "cell_type": "code",
   "execution_count": null,
   "metadata": {},
   "outputs": [],
   "source": [
    "geno.loc[gix,check1]"
   ]
  },
  {
   "cell_type": "code",
   "execution_count": null,
   "metadata": {},
   "outputs": [],
   "source": [
    "g = 'CNL04090'\n",
    "gse = gff[(gff.Gene==g) & (gff.Type=='gene')][['Start','End']].values[0]\n",
    "gpos = np.arange(*gse)\n",
    "gchrom = gff[(gff.Gene==g)]['Chromosome'].min()\n",
    "\n",
    "gix = repres[(repres.Chrom==gchrom) & (repres.Pos.isin(gpos))].index\n",
    "geno.loc[gix,check3].values"
   ]
  },
  {
   "cell_type": "code",
   "execution_count": null,
   "metadata": {},
   "outputs": [],
   "source": [
    "g = 'CNM00880'\n",
    "gse = gff[(gff.Gene==g) & (gff.Type=='gene')][['Start','End']].values[0]\n",
    "gpos = np.arange(*gse)\n",
    "gchrom = gff[(gff.Gene==g)]['Chromosome'].min()\n",
    "\n",
    "gix = repres[(repres.Chrom==gchrom) & (repres.Pos.isin(gpos))].index\n",
    "geno.loc[gix,check3].values"
   ]
  },
  {
   "cell_type": "code",
   "execution_count": null,
   "metadata": {},
   "outputs": [],
   "source": [
    "g = 'CNJ01150'\n",
    "gse = gff[(gff.Gene==g) & (gff.Type=='gene')][['Start','End']].values[0]\n",
    "gpos = np.arange(*gse)\n",
    "gchrom = gff[(gff.Gene==g)]['Chromosome'].min()\n",
    "\n",
    "gix = repres[(repres.Chrom==gchrom) & (repres.Pos.isin(gpos))].index\n",
    "geno.loc[gix,check3].values"
   ]
  },
  {
   "cell_type": "code",
   "execution_count": null,
   "metadata": {},
   "outputs": [],
   "source": [
    "geno.loc[info[(info.Pos.isin(gpos)) & (info.Chrom==gchrom)].index,b1_checks]"
   ]
  },
  {
   "cell_type": "code",
   "execution_count": null,
   "metadata": {},
   "outputs": [],
   "source": [
    "geno.loc[info[(info.Pos==1430787)].index,b1_checks]"
   ]
  },
  {
   "cell_type": "code",
   "execution_count": null,
   "metadata": {},
   "outputs": [],
   "source": [
    "geno.loc[info[(info.Pos==153548) & (info.Chrom==3)].index,b1_checks+['B3502_A7']]"
   ]
  },
  {
   "cell_type": "code",
   "execution_count": null,
   "metadata": {},
   "outputs": [],
   "source": [
    "\n",
    "geno.loc[cnm00880ix,check1]"
   ]
  },
  {
   "cell_type": "code",
   "execution_count": null,
   "metadata": {},
   "outputs": [],
   "source": [
    "n_progeny = pheno[(pheno[pheno.columns[3]]=='N')].Progeny.values\n",
    "\n",
    "check2 = np.unique(list(b1_checks) + list(n_progeny) + ['JEC21'])\n",
    "geno.loc[cnm00880ix,check2]"
   ]
  },
  {
   "cell_type": "code",
   "execution_count": null,
   "metadata": {},
   "outputs": [],
   "source": [
    "y_progeny = pheno[(pheno[pheno.columns[3]]=='Y')].Progeny.values\n",
    "check1 = np.unique(list(b1_checks) + list(y_progeny))\n",
    "geno.loc[cnf04940varix,check1]"
   ]
  },
  {
   "cell_type": "code",
   "execution_count": null,
   "metadata": {},
   "outputs": [],
   "source": [
    "n_progeny = pheno[(pheno[pheno.columns[3]]=='N')].Progeny.values\n",
    "\n",
    "check2 = np.unique(list(b1_checks) + list(n_progeny) + ['JEC21'])\n",
    "geno.loc[cnf04940varix,check2]"
   ]
  },
  {
   "cell_type": "code",
   "execution_count": null,
   "metadata": {},
   "outputs": [],
   "source": [
    "b1_checks"
   ]
  },
  {
   "cell_type": "code",
   "execution_count": null,
   "metadata": {},
   "outputs": [],
   "source": [
    "geno.loc[cnf04940varix,]"
   ]
  },
  {
   "cell_type": "code",
   "execution_count": null,
   "metadata": {},
   "outputs": [],
   "source": [
    "#pfin.drop(237053,axis=0,inplace=True)"
   ]
  },
  {
   "cell_type": "code",
   "execution_count": null,
   "metadata": {},
   "outputs": [],
   "source": []
  },
  {
   "cell_type": "code",
   "execution_count": null,
   "metadata": {},
   "outputs": [],
   "source": []
  },
  {
   "cell_type": "code",
   "execution_count": null,
   "metadata": {},
   "outputs": [],
   "source": []
  },
  {
   "cell_type": "code",
   "execution_count": null,
   "metadata": {},
   "outputs": [],
   "source": [
    "pfin.to_csv('../GENOTYPE/B3502_refilt_stock_variants.csv.gz')"
   ]
  },
  {
   "cell_type": "code",
   "execution_count": null,
   "metadata": {},
   "outputs": [],
   "source": [
    "assert 1 ==0"
   ]
  },
  {
   "cell_type": "code",
   "execution_count": null,
   "metadata": {},
   "outputs": [],
   "source": []
  },
  {
   "cell_type": "code",
   "execution_count": null,
   "metadata": {},
   "outputs": [],
   "source": [
    "info['AF'] = (geno[samples] !=0).mean(axis=1)"
   ]
  },
  {
   "cell_type": "code",
   "execution_count": null,
   "metadata": {},
   "outputs": [],
   "source": [
    "info[(info.AF>0) & (info.AF<1)].shape[0]"
   ]
  },
  {
   "cell_type": "code",
   "execution_count": null,
   "metadata": {},
   "outputs": [],
   "source": [
    "qtlfun.manhattan(info.sort_values('Chrom'),\n",
    "                 pval='AF',ylabel='Allele Freq.');"
   ]
  },
  {
   "cell_type": "code",
   "execution_count": null,
   "metadata": {},
   "outputs": [],
   "source": [
    "plt.plot(info.AF,np.log10((info.Qual/info.Depth)+1),'.');"
   ]
  },
  {
   "cell_type": "code",
   "execution_count": null,
   "metadata": {},
   "outputs": [],
   "source": [
    "depthpaths = sorted(glob.glob('../GENOTYPE/DP/*depths.csv.gz'))\n",
    "len(depthpaths)\n",
    "\n",
    "depth = makedf(depthpaths)"
   ]
  },
  {
   "cell_type": "code",
   "execution_count": null,
   "metadata": {},
   "outputs": [],
   "source": [
    "info['Mdepth'] = depth[samples].min(axis=1)\n",
    "info['Meandepth'] = depth[samples].mean(axis=1)\n",
    "info['Ndepth'] = np.mean(depth[samples]>=10,axis=1)"
   ]
  },
  {
   "cell_type": "code",
   "execution_count": null,
   "metadata": {},
   "outputs": [],
   "source": [
    "alleledepth = sorted(glob.glob('../GENOTYPE/AF/*ratios.csv.gz'))\n",
    "len(alleledepth)\n",
    "\n",
    "ratio = makedf(alleledepth)"
   ]
  },
  {
   "cell_type": "code",
   "execution_count": null,
   "metadata": {},
   "outputs": [],
   "source": [
    "info['Ratio'] = ratio[samples].min(axis=1)\n",
    "info['Nratio'] = np.mean(ratio[samples]>.8,axis=1)"
   ]
  },
  {
   "cell_type": "code",
   "execution_count": null,
   "metadata": {},
   "outputs": [],
   "source": [
    "pheno = pd.read_excel('../PHENOTYPE/202011_WGS_B3502Progeny_for_QTL.xlsx')\n",
    "pheno.head()"
   ]
  },
  {
   "cell_type": "code",
   "execution_count": null,
   "metadata": {},
   "outputs": [],
   "source": [
    "pheno"
   ]
  },
  {
   "cell_type": "code",
   "execution_count": null,
   "metadata": {},
   "outputs": [],
   "source": []
  },
  {
   "cell_type": "code",
   "execution_count": null,
   "metadata": {},
   "outputs": [],
   "source": [
    "info[(info.Pos==153548) & (info.Chrom==3)]"
   ]
  },
  {
   "cell_type": "code",
   "execution_count": null,
   "metadata": {},
   "outputs": [],
   "source": [
    "geno.loc[73829][['Stock1','Stock3','Stock4','JEC21','CF830']]"
   ]
  },
  {
   "cell_type": "code",
   "execution_count": null,
   "metadata": {},
   "outputs": [],
   "source": []
  },
  {
   "cell_type": "code",
   "execution_count": null,
   "metadata": {},
   "outputs": [],
   "source": [
    "geno.loc[73829][samples].sum()"
   ]
  },
  {
   "cell_type": "code",
   "execution_count": null,
   "metadata": {},
   "outputs": [],
   "source": [
    "info[(info.Pos==1894056)]"
   ]
  },
  {
   "cell_type": "code",
   "execution_count": null,
   "metadata": {},
   "outputs": [],
   "source": [
    "geno.loc[110255][['Stock1','Stock3','Stock4','CF830','JEC21']]"
   ]
  },
  {
   "cell_type": "code",
   "execution_count": null,
   "metadata": {},
   "outputs": [],
   "source": [
    "## Bring in phenotype data from Dr. Sheng Sun\n",
    "phenopath = '../PHENOTYPE/202011_WGS_B3502Progeny_for_QTL.xlsx'\n",
    "pheno = pd.read_excel(phenopath)\n",
    "pheno['Strain'] = [''.join(a.split('_'))[:3] \n",
    "                   for a in pheno[pheno.columns[0]]]\n",
    "pheno['Parent1'] = [ a.split('x')[0].split('B3502')[-1][:-1] \n",
    "                    for a in pheno['Cross_Progeny']]\n",
    "pheno.index = pheno.Strain\n",
    "\n",
    "pheno['RIC8'] = -1\n",
    "pheno['RIC8'] = geno.loc[382952,pheno.index]\n",
    "pheno['RHO'] = -1\n",
    "pheno['RHO'] = geno.loc[110255,pheno.index]\n",
    "#pheno.tail()"
   ]
  },
  {
   "cell_type": "code",
   "execution_count": null,
   "metadata": {},
   "outputs": [],
   "source": [
    "pheno[(pheno.Parent1=='B1') & \n",
    "      (pheno.RIC8==1) & (pheno.RHO==0)]"
   ]
  },
  {
   "cell_type": "code",
   "execution_count": null,
   "metadata": {},
   "outputs": [],
   "source": [
    "b1segs = pheno[(pheno.Parent1=='B1') & \n",
    "               (pheno.RIC8==1) \n",
    "              ].Strain.tolist()"
   ]
  },
  {
   "cell_type": "code",
   "execution_count": null,
   "metadata": {},
   "outputs": [],
   "source": [
    "kix = geno[(geno[b1segs+['Stock1','Stock4','JEC21','CF830']].T.sum()==0) & \n",
    "     (geno['Stock3']==1) \n",
    "    ].dropna().index.values"
   ]
  },
  {
   "cell_type": "code",
   "execution_count": null,
   "metadata": {},
   "outputs": [],
   "source": [
    "genodf = pd.concat([info,geno],axis=1)"
   ]
  },
  {
   "cell_type": "code",
   "execution_count": null,
   "metadata": {},
   "outputs": [],
   "source": [
    "genodf[(genodf.Pos==1437085)][['Stock1','Stock4','Stock3']+b1segs]"
   ]
  },
  {
   "cell_type": "code",
   "execution_count": null,
   "metadata": {},
   "outputs": [],
   "source": [
    "represors = info.loc[kix].sort_values('Chrom')\n",
    "represors"
   ]
  },
  {
   "cell_type": "code",
   "execution_count": null,
   "metadata": {},
   "outputs": [],
   "source": [
    "gff = qtlfun.loadgff('/home/croth/Downloads/B3502/REF/FungiDB-48_CneoformansJEC21.gff.gz')"
   ]
  },
  {
   "cell_type": "code",
   "execution_count": null,
   "metadata": {},
   "outputs": [],
   "source": [
    "gene_check = []\n",
    "for i, (j,c) in enumerate(represors.iterrows()):\n",
    "    k = gff[(gff.Type=='gene') & (gff.Seqid==c.Seqid) & \n",
    "        (gff.Start<=c.Pos) & (gff.End>=c.Pos)].Gene\n",
    "    #print(k)\n",
    "    if len(k) > 0:\n",
    "        gene_check.append(k.min())\n",
    "gene_check = np.unique(gene_check)\n",
    "gene_check"
   ]
  },
  {
   "cell_type": "code",
   "execution_count": null,
   "metadata": {},
   "outputs": [],
   "source": [
    "genech = pd.read_csv('/home/croth/Downloads/B3502/DATA/gene_changes.csv.gz')"
   ]
  },
  {
   "cell_type": "code",
   "execution_count": null,
   "metadata": {},
   "outputs": [],
   "source": [
    "genech[(genech.Gene=='CNF04940')]"
   ]
  },
  {
   "cell_type": "code",
   "execution_count": null,
   "metadata": {},
   "outputs": [],
   "source": [
    "genech[(genech.Gene=='CNM00880')]"
   ]
  },
  {
   "cell_type": "code",
   "execution_count": null,
   "metadata": {},
   "outputs": [],
   "source": [
    "gff[(gff.Gene.isin(gene_check)) & (gff.Type=='gene')]"
   ]
  },
  {
   "cell_type": "code",
   "execution_count": null,
   "metadata": {},
   "outputs": [],
   "source": [
    "genech[(genech.Gene.isin(gene_check))]"
   ]
  },
  {
   "cell_type": "code",
   "execution_count": null,
   "metadata": {},
   "outputs": [],
   "source": [
    "info.loc[(info.Pos== 388777) & (info.Chrom==14)]"
   ]
  },
  {
   "cell_type": "code",
   "execution_count": null,
   "metadata": {},
   "outputs": [],
   "source": [
    "info[(info.Chrom==14) & (info.Pos>=388700)]"
   ]
  },
  {
   "cell_type": "code",
   "execution_count": null,
   "metadata": {},
   "outputs": [],
   "source": [
    "b1segs = pheno[(pheno.Parent1=='B1')].Strain.tolist()"
   ]
  },
  {
   "cell_type": "code",
   "execution_count": null,
   "metadata": {},
   "outputs": [],
   "source": [
    "b1segs"
   ]
  },
  {
   "cell_type": "code",
   "execution_count": null,
   "metadata": {},
   "outputs": [],
   "source": [
    "pheno[(pheno.Parent1=='B1')]"
   ]
  },
  {
   "cell_type": "code",
   "execution_count": null,
   "metadata": {},
   "outputs": [],
   "source": []
  },
  {
   "cell_type": "code",
   "execution_count": null,
   "metadata": {},
   "outputs": [],
   "source": [
    "geno[(geno.Stock3>=1) & \n",
    "     (geno[['Stock1','Stock4']].T.sum()==0) & \n",
    "     (info.Chrom==6)].dropna()[['Stock1','Stock4','Stock3']]"
   ]
  },
  {
   "cell_type": "code",
   "execution_count": null,
   "metadata": {},
   "outputs": [],
   "source": [
    "geno[(geno.Stock3>=1) & \n",
    "     (geno[['Stock1','Stock4']].T.sum()==0) & \n",
    "     (info.Chrom==6)].dropna()[['Stock1','Stock4','Stock3']]"
   ]
  },
  {
   "cell_type": "code",
   "execution_count": null,
   "metadata": {},
   "outputs": [],
   "source": [
    "geno[(geno.Stock3>=1) & \n",
    "     (geno[['Stock1','Stock4']].T.sum()==0) & \n",
    "     (info.Chrom==1)].dropna()[['Stock1','Stock4','Stock3']]"
   ]
  },
  {
   "cell_type": "code",
   "execution_count": null,
   "metadata": {},
   "outputs": [],
   "source": [
    "geno[(geno.Stock3>=1) & \n",
    "     (geno[['Stock1','Stock4']].T.sum()==0) & \n",
    "     (info.Chrom==3)].dropna()[['Stock1','Stock4','Stock3']]"
   ]
  },
  {
   "cell_type": "code",
   "execution_count": null,
   "metadata": {},
   "outputs": [],
   "source": [
    "geno[(geno.Stock3>=1) & \n",
    "     (geno[['Stock1','Stock4']].T.sum()==0) & \n",
    "     (info.Chrom==10)].dropna()[['Stock1','Stock4','Stock3']]"
   ]
  },
  {
   "cell_type": "code",
   "execution_count": null,
   "metadata": {},
   "outputs": [],
   "source": [
    "info[(info.Pos==1430787)]"
   ]
  },
  {
   "cell_type": "code",
   "execution_count": null,
   "metadata": {},
   "outputs": [],
   "source": [
    "geno.loc[30:30][samples][['Stock1','Stock3','Stock4','JEC21','CF830']]"
   ]
  },
  {
   "cell_type": "code",
   "execution_count": null,
   "metadata": {},
   "outputs": [],
   "source": [
    "geno.loc[30][samples].sum()"
   ]
  },
  {
   "cell_type": "code",
   "execution_count": null,
   "metadata": {},
   "outputs": [],
   "source": []
  },
  {
   "cell_type": "code",
   "execution_count": null,
   "metadata": {},
   "outputs": [],
   "source": [
    "ratio.loc[30:30]['Stock3']"
   ]
  },
  {
   "cell_type": "code",
   "execution_count": null,
   "metadata": {},
   "outputs": [],
   "source": [
    "info[(info.Chrom==14) & (info.Pos>=386823) & \n",
    "     (info.Pos<=389688) & \n",
    "     (info.AF>0) & (info.AF<1) ]"
   ]
  },
  {
   "cell_type": "code",
   "execution_count": null,
   "metadata": {},
   "outputs": [],
   "source": [
    "stock_variants[(stock_variants.Pos>=386823) & \n",
    "               (stock_variants.Pos<=389688) &\n",
    "               (stock_variants.Chromosome==14)]"
   ]
  },
  {
   "cell_type": "code",
   "execution_count": null,
   "metadata": {},
   "outputs": [],
   "source": [
    "chg = geno[(info.Chrom==14)]\n",
    "chd = depth[(info.Chrom==14)]\n",
    "chi = info[(info.Chrom==14)]\n",
    "cha = ratio[(ratio.Chrom==14)]"
   ]
  },
  {
   "cell_type": "code",
   "execution_count": null,
   "metadata": {},
   "outputs": [],
   "source": [
    "cents = centlocs[(centlocs.Chromosome==14)][['Left','Right']].values[0]"
   ]
  },
  {
   "cell_type": "code",
   "execution_count": null,
   "metadata": {},
   "outputs": [],
   "source": [
    "info"
   ]
  },
  {
   "cell_type": "code",
   "execution_count": null,
   "metadata": {},
   "outputs": [],
   "source": [
    "plt.plot(chi.Pos,np.log2(chi.Meandepth),'.');\n",
    "plt.hlines(2,*cents,color='r');\n",
    "plt.plot(chi[(chi.Callrate==1)].Pos,np.log2(chi[(chi.Callrate==1)].Meandepth),'.')"
   ]
  },
  {
   "cell_type": "code",
   "execution_count": null,
   "metadata": {},
   "outputs": [],
   "source": [
    "plt.plot(chi.Nratio,chi.Ratio,'.');"
   ]
  },
  {
   "cell_type": "code",
   "execution_count": null,
   "metadata": {},
   "outputs": [],
   "source": [
    "atleast = 3\n",
    "umaf = (len(samples)-atleast)/len(samples)\n",
    "lmaf = atleast/len(samples)\n",
    "\n",
    "filt = info[(info.AF>lmaf) & \n",
    "     (info.AF<umaf) & \n",
    "    (info.)\n",
    "     #(info.Ndepth>0.8) & \n",
    "     #(info.Nratio>0.8) & \n",
    "     (info.Callrate==1)].copy()\n",
    "filt['Chromosome'] = filt.Chrom\n",
    "filt.shape"
   ]
  },
  {
   "cell_type": "code",
   "execution_count": null,
   "metadata": {},
   "outputs": [],
   "source": [
    "loci = geno.loc[filt.index,samples].drop_duplicates()"
   ]
  },
  {
   "cell_type": "code",
   "execution_count": null,
   "metadata": {},
   "outputs": [],
   "source": [
    "chrommap"
   ]
  },
  {
   "cell_type": "code",
   "execution_count": null,
   "metadata": {},
   "outputs": [],
   "source": [
    "MAT = [1529240,1661861]"
   ]
  },
  {
   "cell_type": "code",
   "execution_count": null,
   "metadata": {},
   "outputs": [],
   "source": [
    "fig,ax = plt.subplots(7,2,figsize=(20,15),sharex=True,sharey=True)\n",
    "\n",
    "for i,(j,c) in enumerate(chrommap.iterrows()):\n",
    "    \n",
    "    plt.sca(ax.ravel()[i])\n",
    "    plt.hlines(0.5,0,c.Length,color='k',linestyle='--')\n",
    "    \n",
    "    plt.hlines(0.5,c.Left,c.Right,color='r',linewidth=5)\n",
    "    \n",
    "    temp = filt[(filt.Seqid==c.Seqid)]\n",
    "    \n",
    "    \n",
    "    plt.plot(temp.Pos,temp.AF,'ko')\n",
    "    plt.title(i+1,y=.8)\n",
    "    \n",
    "plt.sca(ax.ravel()[3])\n",
    "plt.hlines(0.5,*MAT,color='g',linewidth=5)\n",
    "\n",
    "plt.ylim(0,1)\n",
    "plt.subplots_adjust(wspace=0.1);"
   ]
  },
  {
   "cell_type": "code",
   "execution_count": null,
   "metadata": {},
   "outputs": [],
   "source": [
    "filt[(filt.Chromosome==4)].shape"
   ]
  },
  {
   "cell_type": "code",
   "execution_count": null,
   "metadata": {},
   "outputs": [],
   "source": [
    "geno.loc[filt[(filt.Chromosome==4)].index,\n",
    "         samples\n",
    "        ].drop_duplicates().shape"
   ]
  },
  {
   "cell_type": "code",
   "execution_count": null,
   "metadata": {},
   "outputs": [],
   "source": [
    "filt[(filt.Chromosome==11)]"
   ]
  },
  {
   "cell_type": "code",
   "execution_count": null,
   "metadata": {},
   "outputs": [],
   "source": []
  },
  {
   "cell_type": "code",
   "execution_count": null,
   "metadata": {},
   "outputs": [],
   "source": [
    "info[(info.Chrom==11) & \n",
    "     (info.Callrate==1) & \n",
    "     (info.AF>0) & \n",
    "     (info.AF<1) & (info.Type=='snp')]"
   ]
  },
  {
   "cell_type": "code",
   "execution_count": null,
   "metadata": {},
   "outputs": [],
   "source": [
    "info[(info.Chrom==12) & (info.Pos>773178) & (info.Pos<774000) & (info.AF>0)]"
   ]
  },
  {
   "cell_type": "code",
   "execution_count": null,
   "metadata": {},
   "outputs": [],
   "source": [
    "ratio[(info.Chrom==12) & (info.Pos>773178) & (info.Pos<774000) & (info.AF>0)]"
   ]
  },
  {
   "cell_type": "code",
   "execution_count": null,
   "metadata": {},
   "outputs": [],
   "source": [
    "info[(info.Chrom==11) & (info.Pos==823427)]"
   ]
  },
  {
   "cell_type": "code",
   "execution_count": null,
   "metadata": {},
   "outputs": [],
   "source": [
    "loci = pd.concat([filt,geno.loc[filt.index,samples]],axis=1)"
   ]
  },
  {
   "cell_type": "code",
   "execution_count": null,
   "metadata": {},
   "outputs": [],
   "source": [
    "loci.to_csv('../GENOTYPE/B3502_progeny_variants.csv.gz',index=True)"
   ]
  },
  {
   "cell_type": "code",
   "execution_count": null,
   "metadata": {},
   "outputs": [],
   "source": []
  },
  {
   "cell_type": "code",
   "execution_count": null,
   "metadata": {},
   "outputs": [],
   "source": [
    "stock_variants[(stock_variants.Chromosome==7) & \n",
    "               (stock_variants.Pos==890559)][\n",
    "                ['CF830','B3502_A1','B3502_B1','B3502_B7']]"
   ]
  },
  {
   "cell_type": "code",
   "execution_count": null,
   "metadata": {},
   "outputs": [],
   "source": [
    "filt[(filt.AF<.25) & (filt.Chromosome==7)]"
   ]
  },
  {
   "cell_type": "code",
   "execution_count": null,
   "metadata": {},
   "outputs": [],
   "source": [
    "stock_variants.shape"
   ]
  },
  {
   "cell_type": "code",
   "execution_count": null,
   "metadata": {},
   "outputs": [],
   "source": [
    "assert 1 == 0\n",
    "mydpi = 150\n",
    "for s in samples[:5]:\n",
    "    \n",
    "    temp = info.copy()\n",
    "    temp['Ratio'] = ratio[s]\n",
    "    temp['Geno'] = geno[s]\n",
    "    temp['SDepth'] = np.log2(depth[s]+1)\n",
    "    temp = temp.merge(chrommap[['Seqid','Cumlen']])\n",
    "    #print(temp.shape)\n",
    "    #temp = temp.loc[info[(info.AF>0) & \n",
    "    #                     (info.AF<1) & \n",
    "    #                      (info.depth>8)].index,:]\n",
    "   \n",
    "    fig,ax = plt.subplots(2,1,figsize=(12,5),sharex=True);\n",
    "    fig.set_facecolor('w')\n",
    "    plt.sca(ax[0])\n",
    "    \n",
    "    g0 = temp[(temp.Geno==0)]\n",
    "    g1 = temp[(temp.Geno!=0)]\n",
    "    \n",
    "    plt.plot(g0.Pos+g0.Cumlen,g0.SDepth,'.',\n",
    "             color='tab:blue',ms=2,alpha=0.5)\n",
    "    plt.plot(g1.Pos+g1.Cumlen,g1.SDepth,'.',\n",
    "             color='tab:orange',ms=2,alpha=0.5)\n",
    "    \n",
    "    plt.xticks(chrommap.Midpts,\n",
    "               np.arange(chrommap.shape[0])+1,\n",
    "               fontsize=12)\n",
    "    yp,yl = plt.yticks()\n",
    "    \n",
    "    plt.vlines(chrommap.Cumlen.values[1:],\n",
    "               yp[1],yp[-2],color='k',\n",
    "               linestyle='--',linewidth=1,\n",
    "              alpha =0.52)\n",
    "    \n",
    "    sp = pheno[(pheno.Strain==s)][pheno.columns[2]].min()\n",
    "    \n",
    "    plt.title('Strain: %s | Phenotype: %s'%(s,sp),fontsize=12)\n",
    "    plt.ylabel('-log$_2$ Read Depth',fontsize=12)\n",
    "    \n",
    "    for i,c in chrommap.iterrows():\n",
    "        plt.hlines(0,c.Left+c.Cumlen,\n",
    "                  c.Right+c.Cumlen,\n",
    "               color='k')\n",
    "    \n",
    "    plt.sca(ax[1])\n",
    "    \n",
    "    plt.plot(g0.Pos+g0.Cumlen,g0.Ratio,'.',\n",
    "             color='tab:blue',ms=1,alpha=0.2)\n",
    "    plt.plot(g1.Pos+g1.Cumlen,g1.Ratio,'.',\n",
    "             color='tab:orange',ms=1,alpha=0.2)\n",
    "    \n",
    "    plt.xticks(chrommap.Midpts,\n",
    "               np.arange(chrommap.shape[0])+1,\n",
    "               fontsize=12)\n",
    "    \n",
    "    plt.vlines(chrommap.Cumlen.values[1:],\n",
    "               0,1,color='k',\n",
    "               linestyle='--',linewidth=1,\n",
    "              alpha =0.52)\n",
    "    \n",
    "    plt.ylabel('Allelic Ratio',fontsize=12)\n",
    "    plt.xlabel('Chromosome',fontsize=12)\n",
    "    \n",
    "    plt.savefig('../FIGURES/DEPTHPLOTS/%s.png'%(s),\n",
    "             dpi=mydpi,bbox_inches='tight')\n",
    "    plt.close()"
   ]
  },
  {
   "cell_type": "code",
   "execution_count": null,
   "metadata": {},
   "outputs": [],
   "source": []
  }
 ],
 "metadata": {
  "kernelspec": {
   "display_name": "Python 3",
   "language": "python",
   "name": "python3"
  },
  "language_info": {
   "codemirror_mode": {
    "name": "ipython",
    "version": 3
   },
   "file_extension": ".py",
   "mimetype": "text/x-python",
   "name": "python",
   "nbconvert_exporter": "python",
   "pygments_lexer": "ipython3",
   "version": "3.7.3"
  }
 },
 "nbformat": 4,
 "nbformat_minor": 4
}
